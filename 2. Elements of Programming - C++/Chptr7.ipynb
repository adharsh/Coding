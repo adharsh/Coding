{
 "cells": [
  {
   "cell_type": "markdown",
   "metadata": {},
   "source": [
    "Linked Lists: (problems usually require you to write your own linked list class)"
   ]
  },
  {
   "cell_type": "markdown",
   "metadata": {},
   "source": [
    "Simple brute-force O(n) space but using **existing** nodes reduce spatial complexity to O(1)  \n",
    "**Dummy head/sentinel to avoid having to check empty lists or during deletion operations**  \n",
    "Don't forget to update next (and previous for doubly) to avoid having to check for empty lists  \n",
    "Singly linked lists -> two iterators, one ahead of the other or advancing ahead of the other  \n",
    "Sorting may help  \n",
    "Think in terms of prev, curr, next pointers  \n",
    "Have a pointer for each operation (sometimes temporary)\n",
    "And sometimes traverse backwards for each operation\n",
    "Create temporary operations  \n",
    "\n",
    "Do multiple iterations of problem (>=2) to find consistencies  \n",
    "1 Think about where you're losing connections and losing nodes  \n",
    "2 Think about where there's duplicate connections, and then connect the other one providing duplicate to somewhere else and backtrack  \n",
    "Do 1 and 2 simulatenously, helped for reverse-sublist\n",
    "\n",
    "If its intutive, create multiple lists like in evenoddmerge  \n",
    "and then merge together  \n",
    "by first iterating through each element using that element like as follows:\n",
    "```c++ \n",
    "Node<T>* & val = a->data < b->data ? a : b;\n",
    "```   \n",
    "Helps to analyze by case"
   ]
  },
  {
   "cell_type": "markdown",
   "metadata": {},
   "source": [
    "***\n",
    "\n",
    "Linked lists work becuase dynamically allocated memory is not freed when it goes out of scope, so it can still be accessed via pointers. This memory must be explicitly freed.\n",
    "\n",
    "\n",
    "`\n",
    "Node<T>* ptr = new Node<T>();\n",
    "Node<T>* ptr2 = ptr;\n",
    "`\n",
    "\n",
    "Thing of merge as \n",
    "`\n",
    "Node<T> foo;\n",
    "Node<T>* ptr = &foo;\n",
    "Node<T>* ptr2 = ptr;\n",
    "`\n",
    "\n",
    "ptr in *both* cases is pointing to previously allocated memory. It's just a pointer to it. And just like any pointer, other pointers can also point to it. The original pointer to the allocated memory is no different. In other words, ptr and ptr2 are  the same (even though &ptr != %ptr2).\n",
    "\n",
    "https://stackoverflow.com/a/13198999\n",
    "\n",
    "***"
   ]
  },
  {
   "cell_type": "markdown",
   "metadata": {},
   "source": [
    "Setting a copy of a pointer to the next element  \n",
    "p = p->next;  \n",
    "vs   \n",
    "\n",
    "Getting the original pointer (by lvalue reference, and setting it's value)  \n",
    "node->next = new_node;  "
   ]
  },
  {
   "cell_type": "code",
   "execution_count": 5,
   "metadata": {},
   "outputs": [
    {
     "name": "stdout",
     "output_type": "stream",
     "text": [
      "5\n",
      "10\n",
      "15\n",
      "6\n",
      "100\n",
      "200\n"
     ]
    }
   ],
   "source": [
    "#include <iostream>\n",
    "\n",
    "{\n",
    "    int a = 5;\n",
    "    int a_ = 6;\n",
    "    int* b = &a;\n",
    "    int*& c = b;\n",
    "    int** d = &b;\n",
    "    int** e = &c;\n",
    "    std::cout << a << std::endl;\n",
    "    \n",
    "    *b = 10;\n",
    "    std::cout << a << std::endl;\n",
    "    \n",
    "    *c = 15;\n",
    "    std::cout << a << std::endl;\n",
    "    \n",
    "    b = &a_;\n",
    "    std::cout << *c << std::endl;\n",
    "    \n",
    "    **d = 100;\n",
    "    std::cout << a_ << std::endl;\n",
    "    \n",
    "    **e = 200;\n",
    "    std::cout << a_ << std::endl;\n",
    "}"
   ]
  },
  {
   "cell_type": "code",
   "execution_count": 2,
   "metadata": {},
   "outputs": [
    {
     "data": {
      "text/plain": [
       "false"
      ]
     },
     "execution_count": 2,
     "metadata": {},
     "output_type": "execute_result"
    }
   ],
   "source": [
    "bool(nullptr)"
   ]
  },
  {
   "cell_type": "code",
   "execution_count": 3,
   "metadata": {},
   "outputs": [
    {
     "data": {
      "text/plain": [
       "true"
      ]
     },
     "execution_count": 3,
     "metadata": {},
     "output_type": "execute_result"
    }
   ],
   "source": [
    "bool(NULL) == bool(nullptr)"
   ]
  },
  {
   "cell_type": "code",
   "execution_count": 4,
   "metadata": {},
   "outputs": [],
   "source": [
    "//single linked list\n",
    "//use a shared pointer, multiple references to same object\n",
    "template <typename T>\n",
    "struct ListNode\n",
    "{\n",
    "    T data;  \n",
    "    ListNode<T>* next;\n",
    "};"
   ]
  },
  {
   "cell_type": "code",
   "execution_count": 5,
   "metadata": {},
   "outputs": [
    {
     "name": "stdout",
     "output_type": "stream",
     "text": [
      "4\n"
     ]
    }
   ],
   "source": [
    "#include <iostream>\n",
    "{\n",
    "    ListNode<int> a{1};\n",
    "    ListNode<int> b{2};\n",
    "    ListNode<int> c{3};\n",
    "    ListNode<int> d{4};\n",
    "    \n",
    "    \n",
    "    a.next = &b;\n",
    "    b.next = &c;\n",
    "    c.next = &d;\n",
    "    d.next = nullptr;\n",
    "    \n",
    "    ListNode<int>* p = &a;\n",
    "    while(p->next)\n",
    "        p = p->next;\n",
    "    \n",
    "    std::cout << p->data << std::endl;\n",
    "}"
   ]
  },
  {
   "cell_type": "code",
   "execution_count": 6,
   "metadata": {},
   "outputs": [],
   "source": [
    "template <typename T>\n",
    "ListNode<T>* searchList(const ListNode<T>* p, T key)\n",
    "{  \n",
    "    while(p && p->data != key)\n",
    "        p = p->next;\n",
    "    \n",
    "    return p;\n",
    "}"
   ]
  },
  {
   "cell_type": "code",
   "execution_count": 7,
   "metadata": {},
   "outputs": [],
   "source": [
    "template <typename T>\n",
    "void insertAfter(ListNode<T>*& node, ListNode<T>*& new_node)\n",
    "{\n",
    "    new_node->next = node->next;\n",
    "    node->next = new_node;\n",
    "}"
   ]
  },
  {
   "cell_type": "code",
   "execution_count": 8,
   "metadata": {},
   "outputs": [],
   "source": [
    "template <typename T>\n",
    "void deleteAfter(std::shared_ptr<ListNode<T>>& node)\n",
    "{\n",
    "    node->next = node->next? node->next->next : nullptr;\n",
    "}"
   ]
  },
  {
   "cell_type": "markdown",
   "metadata": {},
   "source": [
    "Usually, insert functions allocate nodes memory"
   ]
  },
  {
   "cell_type": "code",
   "execution_count": 1,
   "metadata": {
    "init_cell": true
   },
   "outputs": [],
   "source": [
    "template <typename T>\n",
    "struct Node\n",
    "{ \n",
    "    T data; \n",
    "    Node *next; \n",
    "}; "
   ]
  },
  {
   "cell_type": "code",
   "execution_count": 2,
   "metadata": {
    "init_cell": true
   },
   "outputs": [],
   "source": [
    "template <typename T>\n",
    "void insert(Node<T>*& tail, T new_data) \n",
    "{\n",
    "    if(!tail)\n",
    "    {\n",
    "        tail = new Node<T>(); //or new Node{new_data}\n",
    "        tail->data = new_data;\n",
    "    }\n",
    "    else\n",
    "    {\n",
    "        Node<T>* new_node = new Node<T>();\n",
    "        new_node->data = new_data; \n",
    "        \n",
    "        tail->next = new_node;\n",
    "        tail = new_node;\n",
    "    }\n",
    "} \n",
    "\n",
    "// memory isn't deleted so it doesnt leave/get out of scope"
   ]
  },
  {
   "cell_type": "code",
   "execution_count": 3,
   "metadata": {
    "init_cell": true
   },
   "outputs": [],
   "source": [
    "#include <iostream>\n",
    "\n",
    "template <typename T>\n",
    "void display(Node<T>* ptr) \n",
    "{ \n",
    "    while (ptr) \n",
    "    { \n",
    "      std::cout << ptr->data << \" \"; \n",
    "      ptr = ptr->next; \n",
    "    } \n",
    "} "
   ]
  },
  {
   "cell_type": "code",
   "execution_count": 16,
   "metadata": {},
   "outputs": [
    {
     "name": "stdout",
     "output_type": "stream",
     "text": [
      "The linked list is: 0 1 2 3 4 5 "
     ]
    }
   ],
   "source": [
    "#include <iostream>\n",
    "{\n",
    "    Node<int>* head = new Node<int>();\n",
    "    head->data = 0;\n",
    "    \n",
    "    Node<int>* tail = head;\n",
    "    \n",
    "    for(int i = 1; i <= 5; i ++)\n",
    "        insert(tail, i);\n",
    "    \n",
    "    std::cout << \"The linked list is: \";\n",
    "    display(head); \n",
    "}"
   ]
  },
  {
   "cell_type": "markdown",
   "metadata": {},
   "source": [
    "List libraries in C++"
   ]
  },
  {
   "cell_type": "markdown",
   "metadata": {},
   "source": [
    "std::list -> doubly linked list  (twice the pointers, twice the space)  \n",
    "std::forward_list -> singly linked list"
   ]
  },
  {
   "cell_type": "markdown",
   "metadata": {},
   "source": [
    "# Usually questions will make you write your own linked list"
   ]
  },
  {
   "cell_type": "markdown",
   "metadata": {},
   "source": [
    "That being said know these functions:  \n",
    "front, back, push_front, push_back, pop_front, pop_back  \n",
    "emplace == push  \n",
    "\n",
    "Comes in handy if you want to make a dequeue"
   ]
  },
  {
   "cell_type": "code",
   "execution_count": 5,
   "metadata": {},
   "outputs": [
    {
     "name": "stdout",
     "output_type": "stream",
     "text": [
      "100 100 100 100 \n",
      "2 1 100 100 100 100 \n",
      "1 100 100 100 100 \n",
      "1 100 100 100 100 3 4 \n",
      "1 4\n",
      "56 56 56 0 1 100 100 100 100 3 4 \n",
      "\n",
      "100 100 42 42 42 100 100 100 \n",
      "100 100 100 42 42 42 100 100 \n",
      "42 42 42 100 100 100 100 100 \n"
     ]
    }
   ],
   "source": [
    "#include <list>\n",
    "#include <iostream>\n",
    "#include <forward_list>\n",
    "\n",
    "\n",
    "//push==emplace,pop=x, x_front, x_back\n",
    "\n",
    "{\n",
    "    //in singly\n",
    "    std::list<int> a(4, 100);\n",
    "    for(std::list<int>::iterator i = a.begin(); i != a.end(); i++)\n",
    "        std::cout << *i << \" \";\n",
    "    std::cout << std::endl;\n",
    "    \n",
    "    a.push_front(1);\n",
    "    a.emplace_front(2);\n",
    "    for(std::list<int>::iterator i = a.begin(); i != a.end(); i++)\n",
    "        std::cout << *i << \" \";\n",
    "    std::cout << std::endl;\n",
    "    \n",
    "    a.pop_front(); //deletes element, doesn't return anything\n",
    "    for(std::list<int>::iterator i = a.begin(); i != a.end(); i++)\n",
    "        std::cout << *i << \" \";\n",
    "    std::cout << std::endl;\n",
    "    \n",
    "    a.push_back(3);\n",
    "    a.emplace_back(4);\n",
    "    for(std::list<int>::iterator i = a.begin(); i != a.end(); i++)\n",
    "        std::cout << *i << \" \";\n",
    "    std::cout << std::endl;\n",
    "    \n",
    "    std::cout << a.front() << \" \" << a.back() << std::endl;\n",
    "    \n",
    "    a.insert(a.begin(), 0);\n",
    "    std::list<int> boom(3, 56);\n",
    "    a.insert(a.begin(), boom.begin(), boom.end());\n",
    "    for(std::list<int>::iterator i = a.begin(); i != a.end(); i++)\n",
    "        std::cout << *i << \" \";\n",
    "    std::cout << std::endl;\n",
    "    \n",
    "    a.erase(a.begin());\n",
    "    a.erase(a.begin(), a.end());\n",
    "    for(std::list<int>::iterator i = a.begin(); i != a.end(); i++)\n",
    "        std::cout << *i << \" \";\n",
    "    std::cout << std::endl;\n",
    "    \n",
    "    //in doubly\n",
    "    //push_front, emplace_front, pop_front, insert_after(l1.end(), 42), emplace_after(l1.end(), 42), \n",
    "    //erase_after(A.begin())\n",
    "    a = std::list<int>(5, 100);\n",
    "    //in both singly and forward but demonstrated here in only singly\n",
    "    // splice, forward, reverse\n",
    "    \n",
    "    std::list<int>::iterator foo = a.begin();\n",
    "    std::advance(foo, 2);\n",
    "    a.splice(foo, std::list<int>(3,42));\n",
    "    for(std::list<int>::iterator i = a.begin(); i != a.end(); i++)\n",
    "        std::cout << *i << \" \";\n",
    "    std::cout << std::endl;\n",
    "    \n",
    "    a.reverse();\n",
    "    for(std::list<int>::iterator i = a.begin(); i != a.end(); i++)\n",
    "        std::cout << *i << \" \";\n",
    "    std::cout << std::endl;\n",
    "    \n",
    "    a.sort();\n",
    "    for(std::list<int>::iterator i = a.begin(); i != a.end(); i++)\n",
    "        std::cout << *i << \" \";\n",
    "    std::cout << std::endl;\n",
    "    \n",
    "//     a.splice_after(a.end(), std::list<int>(3,123));\n",
    "//     for(std::list<int>::iterator i = a.begin(); i != a.end(); i++)\n",
    "//         std::cout << *i << \" \";\n",
    "//     std::cout << std::endl;\n",
    "}"
   ]
  },
  {
   "cell_type": "markdown",
   "metadata": {},
   "source": [
    "C++ works as pass by value (pointer will be copied) unless by reference (amerpsand or double pointer)"
   ]
  },
  {
   "cell_type": "code",
   "execution_count": 8,
   "metadata": {},
   "outputs": [],
   "source": [
    "void foo(int* a, int* b)\n",
    "{\n",
    "    a = b;\n",
    "    *a = 30;\n",
    "}"
   ]
  },
  {
   "cell_type": "code",
   "execution_count": 10,
   "metadata": {},
   "outputs": [
    {
     "name": "stdout",
     "output_type": "stream",
     "text": [
      "10 30\n"
     ]
    }
   ],
   "source": [
    "#include <iostream>\n",
    "{\n",
    "    int a = 10;\n",
    "    int b = 20;\n",
    "    int* c = &a;\n",
    "    int* d = &b;\n",
    "    foo(c, d);\n",
    "    std::cout << a << \" \" << b << std::endl;\n",
    "}"
   ]
  },
  {
   "cell_type": "markdown",
   "metadata": {},
   "source": [
    "# 7.1 Merge Two Sorted Lists"
   ]
  },
  {
   "cell_type": "code",
   "execution_count": 4,
   "metadata": {},
   "outputs": [],
   "source": [
    "template <typename T>\n",
    "Node<T>* MergeTwoSortedLists(Node<T>* a, Node<T>* b) \n",
    "{\n",
    "    Node<T>* merge = new Node<T>(); //need to be appending to something, so create an empty node\n",
    "    Node<T>* beg = merge;\n",
    "    \n",
    "    while(a && b)\n",
    "    {\n",
    "        Node<T>*& lowest = a->data < b->data? a : b;\n",
    "        \n",
    "        merge->next = lowest;\n",
    "        merge = lowest;\n",
    "//         merge = merge->next; // same effect\n",
    "        lowest = lowest->next;\n",
    "    }\n",
    "    \n",
    "    merge->next = a? a : b;\n",
    "    \n",
    "    return beg->next;\n",
    "}"
   ]
  },
  {
   "cell_type": "code",
   "execution_count": 5,
   "metadata": {},
   "outputs": [
    {
     "name": "stdout",
     "output_type": "stream",
     "text": [
      "The linked list is: 1 2 5 8 \n",
      "The linked list is: 0 3 6 9 \n",
      "The linked list is: 0 1 2 3 5 6 8 9 \n"
     ]
    }
   ],
   "source": [
    "#include <iostream>\n",
    "{\n",
    "    Node<int>* h1 = new Node<int>{1};\n",
    "    Node<int>* tail = h1;\n",
    "    for(int i = 2; i <= 10; i += 3)\n",
    "        insert(tail, i);\n",
    "    std::cout << \"The linked list is: \";\n",
    "    display(h1); \n",
    "    std::cout << \"\\n\";\n",
    "    \n",
    "    Node<int>* h2 = new Node<int>{0};\n",
    "    tail = h2;\n",
    "    for(int i = 3; i <= 10; i += 3)\n",
    "        insert(tail, i);\n",
    "    std::cout << \"The linked list is: \";\n",
    "    display(h2); \n",
    "    std::cout << \"\\n\";\n",
    "    \n",
    "    std::cout << \"The linked list is: \";\n",
    "    display(MergeTwoSortedLists(h1, h2)); \n",
    "    std::cout << \"\\n\";\n",
    "}"
   ]
  },
  {
   "cell_type": "markdown",
   "metadata": {},
   "source": [
    "# Reverse an entire list iteratively"
   ]
  },
  {
   "cell_type": "code",
   "execution_count": 4,
   "metadata": {},
   "outputs": [],
   "source": [
    "template <typename T>\n",
    "Node<T>* ReverseList(Node<T>* p)\n",
    "{\n",
    "    Node<T>* prev = nullptr;\n",
    "    Node<T>* curr = p;\n",
    "    while(curr)\n",
    "    {\n",
    "        Node<T>* next = curr->next;\n",
    "        curr->next = prev;\n",
    "        prev = curr;\n",
    "        curr = next;\n",
    "    }\n",
    "    return prev;\n",
    "}"
   ]
  },
  {
   "cell_type": "code",
   "execution_count": 5,
   "metadata": {},
   "outputs": [
    {
     "name": "stdout",
     "output_type": "stream",
     "text": [
      "The linked list is: 0 1 2 3 4 5 \n",
      "The linked list is: 5 4 3 2 1 0 \n"
     ]
    }
   ],
   "source": [
    "#include <iostream>\n",
    "{\n",
    "    Node<int>* h1 = new Node<int>();\n",
    "    Node<int>* tail = h1;\n",
    "    for(int i = 1; i <= 5; i += 1)\n",
    "        insert(tail, i);\n",
    "    std::cout << \"The linked list is: \";\n",
    "    display(h1); \n",
    "    std::cout << \"\\n\";\n",
    "    \n",
    "    std::cout << \"The linked list is: \";\n",
    "    display(ReverseList(h1)); \n",
    "    std::cout << \"\\n\";\n",
    "}"
   ]
  },
  {
   "cell_type": "markdown",
   "metadata": {},
   "source": [
    "# Reverse an entire list recursively"
   ]
  },
  {
   "cell_type": "code",
   "execution_count": 4,
   "metadata": {},
   "outputs": [],
   "source": [
    "//reversing connections around, and last element becomes first element\n",
    "//therefore, return last element\n",
    "\n",
    "template <typename T>\n",
    "Node<T>* ReverseList_recurs1(Node<T>* curr, Node<T>* prev)\n",
    "{\n",
    "    if (!curr->next) //handle base case\n",
    "    {\n",
    "        curr->next = prev;\n",
    "        return curr; \n",
    "    }\n",
    "    else\n",
    "    {\n",
    "        Node<T>* head = ReverseList_recurs1(curr->next, curr); //recurse to the end of the list\n",
    "        curr->next = prev;\n",
    "        return head;\n",
    "    }\n",
    "}"
   ]
  },
  {
   "cell_type": "code",
   "execution_count": 5,
   "metadata": {},
   "outputs": [],
   "source": [
    "template <typename T>\n",
    "Node<T>* ReverseList_recurs2(Node<T>* curr)\n",
    "{\n",
    "    if(!curr || !curr->next)\n",
    "        return curr;\n",
    "    \n",
    "    Node<T>* head = ReverseList_recurs2(curr->next);\n",
    "\n",
    "//     curr will always be node before tail\n",
    "    curr->next->next = curr;\n",
    "    curr->next = nullptr;\n",
    "    \n",
    "    return head;\n",
    "}"
   ]
  },
  {
   "cell_type": "code",
   "execution_count": 6,
   "metadata": {},
   "outputs": [
    {
     "name": "stdout",
     "output_type": "stream",
     "text": [
      "The linked list is: 0 1 2 3 4 5 \n",
      "The r1 linked list is: 5 4 3 2 1 0 \n",
      "The r2 linked list is: 0 1 2 3 4 5 \n"
     ]
    }
   ],
   "source": [
    "#include <iostream>\n",
    "{\n",
    "    Node<int>* h1 = new Node<int>();\n",
    "    Node<int>* tail = h1;\n",
    "    for (int i = 1; i <= 5; i += 1)\n",
    "        insert(tail, i);\n",
    "    std::cout << \"The linked list is: \";\n",
    "    display(h1);\n",
    "    std::cout << \"\\n\";\n",
    "\n",
    "    std::cout << \"The r1 linked list is: \";\n",
    "    Node<int>* nptr = nullptr;\n",
    "    h1 = ReverseList_recurs1(h1, nptr);\n",
    "    display(h1);\n",
    "    std::cout << \"\\n\";\n",
    "\n",
    "    std::cout << \"The r2 linked list is: \";\n",
    "    display(ReverseList_recurs2(h1));\n",
    "    std::cout << \"\\n\";\n",
    "}"
   ]
  },
  {
   "cell_type": "markdown",
   "metadata": {},
   "source": [
    "# 7.2 Reverse a Single Sublist"
   ]
  },
  {
   "cell_type": "markdown",
   "metadata": {},
   "source": [
    "Changing connections forward"
   ]
  },
  {
   "cell_type": "code",
   "execution_count": 6,
   "metadata": {},
   "outputs": [],
   "source": [
    "template <typename T>\n",
    "Node<T>* ReverseSublist2(Node<T>* L, int start, int finish)\n",
    "{\n",
    "    if (!L || !L->next)\n",
    "        return L;\n",
    "    \n",
    "    Node<T>* dummy = new Node<T>{0, L};\n",
    "    Node<T>* head = dummy;\n",
    "    for(int i = 0; i < start - 1; i++)\n",
    "        head = head->next;\n",
    "    \n",
    "    Node<T>* start_sublist = head->next;\n",
    "    Node<T>* prev = start_sublist;\n",
    "    Node<T>* curr = prev->next;\n",
    "    for(int i = start; i <= finish - 1; i++)\n",
    "    {\n",
    "        Node<T>* next = curr->next;\n",
    "        curr->next = prev;\n",
    "        prev = curr;\n",
    "        curr = next;\n",
    "    }\n",
    "    head->next = prev;\n",
    "    start_sublist->next = curr;\n",
    "    \n",
    "    return dummy->next;\n",
    "}"
   ]
  },
  {
   "cell_type": "code",
   "execution_count": 5,
   "metadata": {},
   "outputs": [
    {
     "name": "stdout",
     "output_type": "stream",
     "text": [
      "The linked list is: 0 1 2 3 4 5 \n",
      "The linked list is: 0 3 2 1 4 5 \n"
     ]
    }
   ],
   "source": [
    "#include <iostream>\n",
    "{\n",
    "    Node<int>* h1 = new Node<int>();\n",
    "    Node<int>* tail = h1;\n",
    "    for(int i = 1; i <= 5; i += 1)\n",
    "        insert(tail, i);\n",
    "    std::cout << \"The linked list is: \";\n",
    "    display(h1); \n",
    "    std::cout << \"\\n\";\n",
    "    \n",
    "    std::cout << \"The linked list is: \";\n",
    "    display(ReverseSublist(h1, 2, 4)); \n",
    "    std::cout << \"\\n\";\n",
    "}"
   ]
  },
  {
   "cell_type": "markdown",
   "metadata": {},
   "source": [
    "Inserting method\n",
    "\n",
    "1 Think about where you're losing connections and losing nodes  \n",
    "2 Think about where there's duplicate connections, and then connect the other one providing duplicate to somewhere else and backtrack  \n",
    "Do 1 and 2 simulatenously, helped for reverse-sublist\n",
    "\n",
    "Do a couple of cases as well\n",
    "Must do the \"last connection\" first, otherwise the reference to that node will be lost"
   ]
  },
  {
   "cell_type": "code",
   "execution_count": 4,
   "metadata": {},
   "outputs": [],
   "source": [
    "template <typename T>\n",
    "Node<T>* ReverseSublist(Node<T>* L, int start, int finish)\n",
    "{\n",
    "    Node<T>* dummy = new Node<int>{0, L};\n",
    "    Node<T>* head = dummy;\n",
    "\n",
    "    for (int i = 1; i <= start - 1; i++)\n",
    "        head = head->next;\n",
    "\n",
    "    //head is right before start\n",
    "    Node<T>* curr = head->next;\n",
    "    for (int i = start; i <= finish - 1; i++)\n",
    "    {\n",
    "        Node<T>* tmp = curr->next;\n",
    "        curr->next = tmp->next;\n",
    "        tmp->next = head->next;\n",
    "        head->next = tmp;\n",
    "    }\n",
    "    \n",
    "    return dummy->next;\n",
    "}"
   ]
  },
  {
   "cell_type": "code",
   "execution_count": 7,
   "metadata": {},
   "outputs": [
    {
     "name": "stdout",
     "output_type": "stream",
     "text": [
      "The linked list is: 0 1 2 3 4 5 \n",
      "The linked list is: 0 3 2 1 4 5 \n"
     ]
    }
   ],
   "source": [
    "#include <iostream>\n",
    "{\n",
    "    Node<int>* h1 = new Node<int>();\n",
    "    Node<int>* tail = h1;\n",
    "    for(int i = 1; i <= 5; i += 1)\n",
    "        insert(tail, i);\n",
    "    std::cout << \"The linked list is: \";\n",
    "    display(h1); \n",
    "    std::cout << \"\\n\";\n",
    "    \n",
    "    std::cout << \"The linked list is: \";\n",
    "    display(ReverseSublist2(h1, 2, 4)); \n",
    "    std::cout << \"\\n\";\n",
    "}"
   ]
  },
  {
   "cell_type": "markdown",
   "metadata": {},
   "source": [
    "# 7.3 Test for Cyclicity"
   ]
  },
  {
   "cell_type": "markdown",
   "metadata": {},
   "source": [
    "Two parts:\n",
    "1. Do fast pointer and slow pointer meet?\n",
    "2. How to find starting point?  \n",
    "---\n",
    "1. \n",
    "It's the distance **from** fast_pointer **to** slow_pointer.  \n",
    "Therefore, slow_pointer is behind fast_pointer.  \n",
    "When slow_pointer goes forward by 1, distance between both ptrs increases by 1.  \n",
    "When fast_pointer goes forward by 2, distance between both ptrs decreases by 2.  \n",
    "1 - 2 = -1  \n",
    "Therefore, distance between two pointers decrease by 1 every iteration and no skipping occurs. In less than one rotation, precisly in the number of iterations of the distance of slow - fast, fast will equal to slow.\n",
    "2. \n",
    "Method 1:\n",
    "<img src=\"floyd.png\" alt=\"floyd\" width=\"400\"/>  \n",
    "x is distance from head to start of cycle  \n",
    "y is distance from start of cycle to meeting point  \n",
    "z is distance from meeting point to start/end of cycle  \n",
    "n = y + z = length of cycle  \n",
    "\n",
    "Slow pointer distance covered, given distance timestep=y (after y steps after entering the cycle):\n",
    "\n",
    "$slow(y) = x + y mod (n)$\n",
    "\n",
    "Fast pointer distance covered, given distance timestep=y (after y steps after entering the cycle):\n",
    "When the slow pointer enters cycle, the fast pointer would have already traveled x steps in the cycle (and it continues to go twice as fast as slow):  \n",
    "\n",
    "$fast(y) = x + (x + 2y) mod (n)$\n",
    "\n",
    "Find the point when they equal each other:  \n",
    "$x + y mod (n) = x + (x + 2y) mod (n)$  \n",
    "$(x + y) mod (n) = 0$\n",
    "\n",
    "Rewritten: \n",
    "$x + y = kn$  \n",
    "$x = kn - y$  \n",
    "$x = (k-1)n + n - y$  \n",
    "$x = (k-1)n + z$  \n",
    "Or in other words, the distance from head to the start of the cycle is the same as the remaining distance from the meeting point to the end of the cycle (plus a constant number of cycles).\n",
    "\n",
    "\n",
    "Method 2: (eh idk, prefer the one above)  \n",
    "slow = $x + y$  \n",
    "fast = $x + y + kn$  \n",
    "2 * slow = fast  \n",
    "$2(x + y) = x + y + kn$  \n",
    "$x + y = kn$  \n",
    "$x = kn - y$  \n",
    "$x = (k-1)n + n - y$  \n",
    "$x = (k-1)n + z$  \n",
    "\n",
    "\n",
    "https://stackoverflow.com/a/16053582  \n",
    "https://cs.stackexchange.com/a/90990"
   ]
  },
  {
   "cell_type": "code",
   "execution_count": null,
   "metadata": {},
   "outputs": [],
   "source": [
    "template <typename T>\n",
    "Node<T>* HasCycle(Node<T>* head)\n",
    "{\n",
    "    if (!head || !head->next)\n",
    "        return nullptr;\n",
    "// onr\n",
    "//     std::shared_ptr<Node<int>> fast = head->next->next, slow = head->next;\n",
    "//     while (fast && slow && (fast != slow) && fast->next)\n",
    "//     {\n",
    "//         fast = fast->next->next;\n",
    "//         slow = slow->next;\n",
    "//     } \n",
    "    Node<T>* fast = head, slow = head;    \n",
    "    do\n",
    "    {\n",
    "        fast = fast->next->next;\n",
    "        slow = slow->next;\n",
    "\n",
    "    } while (fast && slow && fast->next && fast != slow);\n",
    "\n",
    "    if (!fast || fast != slow)\n",
    "        return nullptr;\n",
    "\n",
    "    fast = head;\n",
    "    while (fast != slow)\n",
    "    {\n",
    "        fast = fast->next;\n",
    "        slow = slow->next;\n",
    "    }\n",
    "\n",
    "//     returns start of cycle\n",
    "    return fast;\n",
    "}\n"
   ]
  },
  {
   "cell_type": "markdown",
   "metadata": {},
   "source": [
    "# 7.4 Test for overlapping lists - lists are cycle free\n",
    "return node common to both lists\n",
    "\n",
    "1 -> hashmap for the elements in first list, go through the elemnets of second list -> O(n) time, O(n) space  \n",
    "another smilar way, flag each visited one in first list, go through elements of second list  \n",
    "2 -> take the difference in number of lists, the largest one is gaurenteed to start after the difference of the nodes, then traverse each list in parallel"
   ]
  },
  {
   "cell_type": "code",
   "execution_count": null,
   "metadata": {},
   "outputs": [],
   "source": [
    "template <typename T>\n",
    "Node<T>* OverlappingNoCycleLists(Node<T>* a, Node<T>* b)\n",
    "{\n",
    "    Node<T>* search; \n",
    "    \n",
    "    search = a;\n",
    "    int a_length = 0;\n",
    "    while(search)\n",
    "    {\n",
    "        search = search->next;\n",
    "        a_length++;\n",
    "    }\n",
    "    \n",
    "    search = b;\n",
    "    int b_length = 0;\n",
    "    while(search)\n",
    "    {\n",
    "        search = search->next;\n",
    "        b_length++;\n",
    "    }\n",
    "    \n",
    "//     Move forward the longer list, then start matching\n",
    "    int diff_length = std::abs(a_length - b_length);\n",
    "    Node<T>* longer = a_length > b_length? a : b;\n",
    "    Node<T>* shorter = longer == a? b : a;\n",
    "    \n",
    "    while(diff_length--)\n",
    "        longer = longer->next;\n",
    "    \n",
    "    while(longer && shorter && longer != shorter)\n",
    "    {\n",
    "        longer = longer->next;\n",
    "        shorter = shorter->next;\n",
    "    }\n",
    "    \n",
    "    return longer;\n",
    "}"
   ]
  },
  {
   "cell_type": "markdown",
   "metadata": {},
   "source": [
    "# 7.5 Test for Overlapping Lists - Lists may have Cycles"
   ]
  },
  {
   "cell_type": "markdown",
   "metadata": {},
   "source": [
    "Helps to analyze by each case"
   ]
  },
  {
   "cell_type": "code",
   "execution_count": null,
   "metadata": {},
   "outputs": [],
   "source": [
    "shared_ptr<ListNode<int>> OverlappingLists(shared_ptr<ListNode<int>> a, shared_ptr<ListNode<int>> b) \n",
    "{\n",
    "    shared_ptr<ListNode<int>> cstart_a = HasCycle(a);\n",
    "    shared_ptr<ListNode<int>> cstart_b = HasCycle(b);\n",
    "\n",
    "    //     One has cycle but other doesn't -> no overlap since not possible\n",
    "    if ((!cstart_a && cstart_b) || (!cstart_b && cstart_a))\n",
    "        return nullptr;\n",
    "    //     No cycles linked list -> call no cycle lists function\n",
    "    if (!cstart_a && !cstart_b)\n",
    "        return OverlappingNoCycleLists(a, b);\n",
    "\n",
    "    //  Both lists have cycles, but are they connected?\n",
    "    shared_ptr<ListNode<int>> search = cstart_a;\n",
    "    do\n",
    "    {\n",
    "        search = search->next;\n",
    "    } while (search != cstart_a && search != cstart_b);\n",
    "  \n",
    "    //  Cycles are disjoint\n",
    "    // if (search == cstart_a) is wrong\n",
    "    // since cycle can start at same node, and cstart_a can equal cstart_b\n",
    "    if (search != cstart_b)\n",
    "        return nullptr;\n",
    "\n",
    "    // Cycles are connected\n",
    "    //     Both have cycles, but common node(s) exist in cycle itself\n",
    "    if (cstart_a != cstart_b)\n",
    "        return cstart_a; //can return either one\n",
    "\n",
    "    //     Both have cycles, but common node(s) exist before cycle\n",
    "    //     Both cstart_a and cstart_b are equal to each other\n",
    "    //     Trying to find any nodes before cstart_a that are equal to each other\n",
    "    shared_ptr<ListNode<int>> end = cstart_a;\n",
    "    shared_ptr<ListNode<int>> start = a;\n",
    "    int a_length_before_cycle = 0;\n",
    "    while (start != end)\n",
    "    {\n",
    "        start = start->next;\n",
    "        a_length_before_cycle++;\n",
    "    }\n",
    "    start = b;\n",
    "    int b_length_before_cycle = 0;\n",
    "    while (start != end)\n",
    "    {\n",
    "        start = start->next;\n",
    "        b_length_before_cycle++;\n",
    "    }\n",
    "\n",
    "    shared_ptr<ListNode<int>> longer = a_length_before_cycle > b_length_before_cycle ? a : b;\n",
    "    shared_ptr<ListNode<int>> shorter = longer == a ? b : a;\n",
    "    int diff_distance = std::abs(a_length_before_cycle - b_length_before_cycle);\n",
    "\n",
    "    while (diff_distance--)\n",
    "        longer = longer->next;\n",
    "\n",
    "    while (longer != shorter)\n",
    "    {\n",
    "        longer = longer->next;\n",
    "        shorter = shorter->next;\n",
    "    }\n",
    "    return longer;\n",
    "}"
   ]
  },
  {
   "cell_type": "markdown",
   "metadata": {},
   "source": [
    "# 7.6 Delete a node from a singly linked list\n",
    "Without pointer to previous node, and not deleting tail (or very last node)"
   ]
  },
  {
   "cell_type": "code",
   "execution_count": null,
   "metadata": {},
   "outputs": [],
   "source": [
    "template <typename T>\n",
    "void DeletionFromList(Node<T>* node_to_delete)\n",
    "{\n",
    "    node_to_delete->data = node_to_delete->next->data\n",
    "    node_to_delete->next = node_to_delete->next->next;\n",
    "}"
   ]
  },
  {
   "cell_type": "markdown",
   "metadata": {},
   "source": [
    "# 7.7 Remove the kth last element from list"
   ]
  },
  {
   "cell_type": "code",
   "execution_count": null,
   "metadata": {},
   "outputs": [],
   "source": [
    "template <typename T>\n",
    "Node<T>* RemoveKthLast(Node<T>* head, int k)\n",
    "{\n",
    "    Node<T>* dummy = new Node<T>();\n",
    "    dummy->next = head;\n",
    "    \n",
    "    Node<T>* forward = dummy;\n",
    "    Node<T>* behind = dummy;\n",
    "    \n",
    "    while(k--)\n",
    "        forward = forward->next;\n",
    "    \n",
    "    while(forward->next)\n",
    "    {\n",
    "        forward = forward->next;\n",
    "        behind = behind->next;\n",
    "    }\n",
    "       \n",
    "    //behind->next = behind->next ? behind->next->next : nullptr;\n",
    "    // ^ not necessary since forward will be behind null, since condition is forward->next\n",
    "    behind->next = behind->next->next;\n",
    "    \n",
    "    return dummy->next;\n",
    "}"
   ]
  },
  {
   "cell_type": "code",
   "execution_count": 4,
   "metadata": {},
   "outputs": [
    {
     "name": "stderr",
     "output_type": "stream",
     "text": [
      "\u001b[1minput_line_10:8:7: \u001b[0m\u001b[0;1;31merror: \u001b[0m\u001b[1mcannot assign to variable 'b' with const-qualified type 'int *const'\u001b[0m\n",
      "    b = c;\n",
      "\u001b[0;1;32m    ~ ^\n",
      "\u001b[0m\u001b[1minput_line_10:6:16: \u001b[0m\u001b[0;1;30mnote: \u001b[0mvariable 'b' declared const here\u001b[0m\n",
      "    int* const b = &a;\n",
      "\u001b[0;1;32m    ~~~~~~~~~~~^~~~~~\n",
      "\u001b[0m"
     ]
    },
    {
     "ename": "Interpreter Error",
     "evalue": "",
     "output_type": "error",
     "traceback": [
      "Interpreter Error: "
     ]
    }
   ],
   "source": [
    "// know why this works and is why the below is allowed, the pointer is const\n",
    "// not a double pointer, c has not way of changing the pointer b itself\n",
    "{\n",
    "    int a = 5;\n",
    "    int* const b = &a;\n",
    "    int* c = b;\n",
    "    \n",
    "    //everything right up until below:\n",
    "    b = c;\n",
    "}"
   ]
  },
  {
   "cell_type": "code",
   "execution_count": null,
   "metadata": {},
   "outputs": [],
   "source": [
    "std::shared_ptr<Node<int>> RemoveKthLast(const std::shared_ptr<Node<int>>& L, int k)\n",
    "{\n",
    "    std::shared_ptr<Node<int>> dummy = std::make_shared<Node<int>>(Node<int>{0, L});\n",
    "    std::shared_ptr<Node<int>> back = dummy, forw = dummy;\n",
    "\n",
    "    // have to go one more extra to make sure that forw is null\n",
    "    for(int i = 0; i <= k; i++)\n",
    "        forw = forw->next;\n",
    "\n",
    "    while(forw)\n",
    "    {\n",
    "        forw = forw->next;\n",
    "        back = back->next;\n",
    "    }\n",
    "\n",
    "    //back is always gaurenteed to be before forw, so there's a node in front of it\n",
    "    //so never null\n",
    "    //back->next = back->next? back->next->next : nullptr;\n",
    "    back->next = back->next->next;\n",
    "    \n",
    "    return dummy->next;\n",
    "}"
   ]
  },
  {
   "cell_type": "code",
   "execution_count": null,
   "metadata": {},
   "outputs": [],
   "source": [
    "std::shared_ptr<Node<int>> RemoveKthLast(const std::shared_ptr<Node<int>>& L, int k)\n",
    "{\n",
    "    std::shared_ptr<Node<int>> dummy_head = std::make_shared<Node<int>>(Node<int>{0, L});\n",
    "    std::shared_ptr<Node<int>> fast = dummy_head, slow = dummy_head;\n",
    "\n",
    "    for (int i = 0; i < k; i++)\n",
    "        fast = fast->next;\n",
    "\n",
    "    while (fast->next)\n",
    "    {\n",
    "        fast = fast->next;\n",
    "        slow = slow->next;\n",
    "    }\n",
    "\n",
    "    slow->next = slow->next->next;\n",
    "    return dummy_head->next;\n",
    "}"
   ]
  },
  {
   "cell_type": "markdown",
   "metadata": {},
   "source": [
    "7.10 -> Implementing Even-Odd Merge"
   ]
  },
  {
   "cell_type": "markdown",
   "metadata": {},
   "source": [
    "How to do the address thing without making a variable for it every time  \n",
    "How to delete nicely after using new  \n"
   ]
  },
  {
   "cell_type": "markdown",
   "metadata": {},
   "source": [
    "Try re-implementing the same below  \n",
    "Try re-implementing without smart pointers  \n",
    "\n",
    "**And try original schema that i thought of on paper  (is at as simple as java code?)"
   ]
  },
  {
   "cell_type": "markdown",
   "metadata": {},
   "source": [
    "Without shared pointers:"
   ]
  },
  {
   "cell_type": "markdown",
   "metadata": {},
   "source": [
    "Is there a way to create references to temporary objects without, nvm that's incorrect phrasing:\n",
    "```c++\n",
    "ListNode tmp = ListNode(0, nullptr);\n",
    "ListNode* tmp2 = &tmp;\n",
    "```"
   ]
  },
  {
   "cell_type": "markdown",
   "metadata": {},
   "source": [
    "Know the difference between each and understand relevance to const shared_ptr:   \n",
    "https://www.geeksforgeeks.org/difference-between-const-int-const-int-const-and-int-const/  \n",
    "\n",
    "If const pointer, then can't reassign that pointer to another address"
   ]
  },
  {
   "cell_type": "code",
   "execution_count": null,
   "metadata": {},
   "outputs": [],
   "source": [
    "/**\n",
    " * Definition for singly-linked list.\n",
    " * struct ListNode {\n",
    " *     int val;\n",
    " *     ListNode *next;\n",
    " *     ListNode(int x) : val(x), next(NULL) {}\n",
    " * };\n",
    " */\n",
    "class Solution {\n",
    "public:\n",
    "    ListNode* oddEvenList(ListNode* head) \n",
    "    {\n",
    "        ListNode* odd = new ListNode(0), *even = new ListNode(0);\n",
    "//         ListNode tmp = ListNode(0), tmp2 = ListNode(0);\n",
    "//         ListNode* odd = &tmp, *even = &tmp2;\n",
    "        \n",
    "        ListNode* odd_beg = odd, *even_beg = even;\n",
    "        ListNode* i = head;\n",
    "        int c = 1;\n",
    "        while(i)\n",
    "        {\n",
    "            // ListNode*& val = c++ & 1? odd : even;\n",
    "            // val->next = i;\n",
    "            // val = val->next;\n",
    "            ListNode** val = c++ & 1? &odd : &even;\n",
    "            (*val)->next = i;\n",
    "            (*val) = (*val)->next;\n",
    "            \n",
    "            i = i->next;\n",
    "        }\n",
    "        even->next = nullptr;\n",
    "        odd->next = even_beg->next;\n",
    "        \n",
    "        ListNode* tmp = odd_beg->next;\n",
    "        delete odd_beg; //since deleting this creates dangling pointer\n",
    "        delete even_beg;\n",
    "        \n",
    "        return tmp;\n",
    "    }\n",
    "};\n",
    "\n",
    "void trimLeftTrailingSpaces(string &input) {\n",
    "    input.erase(input.begin(), find_if(input.begin(), input.end(), [](int ch) {\n",
    "        return !isspace(ch);\n",
    "    }));\n",
    "}\n",
    "\n",
    "void trimRightTrailingSpaces(string &input) {\n",
    "    input.erase(find_if(input.rbegin(), input.rend(), [](int ch) {\n",
    "        return !isspace(ch);\n",
    "    }).base(), input.end());\n",
    "}\n",
    "\n",
    "vector<int> stringToIntegerVector(string input) {\n",
    "    vector<int> output;\n",
    "    trimLeftTrailingSpaces(input);\n",
    "    trimRightTrailingSpaces(input);\n",
    "    input = input.substr(1, input.length() - 2);\n",
    "    stringstream ss;\n",
    "    ss.str(input);\n",
    "    string item;\n",
    "    char delim = ',';\n",
    "    while (getline(ss, item, delim)) {\n",
    "        output.push_back(stoi(item));\n",
    "    }\n",
    "    return output;\n",
    "}\n",
    "\n",
    "ListNode* stringToListNode(string input) {\n",
    "    // Generate list from the input\n",
    "    vector<int> list = stringToIntegerVector(input);\n",
    "\n",
    "    // Now convert that list into linked list\n",
    "    ListNode* dummyRoot = new ListNode(0);\n",
    "    ListNode* ptr = dummyRoot;\n",
    "    for(int item : list) {\n",
    "        ptr->next = new ListNode(item);\n",
    "        ptr = ptr->next;\n",
    "    }\n",
    "    ptr = dummyRoot->next;\n",
    "    delete dummyRoot;\n",
    "    return ptr;\n",
    "}\n",
    "\n",
    "string listNodeToString(ListNode* node) {\n",
    "    if (node == nullptr) {\n",
    "        return \"[]\";\n",
    "    }\n",
    "\n",
    "    string result;\n",
    "    while (node) {\n",
    "        result += to_string(node->val) + \", \";\n",
    "        node = node->next;\n",
    "    }\n",
    "    return \"[\" + result.substr(0, result.length() - 2) + \"]\";\n",
    "}\n",
    "\n",
    "int main() {\n",
    "    string line;\n",
    "    while (getline(cin, line)) {\n",
    "        ListNode* head = stringToListNode(line);\n",
    "        \n",
    "        ListNode* ret = Solution().oddEvenList(head);\n",
    "\n",
    "        string out = listNodeToString(ret);\n",
    "        cout << out << endl;\n",
    "    }\n",
    "    return 0;\n",
    "}"
   ]
  },
  {
   "cell_type": "markdown",
   "metadata": {},
   "source": [
    "With Shared Pointers:"
   ]
  },
  {
   "cell_type": "code",
   "execution_count": null,
   "metadata": {},
   "outputs": [],
   "source": [
    "std::shared_ptr<Node<int>> EvenOddMerge(const std::shared_ptr <Node<int>>& L)\n",
    "{\n",
    "    //since L is const, don't change L, just create a new list and traverse L and put its contents in the other list\n",
    "    //the only way this program will work is if L is const but the rest are not const\n",
    "    //otherwise impossible to move connections\n",
    "    std::shared_ptr<Node<int>> even = std::make_shared<Node<int>>(Node<int>{0, L}); //!!!!!->this L will be replaced\n",
    "    std::shared_ptr<Node<int>> odd = std::make_shared<Node<int>>(Node<int>{0, L});\n",
    "\n",
    "    std::shared_ptr<Node<int>> i = L, even_beg = even, odd_beg = odd;\n",
    "\n",
    "    int c = 0;\n",
    "    while (i)\n",
    "    {\n",
    "        std::shared_ptr<Node<int>>& node = c++ & 1 ? odd : even;\n",
    "        node->next = i;\n",
    "        node = node->next;\n",
    "\n",
    "        i = i->next;\n",
    "    }\n",
    "    odd->next = nullptr;\n",
    "    even->next = odd_beg->next;\n",
    "\n",
    "    return even_beg->next;\n",
    "}"
   ]
  },
  {
   "cell_type": "code",
   "execution_count": 23,
   "metadata": {},
   "outputs": [
    {
     "name": "stderr",
     "output_type": "stream",
     "text": [
      "\u001b[1minput_line_30:3:1: \u001b[0m\u001b[0;1;31merror: \u001b[0m\u001b[1mfunction definition is not allowed here\u001b[0m\n",
      "{\n",
      "\u001b[0;1;32m^\n",
      "\u001b[0m"
     ]
    },
    {
     "ename": "Interpreter Error",
     "evalue": "",
     "output_type": "error",
     "traceback": [
      "Interpreter Error: "
     ]
    }
   ],
   "source": [
    "std::shared_ptr<Node<int>> EvenOddMerge(const std::shared_ptr <Node<int>>& L)\n",
    "{\n",
    "    std::shared_ptr<Node<int>> even = std::make_shared<Node<int>>(Node<int>{0, nullptr});\n",
    "    std::shared_ptr<Node<int>> odd = std::make_shared<Node<int>>(Node<int>{0, nullptr});\n",
    "    std::shared_ptr<Node<int>> i = L, even_r = even, odd_r = odd;\n",
    "    \n",
    "    int c = 0;\n",
    "    while (i)\n",
    "    {\n",
    "        //Understand why & here is important\n",
    "        //If excluded, only the copy pointer \"node\" will be moved to the next, odd and even will still be the same\n",
    "        std::shared_ptr<Node<int>>& node = c & 1 ? odd : even;\n",
    "        node->next = i;\n",
    "\n",
    "        node = node->next;\n",
    "        c++;\n",
    "        i = i->next;\n",
    "    }\n",
    "\n",
    "    odd->next = nullptr;\n",
    "    even->next = odd_r->next;\n",
    "\n",
    "    return even_r->next;\n",
    "}"
   ]
  },
  {
   "cell_type": "code",
   "execution_count": null,
   "metadata": {},
   "outputs": [],
   "source": []
  }
 ],
 "metadata": {
  "kernelspec": {
   "display_name": "C++11",
   "language": "C++11",
   "name": "xeus-cling-cpp11"
  },
  "language_info": {
   "codemirror_mode": "text/x-c++src",
   "file_extension": ".cpp",
   "mimetype": "text/x-c++src",
   "name": "c++",
   "version": "-std=c++11"
  },
  "varInspector": {
   "cols": {
    "lenName": 16,
    "lenType": 16,
    "lenVar": 40
   },
   "kernels_config": {
    "python": {
     "delete_cmd_postfix": "",
     "delete_cmd_prefix": "del ",
     "library": "var_list.py",
     "varRefreshCmd": "print(var_dic_list())"
    },
    "r": {
     "delete_cmd_postfix": ") ",
     "delete_cmd_prefix": "rm(",
     "library": "var_list.r",
     "varRefreshCmd": "cat(var_dic_list()) "
    }
   },
   "types_to_exclude": [
    "module",
    "function",
    "builtin_function_or_method",
    "instance",
    "_Feature"
   ],
   "window_display": false
  }
 },
 "nbformat": 4,
 "nbformat_minor": 2
}
