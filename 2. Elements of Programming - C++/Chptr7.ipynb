{
 "cells": [
  {
   "cell_type": "markdown",
   "metadata": {},
   "source": [
    "Linkled Lists: (problems usually require you to write your own linked list class)"
   ]
  },
  {
   "cell_type": "markdown",
   "metadata": {},
   "source": [
    "Simple brute-force O(n) space but using **existing** nodes reduce spatial complexity to O(1)  \n",
    "List problems are simple, just cleanly code out what's specified than designing an algorithm  \n",
    "Dummy head/sentinel to avoid having to check empty lists  \n",
    "Don't forget to update next (and previous for doubly) to avoid having to check for empty lists  \n",
    "Singly linked lists -> two iterators, one ahead of the other or advancing ahead of the other  \n",
    "Sorting may help  \n",
    "Think in terms of prev, curr, next pointers  \n",
    "Have a pointer for each operation (sometimes temporary)\n",
    "And sometimes traverse backwards for each operation\n",
    "Create temporary operations  \n",
    "\n",
    "Do multiple iterations of problem (>=2) to find consistencies  \n",
    "1 Think about where you're losing connections and losing nodes  \n",
    "2 Think about where there's duplicate connections, and then connect the other one providing duplicate to somewhere else and backtrack  \n",
    "Do 1 and 2 simulatenously, helped for reverse-sublist\n",
    "\n",
    "If its intutive, create multiple lists like in evenoddmerge  \n",
    "and then merge together  \n",
    "by first iterating through each element using that element like as follows:\n",
    "```c++ \n",
    "std::shared_ptr<Node<int>>& val = a->data < b->data ? a : b;\n",
    "```"
   ]
  },
  {
   "cell_type": "code",
   "execution_count": 1,
   "metadata": {},
   "outputs": [],
   "source": [
    "//single linked list\n",
    "//use a shared pointer, multiple references to same object\n",
    "template <typename T>\n",
    "struct ListNode\n",
    "{\n",
    "    T data;  \n",
    "    std::shared_ptr<ListNode<T>> next;\n",
    "};"
   ]
  },
  {
   "cell_type": "code",
   "execution_count": 2,
   "metadata": {},
   "outputs": [],
   "source": [
    "template <typename T>\n",
    "std::shared_ptr<ListNode<T>> searchList(std::shared_ptr<ListNode<T>> L, int key)\n",
    "{\n",
    "    while(L && L->data != key)\n",
    "        L = L->next;\n",
    "    \n",
    "    return L;\n",
    "}"
   ]
  },
  {
   "cell_type": "code",
   "execution_count": 3,
   "metadata": {},
   "outputs": [],
   "source": [
    "template <typename T>\n",
    "void insertAfter(const std::shared_ptr<ListNode<T>>& node, const std::shared_ptr<ListNode<T>>& new_node)\n",
    "{\n",
    "    new_node->next = node->next;\n",
    "    node->next = new_node;\n",
    "}"
   ]
  },
  {
   "cell_type": "code",
   "execution_count": 4,
   "metadata": {},
   "outputs": [],
   "source": [
    "template <typename T>\n",
    "void deleteAfter(const std::shared_ptr<ListNode<T>>& node)\n",
    "{\n",
    "    node->next = node->next? node->next->next : nullptr;\n",
    "    /* Assuming that node is not a tail\n",
    "    node->next = node->next->next;\n",
    "    */\n",
    "}"
   ]
  },
  {
   "cell_type": "markdown",
   "metadata": {},
   "source": [
    "List libraries in C++"
   ]
  },
  {
   "cell_type": "markdown",
   "metadata": {},
   "source": [
    "std::list -> doubly linked list  (twice the pointers, twice the space)  \n",
    "std::forward_list -> singly linked list"
   ]
  },
  {
   "cell_type": "markdown",
   "metadata": {},
   "source": [
    "# Usually questions will make you write your own linked list"
   ]
  },
  {
   "cell_type": "markdown",
   "metadata": {},
   "source": [
    "That being said know these functions:  \n",
    "front, back, push_front, push_back, pop_front, pop_back  \n",
    "emplace == push  \n",
    "\n",
    "Comes in handy if you want to make a dequeue"
   ]
  },
  {
   "cell_type": "code",
   "execution_count": 5,
   "metadata": {},
   "outputs": [
    {
     "name": "stdout",
     "output_type": "stream",
     "text": [
      "100 100 100 100 \n",
      "2 1 100 100 100 100 \n",
      "1 100 100 100 100 \n",
      "1 100 100 100 100 3 4 \n",
      "1 4\n",
      "56 56 56 0 1 100 100 100 100 3 4 \n",
      "\n",
      "100 100 42 42 42 100 100 100 \n",
      "100 100 100 42 42 42 100 100 \n",
      "42 42 42 100 100 100 100 100 \n"
     ]
    }
   ],
   "source": [
    "#include <list>\n",
    "#include <iostream>\n",
    "#include <forward_list>\n",
    "\n",
    "\n",
    "//push==emplace,pop=x, x_front, x_back\n",
    "\n",
    "{\n",
    "    //in singly\n",
    "    std::list<int> a(4, 100);\n",
    "    for(std::list<int>::iterator i = a.begin(); i != a.end(); i++)\n",
    "        std::cout << *i << \" \";\n",
    "    std::cout << std::endl;\n",
    "    \n",
    "    a.push_front(1);\n",
    "    a.emplace_front(2);\n",
    "    for(std::list<int>::iterator i = a.begin(); i != a.end(); i++)\n",
    "        std::cout << *i << \" \";\n",
    "    std::cout << std::endl;\n",
    "    \n",
    "    a.pop_front(); //deletes element, doesn't return anything\n",
    "    for(std::list<int>::iterator i = a.begin(); i != a.end(); i++)\n",
    "        std::cout << *i << \" \";\n",
    "    std::cout << std::endl;\n",
    "    \n",
    "    a.push_back(3);\n",
    "    a.emplace_back(4);\n",
    "    for(std::list<int>::iterator i = a.begin(); i != a.end(); i++)\n",
    "        std::cout << *i << \" \";\n",
    "    std::cout << std::endl;\n",
    "    \n",
    "    std::cout << a.front() << \" \" << a.back() << std::endl;\n",
    "    \n",
    "    a.insert(a.begin(), 0);\n",
    "    std::list<int> boom(3, 56);\n",
    "    a.insert(a.begin(), boom.begin(), boom.end());\n",
    "    for(std::list<int>::iterator i = a.begin(); i != a.end(); i++)\n",
    "        std::cout << *i << \" \";\n",
    "    std::cout << std::endl;\n",
    "    \n",
    "    a.erase(a.begin());\n",
    "    a.erase(a.begin(), a.end());\n",
    "    for(std::list<int>::iterator i = a.begin(); i != a.end(); i++)\n",
    "        std::cout << *i << \" \";\n",
    "    std::cout << std::endl;\n",
    "    \n",
    "    //in doubly\n",
    "    //push_front, emplace_front, pop_front, insert_after(l1.end(), 42), emplace_after(l1.end(), 42), \n",
    "    //erase_after(A.begin())\n",
    "    a = std::list<int>(5, 100);\n",
    "    //in both singly and forward but demonstrated here in only singly\n",
    "    // splice, forward, reverse\n",
    "    \n",
    "    std::list<int>::iterator foo = a.begin();\n",
    "    std::advance(foo, 2);\n",
    "    a.splice(foo, std::list<int>(3,42));\n",
    "    for(std::list<int>::iterator i = a.begin(); i != a.end(); i++)\n",
    "        std::cout << *i << \" \";\n",
    "    std::cout << std::endl;\n",
    "    \n",
    "    a.reverse();\n",
    "    for(std::list<int>::iterator i = a.begin(); i != a.end(); i++)\n",
    "        std::cout << *i << \" \";\n",
    "    std::cout << std::endl;\n",
    "    \n",
    "    a.sort();\n",
    "    for(std::list<int>::iterator i = a.begin(); i != a.end(); i++)\n",
    "        std::cout << *i << \" \";\n",
    "    std::cout << std::endl;\n",
    "    \n",
    "//     a.splice_after(a.end(), std::list<int>(3,123));\n",
    "//     for(std::list<int>::iterator i = a.begin(); i != a.end(); i++)\n",
    "//         std::cout << *i << \" \";\n",
    "//     std::cout << std::endl;\n",
    "}"
   ]
  },
  {
   "cell_type": "markdown",
   "metadata": {},
   "source": [
    "7.1 -> merge two sorted lists"
   ]
  },
  {
   "cell_type": "markdown",
   "metadata": {},
   "source": [
    "C++ works as pass by value (pointer will be copied) unless by reference (amerpsand or double pointer)"
   ]
  },
  {
   "cell_type": "code",
   "execution_count": 8,
   "metadata": {},
   "outputs": [],
   "source": [
    "void foo(int* a, int* b)\n",
    "{\n",
    "    a = b;\n",
    "    *a = 30;\n",
    "}"
   ]
  },
  {
   "cell_type": "code",
   "execution_count": 10,
   "metadata": {},
   "outputs": [
    {
     "name": "stdout",
     "output_type": "stream",
     "text": [
      "10 30\n"
     ]
    }
   ],
   "source": [
    "#include <iostream>\n",
    "{\n",
    "    int a = 10;\n",
    "    int b = 20;\n",
    "    int* c = &a;\n",
    "    int* d = &b;\n",
    "    foo(c, d);\n",
    "    std::cout << a << \" \" << b << std::endl;\n",
    "}"
   ]
  },
  {
   "cell_type": "raw",
   "metadata": {},
   "source": [
    "//if below lines are commented out, next line will have compile-time errors\n",
    "template <typename T> \n",
    "std::shared_ptr<Node<T>> MergeTwoSortedLists(std::shared_ptr<Node<T>> a, std::shared_ptr<Node<T>> b) { return nullptr; }\n",
    "\n",
    "template <>\n",
    "std::shared_ptr<Node<int>> MergeTwoSortedLists(std::shared_ptr<Node<int>> a, std::shared_ptr<Node<int>> b)\n",
    "{\n",
    "\treturn nullptr;\n",
    "}"
   ]
  },
  {
   "cell_type": "code",
   "execution_count": 2,
   "metadata": {},
   "outputs": [],
   "source": [
    "template <typename T>\n",
    "struct Node\n",
    "{\n",
    "    T data;\n",
    "    std::shared_ptr<Node<T>> next;\n",
    "};\n",
    "    "
   ]
  },
  {
   "cell_type": "code",
   "execution_count": 3,
   "metadata": {},
   "outputs": [],
   "source": [
    "void push_back(std::shared_ptr<Node<int>>& node, std::shared_ptr<Node<int>>& tail)\n",
    "{\n",
    "    tail->next = node;\n",
    "    tail = tail->next;\n",
    "    node = node->next;\n",
    "}"
   ]
  },
  {
   "cell_type": "code",
   "execution_count": 4,
   "metadata": {},
   "outputs": [],
   "source": [
    "void push_back(std::shared_ptr<Node<int>>* node, std::shared_ptr<Node<int>>* tail)\n",
    "{\n",
    "    (*tail)->next = *node;\n",
    "    *tail = (*tail)->next;\n",
    "    *node = (*node)->next;\n",
    "}"
   ]
  },
  {
   "cell_type": "code",
   "execution_count": null,
   "metadata": {},
   "outputs": [],
   "source": [
    "std::shared_ptr<Node<int>> MergeTwoSortedLists(std::shared_ptr<Node<int>> a, std::shared_ptr<Node<int>> b) \n",
    "{\n",
    "    //std::shared_ptr<ListNode<int>> dummy = std::shared_ptr<ListNode<int>>(new ListNode<int>);\n",
    "    //std::shared_ptr<ListNode<int>> dummy(std::shared_ptr<ListNode<int>>(new ListNode<int>));\n",
    "    std::shared_ptr<ListNode<int>> dummy = std::make_shared<ListNode<int>>(ListNode<int>());\n",
    "    std::shared_ptr<Node<int>> tail = dummy;\n",
    "\n",
    "    while (a && b)\n",
    "    {\n",
    "        std::shared_ptr<ListNode<int>>& node = a->data < b->data ? a : b;\n",
    "        //tail->next = node;\n",
    "        //tail = tail->next;\n",
    "        //node = node->next;\n",
    "        //push_back(node, tail);\n",
    "        push_back(&node, &tail);\n",
    "    }\n",
    "\n",
    "    tail->next = a ? a : b;\n",
    "\n",
    "    return dummy->next;\n",
    "}"
   ]
  },
  {
   "cell_type": "code",
   "execution_count": null,
   "metadata": {},
   "outputs": [],
   "source": [
    "std::shared_ptr<Node<int>> MergeTwoSortedLists(std::shared_ptr<Node<int>> a, std::shared_ptr<Node<int>> b)\n",
    "{\n",
    "    std::shared_ptr<Node<int>> dummy = std::make_shared<Node<int>>(Node<int>());\n",
    "    std::shared_ptr<Node<int>> curr = dummy;\n",
    "\n",
    "    while (a && b)\n",
    "    {\n",
    "        std::shared_ptr<Node<int>>& val = a->data < b->data ? a : b;\n",
    "\n",
    "        curr->next = val;\n",
    "        val = val->next;\n",
    "        curr = curr->next;\n",
    "    }\n",
    "\n",
    "    curr->next = a ? a : b;\n",
    "\n",
    "    return dummy->next;\n",
    "}\n"
   ]
  },
  {
   "cell_type": "markdown",
   "metadata": {},
   "source": [
    "7.2 -> reverse a single sublist"
   ]
  },
  {
   "cell_type": "markdown",
   "metadata": {},
   "source": [
    "1 Think about where you're losing connections and losing nodes  \n",
    "2 Think about where there's duplicate connections, and then connect the other one providing duplicate to somewhere else and backtrack  \n",
    "Do 1 and 2 simulatenously, helped for reverse-sublist"
   ]
  },
  {
   "cell_type": "code",
   "execution_count": null,
   "metadata": {},
   "outputs": [],
   "source": [
    "std::shared_ptr<Node<int>> ReverseSublist(std::shared_ptr<Node<int>> L, int start, int finish)\n",
    "{\n",
    "    //we have a dummy head so that if any changes happen to the head, we still have a way to return a reference to it\n",
    "    std::shared_ptr<Node<int>> dummy = std::make_shared<Node<int>>(Node<int>{0, L});\n",
    "    std::shared_ptr<Node<int>> head = dummy;\n",
    "\n",
    "    for (int i = 1; i <= start - 1; i++)\n",
    "        head = head->next;\n",
    "\n",
    "    //head is right before start\n",
    "    //head's next will always be the first element in sublist\n",
    "    \n",
    "    std::shared_ptr<Node<int>> curr = head->next;\n",
    "    //curr is head->next because that element once moved's next will always be the next element to reverse\n",
    "    //do multiple iterations of problem (>=2) to find consistencies \n",
    "    while(finish - start++ > 0)\n",
    "    {\n",
    "        auto tmp = curr->next;\n",
    "        curr->next = tmp->next;\n",
    "        tmp->next = head->next;\n",
    "        head->next = tmp;\n",
    "    }\n",
    "\n",
    "    return dummy->next;\n",
    "}"
   ]
  },
  {
   "cell_type": "markdown",
   "metadata": {},
   "source": [
    "7.3 -> check for a cycle"
   ]
  },
  {
   "cell_type": "markdown",
   "metadata": {},
   "source": [
    "Floyd's Fast and Slow method   \n",
    "https://www.youtube.com/watch?v=-YiQZi3mLq0  \n",
    "\n",
    "$N = D + K + C*i$ -> hare  \n",
    "$2N = D + K + C*j$ -> tortoise  \n",
    "Solving this is possible with an arbitrary N and C, with j and i minimized: $N = (j-i)C$   \n",
    "Substitution:   \n",
    "$2D + 2K + 2C*i = D + K + C*j$  \n",
    "$D + K = C(j - 2*i)$  \n",
    "$D = C(j - 2*i) - K$  \n"
   ]
  },
  {
   "cell_type": "markdown",
   "metadata": {},
   "source": [
    "Why detecting if a loop is there works:  \n",
    "$x + 2i = (x+k) + i$  \n",
    "$i = k$  \n",
    "Distance decreases by 1 since slow +=1 and fast += 2, distance does ***not*** decrease by 2 -> which would introduce skipping."
   ]
  },
  {
   "cell_type": "markdown",
   "metadata": {},
   "source": [
    "To see if there's a cycle, imagine that two pointers are on any two points on a cycle. The faster one will catch up to the slower one. Since the distance decreases by 1, the faster one won't skip over the slower one (if distance decreases by more than 1, it'll just take more cycles). In less than one rotation, precisly in the number of iterations of the distance of slow - fast, fast will equal to slow. (where slow is ahead of fast)   \n",
    "\n",
    "Consider this meeting point k.  Distance d is distance from head of the list to the start of cycle. k is from start of cycle to meeting point. n - k is distance from meetig point to start of cycle.  \n",
    "i = d + k //slow pointer  \n",
    "2i = d + k + (n-k) + k  //fast pointer, finds it in one rotation  \n",
    "\n",
    "2d + 2k =  d + k + (n-k) + k  \n",
    "d = n - k  \n",
    "Therefore, the distance from head of list to start of the cycle is equal to the distance from meeting point to start of cycle. Therfore, increasing these pointer locations in tandem and seeing where they are equal is where the cycle begins. \n",
    "\n",
    "^ in the event that d is super large -> d = 100, n (or cycle length is 4), then fast pointer will do multiple cycles, but stil equivalent if do d = d%n, subtract n from d until d < n, then equivalent\n",
    "\n"
   ]
  },
  {
   "cell_type": "markdown",
   "metadata": {},
   "source": [
    "http://javabypatel.blogspot.com/2015/12/detect-loop-in-linked-list.html  \n",
    "https://cs.stackexchange.com/questions/10360/floyds-cycle-detection-algorithm-determining-the-starting-point-of-cycle  "
   ]
  },
  {
   "cell_type": "code",
   "execution_count": null,
   "metadata": {},
   "outputs": [],
   "source": [
    "std::shared_ptr<Node<int>> HasCycle(const std::shared_ptr<Node<int>>& head)\n",
    "{\n",
    "    if (!head->next)\n",
    "        return nullptr;\n",
    "\n",
    "//// why are there two options here? -> make sure pointers are correct before entering while loop\n",
    "    //std::shared_ptr<Node<int>> fast = head->next->next, slow = head->next;\n",
    "//     while (fast && slow && (fast != slow) && fast->next)\n",
    "//     {\n",
    "//         fast = fast->next->next;\n",
    "//         slow = slow->next;\n",
    "//     } \n",
    "\n",
    "    std::shared_ptr<Node<int>> fast = head, slow = head;    \n",
    "    do\n",
    "    {\n",
    "        fast = fast->next->next;\n",
    "        slow = slow->next;\n",
    "\n",
    "    } while (fast && slow && (fast != slow) && fast->next);\n",
    "\n",
    "\n",
    "    if (fast != slow)\n",
    "    {\n",
    "        return nullptr;\n",
    "    }\n",
    "\n",
    "\n",
    "    fast = head;\n",
    "    while (fast != slow)\n",
    "    {\n",
    "        fast = fast->next;\n",
    "        slow = slow->next;\n",
    "    }\n",
    "\n",
    "    return fast;\n",
    "}\n"
   ]
  },
  {
   "cell_type": "code",
   "execution_count": 12,
   "metadata": {},
   "outputs": [
    {
     "name": "stderr",
     "output_type": "stream",
     "text": [
      "\u001b[1minput_line_19:3:1: \u001b[0m\u001b[0;1;31merror: \u001b[0m\u001b[1mfunction definition is not allowed here\u001b[0m\n",
      "{\n",
      "\u001b[0;1;32m^\n",
      "\u001b[0m"
     ]
    },
    {
     "ename": "Interpreter Error",
     "evalue": "",
     "output_type": "error",
     "traceback": [
      "Interpreter Error: "
     ]
    }
   ],
   "source": [
    "std::shared_ptr<Node<int>> HasCycle(const std::shared_ptr<Node<int>>& head)\n",
    "{\n",
    "    std::shared_ptr<Node<int>> fast = head, slow = head;\n",
    "    \n",
    "    while(fast && fast->next)\n",
    "    {\n",
    "        fast = fast->next->next; slow = slow->next;\n",
    "        //since slow pointer will traverse entire list once -> O(n)\n",
    "        if(fast == slow)\n",
    "        {\n",
    "            //compute cycle length\n",
    "            //O(n) time\n",
    "            int cycle_len = 0;\n",
    "            do\n",
    "            {\n",
    "                fast = fast->next;\n",
    "                cycle_len++;\n",
    "            }while(fast != slow);\n",
    "            \n",
    "            //increment points in tandem one at a time\n",
    "            //O(n) time\n",
    "            fast = head;\n",
    "            while(fast != slow)\n",
    "            {\n",
    "                fast = fast->next;\n",
    "                slow = slow->next;\n",
    "            }\n",
    "            \n",
    "            return fast;\n",
    "        }\n",
    "    }\n",
    "    return nullptr;\n",
    "}"
   ]
  },
  {
   "cell_type": "markdown",
   "metadata": {},
   "source": [
    "7.4 -> overlapping linked lists  \n",
    "\n",
    "1 -> hashmap for the elements in first list, go through the elemnets of second list -> O(n) time, O(n) space  \n",
    "another smilar way, flag each visited one in first list, go through elements of second list  \n",
    "2 -> take the difference in number of lists, the largest one is gaurenteed to start after the difference of the nodes, then traverse each list in parallel"
   ]
  },
  {
   "cell_type": "code",
   "execution_count": null,
   "metadata": {},
   "outputs": [],
   "source": [
    "std::shared_ptr<Node<int>> OverlappingNoCycleLists(std::shared_ptr<Node<int>> a, std::shared_ptr<Node<int>> b)\n",
    "{\n",
    "    std::shared_ptr<Node<int>> c = a;\n",
    "\n",
    "    int la = 0;\n",
    "    while(c)\n",
    "    {\n",
    "        la++;\n",
    "        c = c->next;\n",
    "    }\n",
    "\n",
    "    c = b;\n",
    "    int lb = 0;\n",
    "    while(c)\n",
    "    {\n",
    "        lb++;\n",
    "        c = c->next;\n",
    "    }\n",
    "\n",
    "    int min_steps = std::abs(la - lb);\n",
    "    c = la > lb ? a : b;\n",
    "    std::shared_ptr<Node<int>> d = la > lb ? b : a; //shorter one\n",
    "\n",
    "    while(min_steps--)\n",
    "        c = c->next;\n",
    "\n",
    "    while(c && d && c != d)\n",
    "    {\n",
    "        c = c->next;\n",
    "        d = d->next;\n",
    "    }\n",
    "\n",
    "    return d;\n",
    "}"
   ]
  },
  {
   "cell_type": "code",
   "execution_count": null,
   "metadata": {},
   "outputs": [],
   "source": [
    "std::shared_ptr<Node<int>> OverlappingNoCycleLists(std::shared_ptr<Node<int>> a, std::shared_ptr<Node<int>> b)\n",
    "{\n",
    "    int la = 0, lb = 0;\n",
    "    \n",
    "    std::shared_ptr<Node<int>> i = a;\n",
    "    while(i)\n",
    "    {\n",
    "        i = i->next;\n",
    "        la++;\n",
    "    }\n",
    "    \n",
    "    i = b;\n",
    "    while(i)\n",
    "    {\n",
    "        i = i->next;\n",
    "        lb++;\n",
    "    }\n",
    "    \n",
    "    std::shared_ptr<Node<int>> lon_i = la > lb? a : b;\n",
    "    std::shared_ptr<Node<int>> short_i = la > lb? b : a;\n",
    "    \n",
    "    for(int i = 1; i <= std::abs(la - lb); i++)\n",
    "        lon_i = lon_i->next;\n",
    "    \n",
    "    while(lon_i && short_i)\n",
    "    {\n",
    "        if(lon_i == short_i)\n",
    "            return lon_i;\n",
    "        lon_i = lon_i->next;\n",
    "        short_i = short_i->next;\n",
    "    }\n",
    "    \n",
    "    return nullptr;\n",
    "}"
   ]
  },
  {
   "cell_type": "markdown",
   "metadata": {},
   "source": [
    "7.7 -> remove kth last element from list"
   ]
  },
  {
   "cell_type": "code",
   "execution_count": 4,
   "metadata": {},
   "outputs": [
    {
     "name": "stderr",
     "output_type": "stream",
     "text": [
      "\u001b[1minput_line_10:8:7: \u001b[0m\u001b[0;1;31merror: \u001b[0m\u001b[1mcannot assign to variable 'b' with const-qualified type 'int *const'\u001b[0m\n",
      "    b = c;\n",
      "\u001b[0;1;32m    ~ ^\n",
      "\u001b[0m\u001b[1minput_line_10:6:16: \u001b[0m\u001b[0;1;30mnote: \u001b[0mvariable 'b' declared const here\u001b[0m\n",
      "    int* const b = &a;\n",
      "\u001b[0;1;32m    ~~~~~~~~~~~^~~~~~\n",
      "\u001b[0m"
     ]
    },
    {
     "ename": "Interpreter Error",
     "evalue": "",
     "output_type": "error",
     "traceback": [
      "Interpreter Error: "
     ]
    }
   ],
   "source": [
    "// know why this works and is why the below is allowed, the pointer is const\n",
    "// not a double pointer, c has not way of changing the pointer b itself\n",
    "{\n",
    "    int a = 5;\n",
    "    int* const b = &a;\n",
    "    int* c = b;\n",
    "    \n",
    "    //everything right up until below:\n",
    "    b = c;\n",
    "}"
   ]
  },
  {
   "cell_type": "code",
   "execution_count": null,
   "metadata": {},
   "outputs": [],
   "source": [
    "std::shared_ptr<Node<int>> RemoveKthLast(const std::shared_ptr<Node<int>>& L, int k)\n",
    "{\n",
    "    std::shared_ptr<Node<int>> dummy = std::make_shared<Node<int>>(Node<int>{0, L});\n",
    "    std::shared_ptr<Node<int>> back = dummy, forw = dummy;\n",
    "\n",
    "    // have to go one more extra to make sure that forw is null\n",
    "    for(int i = 0; i <= k; i++)\n",
    "        forw = forw->next;\n",
    "\n",
    "    while(forw)\n",
    "    {\n",
    "        forw = forw->next;\n",
    "        back = back->next;\n",
    "    }\n",
    "\n",
    "    //back is always gaurenteed to be before forw, so there's a node in front of it\n",
    "    //so never null\n",
    "    //back->next = back->next? back->next->next : nullptr;\n",
    "    back->next = back->next->next;\n",
    "    \n",
    "    return dummy->next;\n",
    "}"
   ]
  },
  {
   "cell_type": "code",
   "execution_count": null,
   "metadata": {},
   "outputs": [],
   "source": [
    "std::shared_ptr<Node<int>> RemoveKthLast(const std::shared_ptr<Node<int>>& L, int k)\n",
    "{\n",
    "    std::shared_ptr<Node<int>> dummy_head = std::make_shared<Node<int>>(Node<int>{0, L});\n",
    "    std::shared_ptr<Node<int>> fast = dummy_head, slow = dummy_head;\n",
    "\n",
    "    for (int i = 0; i < k; i++)\n",
    "        fast = fast->next;\n",
    "\n",
    "    while (fast->next)\n",
    "    {\n",
    "        fast = fast->next;\n",
    "        slow = slow->next;\n",
    "    }\n",
    "\n",
    "    slow->next = slow->next->next;\n",
    "    return dummy_head->next;\n",
    "}"
   ]
  },
  {
   "cell_type": "markdown",
   "metadata": {},
   "source": [
    "7.10 -> Implementing Even-Odd Merge"
   ]
  },
  {
   "cell_type": "markdown",
   "metadata": {},
   "source": [
    "How to do the address thing without making a variable for it every time  \n",
    "How to delete nicely after using new  \n"
   ]
  },
  {
   "cell_type": "markdown",
   "metadata": {},
   "source": [
    "Try re-implementing the same below  \n",
    "Try re-implementing without smart pointers  \n",
    "\n",
    "**And try original schema that i thought of on paper  (is at as simple as java code?)"
   ]
  },
  {
   "cell_type": "markdown",
   "metadata": {},
   "source": [
    "Without shared pointers:"
   ]
  },
  {
   "cell_type": "markdown",
   "metadata": {},
   "source": [
    "Is there a way to create references to temporary objects without, nvm that's incorrect phrasing:\n",
    "```c++\n",
    "ListNode tmp = ListNode(0, nullptr);\n",
    "ListNode* tmp2 = &tmp;\n",
    "```"
   ]
  },
  {
   "cell_type": "markdown",
   "metadata": {},
   "source": [
    "Know the difference between each and understand relevance to const shared_ptr:   \n",
    "https://www.geeksforgeeks.org/difference-between-const-int-const-int-const-and-int-const/  \n",
    "\n",
    "If const pointer, then can't reassign that pointer to another address"
   ]
  },
  {
   "cell_type": "code",
   "execution_count": null,
   "metadata": {},
   "outputs": [],
   "source": [
    "/**\n",
    " * Definition for singly-linked list.\n",
    " * struct ListNode {\n",
    " *     int val;\n",
    " *     ListNode *next;\n",
    " *     ListNode(int x) : val(x), next(NULL) {}\n",
    " * };\n",
    " */\n",
    "class Solution {\n",
    "public:\n",
    "    ListNode* oddEvenList(ListNode* head) \n",
    "    {\n",
    "        ListNode* odd = new ListNode(0), *even = new ListNode(0);\n",
    "//         ListNode tmp = ListNode(0), tmp2 = ListNode(0);\n",
    "//         ListNode* odd = &tmp, *even = &tmp2;\n",
    "        \n",
    "        ListNode* odd_beg = odd, *even_beg = even;\n",
    "        ListNode* i = head;\n",
    "        int c = 1;\n",
    "        while(i)\n",
    "        {\n",
    "            // ListNode*& val = c++ & 1? odd : even;\n",
    "            // val->next = i;\n",
    "            // val = val->next;\n",
    "            ListNode** val = c++ & 1? &odd : &even;\n",
    "            (*val)->next = i;\n",
    "            (*val) = (*val)->next;\n",
    "            \n",
    "            i = i->next;\n",
    "        }\n",
    "        even->next = nullptr;\n",
    "        odd->next = even_beg->next;\n",
    "        \n",
    "        ListNode* tmp = odd_beg->next;\n",
    "        delete odd_beg; //since deleting this creates dangling pointer\n",
    "        delete even_beg;\n",
    "        \n",
    "        return tmp;\n",
    "    }\n",
    "};\n",
    "\n",
    "void trimLeftTrailingSpaces(string &input) {\n",
    "    input.erase(input.begin(), find_if(input.begin(), input.end(), [](int ch) {\n",
    "        return !isspace(ch);\n",
    "    }));\n",
    "}\n",
    "\n",
    "void trimRightTrailingSpaces(string &input) {\n",
    "    input.erase(find_if(input.rbegin(), input.rend(), [](int ch) {\n",
    "        return !isspace(ch);\n",
    "    }).base(), input.end());\n",
    "}\n",
    "\n",
    "vector<int> stringToIntegerVector(string input) {\n",
    "    vector<int> output;\n",
    "    trimLeftTrailingSpaces(input);\n",
    "    trimRightTrailingSpaces(input);\n",
    "    input = input.substr(1, input.length() - 2);\n",
    "    stringstream ss;\n",
    "    ss.str(input);\n",
    "    string item;\n",
    "    char delim = ',';\n",
    "    while (getline(ss, item, delim)) {\n",
    "        output.push_back(stoi(item));\n",
    "    }\n",
    "    return output;\n",
    "}\n",
    "\n",
    "ListNode* stringToListNode(string input) {\n",
    "    // Generate list from the input\n",
    "    vector<int> list = stringToIntegerVector(input);\n",
    "\n",
    "    // Now convert that list into linked list\n",
    "    ListNode* dummyRoot = new ListNode(0);\n",
    "    ListNode* ptr = dummyRoot;\n",
    "    for(int item : list) {\n",
    "        ptr->next = new ListNode(item);\n",
    "        ptr = ptr->next;\n",
    "    }\n",
    "    ptr = dummyRoot->next;\n",
    "    delete dummyRoot;\n",
    "    return ptr;\n",
    "}\n",
    "\n",
    "string listNodeToString(ListNode* node) {\n",
    "    if (node == nullptr) {\n",
    "        return \"[]\";\n",
    "    }\n",
    "\n",
    "    string result;\n",
    "    while (node) {\n",
    "        result += to_string(node->val) + \", \";\n",
    "        node = node->next;\n",
    "    }\n",
    "    return \"[\" + result.substr(0, result.length() - 2) + \"]\";\n",
    "}\n",
    "\n",
    "int main() {\n",
    "    string line;\n",
    "    while (getline(cin, line)) {\n",
    "        ListNode* head = stringToListNode(line);\n",
    "        \n",
    "        ListNode* ret = Solution().oddEvenList(head);\n",
    "\n",
    "        string out = listNodeToString(ret);\n",
    "        cout << out << endl;\n",
    "    }\n",
    "    return 0;\n",
    "}"
   ]
  },
  {
   "cell_type": "markdown",
   "metadata": {},
   "source": [
    "With Shared Pointers:"
   ]
  },
  {
   "cell_type": "code",
   "execution_count": null,
   "metadata": {},
   "outputs": [],
   "source": [
    "std::shared_ptr<Node<int>> EvenOddMerge(const std::shared_ptr <Node<int>>& L)\n",
    "{\n",
    "    //since L is const, don't change L, just create a new list and traverse L and put its contents in the other list\n",
    "    //the only way this program will work is if L is const but the rest are not const\n",
    "    //otherwise impossible to move connections\n",
    "    std::shared_ptr<Node<int>> even = std::make_shared<Node<int>>(Node<int>{0, L}); //!!!!!->this L will be replaced\n",
    "    std::shared_ptr<Node<int>> odd = std::make_shared<Node<int>>(Node<int>{0, L});\n",
    "\n",
    "    std::shared_ptr<Node<int>> i = L, even_beg = even, odd_beg = odd;\n",
    "\n",
    "    int c = 0;\n",
    "    while (i)\n",
    "    {\n",
    "        std::shared_ptr<Node<int>>& node = c++ & 1 ? odd : even;\n",
    "        node->next = i;\n",
    "        node = node->next;\n",
    "\n",
    "        i = i->next;\n",
    "    }\n",
    "    odd->next = nullptr;\n",
    "    even->next = odd_beg->next;\n",
    "\n",
    "    return even_beg->next;\n",
    "}"
   ]
  },
  {
   "cell_type": "code",
   "execution_count": 23,
   "metadata": {},
   "outputs": [
    {
     "name": "stderr",
     "output_type": "stream",
     "text": [
      "\u001b[1minput_line_30:3:1: \u001b[0m\u001b[0;1;31merror: \u001b[0m\u001b[1mfunction definition is not allowed here\u001b[0m\n",
      "{\n",
      "\u001b[0;1;32m^\n",
      "\u001b[0m"
     ]
    },
    {
     "ename": "Interpreter Error",
     "evalue": "",
     "output_type": "error",
     "traceback": [
      "Interpreter Error: "
     ]
    }
   ],
   "source": [
    "std::shared_ptr<Node<int>> EvenOddMerge(const std::shared_ptr <Node<int>>& L)\n",
    "{\n",
    "    std::shared_ptr<Node<int>> even = std::make_shared<Node<int>>(Node<int>{0, nullptr});\n",
    "    std::shared_ptr<Node<int>> odd = std::make_shared<Node<int>>(Node<int>{0, nullptr});\n",
    "    std::shared_ptr<Node<int>> i = L, even_r = even, odd_r = odd;\n",
    "    \n",
    "    int c = 0;\n",
    "    while (i)\n",
    "    {\n",
    "        //Understand why & here is important\n",
    "        //If excluded, only the copy pointer \"node\" will be moved to the next, odd and even will still be the same\n",
    "        std::shared_ptr<Node<int>>& node = c & 1 ? odd : even;\n",
    "        node->next = i;\n",
    "\n",
    "        node = node->next;\n",
    "        c++;\n",
    "        i = i->next;\n",
    "    }\n",
    "\n",
    "    odd->next = nullptr;\n",
    "    even->next = odd_r->next;\n",
    "\n",
    "    return even_r->next;\n",
    "}"
   ]
  },
  {
   "cell_type": "code",
   "execution_count": null,
   "metadata": {},
   "outputs": [],
   "source": []
  }
 ],
 "metadata": {
  "kernelspec": {
   "display_name": "C++11",
   "language": "C++11",
   "name": "xeus-cling-cpp11"
  },
  "language_info": {
   "codemirror_mode": "text/x-c++src",
   "file_extension": ".cpp",
   "mimetype": "text/x-c++src",
   "name": "c++",
   "version": "-std=c++11"
  }
 },
 "nbformat": 4,
 "nbformat_minor": 2
}
