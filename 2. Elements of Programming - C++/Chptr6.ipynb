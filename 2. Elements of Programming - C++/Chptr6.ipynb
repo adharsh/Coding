{
 "cells": [
  {
   "cell_type": "markdown",
   "metadata": {},
   "source": [
    "* Always consider end case when for loop finishes, have you covered all cases  \n",
    "* Similar to arrays, solutions are often O(n) but can reduce space to O(1)  \n",
    "* Try writing values from the back  \n",
    "* To do reverse, can keep inserting at the same position  \n",
    "* Isolate problem into two steps like replace and remove  \n",
    "    * Make array smaller\n",
    "    * Then make array bigger"
   ]
  },
  {
   "cell_type": "markdown",
   "metadata": {},
   "source": [
    "# Palindrome"
   ]
  },
  {
   "cell_type": "code",
   "execution_count": 1,
   "metadata": {},
   "outputs": [],
   "source": [
    "#include <iostream>\n",
    "#include <string>\n",
    "\n",
    "bool isPalindrome(const std::string s)\n",
    "{\n",
    "    for(int i = 0, j = s.size() - 1; i < j; i++, j--)\n",
    "        if(s[i] != s[j])\n",
    "            return false;\n",
    "    return true;\n",
    "}"
   ]
  },
  {
   "cell_type": "code",
   "execution_count": 2,
   "metadata": {},
   "outputs": [
    {
     "data": {
      "text/plain": [
       "true"
      ]
     },
     "execution_count": 2,
     "metadata": {},
     "output_type": "execute_result"
    }
   ],
   "source": [
    "isPalindrome(\"racecar\")"
   ]
  },
  {
   "cell_type": "markdown",
   "metadata": {},
   "source": [
    "C++ Strings Notes"
   ]
  },
  {
   "cell_type": "code",
   "execution_count": 3,
   "metadata": {},
   "outputs": [
    {
     "data": {
      "text/plain": [
       "true"
      ]
     },
     "execution_count": 3,
     "metadata": {},
     "output_type": "execute_result"
    }
   ],
   "source": [
    "'\\0' == 0"
   ]
  },
  {
   "cell_type": "code",
   "execution_count": 1,
   "metadata": {},
   "outputs": [
    {
     "name": "stdout",
     "output_type": "stream",
     "text": [
      "abc\n",
      "abcdef\n",
      "abcGauss\n",
      "abcGaussP\n",
      "abcGauss\n",
      "abcG...auss\n",
      "abcG....auss\n",
      "abcGauss\n",
      "1\n",
      "345\n",
      "-234\n",
      "-234\n",
      "abcGauss"
     ]
    }
   ],
   "source": [
    "#include <iostream>\n",
    "#include <string>\n",
    "\n",
    "{\n",
    "    std::string s = \"abc\";\n",
    "    std::cout << s << std::endl;\n",
    "\n",
    "    std::cout << s + \"def\"<< std::endl;\n",
    "\n",
    "    std::cout << s.append(\"Gauss\") << std::endl; //in-place\n",
    "\n",
    "    s.push_back('P'); //in-place\n",
    "    std::cout << s << std::endl; \n",
    "\n",
    "    s.pop_back(); //in-place\n",
    "    std::cout << s << std::endl; \n",
    "\n",
    "    s.insert(4, \"...\"); //in-place\n",
    "    std::cout << s << std::endl; \n",
    "\n",
    "    s.insert(4, std::string(\"...\").substr(2)); //in-place\n",
    "    std::cout << s << std::endl; \n",
    "    \n",
    "    s.erase(s.begin() + 4, s.begin() + 8); //in-place\n",
    "    std::cout << s << std::endl; \n",
    "    \n",
    "    //x.compare(y) -> \n",
    "        //0 -> equal\n",
    "        //<0 -> x < y lexonically first characters\n",
    "        //>0 -> x > y\n",
    "    std::cout << std::string(\"abce\").compare(std::string(\"abcd\")) << std::endl; //1\n",
    "    std::cout << std::string(\"012345\").substr(3, 3) << std::endl; //pos, len\n",
    "    std::cout << std::stoi(\"-234\") << std::endl;\n",
    "    std::cout << std::to_string(-234) << std::endl;\n",
    "    \n",
    "//     c strings are null terminated\n",
    "//     s.size also exlcudes null character\n",
    "    const char* p = s.c_str();\n",
    "    std::cout << p;\n",
    "}"
   ]
  },
  {
   "cell_type": "markdown",
   "metadata": {},
   "source": [
    "# Reverse each word in a sentence"
   ]
  },
  {
   "cell_type": "markdown",
   "metadata": {},
   "source": [
    "In place"
   ]
  },
  {
   "cell_type": "code",
   "execution_count": 1,
   "metadata": {},
   "outputs": [],
   "source": [
    "void reverse_sentence(std::string& s)\n",
    "{    \n",
    "    int i = 0;\n",
    "    int p = 0;\n",
    "    while(i < s.size())\n",
    "    {\n",
    "//         skip whitespace and get to first word character\n",
    "        while(s[i] == ' ')\n",
    "        {\n",
    "            i++;\n",
    "            p++;\n",
    "        }\n",
    "//         skip word and get to last word character\n",
    "        while(i < s.size() && s[i] != ' ')\n",
    "            i++;\n",
    "        \n",
    "//         reverse word\n",
    "        for(int j = p; j < (p + i)/2; j++)\n",
    "            std::swap(s[j], s[i - 1 - (j - p)]);\n",
    "        \n",
    "        p = i;\n",
    "    }\n",
    "}"
   ]
  },
  {
   "cell_type": "code",
   "execution_count": 2,
   "metadata": {},
   "outputs": [
    {
     "name": "stdout",
     "output_type": "stream",
     "text": [
      "   dcba   gfe   ih   j   \n"
     ]
    }
   ],
   "source": [
    "#include <iostream>\n",
    "\n",
    "{\n",
    "    std::string a = \"   abcd   efg   hi   j   \";\n",
    "    reverse_sentence(a);\n",
    "    std::cout << a << std::endl;\n",
    "}"
   ]
  },
  {
   "cell_type": "markdown",
   "metadata": {},
   "source": [
    "Creating a new string"
   ]
  },
  {
   "cell_type": "code",
   "execution_count": 3,
   "metadata": {},
   "outputs": [],
   "source": [
    "std::string reverse_sentence(const std::string s)\n",
    "{\n",
    "    std::string a = \"\";\n",
    "    \n",
    "    unsigned int pos = 0;\n",
    "    for(unsigned int i = 0; i < s.size(); i++)\n",
    "    {\n",
    "        if(s[i] == ' ')\n",
    "        {\n",
    "            pos = i;\n",
    "            a.insert(pos++, 1, ' ');\n",
    "        } else {\n",
    "//             notice how pos doesn't increase\n",
    "            a.insert(pos, 1, s[i]);\n",
    "        }\n",
    "    }\n",
    "    return a;\n",
    "}"
   ]
  },
  {
   "cell_type": "code",
   "execution_count": 8,
   "metadata": {},
   "outputs": [
    {
     "data": {
      "text/plain": [
       "\"   dcba ihgfe nmlkj\""
      ]
     },
     "execution_count": 8,
     "metadata": {},
     "output_type": "execute_result"
    }
   ],
   "source": [
    "reverse_sentence(\"   abcd efghi jklmn\")"
   ]
  },
  {
   "cell_type": "code",
   "execution_count": 4,
   "metadata": {},
   "outputs": [
    {
     "name": "stdout",
     "output_type": "stream",
     "text": [
      "nmlkj ihgfe dcba"
     ]
    }
   ],
   "source": [
    "{\n",
    "    std::string a = \"abcd efghi jklmn\";\n",
    "    reverse(a.begin(), a.end());\n",
    "    std::cout << a;\n",
    "}"
   ]
  },
  {
   "cell_type": "markdown",
   "metadata": {},
   "source": [
    "# 6.1 Interconvert Strings and Integers"
   ]
  },
  {
   "cell_type": "markdown",
   "metadata": {},
   "source": [
    "# string_to_int method"
   ]
  },
  {
   "cell_type": "code",
   "execution_count": 14,
   "metadata": {},
   "outputs": [],
   "source": [
    "#include <string> \n",
    "\n",
    "int string_to_int(const std::string& s)\n",
    "{\n",
    "    int is_neg_idx = s[0] == '-' ? 1 : 0;\n",
    "    int num = 0;\n",
    "    \n",
    "    for(int i = is_neg_idx; i < s.size(); i++)\n",
    "        num = num * 10 + (s[i] - '0');\n",
    "    \n",
    "    return is_neg_idx? -1 * num : num;\n",
    "}"
   ]
  },
  {
   "cell_type": "code",
   "execution_count": 19,
   "metadata": {},
   "outputs": [
    {
     "data": {
      "text/plain": [
       "0"
      ]
     },
     "execution_count": 19,
     "metadata": {},
     "output_type": "execute_result"
    }
   ],
   "source": [
    "string_to_int(\"0\")"
   ]
  },
  {
   "cell_type": "code",
   "execution_count": 18,
   "metadata": {},
   "outputs": [
    {
     "data": {
      "text/plain": [
       "0"
      ]
     },
     "execution_count": 18,
     "metadata": {},
     "output_type": "execute_result"
    }
   ],
   "source": [
    "string_to_int(\"-0\")"
   ]
  },
  {
   "cell_type": "code",
   "execution_count": 16,
   "metadata": {},
   "outputs": [
    {
     "data": {
      "text/plain": [
       "-123"
      ]
     },
     "execution_count": 16,
     "metadata": {},
     "output_type": "execute_result"
    }
   ],
   "source": [
    "string_to_int(\"-000123\")"
   ]
  },
  {
   "cell_type": "code",
   "execution_count": 17,
   "metadata": {},
   "outputs": [
    {
     "data": {
      "text/plain": [
       "123"
      ]
     },
     "execution_count": 17,
     "metadata": {},
     "output_type": "execute_result"
    }
   ],
   "source": [
    "string_to_int(\"123\")"
   ]
  },
  {
   "cell_type": "markdown",
   "metadata": {},
   "source": [
    "# int_to_string method"
   ]
  },
  {
   "cell_type": "code",
   "execution_count": 1,
   "metadata": {},
   "outputs": [],
   "source": [
    "#include <string>\n",
    "\n",
    "std::string int_to_string_wrong(int num)\n",
    "{\n",
    "    int is_neg_idx = num < 0 ? 1 : 0;\n",
    "    std::string s;\n",
    "    num = std::abs(num);\n",
    "    int length = std::log(num)/std::log(10) + 1;\n",
    "    \n",
    "    for(int i = 0; i < length; i++)\n",
    "    {\n",
    "        s.insert(0, std::string(1, num % 10 + '0'));\n",
    "        num /= 10;\n",
    "    }\n",
    "    \n",
    "    if(is_neg_idx)\n",
    "        s.insert(0, std::string(1, '-'));\n",
    "    \n",
    "    return s;\n",
    "}"
   ]
  },
  {
   "cell_type": "code",
   "execution_count": 2,
   "metadata": {},
   "outputs": [
    {
     "data": {
      "text/plain": [
       "\"\""
      ]
     },
     "execution_count": 2,
     "metadata": {},
     "output_type": "execute_result"
    }
   ],
   "source": [
    "int_to_string_wrong(0)"
   ]
  },
  {
   "cell_type": "markdown",
   "metadata": {},
   "source": [
    "^can't assume log is constant time  \n",
    "also can't take the log of 0"
   ]
  },
  {
   "cell_type": "code",
   "execution_count": 1,
   "metadata": {},
   "outputs": [],
   "source": [
    "#include <string>\n",
    "\n",
    "std::string int_to_string(int num)\n",
    "{\n",
    "    if(num == 0) return \"0\";\n",
    "    \n",
    "    int is_neg_idx = num < 0 ? 1 : 0;\n",
    "    std::string s;\n",
    "    num = std::abs(num);\n",
    "    \n",
    "    int i = 0;\n",
    "    while(num > 0)\n",
    "    {\n",
    "        s.insert(0, std::string(1, num % 10 + '0'));\n",
    "        num /= 10;\n",
    "        i++;\n",
    "    }\n",
    "\n",
    "    if(is_neg_idx)\n",
    "        s.insert(0, std::string(1, '-'));\n",
    "\n",
    "    return s;\n",
    "}"
   ]
  },
  {
   "cell_type": "code",
   "execution_count": 2,
   "metadata": {},
   "outputs": [
    {
     "data": {
      "text/plain": [
       "\"0\""
      ]
     },
     "execution_count": 2,
     "metadata": {},
     "output_type": "execute_result"
    }
   ],
   "source": [
    "int_to_string(0)"
   ]
  },
  {
   "cell_type": "code",
   "execution_count": 5,
   "metadata": {},
   "outputs": [],
   "source": [
    "std::string int_to_string2(int x)\n",
    "{\n",
    "    if(x == 0) return \"0\";\n",
    "    \n",
    "    bool is_neg = x < 0;\n",
    "    x = std::abs(x);\n",
    "    int size = std::log(x) / std::log(10) + 1 + (int)(is_neg);\n",
    "    char* p = new char[size + 1];\n",
    "    \n",
    "    for (int i = size - 1; i >= 0; i--)\n",
    "    {\n",
    "        p[i] = '0' + x % 10;\n",
    "        x /= 10;\n",
    "    }\n",
    "    \n",
    "    if (is_neg)\n",
    "        p[0] = '-';\n",
    "    \n",
    "    p[size] = '\\0';\n",
    "    \n",
    "    std::string a(p);\n",
    "    delete[] p;\n",
    "    \n",
    "    return a;\n",
    "}"
   ]
  },
  {
   "cell_type": "code",
   "execution_count": 8,
   "metadata": {},
   "outputs": [
    {
     "data": {
      "text/plain": [
       "\"10\""
      ]
     },
     "execution_count": 8,
     "metadata": {},
     "output_type": "execute_result"
    }
   ],
   "source": [
    "int_to_string2(10)"
   ]
  },
  {
   "cell_type": "code",
   "execution_count": 6,
   "metadata": {},
   "outputs": [
    {
     "data": {
      "text/plain": [
       "\"-10\""
      ]
     },
     "execution_count": 6,
     "metadata": {},
     "output_type": "execute_result"
    }
   ],
   "source": [
    "int_to_string2(-10)"
   ]
  },
  {
   "cell_type": "code",
   "execution_count": null,
   "metadata": {},
   "outputs": [],
   "source": [
    "#include <iostream>\n",
    "{\n",
    "    char p[2] = {'a', '\\0'};\n",
    "    std::cout << std::string(p) << std::endl;\n",
    "}"
   ]
  },
  {
   "cell_type": "markdown",
   "metadata": {},
   "source": [
    "# 6.2 Base Conversion"
   ]
  },
  {
   "cell_type": "code",
   "execution_count": 1,
   "metadata": {},
   "outputs": [],
   "source": [
    "#include <string>\n",
    "\n",
    "std::string ConvertBase(const std::string& s, int b1, int b2)\n",
    "{\n",
    "    if(s == \"0\") return \"0\";\n",
    "    \n",
    "    int num_10 = 0;\n",
    "    int is_neg_idx = s[0] == '-'? 1 : 0;\n",
    "    for(int i = is_neg_idx; i < s.size(); i++)\n",
    "    {\n",
    "        int val = s[i] >= '0' && s[i] <= '9'? s[i] - '0' : s[i] - 'A' + 10;\n",
    "        num_10 = num_10 * b1 + val;\n",
    "    }\n",
    "        \n",
    "    \n",
    "    std::string ans;\n",
    "    while(num_10 > 0)\n",
    "    {\n",
    "        int val = num_10 % b2;\n",
    "        val = val > 9? val - 10 + 'A' : val + '0';\n",
    "        ans.insert(0, std::string(1, val));        \n",
    "        num_10 /= b2;\n",
    "    }\n",
    "    \n",
    "    if(is_neg_idx)\n",
    "        ans.insert(0, std::string(1, '-'));\n",
    "    \n",
    "    return ans;\n",
    "}"
   ]
  },
  {
   "cell_type": "code",
   "execution_count": 3,
   "metadata": {},
   "outputs": [
    {
     "data": {
      "text/plain": [
       "\"C5\""
      ]
     },
     "execution_count": 3,
     "metadata": {},
     "output_type": "execute_result"
    }
   ],
   "source": [
    "ConvertBase(\"A1\", 16, 13)"
   ]
  },
  {
   "cell_type": "markdown",
   "metadata": {},
   "source": [
    "How to use std::accumulate(begin, end, inital value, binary operation = +)   \n",
    "Like a friend function for += -> https://stackoverflow.com/a/16866221  \n",
    "Dollar &operator+=(Dollar &p1, const Dollar &p2)  \n",
    "(acc, val)  \n",
    "\n",
    "adds elements together  \n",
    "like fold in ocaml"
   ]
  },
  {
   "cell_type": "code",
   "execution_count": null,
   "metadata": {},
   "outputs": [],
   "source": [
    "#include <vector>\n",
    "#include <iostream>\n",
    "\n",
    "{\n",
    "    std::vector<int> a = {1, 2, 1, 1};\n",
    "    std::cout << std::accumulate(a.begin(), a.end(), 0);\n",
    "    //isdigit\n",
    "    //isalpha\n",
    "}"
   ]
  },
  {
   "cell_type": "code",
   "execution_count": null,
   "metadata": {},
   "outputs": [],
   "source": [
    "true + 1"
   ]
  },
  {
   "cell_type": "code",
   "execution_count": null,
   "metadata": {},
   "outputs": [],
   "source": [
    "std::string constructFromBase(int num, int b2)\n",
    "{\n",
    "    return !num ? \"\" : constructFromBase(num/b2, b2) + \n",
    "                        (char)(num % b2 > 9 ? num % b2 - 10 + 'A' : num % b2 + '0');\n",
    "}"
   ]
  },
  {
   "cell_type": "code",
   "execution_count": null,
   "metadata": {},
   "outputs": [],
   "source": [
    "#include <iterator>\n",
    "#include <iostream>\n",
    "#include <numeric>\n",
    "\n",
    "std::string convertbase(const std::string& num_s, int b1, int b2)\n",
    "{\n",
    "    bool is_negative = num_s[0] == '-'? true : false;\n",
    "    \n",
    "    //convert to base 10 first\n",
    "    int num10 = std::accumulate(std::begin(num_s) + is_negative, std::end(num_s), 0, \n",
    "                                     [b1](int acc, char c){ \n",
    "                                     return acc * b1 + (c >= '0'|| c <= '9' ? c - '0' : c - 'A' + 10);});\n",
    "    std::cout << num10 << std::endl;\n",
    "    return (is_negative? \"-\" : \"\") + \n",
    "        (!num10 ? \"0\" : constructFromBase(num10, b2));\n",
    "    \n",
    "}"
   ]
  },
  {
   "cell_type": "markdown",
   "metadata": {},
   "source": [
    "# 6.3 Compute the Spreadsheet Column Encoding & Decoding"
   ]
  },
  {
   "cell_type": "code",
   "execution_count": 1,
   "metadata": {},
   "outputs": [],
   "source": [
    "#include <string>\n",
    "\n",
    "int SSDecodeColID(const std::string& s)\n",
    "{\n",
    "    int num = 0;\n",
    "    for(int i = 0; i < s.size(); i++)\n",
    "        num = num * 26 + (s[i] - 'A' + 1);\n",
    "    \n",
    "    return num;\n",
    "}"
   ]
  },
  {
   "cell_type": "code",
   "execution_count": 2,
   "metadata": {},
   "outputs": [
    {
     "data": {
      "text/plain": [
       "4"
      ]
     },
     "execution_count": 2,
     "metadata": {},
     "output_type": "execute_result"
    }
   ],
   "source": [
    "SSDecodeColID(\"D\")"
   ]
  },
  {
   "cell_type": "code",
   "execution_count": 3,
   "metadata": {},
   "outputs": [
    {
     "data": {
      "text/plain": [
       "27"
      ]
     },
     "execution_count": 3,
     "metadata": {},
     "output_type": "execute_result"
    }
   ],
   "source": [
    "SSDecodeColID(\"AA\")"
   ]
  },
  {
   "cell_type": "code",
   "execution_count": 4,
   "metadata": {},
   "outputs": [
    {
     "data": {
      "text/plain": [
       "702"
      ]
     },
     "execution_count": 4,
     "metadata": {},
     "output_type": "execute_result"
    }
   ],
   "source": [
    "SSDecodeColID(\"ZZ\")"
   ]
  },
  {
   "cell_type": "code",
   "execution_count": 5,
   "metadata": {},
   "outputs": [],
   "source": [
    "#include <string>\n",
    "\n",
    "std::string SSEncodeColID(int num)\n",
    "{\n",
    "    std::string ans;\n",
    "    while(num > 0)\n",
    "    {\n",
    "        num -= 1;\n",
    "        ans.insert(0, std::string(1, num % 26 + 'A'));\n",
    "        num /= 26;\n",
    "    }\n",
    "        \n",
    "    \n",
    "    return ans;\n",
    "}"
   ]
  },
  {
   "cell_type": "code",
   "execution_count": 6,
   "metadata": {},
   "outputs": [
    {
     "data": {
      "text/plain": [
       "\"D\""
      ]
     },
     "execution_count": 6,
     "metadata": {},
     "output_type": "execute_result"
    }
   ],
   "source": [
    "SSEncodeColID(SSDecodeColID(\"D\"))"
   ]
  },
  {
   "cell_type": "code",
   "execution_count": 7,
   "metadata": {},
   "outputs": [
    {
     "data": {
      "text/plain": [
       "\"AA\""
      ]
     },
     "execution_count": 7,
     "metadata": {},
     "output_type": "execute_result"
    }
   ],
   "source": [
    "SSEncodeColID(SSDecodeColID(\"AA\"))"
   ]
  },
  {
   "cell_type": "code",
   "execution_count": 9,
   "metadata": {},
   "outputs": [
    {
     "data": {
      "text/plain": [
       "\"ZZ\""
      ]
     },
     "execution_count": 9,
     "metadata": {},
     "output_type": "execute_result"
    }
   ],
   "source": [
    "SSEncodeColID(SSDecodeColID(\"ZZ\"))"
   ]
  },
  {
   "cell_type": "markdown",
   "metadata": {},
   "source": [
    "# 6.4 Replace and Remove"
   ]
  },
  {
   "cell_type": "markdown",
   "metadata": {},
   "source": [
    "Is"
   ]
  },
  {
   "cell_type": "code",
   "execution_count": 1,
   "metadata": {},
   "outputs": [],
   "source": [
    "int ReplaceAndRemove(int size, char s[])\n",
    "{\n",
    "//     Remove b's\n",
    "//     Determine total size\n",
    "    int p = 0;\n",
    "    int num_a = 0;\n",
    "    for(int i = 0; i < size; i++)\n",
    "    {\n",
    "        if(s[i] != 'b')\n",
    "            s[p++] = s[i];\n",
    "        if(s[i] == 'a')\n",
    "            num_a++;\n",
    "    }\n",
    "    \n",
    "    int final_size = p + num_a;\n",
    "    int end_p = final_size - 1;\n",
    "    for(int i = p - 1; i >= 0; i--)\n",
    "    {\n",
    "        if(s[i] == 'a')\n",
    "        {\n",
    "            s[end_p--] = 'd';\n",
    "            s[end_p--] = 'd';\n",
    "        }\n",
    "        else\n",
    "        {\n",
    "            s[end_p--] = s[i];\n",
    "        }\n",
    "    }\n",
    "    \n",
    "   return final_size;\n",
    "}"
   ]
  },
  {
   "cell_type": "code",
   "execution_count": 2,
   "metadata": {},
   "outputs": [
    {
     "name": "stdout",
     "output_type": "stream",
     "text": [
      "d c d d d d d "
     ]
    }
   ],
   "source": [
    "#include <iostream>\n",
    "\n",
    "{\n",
    "    char a[100] = {'b', 'd', 'c', 'a', 'b', 'a','d'};\n",
    "//     char a[100] = {'b', 'd', 'c'};\n",
    "    int size = ReplaceAndRemove(7, a);\n",
    "    \n",
    "    for(int i = 0; i < size; i++)\n",
    "        std::cout << a[i] << \" \";\n",
    "}"
   ]
  },
  {
   "cell_type": "markdown",
   "metadata": {},
   "source": [
    "# 6.5 Test Palindromicity"
   ]
  },
  {
   "cell_type": "markdown",
   "metadata": {},
   "source": [
    "Is the same string forwards and backwards without whitespace or punctation"
   ]
  },
  {
   "cell_type": "code",
   "execution_count": 1,
   "metadata": {},
   "outputs": [],
   "source": [
    "bool isAN(char a)\n",
    "{\n",
    "    return (a >= '0' && a <= '9') || \n",
    "           (a >= 'a' && a <= 'z') ||\n",
    "           (a >= 'A' && a <= 'Z');\n",
    "}"
   ]
  },
  {
   "cell_type": "code",
   "execution_count": 2,
   "metadata": {},
   "outputs": [],
   "source": [
    "char tolower(char a)\n",
    "{\n",
    "    return (a >= 'A' && a <= 'Z')? a - 'A' + 'a' : a;\n",
    "}"
   ]
  },
  {
   "cell_type": "markdown",
   "metadata": {},
   "source": [
    "Passed in string is const"
   ]
  },
  {
   "cell_type": "code",
   "execution_count": 3,
   "metadata": {},
   "outputs": [],
   "source": [
    "//         [](){};\n",
    "\n",
    "#include <iostream>\n",
    "#include <string>\n",
    "\n",
    "bool IsPalindrome(const std::string& s)\n",
    "{\n",
    "    if (s.size() == 0) return true;\n",
    "\n",
    "    int left = 0;\n",
    "    int right = s.size() - 1;\n",
    "\n",
    "    while (left < right)\n",
    "    {\n",
    "        //         move left\n",
    "        while (!isAN(s[left]) && left < right)\n",
    "            ++left;\n",
    "\n",
    "        //         move right\n",
    "        while (!isAN(s[right]) && left < right)\n",
    "            --right;\n",
    "\n",
    "        if (tolower(s[left++]) != tolower(s[right--]))\n",
    "            return false;\n",
    "\n",
    "    };\n",
    "\n",
    "    return true;\n",
    "}"
   ]
  },
  {
   "cell_type": "code",
   "execution_count": 4,
   "metadata": {},
   "outputs": [
    {
     "data": {
      "text/plain": [
       "true"
      ]
     },
     "execution_count": 4,
     "metadata": {},
     "output_type": "execute_result"
    }
   ],
   "source": [
    "IsPalindrome(\"Racecar\")"
   ]
  },
  {
   "cell_type": "code",
   "execution_count": 5,
   "metadata": {},
   "outputs": [
    {
     "data": {
      "text/plain": [
       "true"
      ]
     },
     "execution_count": 5,
     "metadata": {},
     "output_type": "execute_result"
    }
   ],
   "source": [
    "IsPalindrome(\"A man, a plan, a canal, Panama\")"
   ]
  },
  {
   "cell_type": "markdown",
   "metadata": {},
   "source": [
    "Passed in string is not const"
   ]
  },
  {
   "cell_type": "code",
   "execution_count": 6,
   "metadata": {},
   "outputs": [],
   "source": [
    "bool IsPalindrome_1(std::string& s)\n",
    "{\n",
    "    int p = 0;\n",
    "    for(int i = 0; i < s.size(); i++)\n",
    "    {\n",
    "        if(isAN(s[i]))\n",
    "           s[p++] = s[i];\n",
    "    }\n",
    "    \n",
    "    p -= 1;\n",
    "    for(int i = 0; i < p; i++)\n",
    "    {\n",
    "        if(tolower(s[i]) != tolower(s[p - i]))\n",
    "            return false;\n",
    "    }\n",
    "    \n",
    "    return true;\n",
    "}"
   ]
  },
  {
   "cell_type": "code",
   "execution_count": 7,
   "metadata": {},
   "outputs": [
    {
     "name": "stdout",
     "output_type": "stream",
     "text": [
      "1\n"
     ]
    }
   ],
   "source": [
    "\n",
    "{\n",
    "    std::string a(\"A man, a plan, a canal, Panama\");\n",
    "    std::cout << IsPalindrome_1(a) << std::endl;\n",
    "}"
   ]
  },
  {
   "cell_type": "markdown",
   "metadata": {},
   "source": [
    "Using lambdas"
   ]
  },
  {
   "cell_type": "code",
   "execution_count": 1,
   "metadata": {},
   "outputs": [],
   "source": [
    "#include <iostream>\n",
    "#include <string>\n",
    "\n",
    "bool IsPalindrome_lambda(const std::string& s)\n",
    "{\n",
    "    if (s.size() == 0) return true;\n",
    "    \n",
    "    bool (*isAN)(char) = [](char c) -> bool {\n",
    "    return (c >= '0' && c <= '9') || \n",
    "           (c >= 'a' && c <= 'z') ||\n",
    "           (c >= 'A' && c <= 'Z');    \n",
    "    };\n",
    "    auto tolower = [](char c){\n",
    "        return (c >= 'A' && c <= 'Z')? c - 'A' + 'a' : c;\n",
    "    };\n",
    "    \n",
    "    \n",
    "    int left = 0;\n",
    "    int right = s.size() - 1;\n",
    "\n",
    "    while (left < right)\n",
    "    {\n",
    "        //         move left\n",
    "        while (!isAN(s[left]) && left < right)\n",
    "            left++;\n",
    "\n",
    "        //         move right\n",
    "        while (!isAN(s[right]) && left < right)\n",
    "            right--;\n",
    "\n",
    "        if (tolower(s[left++]) != tolower(s[right--]))\n",
    "            return false;\n",
    "\n",
    "    };\n",
    "\n",
    "    return true;\n",
    "}"
   ]
  },
  {
   "cell_type": "code",
   "execution_count": 2,
   "metadata": {},
   "outputs": [
    {
     "data": {
      "text/plain": [
       "true"
      ]
     },
     "execution_count": 2,
     "metadata": {},
     "output_type": "execute_result"
    }
   ],
   "source": [
    "IsPalindrome_lambda(\"A man, a plan, a canal, Panama\")"
   ]
  },
  {
   "cell_type": "markdown",
   "metadata": {},
   "source": [
    "# 6.6 Reverse the order of the words in a sentence"
   ]
  },
  {
   "cell_type": "code",
   "execution_count": 1,
   "metadata": {},
   "outputs": [],
   "source": [
    "#include <string>\n",
    "#include <iostream>\n",
    "\n",
    "void ReverseWords(std::string& s)\n",
    "{\n",
    "//     reverse sentence\n",
    "    for(int i = 0; i < s.size()/2; i++)\n",
    "        std::swap(s[i], s[s.size() - 1 - i]);\n",
    "    \n",
    "    int i = 0;\n",
    "    while(i < s.size())\n",
    "    {\n",
    "//         find first non whitespace character\n",
    "        while(s[i] == ' ')\n",
    "            i++;\n",
    "        \n",
    "//         find end of word, i is past the word\n",
    "        int beg = i;\n",
    "        while(i != s.size() && s[i] != ' ')\n",
    "            i++;\n",
    "\n",
    "//         reverse word\n",
    "        for(int j = beg; j < (beg + i)/2; j++)\n",
    "            std::swap(s[j], s[i - 1 - (j - beg)]);\n",
    "//         take note of (j - beg), why not just j\n",
    "//         bec number of letters from i - 1, not j itself, doesn't work after 1st word\n",
    "    }\n",
    "}"
   ]
  },
  {
   "cell_type": "code",
   "execution_count": 2,
   "metadata": {},
   "outputs": [
    {
     "name": "stdout",
     "output_type": "stream",
     "text": [
      "canal Panama the planned man A\n"
     ]
    }
   ],
   "source": [
    "#include <iostream>\n",
    "{\n",
    "    std::string a(\"A man planned the Panama canal\");\n",
    "    ReverseWords(a);\n",
    "    std::cout << a << std::endl;\n",
    "}"
   ]
  },
  {
   "cell_type": "code",
   "execution_count": 5,
   "metadata": {},
   "outputs": [
    {
     "name": "stdout",
     "output_type": "stream",
     "text": [
      " j fghi cde ab\n"
     ]
    }
   ],
   "source": [
    "{\n",
    "    std::string a = \"ab cde fghi j \";\n",
    "    ReverseWords(a);\n",
    "    std::cout << a << std::endl;\n",
    "}"
   ]
  },
  {
   "cell_type": "code",
   "execution_count": null,
   "metadata": {},
   "outputs": [],
   "source": [
    "void ReverseWords_2(std::string& s)\n",
    "{\n",
    "//     Reverse whole string\n",
    "    std::reverse(begin(s), end(s));\n",
    "    \n",
    "    int start = 0, finish;\n",
    "    \n",
    "    while((finish = s ->std::find(\" \", start) != std::string::npos)\n",
    "    {\n",
    "//     Reverse each word in the string\n",
    "        std::reverse(begin(s) + start, begin(s) + finish);\n",
    "        start = finish + 1;\n",
    "    }\n",
    "//     Reverse last word\n",
    "    std::reverse(begin(s) + start, end(s));\n",
    "}"
   ]
  },
  {
   "cell_type": "markdown",
   "metadata": {},
   "source": [
    "# 6.7 Compute all mnemonics for phone numbers"
   ]
  },
  {
   "cell_type": "code",
   "execution_count": 1,
   "metadata": {},
   "outputs": [],
   "source": [
    "#include <vector>\n",
    "#include <string>\n",
    "#include <iostream>\n",
    "\n",
    "std::vector<std::string> merge(std::vector<std::string> a, std::vector<std::string> b)\n",
    "{\n",
    "    std::vector<std::string> ans;\n",
    "\n",
    "    for (int i = 0; i < a.size(); i++)\n",
    "    {\n",
    "        for (int j = 0; j < b.size(); j++)\n",
    "        {\n",
    "            ans.push_back(a[i] + b[j]);\n",
    "        }\n",
    "    }\n",
    "\n",
    "    return ans;\n",
    "}\n"
   ]
  },
  {
   "cell_type": "code",
   "execution_count": 2,
   "metadata": {
    "scrolled": true
   },
   "outputs": [],
   "source": [
    "std::vector<std::string> PhoneMnemonic(const std::string& phone_number) {\n",
    "    std::vector<std::string> map[10] =\n",
    "    {\n",
    "        {\"0\"}, {\"1\"}, {\"A\", \"B\", \"C\"}, {\"D\", \"E\", \"F\"}, {\"G\", \"H\", \"I\"}, {\"J\", \"K\", \"L\"}, {\"M\", \"N\", \"O\"},\n",
    "        {\"P\", \"Q\", \"R\", \"S\"}, {\"T\", \"U\", \"V\"}, {\"W\", \"X\", \"Y\", \"Z\"}\n",
    "    };\n",
    "\n",
    "    std::vector<std::string> lol = map[phone_number[0] - '0'];\n",
    "\n",
    "    for (int i = 1; i < phone_number.size(); i++)\n",
    "    {\n",
    "        lol = merge(lol, map[phone_number[i] - '0']);\n",
    "    }\n",
    "\n",
    "    return lol;\n",
    "}"
   ]
  },
  {
   "cell_type": "code",
   "execution_count": 4,
   "metadata": {},
   "outputs": [
    {
     "name": "stdout",
     "output_type": "stream",
     "text": [
      "AA\n",
      "AB\n",
      "AC\n",
      "BA\n",
      "BB\n",
      "BC\n",
      "CA\n",
      "CB\n",
      "CC\n"
     ]
    }
   ],
   "source": [
    "{\n",
    "    std::vector<std::string> a = PhoneMnemonic(\"22\");\n",
    "    for(auto i : a)\n",
    "        std::cout << i << std::endl;\n",
    "}"
   ]
  },
  {
   "cell_type": "code",
   "execution_count": null,
   "metadata": {},
   "outputs": [],
   "source": [
    "#include <string>\n",
    "#include <iostream>\n",
    "\n",
    "std::string look_and_say(int n)\n",
    "{    \n",
    "    std::string s(\"1\");\n",
    "    \n",
    "    std::string ans;\n",
    "    for(int i = 1; i < n; i++)\n",
    "    {\n",
    "        ans = \"\";\n",
    "        int count = 1;\n",
    "        for(int j = 0; j < s.size() - 1; j++)\n",
    "        {\n",
    "            if(s[j] == s[j+1])\n",
    "            {\n",
    "                count++;\n",
    "            }\n",
    "            else\n",
    "            {\n",
    "                ans += std::to_string(count) + s[j];\n",
    "                count = 1;\n",
    "            }\n",
    "        }\n",
    "        ans += std::to_string(count) + s[s.size()-1];\n",
    "        \n",
    "        s = ans;\n",
    "    }\n",
    "    \n",
    "    return s;\n",
    "}"
   ]
  },
  {
   "cell_type": "code",
   "execution_count": null,
   "metadata": {},
   "outputs": [],
   "source": [
    "look_and_say(5)"
   ]
  },
  {
   "cell_type": "code",
   "execution_count": null,
   "metadata": {},
   "outputs": [],
   "source": []
  }
 ],
 "metadata": {
  "kernelspec": {
   "display_name": "C++11",
   "language": "C++11",
   "name": "xeus-cling-cpp11"
  },
  "language_info": {
   "codemirror_mode": "text/x-c++src",
   "file_extension": ".cpp",
   "mimetype": "text/x-c++src",
   "name": "c++",
   "version": "-std=c++11"
  }
 },
 "nbformat": 4,
 "nbformat_minor": 2
}
