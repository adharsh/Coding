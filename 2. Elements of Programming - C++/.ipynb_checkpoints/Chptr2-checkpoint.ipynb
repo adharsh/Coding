{
 "cells": [
  {
   "cell_type": "markdown",
   "metadata": {},
   "source": [
    "## Even Odd Partition Array"
   ]
  },
  {
   "cell_type": "code",
   "execution_count": 1,
   "metadata": {},
   "outputs": [],
   "source": [
    "#include <iostream>\n",
    "#include <algorithm>\n",
    "\n",
    "void even_odd(std::vector<int>& A)\n",
    "{\n",
    "    unsigned int i = 0, l = 0, r = A.size()-1;\n",
    "    \n",
    "    while(i <= r)\n",
    "    {\n",
    "        if(A[i] % 2 == 0)\n",
    "        {\n",
    "            l++; \n",
    "            i++;\n",
    "        } else {\n",
    "            std::swap(A[i], A[r--]);\n",
    "        }\n",
    "    }\n",
    "}"
   ]
  },
  {
   "cell_type": "code",
   "execution_count": 2,
   "metadata": {},
   "outputs": [
    {
     "data": {
      "text/plain": [
       "{ 8, 2, 6, 4, 5, 7, 3, 1 }"
      ]
     },
     "execution_count": 2,
     "metadata": {},
     "output_type": "execute_result"
    }
   ],
   "source": [
    "std::vector<int> A = {1,2,3,4,5,6,7,8};\n",
    "even_odd(A);\n",
    "A    "
   ]
  },
  {
   "cell_type": "code",
   "execution_count": 3,
   "metadata": {},
   "outputs": [
    {
     "name": "stdout",
     "output_type": "stream",
     "text": [
      "8 2 6 4 5 7 3 1 "
     ]
    }
   ],
   "source": [
    "//Other ways to iterate through an array:\n",
    "\n",
    "for(std::vector<int>::iterator ptr = A.begin(); ptr != A.end(); ptr++)\n",
    "    std::cout << *ptr << \" \";"
   ]
  },
  {
   "cell_type": "markdown",
   "metadata": {},
   "source": [
    "# C++ Tips"
   ]
  },
  {
   "cell_type": "code",
   "execution_count": 4,
   "metadata": {},
   "outputs": [
    {
     "name": "stdout",
     "output_type": "stream",
     "text": [
      "3 4 \n",
      "{1,2} {3,4} {5,6} \n",
      "1 2 3 4 \n"
     ]
    }
   ],
   "source": [
    "std::vector<int> vec1 = {1, 2, 3, 4}; //Initialization\n",
    "std::vector<std::vector<int>> vec2 = {{1, 2}, {3, 4}}; //Initialization\n",
    "\n",
    "//Also std::array:\n",
    "std::array<int, 3> a = {1, 2, 3};\n",
    "\n",
    "int i = 2, j = 4;\n",
    "std::vector<int> sub_vec(vec1.begin() + i, vec1.begin() + j);\n",
    "for(auto ptr = sub_vec.begin(); ptr != sub_vec.end(); ptr++)\n",
    "    std::cout << *ptr << \" \";\n",
    "std::cout << \"\\n\";\n",
    "\n",
    "// emplace_back is faster\n",
    "vec2.push_back({5,6});\n",
    "for(auto ptr = vec2.begin(); ptr != vec2.end(); ptr++)\n",
    "    std::cout << \"{\" << (*ptr)[0] << \",\" << (*ptr)[1] << \"} \";\n",
    "std::cout << \"\\n\";\n",
    "\n",
    "//Deep copy \n",
    "std::vector<int> vec3(vec1);\n",
    "for(auto ptr = vec3.begin(); ptr != vec3.end(); ptr++)\n",
    "    std::cout << *ptr << \" \";\n",
    "std::cout << \"\\n\";"
   ]
  },
  {
   "cell_type": "code",
   "execution_count": 5,
   "metadata": {},
   "outputs": [
    {
     "data": {
      "text/plain": [
       "{ 0, 1, 2, 3, 4, 5, 6, 7, 8 }"
      ]
     },
     "execution_count": 5,
     "metadata": {},
     "output_type": "execute_result"
    }
   ],
   "source": [
    "A.emplace_back(0);\n",
    "std::sort(A.begin(), A.end());\n",
    "A"
   ]
  },
  {
   "cell_type": "markdown",
   "metadata": {},
   "source": [
    "## Get familiar with these methods"
   ]
  },
  {
   "cell_type": "code",
   "execution_count": 6,
   "metadata": {},
   "outputs": [
    {
     "name": "stdout",
     "output_type": "stream",
     "text": [
      "1\n",
      "lb: 2\n",
      "ub: 6\n"
     ]
    }
   ],
   "source": [
    "{\n",
    "    std::vector<int> A = ::A;\n",
    "    bool val = binary_search(A.begin(), A.end(), 2) ;\n",
    "    std::cout << val << std::endl;\n",
    "    //returns true\n",
    "\n",
    "    //returns index of first number that's >= 2\n",
    "    std::vector<int>::iterator lb = lower_bound(A.begin(), A.end(), 2);\n",
    "    std::cout << \"lb: \" << lb - A.begin()<< std::endl;\n",
    "    \n",
    "    std::vector<int>::iterator ub = upper_bound(A.begin(), A.end(), 5);\n",
    "    std::cout << \"ub: \" << ub - A.begin()<< std::endl;\n",
    "}"
   ]
  },
  {
   "cell_type": "code",
   "execution_count": 7,
   "metadata": {},
   "outputs": [
    {
     "name": "stdout",
     "output_type": "stream",
     "text": [
      "0 1 2 3 4 5 6 7 8 \n",
      "42 42 42 42 42 42 42 42 42 \n",
      "0 1 2 3 4 5 6 7 8 "
     ]
    }
   ],
   "source": [
    "{\n",
    "    std::vector<int> A = ::A;\n",
    "    for(std::vector<int>::iterator i = A.begin(); i != A.end(); i++)\n",
    "        std::cout << *i << \" \";\n",
    "    std::cout << \"\\n\";\n",
    "    std::fill(A.begin(), A.end(), 42);\n",
    "    for(std::vector<int>::iterator i = A.begin(); i != A.end(); i++)\n",
    "        std::cout << *i << \" \";\n",
    "    std::cout << \"\\n\";\n",
    "    for(std::vector<int>::iterator i = ::A.begin(); i != ::A.end(); i++)\n",
    "        std::cout << *i << \" \";\n",
    "}"
   ]
  },
  {
   "cell_type": "code",
   "execution_count": 8,
   "metadata": {},
   "outputs": [
    {
     "name": "stdout",
     "output_type": "stream",
     "text": [
      "0\n",
      "8\n",
      "8 7 6 5 4 3 2 1 0 \n",
      "5 6 7 8 0 1 2 3 4 \n"
     ]
    }
   ],
   "source": [
    "{\n",
    "    std::vector<int> A = ::A;\n",
    "    std::cout << std::min_element(A.begin(), A.end()) - A.begin()<< std::endl;\n",
    "    std::cout << std::max_element(A.begin(), A.end()) - A.begin()<< std::endl;\n",
    "    //A.end() = last element index + 1\n",
    "    \n",
    "    std::reverse(A.begin(), A.end());\n",
    "    for(std::vector<int>::iterator i = A.begin(); i != A.end(); i++)\n",
    "        std::cout << *i << \" \";\n",
    "    std::cout << std::endl;\n",
    "    \n",
    "    A = ::A;\n",
    "    //starts with 5, goes up until it can, then continues from the rest of the numbers\n",
    "    std::rotate(A.begin(), A.begin() + 5, A.end());\n",
    "    for(std::vector<int>::iterator i = A.begin(); i != A.end(); i++)\n",
    "        std::cout << *i << \" \";\n",
    "    std::cout << std::endl; \n",
    "}"
   ]
  },
  {
   "cell_type": "code",
   "execution_count": 9,
   "metadata": {},
   "outputs": [
    {
     "name": "stdout",
     "output_type": "stream",
     "text": [
      "0 1 2 3 4 5 6 7 8 \n",
      "8 7 6 5 4 3 2 1 0 "
     ]
    }
   ],
   "source": [
    "{\n",
    "    std::vector<int> A = ::A;\n",
    "    std::sort(A.begin(), A.end());\n",
    "    for(std::vector<int>::iterator i = A.begin(); i != A.end(); i++)\n",
    "        std::cout << *i << \" \";\n",
    "    \n",
    "    std::cout << \"\\n\";\n",
    "    //can pass in a lambda as the third parameter\n",
    "    std::sort(A.begin(), A.end(), [](int a, int b){ return  a > b; });\n",
    "    for(std::vector<int>::iterator i = A.begin(); i != A.end(); i++)\n",
    "        std::cout << *i << \" \";\n",
    "}"
   ]
  },
  {
   "cell_type": "markdown",
   "metadata": {},
   "source": [
    "Dutch National Flag Problem"
   ]
  },
  {
   "cell_type": "code",
   "execution_count": 10,
   "metadata": {},
   "outputs": [],
   "source": [
    "typedef enum \n",
    "{\n",
    "    kred,\n",
    "    kWhite, \n",
    "    kBlue\n",
    "} Color;"
   ]
  },
  {
   "cell_type": "code",
   "execution_count": 11,
   "metadata": {},
   "outputs": [],
   "source": [
    "void DutchFlagParition(int p, std::vector<int>* A)\n",
    "{\n",
    "    std::vector<int>& a = *A;\n",
    "    int pivot = a[p];\n",
    "    int l = 0, r = a.size() - 1;\n",
    "\n",
    "    int i = 0;\n",
    "    while (i < r)\n",
    "    {\n",
    "        if (a[i] < pivot)\n",
    "            std::swap(a[i++], a[l++]);\n",
    "        else if (pivot < a[i])\n",
    "            std::swap(a[i], a[r--]);\n",
    "        else\n",
    "            i++;\n",
    "    }\n",
    "}\n"
   ]
  },
  {
   "cell_type": "code",
   "execution_count": 12,
   "metadata": {},
   "outputs": [
    {
     "name": "stdout",
     "output_type": "stream",
     "text": [
      "pivot: 5\n",
      "3 4 1 5 0 6 2 "
     ]
    }
   ],
   "source": [
    "{\n",
    "    srand(time(0));\n",
    "    std::vector<int> A{ 0, 1, 2, 3, 4, 5, 6 };\n",
    "    //fisher yates shuffle\n",
    "    for (int i = A.size() - 1; i >= 0; i--)\n",
    "        std::swap(A[i], A[((double)rand()) / (((double)RAND_MAX) + 1) * i]);\n",
    "\n",
    "    DutchFlagParition(3, &A);\n",
    "    std::cout << \"pivot: \" << A[3] << \"\\n\";\n",
    "    for (auto i = A.begin(); i != A.end(); i++)\n",
    "        std::cout << *i << \" \";\n",
    "}"
   ]
  },
  {
   "cell_type": "code",
   "execution_count": 13,
   "metadata": {},
   "outputs": [],
   "source": [
    "//{1, 2, 9} = 129\n",
    "#include <vector>\n",
    "\n",
    "std::vector<int> PlusOne(std::vector<int> A)\n",
    "{\n",
    "    int carry = 1;\n",
    "    \n",
    "    for(int i = A.size() - 1; i >= 0; i--)\n",
    "    {\n",
    "        int val = A[i] + carry;\n",
    "        carry = val/10;\n",
    "        A[i] = val%10;\n",
    "    }\n",
    "    \n",
    "    if(carry)\n",
    "        A.insert(A.begin() + 0, 1);\n",
    "    //^ know how insert function works\n",
    "    \n",
    "    return A;\n",
    "}"
   ]
  },
  {
   "cell_type": "code",
   "execution_count": 16,
   "metadata": {},
   "outputs": [
    {
     "data": {
      "text/plain": [
       "{ 1, 0, 0, 0 }"
      ]
     },
     "execution_count": 16,
     "metadata": {},
     "output_type": "execute_result"
    }
   ],
   "source": [
    "PlusOne({9, 9, 9})\n",
    "// PlusOne({1, 2, 3})"
   ]
  },
  {
   "cell_type": "code",
   "execution_count": 25,
   "metadata": {},
   "outputs": [],
   "source": [
    "//takes as input sorted array\n",
    "//returns # of unique elements\n",
    "int deleteDuplicates(std::vector<int>& A)\n",
    "{\n",
    "    if (!A.size()) return 0;\n",
    "    \n",
    "    int unique_end = 0;\n",
    "    for(int i = 1; i < A.size(); i++)\n",
    "    {\n",
    "        if(A[unique_end] != A[i])\n",
    "            A[++unique_end] = A[i];\n",
    "    }\n",
    "    return unique_end + 1;\n",
    "}"
   ]
  },
  {
   "cell_type": "code",
   "execution_count": 35,
   "metadata": {},
   "outputs": [
    {
     "name": "stdout",
     "output_type": "stream",
     "text": [
      "0 1 2 3 4 "
     ]
    }
   ],
   "source": [
    "{\n",
    "    std::vector<int> v{0, 0, 0, 1, 1, 1, 2, 2, 2, 3, 3, 3, 3, 3, 3, 3, 3, 3, 4};\n",
    "    int size = deleteDuplicates(v);\n",
    "    for(auto i = v.begin(); i != v.begin() + size; i++)\n",
    "        //understand why != is the same as <\n",
    "        std::cout << *i << \" \";\n",
    "}"
   ]
  },
  {
   "cell_type": "code",
   "execution_count": null,
   "metadata": {},
   "outputs": [],
   "source": []
  }
 ],
 "metadata": {
  "kernelspec": {
   "display_name": "C++11",
   "language": "C++11",
   "name": "xeus-cling-cpp11"
  },
  "language_info": {
   "codemirror_mode": "text/x-c++src",
   "file_extension": ".cpp",
   "mimetype": "text/x-c++src",
   "name": "c++",
   "version": "-std=c++11"
  }
 },
 "nbformat": 4,
 "nbformat_minor": 2
}
