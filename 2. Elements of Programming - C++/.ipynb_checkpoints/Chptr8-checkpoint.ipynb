{
 "cells": [
  {
   "cell_type": "markdown",
   "metadata": {},
   "source": [
    "Stacks and Queues"
   ]
  },
  {
   "cell_type": "markdown",
   "metadata": {},
   "source": [
    "Think of caching"
   ]
  },
  {
   "cell_type": "markdown",
   "metadata": {},
   "source": [
    "Stacks -> last in, first out  \n",
    "top (same as peek), push (or emplace), pop(removes **not** retrieves)  \n",
    "when stack is .empty() -> top and pop throw exceptions   \n",
    "\n",
    "Queues -> first in, first out  "
   ]
  },
  {
   "cell_type": "code",
   "execution_count": 1,
   "metadata": {},
   "outputs": [],
   "source": [
    "template <typename T>\n",
    "struct Node\n",
    "{\n",
    "    T data;\n",
    "    std::shared_ptr<Node<T>> next;\n",
    "};"
   ]
  },
  {
   "cell_type": "code",
   "execution_count": 2,
   "metadata": {},
   "outputs": [],
   "source": [
    "#include <stack>\n",
    "#include <iostream>\n",
    "\n",
    "//time and space is O(n)\n",
    "void PrintLinkedListinReverse(std::shared_ptr<Node<int>> head)\n",
    "{\n",
    "    std::stack<int> stack;\n",
    "    \n",
    "    while(head)\n",
    "    {\n",
    "        stack.push(head->data);\n",
    "        head = head->next;\n",
    "    }\n",
    "    \n",
    "    while(!stack.empty())\n",
    "    {\n",
    "        std::cout << stack.top() << std::endl;\n",
    "        stack.pop();\n",
    "    }\n",
    "}"
   ]
  },
  {
   "cell_type": "markdown",
   "metadata": {},
   "source": [
    "8.1 -> implement stack with max api  \n",
    "max operation, in addition to push and pop  \n",
    "max method should return the maximum value stored in the stack   \n",
    "\n",
    "use of a cache"
   ]
  },
  {
   "cell_type": "markdown",
   "metadata": {},
   "source": [
    "Btw review how below references work, must read through"
   ]
  },
  {
   "cell_type": "code",
   "execution_count": 7,
   "metadata": {},
   "outputs": [],
   "source": [
    "double a;"
   ]
  },
  {
   "cell_type": "code",
   "execution_count": 8,
   "metadata": {},
   "outputs": [],
   "source": [
    "//If no & ampersand, wouldn't work, wouldn't compile since not a modifiable lvalue\n",
    "double& setValues() \n",
    "{\n",
    "    return a;  \n",
    "}"
   ]
  },
  {
   "cell_type": "code",
   "execution_count": 11,
   "metadata": {},
   "outputs": [
    {
     "name": "stdout",
     "output_type": "stream",
     "text": [
      "1. a: 1\n",
      "2. a: 2\n",
      "3. a: 2\n",
      "4. a: 4\n",
      "5. a: 4\n",
      "6. a: 6\n",
      "7. a: 7\n"
     ]
    }
   ],
   "source": [
    "{\n",
    "    a = 1;\n",
    "    std::cout << \"1. a: \" << a << std::endl;\n",
    "\n",
    "    setValues() = 2;\n",
    "    std::cout << \"2. a: \" << a << std::endl;\n",
    "\n",
    "\n",
    "    double x = setValues();\n",
    "    x = 3;\n",
    "    std::cout << \"3. a: \" << a << std::endl;\n",
    "\n",
    "    double& y = setValues();\n",
    "    y = 4;\n",
    "    std::cout << \"4. a: \" << a << std::endl;\n",
    "\n",
    "    x = setValues();\n",
    "    x = 5;\n",
    "    std::cout << \"5. a: \" << a << std::endl;\n",
    "\n",
    "    y = setValues();\n",
    "    y = 6;\n",
    "    std::cout << \"6. a: \" << a << std::endl;\n",
    "\n",
    "    y = 7;\n",
    "    std::cout << \"7. a: \" << a << std::endl;\n",
    "}"
   ]
  },
  {
   "cell_type": "raw",
   "metadata": {},
   "source": [
    "class Stack\n",
    "{\n",
    "    private:\n",
    "        struct ElementWithCachedMax\n",
    "        {\n",
    "            int element, max;\n",
    "        };\n",
    "        std::stack<ElementWithCachedMax> stack;\n",
    "    \n",
    "    public:\n",
    "        bool empty() const\n",
    "        {\n",
    "            return stack.empty();\n",
    "        }\n",
    "    \n",
    "        int max() const\n",
    "        {\n",
    "            if(empty())\n",
    "            {\n",
    "                throw length_error(\"max(): empty stack\");\n",
    "            }\n",
    "            \n",
    "            return stack.top().max;\n",
    "        }\n",
    "    \n",
    "        //but in c++, pop doesn't return element, only removes\n",
    "        int pop()\n",
    "        {\n",
    "            if(empty())\n",
    "            {\n",
    "                throw length_error(\"pop(): empty stack\");\n",
    "            }\n",
    "            \n",
    "            int e = stack.top().element;\n",
    "            stack.pop();\n",
    "            return e;\n",
    "        }\n",
    "        \n",
    "        void push(int x)\n",
    "        {\n",
    "            stack.emplace(ElementWithCachedMax{x, std::max(x, empty()? x : max())});\n",
    "        }\n",
    "    \n",
    "};"
   ]
  },
  {
   "cell_type": "markdown",
   "metadata": {},
   "source": [
    "Can improve best-case **space** by having a separate stack and storing the counts of a max with that max  \n",
    "Ex: push in this order: 3, 3, 1, 4  \n",
    "max_stack would store {3, 2}, {4, 1}  "
   ]
  },
  {
   "cell_type": "raw",
   "metadata": {},
   "source": [
    "class Stack\n",
    "{\n",
    "    private:\n",
    "        std::stack<int> stack;\n",
    "        struct MaxWithCount\n",
    "        {\n",
    "          int max, count;  \n",
    "        };\n",
    "    \n",
    "        std::stack<MaxWithCount> max_count;\n",
    "    \n",
    "    public:\n",
    "        bool empty() const { return stack.empty()); }\n",
    "    \n",
    "        int max() const\n",
    "        {\n",
    "            if(empty())\n",
    "                throw length_error(\"Pop(): empty stack\");\n",
    "            \n",
    "            return max_count.top().max;\n",
    "        }\n",
    "        \n",
    "        int pop() \n",
    "        {\n",
    "            if(empty())\n",
    "                throw length_error(\"pop(): empty stack\");\n",
    "            \n",
    "            int e = stack.top();\n",
    "            stack.pop();\n",
    "            \n",
    "            if(e == max_count.top().max)\n",
    "            {\n",
    "                int& c = max_count.top().count;\n",
    "                c--;\n",
    "                \n",
    "                if(!max_count.top().count)\n",
    "                    max_count.pop();\n",
    "            }\n",
    "            \n",
    "            return e;\n",
    "        }\n",
    "    \n",
    "        void push(int x)\n",
    "        {\n",
    "            stack.push(x); //or stack.emplace(x);\n",
    "            \n",
    "            if(max_count.empty())\n",
    "            {\n",
    "                max_count.push(MaxWithCount{x, 1});\n",
    "            }\n",
    "            else\n",
    "            {\n",
    "                const int current_max = max_count.top().max;\n",
    "                if(x == current_max)\n",
    "                {\n",
    "                    int& c = max_count.top().count;\n",
    "                    c++;\n",
    "                }\n",
    "                else if(x > current_max)\n",
    "                {\n",
    "                    max_count.emplace(MaxWithCount{x, 1});\n",
    "                }\n",
    "            }\n",
    "        }\n",
    "};"
   ]
  },
  {
   "cell_type": "markdown",
   "metadata": {},
   "source": [
    "8.2 -> Evaluate RPN expressions  "
   ]
  },
  {
   "cell_type": "markdown",
   "metadata": {},
   "source": [
    "https://stackoverflow.com/questions/22514855/arrow-operator-in-function-heading  \n",
    "-> int //is inferered return type in a lambda"
   ]
  },
  {
   "cell_type": "raw",
   "metadata": {},
   "source": [
    "#include <string>\n",
    "#include <stack>\n",
    "\n",
    "bool isFunc(char c)\n",
    "{\n",
    "    return (c == '*' || c == '/' || c == '+' || c == '-');\n",
    "}\n",
    "\n",
    "std::function<int(int, int)> func(char c)\n",
    "{\n",
    "    std::function<int(int, int)> add = [](int a, int b) {return a + b; };\n",
    "    std::function<int(int, int)> mult = [](int a, int b) {return a * b; };\n",
    "    auto div = [](int a, int b) {return a / b; };\n",
    "    auto sub = [](int a, int b) {return a - b; };\n",
    "\n",
    "    if (c == '*') return mult;\n",
    "    if (c == '-') return sub;\n",
    "    if (c == '+') return add;\n",
    "\n",
    "    return div;\n",
    "}\n",
    "\n",
    "\n",
    "int Evaluate(const std::string& expr)\n",
    "{\n",
    "    std::stack<int> stack;\n",
    "\n",
    "    //     //or std::function<int(int, int)>\n",
    "    //     auto add = [](int a, int b){return a + b;};\n",
    "    //     auto mult = [](int a, int b){return a * b;};\n",
    "    //     auto div = [](int a, int b){return a / b;};\n",
    "    //     auto sub = [](int a, int b){return a - b;};\n",
    "\n",
    "    bool has_comma = false;\n",
    "    int prev = 0;\n",
    "    for (int i = 0; i < expr.size(); i++)\n",
    "    {\n",
    "        if (expr[i] == ',')\n",
    "        {\n",
    "            has_comma = true;\n",
    "            std::string tmp = expr.substr(prev, i - prev);\n",
    "            prev = i + 1;\n",
    "            if (!isFunc(tmp[0]))\n",
    "                stack.emplace(std::stoi(tmp));\n",
    "            else\n",
    "            {\n",
    "                int a = stack.top(); stack.pop();\n",
    "                int b = stack.top(); stack.pop();\n",
    "\n",
    "                int res = func(tmp[0])(b, a);\n",
    "                stack.emplace(res);\n",
    "            }\n",
    "        }\n",
    "    }\n",
    "\n",
    "    if (has_comma)\n",
    "    {\n",
    "        int a = stack.top(); stack.pop();\n",
    "        int b = stack.top(); stack.pop();\n",
    "\n",
    "        std::string tmp = expr.substr(prev, 1);\n",
    "        int res = func(tmp[0])(b, a);\n",
    "        stack.emplace(res);\n",
    "        return stack.top();\n",
    "    }\n",
    "\n",
    "    return std::stoi(expr);\n",
    "}\n"
   ]
  },
  {
   "cell_type": "markdown",
   "metadata": {},
   "source": [
    "https://stackoverflow.com/a/33239463  \n",
    "Basically:  \n",
    "count() -> if element is there, 0 or 1  \n",
    "at() -> to access element knowing that it's there, ref to element  \n",
    "\\[\\] -> if it doesn't exist will create it  \n",
    "find() -> don't know if its there, returns an iterator to the element if it exists or an iterator to map::end() if it does not  \n",
    "or instead of find() just use count(), then at()"
   ]
  },
  {
   "cell_type": "code",
   "execution_count": null,
   "metadata": {},
   "outputs": [],
   "source": [
    "#include <stack>\n",
    "#include <unordered_map>\n",
    "\n",
    "int Evaluate(const std::string& expr)\n",
    "{\n",
    "    std::stack<int> stack;\n",
    "    std::stringstream ss(expr);\n",
    "    std::string token;\n",
    "\n",
    "    const char delim = ',';\n",
    "\n",
    "    std::unordered_map<char, std::function<int(int, int)>> map =\n",
    "    {\n",
    "        {'*', [](int x, int y) -> int { return x * y; }},\n",
    "        {'-', [](int x, int y) -> int { return x - y; }},\n",
    "        {'+', [](int x, int y) -> int { return x + y; }},\n",
    "        {'/', [](int x, int y) -> int { return x / y; }},\n",
    "    };\n",
    "\n",
    "    while (std::getline(ss, token, delim))\n",
    "    {\n",
    "        if (map.count(token[0]))\n",
    "        {\n",
    "            const int y = stack.top(); stack.pop();\n",
    "            const int x = stack.top(); stack.pop();\n",
    "            stack.emplace(map.at(token[0])(x, y)); //always use .at() for these kind of cases\n",
    "        }\n",
    "        else {\n",
    "            stack.emplace(std::stoi(token));\n",
    "        }\n",
    "    }\n",
    "\n",
    "    return stack.top();\n",
    "}\n"
   ]
  },
  {
   "cell_type": "markdown",
   "metadata": {},
   "source": [
    "8.3 -> well formed-ness of brackest"
   ]
  },
  {
   "cell_type": "code",
   "execution_count": null,
   "metadata": {},
   "outputs": [],
   "source": [
    "#include <stack>\n",
    "#include <unordered_map>\n",
    "\n",
    "bool isWellFormed(const std::string& s)\n",
    "{\n",
    "    std::stack<char> stack;\n",
    "    std::unordered_map<char, char> map = \n",
    "    {\n",
    "        {')', '('},\n",
    "        {'}', '{'},\n",
    "        {']', '['},\n",
    "\n",
    "    };\n",
    "\n",
    "\n",
    "    for (char c : s)\n",
    "    {\n",
    "        if(map.count(c))\n",
    "        {\n",
    "            if(!stack.empty() && map.at(c) == stack.top())\n",
    "                stack.pop();\n",
    "            else\n",
    "                return false;\n",
    "        }\n",
    "        else\n",
    "        {\n",
    "            stack.emplace(c);\n",
    "        }\n",
    "    }\n",
    "\n",
    "    return !stack.size();\n",
    "}"
   ]
  },
  {
   "cell_type": "code",
   "execution_count": null,
   "metadata": {},
   "outputs": [],
   "source": [
    "#include <stack>\n",
    "#include <string>\n",
    "#include <unordered_map>\n",
    "\n",
    "bool IsWellFormed(const std::string& s)\n",
    "{\n",
    "    std::stack<char> stack;\n",
    "    const std::unordered_map<char, char> map\n",
    "    {\n",
    "        {'(', ')'},\n",
    "        {'[', ']'},\n",
    "        {'{', '}'}\n",
    "    };\n",
    "\n",
    "    for (char c : s)\n",
    "    {\n",
    "        if (!stack.empty() && map.at(stack.top()) == c)\n",
    "        {\n",
    "            stack.pop();\n",
    "        }\n",
    "        else if (map.count(c)) {\n",
    "            stack.emplace(c);\n",
    "        } else {\n",
    "            return false;\n",
    "        }\n",
    "    }\n",
    "    return stack.empty();\n",
    "}"
   ]
  },
  {
   "cell_type": "markdown",
   "metadata": {},
   "source": [
    "Queue: insertion at back, pop at front    \n",
    "dequeue -> from head  \n",
    "enque -> at tail  \n",
    "c++ -> front() (just retrieves), back() (just retrieves), push(42), emplace(42), void pop()  \n",
    "when empty, front(), back, and pop() throw exceptions  \n",
    "\n",
    "front, back, push, pop    \n",
    "emplace == push  \n",
    "\n",
    "Deque:  \n",
    "Insertion: push_front()/emplace_front(), inject -> push_back()/emplace_back()  \n",
    "Deletion: pop_front(), eject -> pop_back()  \n",
    "front(), back() -> peek  \n",
    "\n",
    "front, back, push_front, push_back, pop_front, pop_back  \n",
    "emplace == push  "
   ]
  },
  {
   "cell_type": "markdown",
   "metadata": {},
   "source": [
    "Btw: https://stackoverflow.com/a/8452900  \n",
    "https://stackoverflow.com/a/7593152  \n",
    "std::begin(lol) -> allows for more flexibility, works for arrays  \n",
    "lol.begin() -> not for arrays  \n"
   ]
  },
  {
   "cell_type": "markdown",
   "metadata": {},
   "source": [
    "This works since it increases the original pointer value, since & it's not a copy  \n",
    "This is a generic to find the end of an array  \n",
    "\n",
    "```c++\n",
    "template<typename T, size_t N> T* end(T (&a)[N]) { return a + N; }\n",
    "```"
   ]
  },
  {
   "cell_type": "code",
   "execution_count": 7,
   "metadata": {
    "collapsed": true
   },
   "outputs": [
    {
     "name": "stderr",
     "output_type": "stream",
     "text": [
      "\u001b[1minput_line_17:1:7: \u001b[0m\u001b[0;1;31merror: \u001b[0m\u001b[1mredefinition of 'Queue'\u001b[0m\n",
      "class Queue\n",
      "\u001b[0;1;32m      ^\n",
      "\u001b[0m\u001b[1minput_line_13:1:7: \u001b[0m\u001b[0;1;30mnote: \u001b[0mprevious definition is here\u001b[0m\n",
      "class Queue\n",
      "\u001b[0;1;32m      ^\n",
      "\u001b[0m"
     ]
    },
    {
     "ename": "Interpreter Error",
     "evalue": "",
     "output_type": "error",
     "traceback": [
      "Interpreter Error: "
     ]
    }
   ],
   "source": [
    "#include <list>\n",
    "\n",
    "class Queue\n",
    "{\n",
    "    private:\n",
    "        std::list<int> data;\n",
    "    public:\n",
    "        void Enqueue(int x)\n",
    "        { \n",
    "            data.emplace_back(x); \n",
    "        }     \n",
    "        \n",
    "        //deeeeequeue not the dequeue\n",
    "        int Dequeue()\n",
    "        {\n",
    "            if(data.empty())\n",
    "            {\n",
    "                throw length_error(\"empty queue\");\n",
    "            }\n",
    "            const int val = data.front();\n",
    "            data.pop_front();\n",
    "            \n",
    "            return val;\n",
    "        }\n",
    "    \n",
    "        int Max() const\n",
    "        {\n",
    "            if(data.empty())\n",
    "            {\n",
    "                throw length_error(\"cannot perform Max() on empty queue\");\n",
    "            }\n",
    "            \n",
    "            for(std::list<int>::iterator i = data.begin(); i != data.end(); i++)\n",
    "                std::cout << *i << std::endl;\n",
    "            //don't have to use this function, but can use above function instead\n",
    "            return *std::max_element(data.begin(), data.end());\n",
    "        }\n",
    "};"
   ]
  },
  {
   "cell_type": "markdown",
   "metadata": {},
   "source": [
    "8.6 -> Return a vector of vectors, each vector has all the nodes on the same level"
   ]
  },
  {
   "cell_type": "code",
   "execution_count": 8,
   "metadata": {},
   "outputs": [],
   "source": [
    "template <typename T>\n",
    "struct BinaryTreeNode\n",
    "{\n",
    "    T data;\n",
    "    std::unique_ptr<BinaryTreeNode*> left, right;\n",
    "};"
   ]
  },
  {
   "cell_type": "markdown",
   "metadata": {},
   "source": [
    "std::unique_ptr<T> a; a.get() -> returns raw pointer"
   ]
  },
  {
   "cell_type": "markdown",
   "metadata": {},
   "source": [
    "Problem requests:  \n",
    "1. The way the book says bruteforce, inorder traversal  \n",
    "2. Breadth first search, one queue with nodes and one vector with struct of BinaryTreeNode and key value "
   ]
  },
  {
   "cell_type": "markdown",
   "metadata": {},
   "source": [
    "Below code is normal breadth first search  \n",
    "Problem is that each \"level\" will only have two nodes max in each  \n",
    "Needs to consider all nodes on the same level index  "
   ]
  },
  {
   "cell_type": "code",
   "execution_count": null,
   "metadata": {},
   "outputs": [],
   "source": [
    "#include <vector>\n",
    "#include <queue>\n",
    "\n",
    "std::vector<std::vector<int>> BinaryTreeDepthOrder(const std::shared_ptr<BinaryTreeNode>& tree)\n",
    "{\n",
    "    std::vector<std::vector<int>> res;\n",
    "    \n",
    "    if(!tree.get())\n",
    "        return nodes;\n",
    "    \n",
    "    std::queue<BinaryTreeNode> q;    \n",
    "    std::shared_ptr<Node> i = tree;\n",
    "    q.push(i);\n",
    "    res.push({i});\n",
    "    \n",
    "    while(!q.empty())\n",
    "    {\n",
    "        std::shared_ptr<BinaryTreeNode> e = q.front(); q.pop();\n",
    "        \n",
    "        std::vector<int> level;\n",
    "        if(e->left)\n",
    "        {\n",
    "            level.push_back(e->left->data);\n",
    "            q.push(e->left);\n",
    "        }\n",
    "        \n",
    "        if(e->right)\n",
    "        {\n",
    "            level.push_back(e->right->data);\n",
    "            q.push(e->right);\n",
    "        }\n",
    "        \n",
    "        res.push_back(level);\n",
    "    }\n",
    "    \n",
    "    return res;\n",
    "}"
   ]
  },
  {
   "cell_type": "markdown",
   "metadata": {},
   "source": [
    "Problem Request: reproduce this - https://www.geeksforgeeks.org/tree-traversals-inorder-preorder-and-postorder/    \n",
    "preorder, postorder, inorder traversals  "
   ]
  },
  {
   "cell_type": "code",
   "execution_count": null,
   "metadata": {},
   "outputs": [],
   "source": [
    "#include <vector>\n",
    "#include <queue>\n",
    "\n",
    "std::vector<std::vector<int>> BinaryTreeDepthOrder(const std::unique_ptr<BinaryTreeNode<int>>& tree)\n",
    "{\n",
    "    std::vector<std::vector<int>> result;\n",
    "    if (!tree.get())\n",
    "        return result;\n",
    "\n",
    "    //curr nodes can be for nodes at a level, 1st level 1 node, 2nd level 2 nodes, etc...\n",
    "    std::queue<BinaryTreeNode<int>*> curr_nodes;\n",
    "    curr_nodes.emplace(tree.get());\n",
    "\n",
    "    while (!curr_nodes.empty()) //for each level\n",
    "    {\n",
    "        std::vector<int> level;\n",
    "        std::queue<BinaryTreeNode<int>*> next_nodes;\n",
    "\n",
    "        while (!curr_nodes.empty()) //for each node in each level\n",
    "        {\n",
    "            BinaryTreeNode<int>* curr = curr_nodes.front(); curr_nodes.pop();\n",
    "            level.emplace_back(curr->data);\n",
    "\n",
    "            if (curr->left)\n",
    "                next_nodes.emplace(curr->left.get()); //remember, the BinaryTreeNode struct contains a smart pointer\n",
    "                //therefore must do .get() to get raw pointer to match type of queue\n",
    "\n",
    "            if (curr->right)\n",
    "                next_nodes.emplace(curr->right.get());\n",
    "        }\n",
    "\n",
    "        result.emplace_back(level);\n",
    "        curr_nodes = next_nodes;\n",
    "    }\n",
    "\n",
    "    return result;\n",
    "}"
   ]
  },
  {
   "cell_type": "markdown",
   "metadata": {},
   "source": [
    "8.7 -> Implement a ciruclar queue"
   ]
  },
  {
   "cell_type": "markdown",
   "metadata": {},
   "source": [
    "Explicit is used to avoid ambiguity in overloaded methods: void foo(int); or void foo(char* p);  \n",
    "https://stackoverflow.com/questions/5499085/c-overload-constructor-with-int-and-char  \n",
    "https://www.geeksforgeeks.org/function-overloading-c/  \n",
    "\n",
    "Explicit is also used to avoid implicit conversions, FooObject a = 32; //when constructor is FooObject(int sdfs)\n",
    "https://stackoverflow.com/questions/121162/what-does-the-explicit-keyword-mean  \n",
    "\n",
    "Checkout the explicits in C++11 vector\n",
    "http://www.cplusplus.com/reference/vector/vector/vector/"
   ]
  },
  {
   "cell_type": "markdown",
   "metadata": {},
   "source": [
    "Side problem: given a list of numbers 1 to 100 in shuffled order, find missing number: add numbers together, subtract 100(100+1)/2 to get missing number"
   ]
  },
  {
   "cell_type": "markdown",
   "metadata": {},
   "source": [
    "Problem Request: \n",
    "Side problem: gcd -> https://www.khanacademy.org/computing/computer-science/cryptography/modarithmetic/a/the-euclidean-algorithm  \n",
    "http://rosettacode.org/wiki/Greatest_common_divisor#C.2B.2B  "
   ]
  },
  {
   "cell_type": "code",
   "execution_count": 2,
   "metadata": {},
   "outputs": [],
   "source": [
    "int gcd(int a, int b)\n",
    "{\n",
    "    return b == 0 ? a : gcd(b, a % b);\n",
    "}"
   ]
  },
  {
   "cell_type": "markdown",
   "metadata": {},
   "source": [
    "https://stackoverflow.com/a/23321270  \n",
    "\n",
    "Side problem: rotate array  \n",
    "n -> number of elements  \n",
    "k -> number of movements  \n",
    "if n/k is evenly divisble, then there are k sets/cycles   \n",
    "do this visually  \n",
    "otherwise n sets/cycles\n",
    "\n",
    "gcd(n,k) \n"
   ]
  },
  {
   "cell_type": "code",
   "execution_count": null,
   "metadata": {},
   "outputs": [],
   "source": [
    "void rotate_c(std::vector<int>& vec, int k)\n",
    "{\n",
    "    int n = vec.size();\n",
    "    int cycles = gcd(n, k);\n",
    "\n",
    "    for (int i = 0; i < cycles; i++)\n",
    "    {\n",
    "        int prev = i;\n",
    "        int tmp = vec[i];\n",
    "        int curr = (prev + k) % n;\n",
    "\n",
    "        while (curr != i)\n",
    "        {\n",
    "            vec[prev] = vec[curr];\n",
    "            prev = curr;\n",
    "            curr = (prev + k) % n;\n",
    "        }\n",
    "        vec[prev] = tmp;\n",
    "    }\n",
    "}\n",
    "\n",
    "void reverse(std::vector<int>& vec, int begin, int end)\n",
    "{\n",
    "    for (int i = begin; i <= (end + begin) / 2; i++)\n",
    "    {\n",
    "        int a = vec[i];\n",
    "        vec[i] = vec[end - (i - begin)];\n",
    "        vec[end - (i - begin)] = a;\n",
    "    }\n",
    "}\n",
    "\n",
    "void rotate_r(std::vector<int>& vec, int k)\n",
    "{\n",
    "    reverse(vec, 0, vec.size() - 1);\n",
    "    reverse(vec, 0, vec.size() - 1 - k);\n",
    "    reverse(vec, vec.size() - k, vec.size() - 1);\n",
    "}"
   ]
  },
  {
   "cell_type": "code",
   "execution_count": null,
   "metadata": {},
   "outputs": [],
   "source": [
    "class Queue\n",
    "{\n",
    "    private:\n",
    "        const int kScaleFactor = 2;\n",
    "        int head = 0, tail = 0;\n",
    "        int num_queued_elements = 0;\n",
    "        std::vector<int> vec;\n",
    "        \n",
    "    public:\n",
    "        Queue(int capacity) : vec(capacity) {}\n",
    "        void enqueue(int x)\n",
    "        {\n",
    "            if(num_queued_elements == vec.size())\n",
    "            {\n",
    "                rotate_c(vec, head);\n",
    "                vals.resize(num_queued_elements * kScaleFactor);\n",
    "                head = 0, tail = num_queued_elements;\n",
    "            }\n",
    "            vec[tail] = x;\n",
    "            tail = (tail + 1) % vec.size(), num_queued_elements++;\n",
    "        }\n",
    "        \n",
    "        int dequeue()\n",
    "        {\n",
    "            if(!num_queued_elements)\n",
    "                throw std::length_error(\"empty queue\");\n",
    "            \n",
    "            num_queued_elements--;\n",
    "            int tmp = vec[head];\n",
    "            head = (head + 1) % vec.size();\n",
    "            return tmp;\n",
    "        }\n",
    "    \n",
    "        int size() const\n",
    "        {\n",
    "            return vec.size();\n",
    "        }\n",
    "};"
   ]
  },
  {
   "cell_type": "markdown",
   "metadata": {},
   "source": [
    "8.8 Queue using stacks"
   ]
  },
  {
   "cell_type": "code",
   "execution_count": null,
   "metadata": {},
   "outputs": [],
   "source": [
    "#include <stack>\n",
    "\n",
    "class Queue\n",
    "{\n",
    "    private:\n",
    "        std::stack<int> enqueue, dequeue;\n",
    "    public:\n",
    "        void enqueue(int x)\n",
    "        {\n",
    "            enqueue.push(x);\n",
    "        }\n",
    "    \n",
    "        void dequeue(int x)\n",
    "        {\n",
    "            if(dequeu.empty())\n",
    "            {\n",
    "                while(!enqueue.empty())\n",
    "                {\n",
    "                    dequeue.push(enqueue.top())\n",
    "                    enqueue.pop();\n",
    "                }\n",
    "                \n",
    "                int tmp = dequeue.top();\n",
    "                dequeue.pop();\n",
    "                return tmp;\n",
    "            }\n",
    "        }\n",
    "}"
   ]
  }
 ],
 "metadata": {
  "kernelspec": {
   "display_name": "C++11",
   "language": "C++11",
   "name": "xeus-cling-cpp11"
  },
  "language_info": {
   "codemirror_mode": "text/x-c++src",
   "file_extension": ".cpp",
   "mimetype": "text/x-c++src",
   "name": "c++",
   "version": "-std=c++11"
  }
 },
 "nbformat": 4,
 "nbformat_minor": 2
}
