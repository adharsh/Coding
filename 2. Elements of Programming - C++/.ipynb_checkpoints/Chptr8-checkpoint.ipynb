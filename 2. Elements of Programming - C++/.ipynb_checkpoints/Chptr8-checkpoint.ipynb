{
 "cells": [
  {
   "cell_type": "markdown",
   "metadata": {},
   "source": [
    "Stacks and Queues"
   ]
  },
  {
   "cell_type": "markdown",
   "metadata": {},
   "source": [
    "Think of caching"
   ]
  },
  {
   "cell_type": "markdown",
   "metadata": {},
   "source": [
    "Stacks -> last in, first out  \n",
    "top (same as peek), push (or emplace), pop(removes **not** retrieves)  \n",
    "when stack is .empty() -> top and pop throw exceptions   \n",
    "\n",
    "Queues -> first in, first out  "
   ]
  },
  {
   "cell_type": "code",
   "execution_count": 1,
   "metadata": {},
   "outputs": [],
   "source": [
    "template <typename T>\n",
    "struct Node\n",
    "{\n",
    "    T data;\n",
    "    std::shared_ptr<Node<T>> next;\n",
    "};"
   ]
  },
  {
   "cell_type": "code",
   "execution_count": 2,
   "metadata": {},
   "outputs": [],
   "source": [
    "#include <stack>\n",
    "#include <iostream>\n",
    "\n",
    "//time and space is O(n)\n",
    "void PrintLinkedListinReverse(std::shared_ptr<Node<int>> head)\n",
    "{\n",
    "    std::stack<int> stack;\n",
    "    \n",
    "    while(head)\n",
    "    {\n",
    "        stack.push(head->data);\n",
    "        head = head->next;\n",
    "    }\n",
    "    \n",
    "    while(!stack.empty())\n",
    "    {\n",
    "        std::cout << stack.top() << std::endl;\n",
    "        stack.pop();\n",
    "    }\n",
    "}"
   ]
  },
  {
   "cell_type": "markdown",
   "metadata": {},
   "source": [
    "8.1 -> implement stack with max api  \n",
    "max operation, in addition to push and pop  \n",
    "max method should return the maximum value stored in the stack   \n",
    "\n",
    "use of a cache"
   ]
  },
  {
   "cell_type": "raw",
   "metadata": {},
   "source": [
    "class Stack\n",
    "{\n",
    "    private:\n",
    "        struct ElementWithCachedMax\n",
    "        {\n",
    "            int element, max;\n",
    "        };\n",
    "        std::stack<ElementWithCachedMax> stack;\n",
    "    \n",
    "    public:\n",
    "        bool empty() const\n",
    "        {\n",
    "            return stack.empty();\n",
    "        }\n",
    "    \n",
    "        int max() const\n",
    "        {\n",
    "            if(empty())\n",
    "            {\n",
    "                throw length_error(\"max(): empty stack\");\n",
    "            }\n",
    "            \n",
    "            return stack.top().max;\n",
    "        }\n",
    "    \n",
    "        //but in c++, pop doesn't return element, only removes\n",
    "        int pop()\n",
    "        {\n",
    "            if(empty())\n",
    "            {\n",
    "                throw length_error(\"pop(): empty stack\");\n",
    "            }\n",
    "            \n",
    "            int e = stack.top().element;\n",
    "            stack.pop();\n",
    "            return e;\n",
    "        }\n",
    "        \n",
    "        void push(int x)\n",
    "        {\n",
    "            stack.emplace({x, std::max(x, empty()? x : max())});\n",
    "        }\n",
    "    \n",
    "};"
   ]
  },
  {
   "cell_type": "markdown",
   "metadata": {},
   "source": [
    "Can improve best-case space by having a separate stack and storing the counts of a max with that max  \n",
    "Ex: push in this order: 3, 3, 1, 4  \n",
    "max_stack would store {3, 2}, {4, 1}  "
   ]
  },
  {
   "cell_type": "code",
   "execution_count": null,
   "metadata": {},
   "outputs": [],
   "source": [
    "class Stack\n",
    "{\n",
    "    private:\n",
    "        std::stack<int> stack;\n",
    "        struct MaxWithCount\n",
    "        {\n",
    "          int max, count;  \n",
    "        };\n",
    "    \n",
    "        std::stack<MaxWithCount> max_count;\n",
    "    \n",
    "    public:\n",
    "        bool empty() const { return empty(element_); }\n",
    "        int max() const\n",
    "        {\n",
    "            if(empty())\n",
    "            {\n",
    "                throw length_error(\"Pop(): empty stack\");\n",
    "            }\n",
    "            \n",
    "            return max_count.top().max;\n",
    "        }\n",
    "        \n",
    "        int pop() \n",
    "        {\n",
    "            if(empty())\n",
    "            {\n",
    "                throw length_error(\"pop(): empty stack\");\n",
    "            }\n",
    "            \n",
    "            int e = stack.top();\n",
    "            stack.pop();\n",
    "            \n",
    "            const\n",
    "        }\n",
    "};"
   ]
  }
 ],
 "metadata": {
  "kernelspec": {
   "display_name": "C++11",
   "language": "C++11",
   "name": "xeus-cling-cpp11"
  },
  "language_info": {
   "codemirror_mode": "text/x-c++src",
   "file_extension": ".cpp",
   "mimetype": "text/x-c++src",
   "name": "c++",
   "version": "-std=c++11"
  }
 },
 "nbformat": 4,
 "nbformat_minor": 2
}
