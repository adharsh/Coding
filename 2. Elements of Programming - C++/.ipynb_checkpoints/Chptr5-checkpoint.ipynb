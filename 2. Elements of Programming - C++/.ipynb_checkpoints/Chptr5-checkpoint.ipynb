{
 "cells": [
  {
   "cell_type": "markdown",
   "metadata": {},
   "source": [
    "# Solutions often are O(n) time, can use the data itself to reduce space to O(1)  \n",
    "Reverse parts of the array  \n",
    "Sort parts of the array  \n",
    "Apply negative to make O(1) space  \n",
    "Try filling in values from back  \n",
    "Instead of deleting entry, try overwriting it  \n",
    "Process array from the back of the array or reverse the array so the least-significant digit is the first entry  \n",
    "Don't worry about preserving the integerity of the array (sort, equal entries together, etc.) until time to return  \n",
    "Boolean array for indexing values (like n+1 array of bools to test if prime)  "
   ]
  },
  {
   "cell_type": "markdown",
   "metadata": {},
   "source": [
    "## Even Odd Partition Array"
   ]
  },
  {
   "cell_type": "code",
   "execution_count": 1,
   "metadata": {},
   "outputs": [],
   "source": [
    "#include <iostream>\n",
    "#include <algorithm>\n",
    "\n",
    "void even_odd(std::vector<int>& A)\n",
    "{\n",
    "    unsigned int i = 0, r = A.size()-1;\n",
    "    \n",
    "    while(i <= r)\n",
    "    {\n",
    "        if(A[i] % 2 == 0)\n",
    "            i++;\n",
    "        else\n",
    "            std::swap(A[i], A[r--]);        \n",
    "    }\n",
    "}"
   ]
  },
  {
   "cell_type": "code",
   "execution_count": 2,
   "metadata": {},
   "outputs": [
    {
     "data": {
      "text/plain": [
       "{ 8, 2, 6, 4, 5, 7, 3, 1 }"
      ]
     },
     "execution_count": 2,
     "metadata": {},
     "output_type": "execute_result"
    }
   ],
   "source": [
    "std::vector<int> A = {1,2,3,4,5,6,7,8};\n",
    "even_odd(A);\n",
    "A    "
   ]
  },
  {
   "cell_type": "code",
   "execution_count": 3,
   "metadata": {},
   "outputs": [
    {
     "name": "stdout",
     "output_type": "stream",
     "text": [
      "8 2 6 4 5 7 3 1 "
     ]
    }
   ],
   "source": [
    "//Other ways to iterate through an array:\n",
    "\n",
    "for(std::vector<int>::iterator ptr = A.begin(); ptr != A.end(); ptr++)\n",
    "    std::cout << *ptr << \" \";"
   ]
  },
  {
   "cell_type": "markdown",
   "metadata": {},
   "source": [
    "# C++ Tips"
   ]
  },
  {
   "cell_type": "code",
   "execution_count": 4,
   "metadata": {},
   "outputs": [
    {
     "name": "stdout",
     "output_type": "stream",
     "text": [
      "3 4 \n",
      "{1,2} {3,4} {5,6} \n",
      "1 2 3 4 \n"
     ]
    }
   ],
   "source": [
    "std::vector<int> vec1 = {1, 2, 3, 4}; //Initialization\n",
    "std::vector<std::vector<int>> vec2 = {{1, 2}, {3, 4}}; //Initialization\n",
    "\n",
    "//Also std::array:\n",
    "std::array<int, 3> a = {1, 2, 3};\n",
    "\n",
    "int i = 2, j = 4;\n",
    "std::vector<int> sub_vec(vec1.begin() + i, vec1.begin() + j);\n",
    "for(auto ptr = sub_vec.begin(); ptr != sub_vec.end(); ptr++)\n",
    "    std::cout << *ptr << \" \";\n",
    "std::cout << \"\\n\";\n",
    "\n",
    "// emplace_back is faster\n",
    "vec2.push_back({5,6});\n",
    "for(auto ptr = vec2.begin(); ptr != vec2.end(); ptr++)\n",
    "    std::cout << \"{\" << (*ptr)[0] << \",\" << (*ptr)[1] << \"} \";\n",
    "std::cout << \"\\n\";\n",
    "\n",
    "//Deep copy \n",
    "std::vector<int> vec3(vec1);\n",
    "for(auto ptr = vec3.begin(); ptr != vec3.end(); ptr++)\n",
    "    std::cout << *ptr << \" \";\n",
    "std::cout << \"\\n\";"
   ]
  },
  {
   "cell_type": "code",
   "execution_count": 5,
   "metadata": {},
   "outputs": [
    {
     "data": {
      "text/plain": [
       "{ 0, 1, 2, 3, 4, 5, 6, 7, 8 }"
      ]
     },
     "execution_count": 5,
     "metadata": {},
     "output_type": "execute_result"
    }
   ],
   "source": [
    "A.emplace_back(0);\n",
    "std::sort(A.begin(), A.end());\n",
    "A"
   ]
  },
  {
   "cell_type": "markdown",
   "metadata": {},
   "source": [
    "## Get familiar with these methods"
   ]
  },
  {
   "cell_type": "code",
   "execution_count": 6,
   "metadata": {},
   "outputs": [
    {
     "name": "stdout",
     "output_type": "stream",
     "text": [
      "1\n",
      "lb: 2\n",
      "ub: 6\n"
     ]
    }
   ],
   "source": [
    "{\n",
    "    std::vector<int> A = ::A;\n",
    "    bool val = binary_search(A.begin(), A.end(), 2) ;\n",
    "    std::cout << val << std::endl;\n",
    "    //returns true\n",
    "\n",
    "    //returns index of first number that's >= 2\n",
    "    std::vector<int>::iterator lb = lower_bound(A.begin(), A.end(), 2);\n",
    "    std::cout << \"lb: \" << lb - A.begin()<< std::endl;\n",
    "    \n",
    "    std::vector<int>::iterator ub = upper_bound(A.begin(), A.end(), 5);\n",
    "    std::cout << \"ub: \" << ub - A.begin()<< std::endl;\n",
    "}"
   ]
  },
  {
   "cell_type": "code",
   "execution_count": 7,
   "metadata": {},
   "outputs": [
    {
     "name": "stdout",
     "output_type": "stream",
     "text": [
      "0 1 2 3 4 5 6 7 8 \n",
      "42 42 42 42 42 42 42 42 42 \n",
      "0 1 2 3 4 5 6 7 8 "
     ]
    }
   ],
   "source": [
    "{\n",
    "    std::vector<int> A = ::A;\n",
    "    for(std::vector<int>::iterator i = A.begin(); i != A.end(); i++)\n",
    "        std::cout << *i << \" \";\n",
    "    std::cout << \"\\n\";\n",
    "    std::fill(A.begin(), A.end(), 42);\n",
    "    for(std::vector<int>::iterator i = A.begin(); i != A.end(); i++)\n",
    "        std::cout << *i << \" \";\n",
    "    std::cout << \"\\n\";\n",
    "    for(std::vector<int>::iterator i = ::A.begin(); i != ::A.end(); i++)\n",
    "        std::cout << *i << \" \";\n",
    "}"
   ]
  },
  {
   "cell_type": "code",
   "execution_count": 8,
   "metadata": {},
   "outputs": [
    {
     "name": "stdout",
     "output_type": "stream",
     "text": [
      "0\n",
      "8\n",
      "8 7 6 5 4 3 2 1 0 \n",
      "5 6 7 8 0 1 2 3 4 \n"
     ]
    }
   ],
   "source": [
    "{\n",
    "    std::vector<int> A = ::A;\n",
    "    std::cout << std::min_element(A.begin(), A.end()) - A.begin()<< std::endl;\n",
    "    std::cout << std::max_element(A.begin(), A.end()) - A.begin()<< std::endl;\n",
    "    //A.end() = last element index + 1\n",
    "    \n",
    "    std::reverse(A.begin(), A.end());\n",
    "    for(std::vector<int>::iterator i = A.begin(); i != A.end(); i++)\n",
    "        std::cout << *i << \" \";\n",
    "    std::cout << std::endl;\n",
    "    \n",
    "    A = ::A;\n",
    "    //starts with 5, goes up until it can, then continues from the rest of the numbers\n",
    "    std::rotate(A.begin(), A.begin() + 5, A.end());\n",
    "    for(std::vector<int>::iterator i = A.begin(); i != A.end(); i++)\n",
    "        std::cout << *i << \" \";\n",
    "    std::cout << std::endl; \n",
    "}"
   ]
  },
  {
   "cell_type": "code",
   "execution_count": 9,
   "metadata": {},
   "outputs": [
    {
     "name": "stdout",
     "output_type": "stream",
     "text": [
      "0 1 2 3 4 5 6 7 8 \n",
      "8 7 6 5 4 3 2 1 0 "
     ]
    }
   ],
   "source": [
    "{\n",
    "    std::vector<int> A = ::A;\n",
    "    std::sort(A.begin(), A.end());\n",
    "    for(std::vector<int>::iterator i = A.begin(); i != A.end(); i++)\n",
    "        std::cout << *i << \" \";\n",
    "    \n",
    "    std::cout << \"\\n\";\n",
    "    //can pass in a lambda as the third parameter\n",
    "    std::sort(A.begin(), A.end(), [](int a, int b){ return  a > b; });\n",
    "    for(std::vector<int>::iterator i = A.begin(); i != A.end(); i++)\n",
    "        std::cout << *i << \" \";\n",
    "}"
   ]
  },
  {
   "cell_type": "markdown",
   "metadata": {},
   "source": [
    "# 5.1 Dutch National Flag Problem"
   ]
  },
  {
   "cell_type": "code",
   "execution_count": 10,
   "metadata": {},
   "outputs": [],
   "source": [
    "typedef enum \n",
    "{\n",
    "    kred,\n",
    "    kWhite, \n",
    "    kBlue\n",
    "} Color;"
   ]
  },
  {
   "cell_type": "code",
   "execution_count": 11,
   "metadata": {},
   "outputs": [],
   "source": [
    "void DutchFlagParition(int p, std::vector<int>* A)\n",
    "{\n",
    "    std::vector<int>& a = *A;\n",
    "    int pivot = a[p];\n",
    "    int l = 0, r = a.size() - 1;\n",
    "\n",
    "    int i = 0;\n",
    "    while (i <= r)\n",
    "    {\n",
    "        if (a[i] < pivot)\n",
    "            std::swap(a[i++], a[l++]);\n",
    "        else if (pivot < a[i])\n",
    "            std::swap(a[i], a[r--]);\n",
    "        else\n",
    "            i++;\n",
    "    }\n",
    "}\n"
   ]
  },
  {
   "cell_type": "code",
   "execution_count": 12,
   "metadata": {},
   "outputs": [
    {
     "name": "stdout",
     "output_type": "stream",
     "text": [
      "pivot: 6\n",
      "1 0 2 6 4 5 3 "
     ]
    }
   ],
   "source": [
    "{\n",
    "    srand(time(0));\n",
    "    std::vector<int> A{ 0, 1, 2, 3, 4, 5, 6 };\n",
    "    //fisher yates shuffle\n",
    "    for (int i = A.size() - 1; i >= 0; i--)\n",
    "        std::swap(A[i], A[((double)rand()) / (((double)RAND_MAX) + 1) * i]);\n",
    "\n",
    "    DutchFlagParition(3, &A);\n",
    "    std::cout << \"pivot: \" << A[3] << \"\\n\";\n",
    "    for (auto i = A.begin(); i != A.end(); i++)\n",
    "        std::cout << *i << \" \";\n",
    "}"
   ]
  },
  {
   "cell_type": "markdown",
   "metadata": {},
   "source": [
    "# 5.2 Adding one to a vector that represents an integer"
   ]
  },
  {
   "cell_type": "code",
   "execution_count": 13,
   "metadata": {},
   "outputs": [],
   "source": [
    "//{1, 2, 9} = 129\n",
    "#include <vector>\n",
    "\n",
    "std::vector<int> PlusOne(std::vector<int> A)\n",
    "{\n",
    "    int carry = 1;\n",
    "    \n",
    "    for(int i = A.size() - 1; i >= 0; i--)\n",
    "    {\n",
    "        A[i] += carry;\n",
    "        carry = A[i]/10;\n",
    "        A[i] = A[i]%10;\n",
    "    }\n",
    "    \n",
    "    if(carry)\n",
    "        A.insert(A.begin() + 0, 1);\n",
    "    //^ know how insert function works\n",
    "    \n",
    "    return A;\n",
    "}"
   ]
  },
  {
   "cell_type": "code",
   "execution_count": 14,
   "metadata": {},
   "outputs": [
    {
     "data": {
      "text/plain": [
       "{ 1, 0, 0, 0 }"
      ]
     },
     "execution_count": 14,
     "metadata": {},
     "output_type": "execute_result"
    }
   ],
   "source": [
    "PlusOne({9, 9, 9})\n",
    "// PlusOne({1, 2, 3})"
   ]
  },
  {
   "cell_type": "markdown",
   "metadata": {},
   "source": [
    "# 5.3 Multiply Two Arbitrary Precision Integers"
   ]
  },
  {
   "cell_type": "code",
   "execution_count": 15,
   "metadata": {},
   "outputs": [],
   "source": [
    "#include <vector>\n",
    "#include <iostream>\n",
    "\n",
    "std::vector<int> Multiply(const std::vector<int>& num1, const std::vector<int>& num2)\n",
    "{\n",
    "    const std::vector<int>& a = num1.size() > num2.size() ? num1 : num2;\n",
    "    const std::vector<int>& b = a == num1 ? num2 : num1;\n",
    "\n",
    "    int sign = std::abs(a[0] * b[0]) / a[0] / b[0];\n",
    "\n",
    "    std::vector<int> ans(num1.size() + num2.size() - 1, 0);\n",
    "\n",
    "    int carry = 0;\n",
    "    for (int i = 0; i < b.size(); i++)\n",
    "    {\n",
    "        for (int j = 0; j < a.size(); j++)\n",
    "        {\n",
    "            int i_ = b.size() - 1 - i;\n",
    "            int j_ = a.size() - 1 - j;\n",
    "\n",
    "            ans[ans.size() - 1 - i - j] += std::abs(b[i_]) * std::abs(a[j_]) + carry;\n",
    "            carry = ans[ans.size() - 1 - i - j] / 10;\n",
    "            ans[ans.size() - 1 - i - j] %= 10;\n",
    "        }\n",
    "\n",
    "        if(i != b.size() - 1)\n",
    "            ans[ans.size() - a.size() - 1 - i] += carry;\n",
    "    }\n",
    "\n",
    "    if (carry)\n",
    "        ans.insert(ans.begin(), carry);\n",
    "\n",
    "    ans[0] *= sign;\n",
    "\n",
    "    return ans;\n",
    "}"
   ]
  },
  {
   "cell_type": "code",
   "execution_count": 16,
   "metadata": {},
   "outputs": [
    {
     "name": "stdout",
     "output_type": "stream",
     "text": [
      "-8 9 1 "
     ]
    }
   ],
   "source": [
    "{\n",
    "    std::vector<int> ans = Multiply({ 9, 9 }, { -9 });\n",
    "\n",
    "    for(int i : ans)\n",
    "        std::cout << i << \" \";\n",
    "}"
   ]
  },
  {
   "cell_type": "code",
   "execution_count": 17,
   "metadata": {},
   "outputs": [
    {
     "name": "stdout",
     "output_type": "stream",
     "text": [
      "1\n",
      "0\n"
     ]
    }
   ],
   "source": [
    "#include <vector>\n",
    "#include <iostream>\n",
    "\n",
    "{\n",
    "    std::vector<int> a = {1, 2, 3213};\n",
    "    std::vector<int>&b = a;\n",
    "    std::vector<int> c = {1, 3};\n",
    "    std::cout << (b == a) << std::endl;\n",
    "    std::cout << (b == c) << std::endl;\n",
    "}"
   ]
  },
  {
   "cell_type": "code",
   "execution_count": 18,
   "metadata": {},
   "outputs": [
    {
     "name": "stdout",
     "output_type": "stream",
     "text": [
      "24"
     ]
    }
   ],
   "source": [
    "{\n",
    "    int a[6];\n",
    "    std::cout << sizeof(a);\n",
    "}"
   ]
  },
  {
   "cell_type": "markdown",
   "metadata": {},
   "source": [
    "# 5.4 Advancing through an Array"
   ]
  },
  {
   "cell_type": "code",
   "execution_count": 19,
   "metadata": {},
   "outputs": [],
   "source": [
    "#include <vector>\n",
    "\n",
    "bool CanReachEnd(const std::vector<int>& A)\n",
    "{\n",
    "    int farthest = 0;\n",
    "    for(int i = 0; i < A.size(); i++)\n",
    "    {\n",
    "        if(farthest < i) return false;\n",
    "        \n",
    "        farthest = std::max(farthest, i + A[i]);\n",
    "    }\n",
    "    \n",
    "    return true;\n",
    "}"
   ]
  },
  {
   "cell_type": "code",
   "execution_count": 20,
   "metadata": {},
   "outputs": [
    {
     "name": "stdout",
     "output_type": "stream",
     "text": [
      "1\n"
     ]
    }
   ],
   "source": [
    "{\n",
    "    std::cout << CanReachEnd({2,3,0,0,0}) << std::endl;\n",
    "}"
   ]
  },
  {
   "cell_type": "markdown",
   "metadata": {},
   "source": [
    "# 5.5 Deleting duplicates from a sorted array"
   ]
  },
  {
   "cell_type": "code",
   "execution_count": 21,
   "metadata": {},
   "outputs": [],
   "source": [
    "#include <vector>\n",
    "#include <iostream>\n",
    "\n",
    "//takes as input sorted array\n",
    "//returns # of unique elements\n",
    "int deleteDuplicates(std::vector<int>& A)\n",
    "{\n",
    "    if (!A.size()) return 0;\n",
    "    \n",
    "    int unique_end = 0;\n",
    "    for(int i = 1; i < A.size(); i++)\n",
    "    {\n",
    "        if(A[unique_end] != A[i])\n",
    "            A[++unique_end] = A[i];\n",
    "    }\n",
    "    return unique_end + 1;\n",
    "}"
   ]
  },
  {
   "cell_type": "code",
   "execution_count": 22,
   "metadata": {},
   "outputs": [
    {
     "name": "stdout",
     "output_type": "stream",
     "text": [
      "0 1 2 3 4 "
     ]
    }
   ],
   "source": [
    "{\n",
    "    std::vector<int> v{0, 0, 0, 1, 1, 1, 2, 2, 2, 3, 3, 3, 3, 3, 3, 3, 3, 3, 4};\n",
    "    int size = deleteDuplicates(v);\n",
    "    for(auto i = v.begin(); i != v.begin() + size; i++)\n",
    "        //understand why != is the same as <\n",
    "        std::cout << *i << \" \";\n",
    "}"
   ]
  },
  {
   "cell_type": "markdown",
   "metadata": {},
   "source": [
    "# 5.6 Buy and Sell a Stock Once"
   ]
  },
  {
   "cell_type": "code",
   "execution_count": null,
   "metadata": {},
   "outputs": [],
   "source": [
    "std::vector<double> BuyAndSellStockOnce(const std::vector<double>& prices){\n",
    "    double min = std::numeric_limits<double>::max();\n",
    "    double profit = -1;\n",
    "\n",
    "    for (double p : prices)\n",
    "    { \n",
    "        min = std::min(min, p);\n",
    "        profit = std::max(profit, p - min);\n",
    "    }\n",
    "\n",
    "    return profit;\n",
    "}"
   ]
  },
  {
   "cell_type": "code",
   "execution_count": null,
   "metadata": {},
   "outputs": [],
   "source": [
    "//DP problem\n",
    "\n",
    "std::vector<double> BuyAndSellStockOnce(const std::vector<double>& prices)\n",
    "{\n",
    "    double min = std::numeric_limits<double>::max();\n",
    "    double max = std::numeric_limits<double>::min(); //will overflow when doing this - min, so just do prices[1] - prices[0]\n",
    "    double profit = 0, a, b;\n",
    "    \n",
    "    for (double p : prices)\n",
    "    {\n",
    "        if(p < min)\n",
    "        {\n",
    "            min = p;\n",
    "            max = p;\n",
    "        }\n",
    "        else if(p > max)\n",
    "            max = p;\n",
    "        \n",
    "        if(p - min > profit)\n",
    "        {\n",
    "            profit = max - min; \n",
    "            a = min; b = max;\n",
    "        }\n",
    "            \n",
    "    }\n",
    "    \n",
    "    return {profit, a, b};\n",
    "}"
   ]
  },
  {
   "cell_type": "markdown",
   "metadata": {},
   "source": [
    "# 5.7 Buy and Sell a Stock Twice"
   ]
  },
  {
   "cell_type": "code",
   "execution_count": null,
   "metadata": {},
   "outputs": [],
   "source": [
    "#include <vector>\n",
    "#include <iostream>\n",
    "\n",
    "// returns total max profit after buying two stocks\n",
    "// second stock is bought on another day\n",
    "\n",
    "double BuyAndSellStockTwice1(const std::vector<double>& prices)\n",
    "{\n",
    "    int profit1 = std::numeric_limits<double>::min();\n",
    "    double min = prices[0];\n",
    "    double min_index = -1, min_tmp = -1;\n",
    "    double max_index = -1;\n",
    "\n",
    "    for (int i = 0; i < prices.size(); i++)\n",
    "    {\n",
    "        if (prices[i] < min)\n",
    "        {\n",
    "            min_tmp = i;\n",
    "            min = prices[i];\n",
    "        }\n",
    "\n",
    "        if (prices[i] - min > profit1)\n",
    "        {\n",
    "            max_index = i;\n",
    "            min_index = min_tmp;\n",
    "            profit1 = prices[i] - min;\n",
    "        }\n",
    "    }\n",
    "    \n",
    "    std::cout << profit1 << std::endl;\n",
    "\n",
    "    double profit2 = std::numeric_limits<double>::min();\n",
    "    min = min_index == 0 ? prices[1] : prices[0];\n",
    "    for (int i = 0; i < prices.size(); i++)\n",
    "    {\n",
    "        if (i != min_index)\n",
    "            min = std::min(min, prices[i]);\n",
    "        profit2 = std::max(profit2, prices[i] - min);\n",
    "    }\n",
    "    \n",
    "    std::cout << profit2 << std::endl;\n",
    "    \n",
    "    return profit1 + profit2;\n",
    "}"
   ]
  },
  {
   "cell_type": "code",
   "execution_count": 1,
   "metadata": {},
   "outputs": [],
   "source": [
    "#include <vector>\n",
    "#include <iostream>\n",
    "\n",
    "double BuyAndSellStockTwice2(const std::vector<double>& prices)\n",
    "{\n",
    "    int profit = 0;\n",
    "    \n",
    "    for(int i = 1; i < prices.size(); i++)\n",
    "    {\n",
    "        if(prices[i - 1] < prices[i])\n",
    "            profit += prices[i] - prices[i - 1];\n",
    "    }\n",
    "    \n",
    "    return profit;\n",
    "}"
   ]
  },
  {
   "cell_type": "code",
   "execution_count": 2,
   "metadata": {},
   "outputs": [
    {
     "name": "stdout",
     "output_type": "stream",
     "text": [
      "97\n"
     ]
    }
   ],
   "source": [
    "{\n",
    "    std::cout << BuyAndSellStockTwice2({10, 22, 5, 75, 65, 80}) << std::endl;\n",
    "//     std::cout << BuyAndSellStockTwice({2, 3, 4}) << std::endl;\n",
    "}"
   ]
  },
  {
   "cell_type": "markdown",
   "metadata": {},
   "source": [
    "Btw: maximum contiguous subarray  \n",
    "DP: think of a table at i, and assume at i-1 already solved: \n",
    "\n",
    "max sum:  \n",
    "`dp[i] = max(dp[i-1], dp[i-1] + a[i])`\n",
    "\n",
    "subarray with max sum:  \n",
    "`dp[i] = max(dp[i-1] + a[i], a[i])`\n",
    "\n",
    "https://stackoverflow.com/a/39082628"
   ]
  },
  {
   "cell_type": "code",
   "execution_count": 3,
   "metadata": {},
   "outputs": [
    {
     "name": "stdout",
     "output_type": "stream",
     "text": [
      "0"
     ]
    }
   ],
   "source": [
    "#include <array>\n",
    "#include <iostream>\n",
    "\n",
    "{\n",
    "    std::array<int, 2> a{0};\n",
    "    std::cout << a[1];\n",
    "}"
   ]
  },
  {
   "cell_type": "code",
   "execution_count": 4,
   "metadata": {},
   "outputs": [],
   "source": [
    "#include <vector>\n",
    "#include <iostream>\n",
    "\n",
    "double BuyAndSellStockTwice(const std::vector<double>& p)\n",
    "{\n",
    "   std::vector<double> prices(p);\n",
    "\n",
    "    for (int i = 0; i < prices.size() - 1; i++)\n",
    "        prices[i] = prices[i + 1] - prices[i];\n",
    "\n",
    "    double sum = 0;\n",
    "    for (int i = 0; i < prices.size() - 1; i++)\n",
    "    {\n",
    "        if (prices[i] >= 0)\n",
    "        {\n",
    "            sum += prices[i];\n",
    "            prices[i] = sum;\n",
    "        }\n",
    "        else\n",
    "        {\n",
    "            sum = 0;\n",
    "        }\n",
    "    }\n",
    "    \n",
    "    for(int i  = 0; i < prices.size() - 1; i++)\n",
    "        std::cout << prices[i] << std::endl;\n",
    "    \n",
    "    std::array<double, 2> profits{0};\n",
    "\n",
    "    for (int i = 0; i < prices.size() - 1; i++)\n",
    "    {\n",
    "       profits[0] = std::max(profits[0], prices[i]);\n",
    "    }\n",
    "\n",
    "    for (int i = 0; i < prices.size() - 1; i++)\n",
    "    {\n",
    "        if (prices[i] != profits[0])\n",
    "            profits[1] = std::max(profits[1], prices[i]);\n",
    "    }\n",
    "\n",
    "    return profits[0] + profits[1];\n",
    "}"
   ]
  },
  {
   "cell_type": "code",
   "execution_count": 5,
   "metadata": {},
   "outputs": [
    {
     "name": "stdout",
     "output_type": "stream",
     "text": [
      "1\n",
      "2\n",
      "3\n",
      "4\n"
     ]
    },
    {
     "data": {
      "text/plain": [
       "7"
      ]
     },
     "execution_count": 5,
     "metadata": {},
     "output_type": "execute_result"
    }
   ],
   "source": [
    "BuyAndSellStockTwice({1, 2, 3, 4, 5})"
   ]
  },
  {
   "cell_type": "code",
   "execution_count": 1,
   "metadata": {},
   "outputs": [],
   "source": [
    "#include <vector>\n",
    "#include <iostream>\n",
    "\n",
    "double BuyAndSellStockTwice(const std::vector<double>& p)\n",
    "{\n",
    "//     forward pass\n",
    "//     buy low sell high\n",
    "    std::vector<double> forward_pass(p.size());\n",
    "    double min = p[0];\n",
    "    for(int i = 1; i < p.size(); i++)\n",
    "    {\n",
    "        min = std::min(min, p[i]);\n",
    "        forward_pass[i] = std::max(forward_pass[i - 1], p[i] - min);\n",
    "    }\n",
    "    \n",
    "    std::cout << \"forward_pass\\n\";\n",
    "    for(double l : forward_pass)\n",
    "        std::cout << l << \" \";\n",
    "    std::cout << \"\\n\";\n",
    "    \n",
    "    \n",
    "//     backward pass\n",
    "//     buy high sell low\n",
    "    std::vector<double> backward_pass(p.size());\n",
    "    double max = p[p.size() - 1];\n",
    "    for(int i = p.size() - 2; i >= 0; i--)\n",
    "    {\n",
    "        max = std::max(max, p[i]);\n",
    "        backward_pass[i] = std::max(backward_pass[i + 1], max - p[i]);\n",
    "    }\n",
    "    \n",
    "    std::cout << \"backward_pass\\n\";\n",
    "    for(double l : backward_pass)\n",
    "        std::cout << l << \" \";\n",
    "    std::cout << \"\\n\";\n",
    "    \n",
    "    std::vector<double> total(p.size());\n",
    "    total[0] = 0 + backward_pass[0];\n",
    "    for(int i = 1; i < p.size(); i++)\n",
    "    {\n",
    "        total[i] = forward_pass[i - 1] + backward_pass[i];\n",
    "    }\n",
    "    \n",
    "    std::cout << \"total\\n\";\n",
    "    for(double l : total)\n",
    "        std::cout << l << \" \";\n",
    "    std::cout << \"\\n\";\n",
    "    \n",
    "    max = total[0];\n",
    "    for(int i = 1; i < p.size(); i++)\n",
    "        max = std::max(max, total[i]);\n",
    "    \n",
    "    return max;   \n",
    "}"
   ]
  },
  {
   "cell_type": "code",
   "execution_count": 2,
   "metadata": {},
   "outputs": [
    {
     "name": "stdout",
     "output_type": "stream",
     "text": [
      "forward_pass\n",
      "0 0 2 2 3 3 6 6 7 \n",
      "backward_pass\n",
      "7 7 7 7 7 7 2 2 0 \n",
      "total\n",
      "7 7 7 9 9 10 5 8 6 \n"
     ]
    },
    {
     "data": {
      "text/plain": [
       "10"
      ]
     },
     "execution_count": 2,
     "metadata": {},
     "output_type": "execute_result"
    }
   ],
   "source": [
    "BuyAndSellStockTwice({12, 11, 13, 9, 12, 8, 14, 13, 15})"
   ]
  },
  {
   "cell_type": "code",
   "execution_count": 3,
   "metadata": {},
   "outputs": [
    {
     "name": "stdout",
     "output_type": "stream",
     "text": [
      "forward_pass\n",
      "0 1 2 3 4 \n",
      "backward_pass\n",
      "4 3 2 1 0 \n",
      "total\n",
      "4 3 3 3 3 \n"
     ]
    },
    {
     "data": {
      "text/plain": [
       "4"
      ]
     },
     "execution_count": 3,
     "metadata": {},
     "output_type": "execute_result"
    }
   ],
   "source": [
    "BuyAndSellStockTwice({1, 2, 3, 4, 5})"
   ]
  },
  {
   "cell_type": "raw",
   "metadata": {},
   "source": [
    "^\n",
    "Mappping:  \n",
    "0 1 2 3 -> forward  \n",
    "4 3 2 1 -> backward  \n",
    "\n",
    "Why skip last element in forward? Since it will be the same value as the first value in total anyways (max profit)\n",
    "Variant: https://www.youtube.com/watch?v=oDhu5uGq_ic&feature=youtu.be"
   ]
  },
  {
   "cell_type": "markdown",
   "metadata": {},
   "source": [
    "# 5.9 Give a list of primes up to n"
   ]
  },
  {
   "cell_type": "code",
   "execution_count": null,
   "metadata": {},
   "outputs": [],
   "source": [
    "#include <deque>\n",
    "#include <vector>"
   ]
  },
  {
   "cell_type": "code",
   "execution_count": null,
   "metadata": {},
   "outputs": [],
   "source": [
    "std::vector<int> GeneratePrimes(int n)\n",
    "{\n",
    "    std::vector<int> primes;\n",
    "    //or std::deque<bool> is_prime(n+1, true); \n",
    "    //deque is better than vector for bools, can use pointers on them like: bool* p = a[1];\n",
    "//     std::bitset<32+1> is_prime(~0); //must be a const expression tho, try it out\n",
    "    std::deque<bool> is_prime(n+1, true); \n",
    "    \n",
    "    is_prime[0] = is_prime[1] = false;\n",
    "    \n",
    "    for(int i = 2; i < is_prime.size(); i++)\n",
    "    {\n",
    "        if(is_prime[i])\n",
    "        {\n",
    "            primes.emplace_back(i);\n",
    "            for(int j = 2 * i; j < is_prime.size(); j += i)\n",
    "                is_prime[j] = false;\n",
    "        }\n",
    "    }\n",
    "    return primes;\n",
    "}"
   ]
  },
  {
   "cell_type": "code",
   "execution_count": null,
   "metadata": {},
   "outputs": [],
   "source": [
    "GeneratePrimes(100)"
   ]
  },
  {
   "cell_type": "markdown",
   "metadata": {},
   "source": [
    "# 5.10 Permute the Elements of an Array"
   ]
  },
  {
   "cell_type": "code",
   "execution_count": 1,
   "metadata": {},
   "outputs": [],
   "source": [
    "#include <vector>\n",
    "#include <iostream>\n",
    "\n",
    "template <class T>\n",
    "void ApplyPermutation(std::vector<int>& p, std::vector<T>& a)\n",
    "{\n",
    "    for (int i = 0; i < p.size(); i++)\n",
    "    {\n",
    "        int curr = i;\n",
    "        while (p[curr] >= 0)\n",
    "        {\n",
    "            std::swap(a[i], a[p[curr]]);\n",
    "            int tmp_idx = p[curr];\n",
    "            p[curr] = p[curr] - p.size();\n",
    "            curr = tmp_idx;\n",
    "        }\n",
    "    }\n",
    "\n",
    "    for (auto c : a)\n",
    "        std::cout << c << ' ';\n",
    "    std::cout << std::endl;\n",
    "\n",
    "    for (int& perm : p)\n",
    "        perm += p.size();\n",
    "}"
   ]
  },
  {
   "cell_type": "code",
   "execution_count": 3,
   "metadata": {},
   "outputs": [
    {
     "name": "stdout",
     "output_type": "stream",
     "text": [
      "d c b a \n"
     ]
    }
   ],
   "source": [
    "{\n",
    "    std::vector<int> p{3, 2, 1, 0};\n",
    "    std::vector<char> a{'a', 'b', 'c', 'd'};\n",
    "    ApplyPermutation<char>(p, a);\n",
    "}"
   ]
  },
  {
   "cell_type": "markdown",
   "metadata": {},
   "source": [
    "# 5.11 Compute the Next Permutation"
   ]
  },
  {
   "cell_type": "code",
   "execution_count": 1,
   "metadata": {},
   "outputs": [],
   "source": [
    "#include <vector>\n",
    "#include <iostream>\n",
    "\n",
    "std::vector<int> NextPermutation(std::vector<int>& p)\n",
    "{\n",
    "    if (p.size() == 0) \n",
    "        return std::vector<int>();\n",
    "\n",
    "    int lessthan_idx = -1;\n",
    "\n",
    "    \n",
    "//     Find first number less than right number\n",
    "    for (int i = p.size() - 1; i >= 1 && lessthan_idx == -1; i--)\n",
    "    {\n",
    "        if (p[i - 1] < p[i])\n",
    "            lessthan_idx = i - 1;\n",
    "    }\n",
    "\n",
    "    if (lessthan_idx == -1)\n",
    "        return std::vector<int>();\n",
    "\n",
    "//   Find first number less than p[lessthan_idx]\n",
    "    int swap_idx = -1;\n",
    "    for (int i = p.size() - 1; i >= 0 && swap_idx == -1; i--)\n",
    "    {\n",
    "        if (p[lessthan_idx] < p[i])\n",
    "            swap_idx = i;\n",
    "    }\n",
    "\n",
    "//     swap with the first one bigger than it\n",
    "    std::swap(p[lessthan_idx], p[swap_idx]);\n",
    "    \n",
    "//     then reverse all digits preceding it\n",
    "    int sublength = p.size() - (lessthan_idx + 1);\n",
    "    for (int i = lessthan_idx + 1, c = 1; i < lessthan_idx + 1 + sublength / 2; i++, c++)\n",
    "    {\n",
    "        std::swap(p[i], p[p.size() - c]);\n",
    "    }\n",
    "\n",
    "    return p;\n",
    "}"
   ]
  },
  {
   "cell_type": "code",
   "execution_count": 6,
   "metadata": {
    "scrolled": false
   },
   "outputs": [
    {
     "name": "stdout",
     "output_type": "stream",
     "text": [
      "1 2 3 4 \n",
      "1 2 4 3 \n",
      "1 3 2 4 \n",
      "1 3 4 2 \n",
      "1 4 2 3 \n",
      "1 4 3 2 \n",
      "2 1 3 4 \n",
      "2 1 4 3 \n",
      "2 3 1 4 \n",
      "2 3 4 1 \n",
      "2 4 1 3 \n",
      "2 4 3 1 \n",
      "3 1 2 4 \n",
      "3 1 4 2 \n",
      "3 2 1 4 \n",
      "3 2 4 1 \n",
      "3 4 1 2 \n",
      "3 4 2 1 \n",
      "4 1 2 3 \n",
      "4 1 3 2 \n",
      "4 2 1 3 \n",
      "4 2 3 1 \n",
      "4 3 1 2 \n",
      "4 3 2 1 \n",
      "\n"
     ]
    }
   ],
   "source": [
    "{\n",
    "    std::vector<int> p{ 1, 2, 3, 4 };\n",
    "\n",
    "    for (int lol : p)\n",
    "        std::cout << lol << \" \";\n",
    "    std::cout << std::endl;\n",
    "\n",
    "     while(p.size() != 0)\n",
    "    {\n",
    "        p = NextPermutation(p);\n",
    "\n",
    "        for (int lol : p)\n",
    "            std::cout << lol << \" \";\n",
    "        std::cout << std::endl;\n",
    "    }\n",
    "}"
   ]
  },
  {
   "cell_type": "markdown",
   "metadata": {},
   "source": [
    "# 5.12 Create a k shuffled vector of n values"
   ]
  },
  {
   "cell_type": "code",
   "execution_count": 1,
   "metadata": {},
   "outputs": [],
   "source": [
    "#include <stdlib.h>\n",
    "#include <vector>\n",
    "\n",
    "int random_inc(int min, int max)\n",
    "{\n",
    "        return rand()%(max - min + 1) + min;\n",
    "}"
   ]
  },
  {
   "cell_type": "code",
   "execution_count": 2,
   "metadata": {},
   "outputs": [
    {
     "data": {
      "text/plain": [
       "1"
      ]
     },
     "execution_count": 2,
     "metadata": {},
     "output_type": "execute_result"
    }
   ],
   "source": [
    "random_inc(1, 2)"
   ]
  },
  {
   "cell_type": "code",
   "execution_count": 3,
   "metadata": {},
   "outputs": [],
   "source": [
    "std::vector<int> RandomSampling(int k, std::vector<int>& A)\n",
    "{\n",
    "//     for(int i = 0; i <= A.size() - 2; i++) //will run in O(n)\n",
    "\n",
    "//     Below will run in O(k) time, notice how it's not k - 1 like in above\n",
    "//     last element isn't swapping with itself since it's swapping with any element in A\n",
    "    for(int i = 0; i < k; i++) \n",
    "        std::swap(A[i], A[random_inc(i, A.size() - 1)]);\n",
    "                            \n",
    "    return std::vector<int>(A.begin(), A.begin() + k);\n",
    "}"
   ]
  },
  {
   "cell_type": "code",
   "execution_count": 20,
   "metadata": {},
   "outputs": [
    {
     "name": "stdout",
     "output_type": "stream",
     "text": [
      "1 3 \n"
     ]
    }
   ],
   "source": [
    "#include <iostream>\n",
    "#include <iostream>\n",
    "\n",
    "{\n",
    "    std::vector<int> A{1, 2, 3, 4};\n",
    "    \n",
    "    A = RandomSampling(2, A);\n",
    "    \n",
    "    for(int i : A)\n",
    "        std::cout << i << \" \";\n",
    "    std::cout << std::endl;\n",
    "}"
   ]
  },
  {
   "cell_type": "code",
   "execution_count": 21,
   "metadata": {},
   "outputs": [
    {
     "name": "stdout",
     "output_type": "stream",
     "text": [
      "3 4 2 1 \n"
     ]
    }
   ],
   "source": [
    "#include <iostream>\n",
    "#include <iostream>\n",
    "\n",
    "{\n",
    "    std::vector<int> A{1, 2, 3, 4};\n",
    "    \n",
    "//     Fisher yates algorithm, skips last element since it would be swapping with itself\n",
    "    for(int i = 0; i <= A.size() - 2; i++)\n",
    "        std::swap(A[i], A[random_inc(i, A.size() - 1)]);\n",
    "    \n",
    "    for(int i : A)\n",
    "        std::cout << i << \" \";\n",
    "    std::cout << std::endl;\n",
    "}"
   ]
  },
  {
   "cell_type": "raw",
   "metadata": {},
   "source": [
    "#include <ctime>\n",
    "#include <random>\n",
    "#include <algorithm>\n",
    "\n",
    "void RandomSampling(int k, std::vector<int>& A)\n",
    "{\n",
    "    std::default_random_engine gen(std::random_device{}());\n",
    "    \n",
    "    //Fisher yates shuffle algorithm\n",
    "    //notice how we're swappig A[i] with A[ [i, A.size() - 1](inclusive) ]\n",
    "    //the same element has the chance to stay where it is\n",
    "    //but can't be swapped with elements before i\n",
    "    \n",
    "    for(int i = 0; i < k; i++)\n",
    "        std::swap(A[i], std::uniform_int_distribution<int>{i, static_cast<int>(A.size())-1}(gen));\n",
    "    //preferred: std::static_cast<int>(A.size())\n",
    "}"
   ]
  },
  {
   "cell_type": "code",
   "execution_count": null,
   "metadata": {},
   "outputs": [],
   "source": [
    "{\n",
    "    std::vector<int> a(4);\n",
    "    for(int i = 0; i < a.size(); i++)\n",
    "        a[i] = i + 1;\n",
    "    \n",
    "    for(int i = 0; i < a.size(); i++)\n",
    "        std::swap(a[i], a[2]);\n",
    "        \n",
    "    for(int i = 0; i < a.size(); i++)\n",
    "        std::cout << a[i] << \" \";\n",
    "}"
   ]
  },
  {
   "cell_type": "markdown",
   "metadata": {},
   "source": [
    "rand() is uniformally distribiuted between \\[0, RAND_MAX\\]   \n",
    "Is rand()%n uniformally distributed between \\[0, RAND_MAX\\]?  \n",
    "\n",
    "No -> pretend RAND_MAX is 4, n = 2, only true when (RAND_MAX + 1) (since including 0) is divisible by n   \n",
    "rand() = \\[0, 4\\]  \n",
    "0, 1 -> 3/3 (for 0, 2, 4), 2/3 (for 1, 3)\n",
    "\n",
    "if n = 3, 3 buckets and 5 values, so not possible either (pigeon hole principle)  \n",
    "rand() = \\[0, 4\\]  \n",
    "0, 1, 2 -> 2/3 (for 0, 3), 2/3 (for 1, 4), 1/3 for (2)    \n",
    "\n",
    "rand() = \\[0, 5\\]  \n",
    "0, 1, 2 -> 2/3 (for 0, 3), 2/3 (for 1, 4), 1/3 for (2, 5)    \n",
    "\n",
    "n is the number of buckets  \n",
    "RAND_MAX + 1 is the number of values"
   ]
  },
  {
   "cell_type": "markdown",
   "metadata": {},
   "source": [
    "# Read 5.13 - 16 from book"
   ]
  },
  {
   "cell_type": "markdown",
   "metadata": {},
   "source": [
    "# 5.17 -> verifying sudoku, pretty boring, next time will do"
   ]
  },
  {
   "cell_type": "markdown",
   "metadata": {},
   "source": [
    "Can use boolean arrays (boolean deque's) to check if an element already exists"
   ]
  },
  {
   "cell_type": "raw",
   "metadata": {},
   "source": [
    "bool IsValidSodoku(const std::vector<std::vector<int>>& partial)"
   ]
  },
  {
   "cell_type": "markdown",
   "metadata": {},
   "source": [
    "# 5.18 Spiral ordering of an array"
   ]
  },
  {
   "cell_type": "code",
   "execution_count": 1,
   "metadata": {},
   "outputs": [],
   "source": [
    "#include <vector>\n",
    "\n",
    "template <class T>\n",
    "std::vector<T> MatrixInSpiralOrder(const std::vector<std::vector<T>>& a)\n",
    "{\n",
    "    std::vector<T> spiral;\n",
    "    \n",
    "    for(int i = 0; i <= a.size()/2 - 1 + a.size()%2; i++)\n",
    "    {\n",
    "        int end = a.size() - 1 - i;\n",
    "//         right\n",
    "        for(int j = i; j <= end; j++)\n",
    "            spiral.push_back(a[i][j]);\n",
    "        \n",
    "//         down (exclude first)\n",
    "        for(int j = i + 1; j <= end; j++)\n",
    "            spiral.push_back(a[j][end]);\n",
    "        \n",
    "//         left (exclude first)\n",
    "        for(int j = end - 1; j >= i; j--)\n",
    "            spiral.push_back(a[end][j]);\n",
    "        \n",
    "//         up (exclude first and last)\n",
    "        for(int j = end - 1; j >= i + 1; j--)\n",
    "            spiral.push_back(a[j][i]);\n",
    "    }\n",
    "    \n",
    "    return spiral;\n",
    "}"
   ]
  },
  {
   "cell_type": "code",
   "execution_count": 2,
   "metadata": {},
   "outputs": [
    {
     "name": "stdout",
     "output_type": "stream",
     "text": [
      "1 2 3 6 9 8 7 4 5 \n"
     ]
    }
   ],
   "source": [
    "#include <iostream>\n",
    "\n",
    "{\n",
    "    auto v = MatrixInSpiralOrder<int>({{1, 2, 3}, {4, 5, 6}, {7, 8, 9}});\n",
    "    \n",
    "    for(int i : v)\n",
    "        std::cout << i << \" \";\n",
    "    std::cout << std::endl;\n",
    "}"
   ]
  },
  {
   "cell_type": "markdown",
   "metadata": {},
   "source": [
    "# 5.19 Rotate a 2D Array by 90 degrees clockwise\n",
    "\n",
    "4 way element wise rotate"
   ]
  },
  {
   "cell_type": "code",
   "execution_count": 1,
   "metadata": {},
   "outputs": [],
   "source": [
    "#include <vector>\n",
    "#include <iostream>\n",
    "\n",
    "template <class T>\n",
    "void RotateMatrix(std::vector<std::vector<T>>& a)\n",
    "{\n",
    "    for(int i = 0; i < a.size()/2; i++)\n",
    "    {\n",
    "        int end = a.size() - i - 1;\n",
    "        for(int j = i; j < a.size() - i - 1; j++) //skip last element since it's also the first for another row/col\n",
    "        {\n",
    "            T top_tmp = a[i][j];\n",
    "            \n",
    "            //top = left\n",
    "            a[i][j] = a[end - j][i];\n",
    "                         \n",
    "            //left = bottom\n",
    "            a[end - j][i] = a[end][end - j];\n",
    "            \n",
    "            //bottom = right\n",
    "            a[end][end - j] = a[j][end];\n",
    "            \n",
    "            //right = top\n",
    "            a[j][end] = top_tmp;\n",
    "        }\n",
    "    }\n",
    "}"
   ]
  },
  {
   "cell_type": "code",
   "execution_count": 3,
   "metadata": {},
   "outputs": [
    {
     "name": "stdout",
     "output_type": "stream",
     "text": [
      "Original\n",
      "1\t2\t3\t4\t\n",
      "5\t6\t7\t8\t\n",
      "9\t10\t11\t12\t\n",
      "13\t14\t15\t16\t\n",
      "Rotated\n",
      "13\t9\t5\t1\t\n",
      "14\t10\t6\t2\t\n",
      "15\t7\t11\t3\t\n",
      "16\t12\t8\t4\t\n",
      "\n",
      "Original\n",
      "1\t2\t3\t4\t5\t\n",
      "6\t7\t8\t9\t10\t\n",
      "11\t12\t13\t14\t15\t\n",
      "16\t17\t18\t19\t20\t\n",
      "21\t22\t23\t24\t25\t\n",
      "Rotated\n",
      "21\t16\t11\t6\t1\t\n",
      "22\t17\t12\t7\t2\t\n",
      "23\t18\t13\t8\t3\t\n",
      "24\t14\t9\t19\t4\t\n",
      "25\t20\t15\t10\t5\t\n",
      "\n"
     ]
    }
   ],
   "source": [
    "#include <iostream>\n",
    "\n",
    "{    \n",
    "    for(int size = 4; size <= 5; size++)\n",
    "    {\n",
    "        std::vector<std::vector<int>> a;\n",
    "        int c = 0;\n",
    "        for(int i = 0; i < size; i++)\n",
    "        {\n",
    "            std::vector<int> tmp;\n",
    "            for(int j = 0; j < size; j++)\n",
    "            {\n",
    "                tmp.push_back(++c);\n",
    "            }\n",
    "            a.push_back(tmp);\n",
    "        }\n",
    "\n",
    "        std::cout << \"Original\\n\";\n",
    "        for(int i = 0; i < size; i++)\n",
    "        {\n",
    "            for(int j = 0; j < size; j++)\n",
    "                std::cout << a[i][j] << \"\\t\";\n",
    "            std::cout << std::endl;\n",
    "        }\n",
    "\n",
    "        RotateMatrix(a);\n",
    "\n",
    "        std::cout << \"Rotated\\n\";\n",
    "        for(int i = 0; i < size; i++)\n",
    "        {\n",
    "            for(int j = 0; j < size; j++)\n",
    "                std::cout << a[i][j] << \"\\t\";\n",
    "            std::cout << std::endl;\n",
    "        }\n",
    "        std::cout << \"\\n\";\n",
    "    }\n",
    "}"
   ]
  },
  {
   "cell_type": "code",
   "execution_count": null,
   "metadata": {},
   "outputs": [],
   "source": [
    "template <class T>\n",
    "class RotatedMatrix\n",
    "{\n",
    "private:\n",
    "    std::vector<std::vector<T>>& square_matrix;\n",
    "public:\n",
    "    RotatedMatrix(std::vector<std::vector<T>>* square_matrix) : square_matrix(*square_matrix) {}\n",
    "    \n",
    "    T ReadEntry(int i, int j) const\n",
    "    {\n",
    "        return square_matrix[square_matrix.size() - 1 - j][i];\n",
    "    }\n",
    "    \n",
    "    WriteEntry(int i, int j, T& val)\n",
    "    {\n",
    "        square_matrix[square_matrix.size() - 1 - j][i] = val;\n",
    "    }\n",
    "}"
   ]
  },
  {
   "cell_type": "code",
   "execution_count": 1,
   "metadata": {},
   "outputs": [],
   "source": [
    "template <class T>\n",
    "void my_swap(T& a, T& b)\n",
    "{\n",
    "//     T& tmp = a; //will make output 3 2 2 3 (understand why)\n",
    "    T tmp = a;\n",
    "    a = b;\n",
    "    b = tmp;\n",
    "}"
   ]
  },
  {
   "cell_type": "code",
   "execution_count": 2,
   "metadata": {},
   "outputs": [
    {
     "name": "stdout",
     "output_type": "stream",
     "text": [
      "3 2 1 0 "
     ]
    }
   ],
   "source": [
    "#include <vector>\n",
    "#include <iostream>\n",
    "\n",
    "{\n",
    "    std::vector<int> a = {0, 1, 2, 3};\n",
    "    my_swap(a[0], a[3]);\n",
    "    my_swap(a[1], a[2]);\n",
    "    \n",
    "    for(int i : a)\n",
    "        std::cout << i << \" \";\n",
    "}"
   ]
  },
  {
   "cell_type": "markdown",
   "metadata": {},
   "source": [
    "# 5.20 Compute Rows in Pascal's Triangle"
   ]
  },
  {
   "cell_type": "code",
   "execution_count": null,
   "metadata": {},
   "outputs": [],
   "source": [
    "#include <vector>\n",
    "\n",
    "std::vector<std::vector<int>> GeneratePascalTriangle(int num_rows)\n",
    "{\n",
    "    std::vector<std::vector<int>> a;\n",
    "    a.push_back({1});\n",
    "    if(num_rows <= 1)\n",
    "        return a;\n",
    "    \n",
    "    a.push_back({1, 1});\n",
    "    if(num_rows == 2)\n",
    "        return a;\n",
    "    \n",
    "    num_rows -= 2;\n",
    "    \n",
    "    for(int i = 0; i < num_rows; i++)\n",
    "    {\n",
    "        int new_size = a[a.size() - 1].size() + 1;\n",
    "        std::vector<int> row(new_size);\n",
    "        \n",
    "        row[0] = 1; \n",
    "        row[row.size() - 1] = 1;\n",
    "        for(int j = 1; j < row.size() - 1; j++)\n",
    "            row[j] = a[a.size() - 1][j - 1] + a[a.size() - 1][j];\n",
    "        a.push_back(row);\n",
    "    }\n",
    "    \n",
    "    return a;\n",
    "}"
   ]
  },
  {
   "cell_type": "code",
   "execution_count": null,
   "metadata": {},
   "outputs": [],
   "source": [
    "std::vector<std::vector<int>> GeneratePascalTriangle2(int num_rows)\n",
    "{\n",
    "    std::vector<std::vector<int>> ans;\n",
    "    //     i is ith row, which is also the number of elements in that row\n",
    "    for (int i = 1; i <= num_rows; i++)\n",
    "    {\n",
    "        std::vector<int> row;\n",
    "        for (int j = 0; j < i; j++)\n",
    "            row.push_back(j == 0 || j == i - 1 ? 1 : ans[ans.size() - 1][j - 1] + ans[ans.size() - 1][j]);\n",
    "        ans.push_back(row);\n",
    "    }\n",
    "    return ans;\n",
    "}"
   ]
  },
  {
   "cell_type": "code",
   "execution_count": null,
   "metadata": {},
   "outputs": [],
   "source": [
    "int main()\n",
    "{\n",
    "    std::vector<std::vector<int>> a = GeneratePascalTriangle2(10);\n",
    "\n",
    "    for (auto row : a)\n",
    "    {\n",
    "        for (auto e : row)\n",
    "            std::cout << e << \"\\t\";\n",
    "        std::cout << \"\\n\";\n",
    "    }\n",
    "}"
   ]
  }
 ],
 "metadata": {
  "kernelspec": {
   "display_name": "C++11",
   "language": "C++11",
   "name": "xeus-cling-cpp11"
  },
  "language_info": {
   "codemirror_mode": "text/x-c++src",
   "file_extension": ".cpp",
   "mimetype": "text/x-c++src",
   "name": "c++",
   "version": "-std=c++11"
  }
 },
 "nbformat": 4,
 "nbformat_minor": 2
}
