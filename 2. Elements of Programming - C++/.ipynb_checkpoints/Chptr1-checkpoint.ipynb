{
 "cells": [
  {
   "cell_type": "markdown",
   "metadata": {},
   "source": [
    "# Chapter 1"
   ]
  },
  {
   "cell_type": "markdown",
   "metadata": {},
   "source": [
    "Counting the number of bits in a number"
   ]
  },
  {
   "cell_type": "code",
   "execution_count": 1,
   "metadata": {},
   "outputs": [],
   "source": [
    "#include <iostream>\n",
    "\n",
    "short countBits(unsigned long x)\n",
    "{\n",
    "    int num = 0;\n",
    "    \n",
    "    while(x)\n",
    "    {\n",
    "        num += x & 1;\n",
    "        x >>= 1;\n",
    "    }\n",
    "    return num;\n",
    "}"
   ]
  },
  {
   "cell_type": "code",
   "execution_count": 2,
   "metadata": {},
   "outputs": [
    {
     "data": {
      "text/plain": [
       "4"
      ]
     },
     "execution_count": 2,
     "metadata": {},
     "output_type": "execute_result"
    }
   ],
   "source": [
    "countBits(0b11010001)"
   ]
  },
  {
   "cell_type": "markdown",
   "metadata": {},
   "source": [
    "## C++ Notes:"
   ]
  },
  {
   "cell_type": "code",
   "execution_count": 3,
   "metadata": {},
   "outputs": [
    {
     "name": "stdout",
     "output_type": "stream",
     "text": [
      "34\n",
      "3.14\n",
      "3\n",
      "3\n",
      "-10\n",
      "3.15\n",
      "22.8836\n",
      "1\n",
      "5\n",
      "\n"
     ]
    }
   ],
   "source": [
    "#include <iostream>\n",
    "\n",
    "{\n",
    "    std::numeric_limits<int>::min();\n",
    "    std::numeric_limits<float>::max();\n",
    "    std::numeric_limits<unsigned int>::max();\n",
    "    \n",
    "    std::cout << std::abs(-34) << std::endl;\n",
    "    std::cout << std::fabs(-3.14) << std::endl;\n",
    "    std::cout << std::ceil(2.17) << std::endl;\n",
    "    std::cout << std::floor(3.14) << std::endl;\n",
    "    std::cout << std::min(-10, -4) << std::endl;\n",
    "    std::cout << std::max(3.14, 3.15) << std::endl;\n",
    "    std::cout << std::pow(2.71, 3.14) << std::endl;\n",
    "    std::cout << std::log(std::exp(1)) << std::endl;\n",
    "    std::cout << std::sqrt(25.0) << std::endl << std::endl;\n",
    "}"
   ]
  },
  {
   "cell_type": "code",
   "execution_count": 4,
   "metadata": {},
   "outputs": [
    {
     "name": "stdout",
     "output_type": "stream",
     "text": [
      "9\n",
      "239\n",
      "2345\n",
      "c5\n",
      "\n"
     ]
    }
   ],
   "source": [
    "std::cout << '9' - '0' << \"\\n\";;\n",
    "std::cout << std::stoi(\"  234 \") + 5 << \"\\n\";\n",
    "std::cout << std::to_string(234) + \"5\" << \"\\n\";\n",
    "std::cout << std::string(1,'c') + \"5\" << \"\\n\\n\";"
   ]
  },
  {
   "cell_type": "code",
   "execution_count": 5,
   "metadata": {},
   "outputs": [
    {
     "name": "stdout",
     "output_type": "stream",
     "text": [
      "cyolo\n"
     ]
    }
   ],
   "source": [
    "{\n",
    "    char c = 'c';\n",
    "    char c2[] = {c, '\\0'};\n",
    "    std::string a(c2);\n",
    "\n",
    "    std::cout << a + \"yolo\" << std::endl;\n",
    "}"
   ]
  },
  {
   "cell_type": "raw",
   "metadata": {},
   "source": [
    "(rand() / (RAND_MAX + 1)) * (max - min + 1) + min   \n",
    "[0, 1) * (max - min + 1) + min = [0, (max - min + 1)) + min) = [0, max + 1)  "
   ]
  },
  {
   "cell_type": "code",
   "execution_count": 6,
   "metadata": {},
   "outputs": [],
   "source": [
    "#include <string>\n",
    "#include <iostream>\n",
    "#include <ctime>\n",
    "\n",
    "int max = 5;\n",
    "int min = 1;\n",
    "\n",
    "srand(time(0));\n",
    "double r = ((double)rand() / ((double)RAND_MAX + 1)) * (max - min + 1) + min;"
   ]
  },
  {
   "cell_type": "code",
   "execution_count": 3,
   "metadata": {},
   "outputs": [
    {
     "name": "stderr",
     "output_type": "stream",
     "text": [
      "\u001b[1minput_line_12:5:18: \u001b[0m\u001b[0;1;31merror: \u001b[0m\u001b[1mno matching constructor for initialization of 'std::mt19937' (aka 'mersenne_twister_engine<unsigned long, 32, 624, 397,\n",
      "      31, 2567483615UL, 11, 4294967295UL, 7, 2636928640UL, 15, 4022730752UL, 18, 1812433253UL>')\u001b[0m\n",
      "    std::mt19937 gen(42);\n",
      "\u001b[0;1;32m                 ^   ~~\n",
      "\u001b[0m\u001b[1m/home/ababu/anaconda3/envs/cling/bin/../lib/gcc/../../gcc/include/c++/bits/random.h:444:11: \u001b[0m\u001b[0;1;30mnote: \u001b[0mcandidate constructor (the implicit copy constructor) not viable: no known conversion from 'int' to 'const\n",
      "      std::mersenne_twister_engine<unsigned long, 32, 624, 397, 31, 2567483615, 11, 4294967295, 7, 2636928640, 15,\n",
      "      4022730752, 18, 1812433253>' for 1st argument\u001b[0m\n",
      "    class mersenne_twister_engine\n",
      "\u001b[0;1;32m          ^\n",
      "\u001b[0m\u001b[1m/home/ababu/anaconda3/envs/cling/bin/../lib/gcc/../../gcc/include/c++/bits/random.h:444:11: \u001b[0m\u001b[0;1;30mnote: \u001b[0mcandidate constructor (the implicit move constructor) not viable: no known conversion from 'int' to\n",
      "      'std::mersenne_twister_engine<unsigned long, 32, 624, 397, 31, 2567483615, 11, 4294967295, 7, 2636928640, 15,\n",
      "      4022730752, 18, 1812433253>' for 1st argument\u001b[0m\n",
      "\u001b[1m/home/ababu/anaconda3/envs/cling/bin/../lib/gcc/../../gcc/include/c++/bits/random.h:508:9: \u001b[0m\u001b[0;1;30mnote: \u001b[0mcandidate constructor [with _Sseq = int, $1 = void] not viable: expects an l-value for 1st argument\u001b[0m\n",
      "        mersenne_twister_engine(_Sseq& __q)\n",
      "\u001b[0;1;32m        ^\n",
      "\u001b[0m\u001b[1minput_line_12:7:10: \u001b[0m\u001b[0;1;31merror: \u001b[0m\u001b[1mno member named 'cout' in namespace 'std'; did you mean 'count'?\u001b[0m\n",
      "    std::cout << dis1(gen) << \"\\n\";\n",
      "\u001b[0;1;32m    ~~~~~^~~~\n",
      "\u001b[0m\u001b[0;32m         count\n",
      "\u001b[0m\u001b[1m/home/ababu/anaconda3/envs/cling/bin/../lib/gcc/../../gcc/include/c++/bits/stl_algo.h:4076:5: \u001b[0m\u001b[0;1;30mnote: \u001b[0m'count' declared here\u001b[0m\n",
      "    count(_InputIterator __first, _InputIterator __last, const _Tp& __value)\n",
      "\u001b[0;1;32m    ^\n",
      "\u001b[0m\u001b[1minput_line_12:9:10: \u001b[0m\u001b[0;1;31merror: \u001b[0m\u001b[1mno member named 'cout' in namespace 'std'; did you mean 'count'?\u001b[0m\n",
      "    std::cout << dis2(gen) << \"\\n\";\n",
      "\u001b[0;1;32m    ~~~~~^~~~\n",
      "\u001b[0m\u001b[0;32m         count\n",
      "\u001b[0m\u001b[1m/home/ababu/anaconda3/envs/cling/bin/../lib/gcc/../../gcc/include/c++/bits/stl_algo.h:4076:5: \u001b[0m\u001b[0;1;30mnote: \u001b[0m'count' declared here\u001b[0m\n",
      "    count(_InputIterator __first, _InputIterator __last, const _Tp& __value)\n",
      "\u001b[0;1;32m    ^\n",
      "\u001b[0m\u001b[1minput_line_12:11:10: \u001b[0m\u001b[0;1;31merror: \u001b[0m\u001b[1mno member named 'cout' in namespace 'std'; did you mean 'count'?\u001b[0m\n",
      "    std::cout << std::generate_canonical<double, 10>(gen) << \"\\n\"; //[0, 1)\n",
      "\u001b[0;1;32m    ~~~~~^~~~\n",
      "\u001b[0m\u001b[0;32m         count\n",
      "\u001b[0m\u001b[1m/home/ababu/anaconda3/envs/cling/bin/../lib/gcc/../../gcc/include/c++/bits/stl_algo.h:4076:5: \u001b[0m\u001b[0;1;30mnote: \u001b[0m'count' declared here\u001b[0m\n",
      "    count(_InputIterator __first, _InputIterator __last, const _Tp& __value)\n",
      "\u001b[0;1;32m    ^\n",
      "\u001b[0m\u001b[1minput_line_12:13:10: \u001b[0m\u001b[0;1;31merror: \u001b[0m\u001b[1mno member named 'cout' in namespace 'std'\u001b[0m\n",
      "    std::cout << rand() % 50 << \"\\n\";\n",
      "\u001b[0;1;32m    ~~~~~^\n",
      "\u001b[0m"
     ]
    },
    {
     "ename": "Interpreter Error",
     "evalue": "",
     "output_type": "error",
     "traceback": [
      "Interpreter Error: "
     ]
    }
   ],
   "source": [
    "#include <random>\n",
    "#include <ctime>\n",
    "\n",
    "{\n",
    "    // When you create a number, you always want to pass in a generator\n",
    "    std::default_random_engine seed;\n",
    "    std::mt19937 gen(42);\n",
    "    std::uniform_int_distribution<int> dis1(1, 5); //ranges are inclusive\n",
    "    std::cout << dis1(gen) << \"\\n\";\n",
    "\n",
    "    std::uniform_real_distribution<double> dis2(2.71, 3.14);\n",
    "    std::cout << dis2(gen) << \"\\n\";\n",
    "\n",
    "    //10 bits of randomness\n",
    "    std::cout << std::generate_canonical<double, 10>(gen) << \"\\n\"; //[0, 1)\n",
    "\n",
    "    srand(42);\n",
    "    std::cout << rand() % 50 << \"\\n\";\n",
    "    \n",
    "    //below is possible\n",
    "    //std::cout << std::generate_canonical<double, 10>(std::mt19937(42)) << \"\\n\";\n",
    "    //std::cout << dist1(std::mt19937(42)) << std::endl;\n",
    "    //dist1 has () operator overloaded, so can't chain together further than above\n",
    "    //because first time parenthesis is used, constructor is called\n",
    "    //second time parenthesis is used, operator overload is called\n",
    "    //and constructor has no implementation for mt19937 engine\n",
    "    \n",
    "}"
   ]
  },
  {
   "cell_type": "code",
   "execution_count": 8,
   "metadata": {},
   "outputs": [
    {
     "name": "stdout",
     "output_type": "stream",
     "text": [
      "2, 1\n"
     ]
    }
   ],
   "source": [
    "{\n",
    "    std::vector<int> A = {1,2};\n",
    "    std::swap(A[0], A[1]);\n",
    "    std::cout << A[0] << \", \" << A[1] << \"\\n\";\n",
    "}"
   ]
  },
  {
   "cell_type": "code",
   "execution_count": 9,
   "metadata": {},
   "outputs": [
    {
     "name": "stdout",
     "output_type": "stream",
     "text": [
      "sdfs\n"
     ]
    }
   ],
   "source": [
    "std::cout << \"sdfs\" << std::endl;"
   ]
  },
  {
   "cell_type": "markdown",
   "metadata": {},
   "source": [
    "# Parity"
   ]
  },
  {
   "cell_type": "code",
   "execution_count": 10,
   "metadata": {},
   "outputs": [],
   "source": [
    "// Brute force approach, isOdd number of 1's?\n",
    "// O(n)\n",
    "bool parity1(unsigned long x)\n",
    "{\n",
    "    bool result = 0;\n",
    "    \n",
    "    while(x)\n",
    "    {\n",
    "        result ^= x & 1;\n",
    "        x >>= 1;\n",
    "    }\n",
    "    \n",
    "    return result;\n",
    "}"
   ]
  },
  {
   "cell_type": "code",
   "execution_count": 11,
   "metadata": {},
   "outputs": [
    {
     "data": {
      "text/plain": [
       "true"
      ]
     },
     "execution_count": 11,
     "metadata": {},
     "output_type": "execute_result"
    }
   ],
   "source": [
    "parity1(0b1101)"
   ]
  },
  {
   "cell_type": "markdown",
   "metadata": {},
   "source": [
    "## Memorize: x&(x-1) gives x with lowest bit erased\n",
    "\n",
    "subtracting 1 always gives a 0 in that slot and 1's before that slot if any, and & makes\n",
    "the first 1 & 0, then 0 & 1  \n",
    "\n",
    "0110  \n",
    "0101[111...]  \n",
    "\n",
    "0101"
   ]
  },
  {
   "cell_type": "markdown",
   "metadata": {},
   "source": [
    "## Memorize x&~(x-1) or x&(-x) -> isolates lowest bit\n",
    "\n",
    "0110 -> x  \n",
    "0101 -> x - 1  \n",
    "1010 -> ~(x-1)  \n",
    "\n",
    "All the 1's to the right of isolated bit will be 0  \n",
    "All the 1's and 0's to the left of isolated bit will be opposite  \n",
    "exposing significant bit  \n",
    "\n",
    "0110  \n",
    "1010  \n",
    "0010  "
   ]
  },
  {
   "cell_type": "markdown",
   "metadata": {},
   "source": [
    "## Memorize ~x & (x+1) isolates lowest 0\n",
    "Do it on paper"
   ]
  },
  {
   "cell_type": "code",
   "execution_count": 12,
   "metadata": {},
   "outputs": [
    {
     "name": "stdout",
     "output_type": "stream",
     "text": [
      "011010000\n",
      "011000000\n",
      "000010000\n"
     ]
    }
   ],
   "source": [
    "#include <bitset>\n",
    "\n",
    "{\n",
    "    std::cout << \"011010000\" << std::endl;\n",
    "    std::bitset<9> b(0b011010000&0b011001000);\n",
    "    std::cout << b << std::endl;\n",
    "    \n",
    "    std::bitset<9> c(0b011010000&0b100110111);\n",
    "    std::cout << c << std::endl;\n",
    "}"
   ]
  },
  {
   "cell_type": "code",
   "execution_count": 13,
   "metadata": {},
   "outputs": [],
   "source": [
    "// A little faster -> O(k) where k is number of 1's\n",
    "// Better for best and average case, same for worst case\n",
    "\n",
    "bool parity2(unsigned long x)\n",
    "{\n",
    "    bool result = 0;\n",
    "    \n",
    "    while(x)\n",
    "    {\n",
    "        result ^= 1;\n",
    "        x = x & (x - 1);\n",
    "        //or x &= (x-1); or x &= x - 1;\n",
    "    }\n",
    "    \n",
    "    return result;\n",
    "}"
   ]
  },
  {
   "cell_type": "code",
   "execution_count": 14,
   "metadata": {},
   "outputs": [
    {
     "data": {
      "text/plain": [
       "true"
      ]
     },
     "execution_count": 14,
     "metadata": {},
     "output_type": "execute_result"
    }
   ],
   "source": [
    "parity2(0b110010)"
   ]
  },
  {
   "cell_type": "markdown",
   "metadata": {},
   "source": [
    "## Bit stuff optimized by -> processing multiple bits at a time or caching results"
   ]
  },
  {
   "cell_type": "markdown",
   "metadata": {},
   "source": [
    "Since long is 8 bytes and we're splitting this into four pieces:  \n",
    "8 * 8 = 64 -> 64 / 4 = 16 bits or 2 bytes for each piece or a short  \n",
    "shift value by 3 * 16 bits to only get the first big chuck of the value  \n",
    "This chunk is 2 bytes -> 0xFF is one byte -> 0xFFFF is two bytes\n",
    "\n",
    "2 * 16 bits shift -> resulting comparison is with 4 bytes of data\n",
    "Must mask wtih 0xFFFF to zero out the leading 2 bytes  \n",
    "Repeat process for everything else\n"
   ]
  },
  {
   "cell_type": "raw",
   "metadata": {},
   "source": [
    "short parity3(unsigned long x) \n",
    "{\n",
    "    const int kMaskSize = 16;\n",
    "    const int kBitMask = 0xFFFF;\n",
    "    precomputed_parity [x & kBitMask ] ^\n",
    "    precomputed_parity [(x >> kMaskSize ) & kBitMask] ^\n",
    "    precomputed_parity [(x >> (2 * kMaskSize )) & kBitMask] ^\n",
    "    return precomputed_parity [x >> (3 * kMaskSize )];\n",
    "}"
   ]
  },
  {
   "cell_type": "code",
   "execution_count": 15,
   "metadata": {},
   "outputs": [],
   "source": [
    "// Just xor multiple values at the same time ->O(log_2(n))\n",
    "// long is 8 bytes, int is 4 byte, short is 2 bytes, char is 1 byte, void * -> 64 bit system is 64 bits or 8 bytes and 32 bit system is 32 bits or 4 bytes\n",
    "// xor is like adding\n",
    "\n",
    "short parity3(unsigned long x)\n",
    "{\n",
    "    x ^= x >> 32; \n",
    "    x ^= x >> 16; \n",
    "    x ^= x >> 8; \n",
    "    x ^= x >> 4; \n",
    "    x ^= x >> 2; \n",
    "    x ^= x >> 1; \n",
    "    return x & 1;\n",
    "}"
   ]
  },
  {
   "cell_type": "code",
   "execution_count": 16,
   "metadata": {
    "scrolled": true
   },
   "outputs": [
    {
     "data": {
      "text/plain": [
       "1"
      ]
     },
     "execution_count": 16,
     "metadata": {},
     "output_type": "execute_result"
    }
   ],
   "source": [
    "parity3(0b110010)"
   ]
  },
  {
   "cell_type": "code",
   "execution_count": 17,
   "metadata": {},
   "outputs": [],
   "source": [
    "// 0101000 -> 0101111\n",
    "char rightPropogate(char a)\n",
    "{\n",
    "    return a|(a-1);\n",
    "}"
   ]
  },
  {
   "cell_type": "code",
   "execution_count": 18,
   "metadata": {},
   "outputs": [],
   "source": [
    "//just like in base 10\n",
    "// 13 mod 10 is 3, 113 mod 100 is 13\n",
    "//so basically mask find the remaining digits\n",
    "int mod_pow_of_two(int n, int pow) //pow = 2^3, not 3\n",
    "{\n",
    "    return n&(pow - 1);\n",
    "}"
   ]
  },
  {
   "cell_type": "code",
   "execution_count": 19,
   "metadata": {},
   "outputs": [],
   "source": [
    "bool powerOf2(char a)\n",
    "{\n",
    "    return ~(a&(a-1));\n",
    "}"
   ]
  },
  {
   "cell_type": "raw",
   "metadata": {},
   "source": [
    "LSB is least significant bit  \n",
    "MSB is most significant bit  \n",
    "Implement it bit swapping  \n",
    "dec10 in binary is 0b1010, like an array tho with below indices\n",
    "                     4321  "
   ]
  },
  {
   "cell_type": "code",
   "execution_count": 20,
   "metadata": {},
   "outputs": [
    {
     "name": "stdout",
     "output_type": "stream",
     "text": [
      "00000001\n"
     ]
    }
   ],
   "source": [
    "std::cout << (std::bitset<8>(8) >> 3) << std::endl;"
   ]
  },
  {
   "cell_type": "code",
   "execution_count": 21,
   "metadata": {},
   "outputs": [],
   "source": [
    "#include <algorithm>\n",
    "\n",
    "//brute force using masks, dont know if this works\n",
    "char swapBits_1(char val, int pos1, int pos2)\n",
    "{\n",
    "    \n",
    "    if (pos1 < pos2) std::swap(pos1, pos2);\n",
    "\n",
    "    char pv1 = (1 << pos1)&val;\n",
    "    char pv2 = (1 << pos2)&val;\n",
    "\n",
    "    val &= (~(1 << pos1)) & (~(1 << pos2));\n",
    "\n",
    "    char v = pv1 >> (pos1 - pos2);\n",
    "    v |= pv2 << (pos1 - pos2);\n",
    "\n",
    "    return v | val;\n",
    "}"
   ]
  },
  {
   "cell_type": "code",
   "execution_count": 22,
   "metadata": {},
   "outputs": [],
   "source": [
    "char swapBits_1_5(char x, int i, int j)\n",
    "{\n",
    "    char i1 = ((x & (1 << i)) >> i) << j;\n",
    "    char j1 = ((x & (1 << j)) >> j) << i;\n",
    "    char x_m = (~(1 << i)) & (~(1 << j));\n",
    "\n",
    "    return (x_m & x) | i1 | j1;\n",
    "}"
   ]
  },
  {
   "cell_type": "code",
   "execution_count": 23,
   "metadata": {},
   "outputs": [
    {
     "data": {
      "text/plain": [
       "11"
      ]
     },
     "execution_count": 23,
     "metadata": {},
     "output_type": "execute_result"
    }
   ],
   "source": [
    "(int)swapBits_1_5(73, 6, 1)"
   ]
  },
  {
   "cell_type": "code",
   "execution_count": 24,
   "metadata": {},
   "outputs": [],
   "source": [
    "char swapBits_1_6(char x, int i, int j)\n",
    "{\n",
    "    char i1 = ((x >> i) & 1) << j;\n",
    "    char j1 = ((x >> j) & 1) << i;\n",
    "    char x_m = (~(1 << i)) & (~(1 << j));\n",
    "\n",
    "    return (x_m & x) | i1 | j1;\n",
    "}"
   ]
  },
  {
   "cell_type": "code",
   "execution_count": 25,
   "metadata": {},
   "outputs": [
    {
     "data": {
      "text/plain": [
       "11"
      ]
     },
     "execution_count": 25,
     "metadata": {},
     "output_type": "execute_result"
    }
   ],
   "source": [
    "(int)swapBits_1_6(73, 6, 1)"
   ]
  },
  {
   "cell_type": "code",
   "execution_count": 26,
   "metadata": {},
   "outputs": [],
   "source": [
    "//if they are the same, dont do anything\n",
    "//if they are different, simply toggle them\n",
    "\n",
    "char swapBits_2(char x, int i, int j)\n",
    "{\n",
    "    if(((x >> i) & 1) != ((x >> j) & 1))\n",
    "    {\n",
    "        char mask = (1 << i) | (1 << j);\n",
    "        x ^= mask;\n",
    "    }\n",
    "    return x;\n",
    "}"
   ]
  },
  {
   "cell_type": "code",
   "execution_count": 27,
   "metadata": {},
   "outputs": [
    {
     "name": "stdout",
     "output_type": "stream",
     "text": [
      "00000001\n",
      "11111111\n"
     ]
    }
   ],
   "source": [
    "std::cout << std::bitset<8>(!0) << std::endl;\n",
    "std::cout << std::bitset<8>(~0) << std::endl;"
   ]
  },
  {
   "cell_type": "raw",
   "metadata": {},
   "source": [
    "//reverse bits -> ab -> ba, where b = 0xFFAA, and use lookup table to reverse each b, which is 2 bytes\n",
    "\n",
    "unsigned long reverse_bits(unsigned long v)\n",
    "{\n",
    "    const int kMaskSize = sizeof(long)*8/4; //or 16 bits\n",
    "    const int kBitMask = 0xFFFF;\n",
    "    \n",
    "    return (table[v & kBitMask] << 3 * kMaskSize) |  \n",
    "        (table[(v >> kMaskSize) & kBitMask] << 2 *  kMaskSize) | \n",
    "        (table[(v >> (2 * kMaskSize)) & kBitMask] << kMaskSize) | \n",
    "        (table[v >> (3 * kMaskSize)] & kBitMask);\n",
    "}"
   ]
  },
  {
   "cell_type": "raw",
   "metadata": {},
   "source": [
    "class Solution:\n",
    "    # @param n, an integer\n",
    "    # @return an integer\n",
    "    def reverseBits(self, n):\n",
    "        transfer_table = {0b0000 : 0b0000, 0b0001 : 0b1000, 0b0010 : 0b0100, 0b0011 : 0b1100,\n",
    "                          0b0100 : 0b0010, 0b0101 : 0b1010, 0b0110 : 0b0110, 0b0111 : 0b1110,\n",
    "                          0b1000 : 0b0001, 0b1001 : 0b1001, 0b1010 : 0b0101, 0b1011 : 0b1101,\n",
    "                          0b1100 : 0b0011, 0b1101 : 0b1011, 0b1110 : 0b0111, 0b1111 : 0b1111}\n",
    "        result = 0\n",
    "        for shift in xrange(0, 32, 4):\n",
    "            # Process 4 bits in each round\n",
    "            result = (result << 4) | transfer_table[(n >> shift) & 0x0F]\n",
    "return result"
   ]
  },
  {
   "cell_type": "markdown",
   "metadata": {},
   "source": [
    "## Find a closest integer with the same weight  \n",
    "weight of 10 -> 1010 -> is 2  \n",
    "closest integer of 10 with same weight is 1001 -> is 9  "
   ]
  },
  {
   "cell_type": "code",
   "execution_count": 28,
   "metadata": {},
   "outputs": [],
   "source": [
    "//should be unsigned before these but jupyter doesnt like that\n",
    "long closest_integer_same_weight(long x)\n",
    "{\n",
    "    for (int i = 0; i < sizeof(x) * 8 - 1; i++)\n",
    "    {\n",
    "        if (((x >> i) & 1) != ((x >> (i + 1)) & 1))\n",
    "        {\n",
    "            x ^= (1 << i) | (1 << (i + 1));\n",
    "            return x;\n",
    "        }\n",
    "    }\n",
    "    //if (x == 0 || x == ~0) \n",
    "\treturn x;\n",
    "}"
   ]
  },
  {
   "cell_type": "code",
   "execution_count": 29,
   "metadata": {},
   "outputs": [
    {
     "data": {
      "text/plain": [
       "9"
      ]
     },
     "execution_count": 29,
     "metadata": {},
     "output_type": "execute_result"
    }
   ],
   "source": [
    "closest_integer_same_weight(10) //takes linear time"
   ]
  },
  {
   "cell_type": "code",
   "execution_count": 30,
   "metadata": {},
   "outputs": [],
   "source": [
    "//should be unsigned before these but jupyter doesnt like that\n",
    "//very genius solution\n",
    "//study -> does in O(1) time\n",
    "long closest_integer_same_weight_2(long x)\n",
    "{\n",
    "    long m0 = ~x & (x + 1); //gives first 0\n",
    "    long m1 = x & ~(x - 1); //gives first 1\n",
    "\n",
    "    if (m0 > m1) {\n",
    "        x |= m0; //adding 1 to zero bit -> 1\n",
    "        x ^= m0 >> 1; //adding 1 to 1 bit -> 0\n",
    "    }\n",
    "    else {\n",
    "        x ^= m1; //adding 1 to 1 bit -> 0\n",
    "        x |= m1 >> 1; //adding 1 to 0 bit -> 1\n",
    "    }\n",
    "    return x;\n",
    "}"
   ]
  },
  {
   "cell_type": "code",
   "execution_count": 31,
   "metadata": {},
   "outputs": [
    {
     "data": {
      "text/plain": [
       "9"
      ]
     },
     "execution_count": 31,
     "metadata": {},
     "output_type": "execute_result"
    }
   ],
   "source": [
    "closest_integer_same_weight_2(10)"
   ]
  },
  {
   "cell_type": "code",
   "execution_count": 32,
   "metadata": {},
   "outputs": [],
   "source": [
    "long closest_integer_same_weight_3(long x)\n",
    "{\n",
    "    long m = ( (~x & (x+1)) | (x & ~(x-1) ) );\n",
    "    return m^x;\n",
    "}"
   ]
  },
  {
   "cell_type": "code",
   "execution_count": 33,
   "metadata": {},
   "outputs": [
    {
     "data": {
      "text/plain": [
       "9"
      ]
     },
     "execution_count": 33,
     "metadata": {},
     "output_type": "execute_result"
    }
   ],
   "source": [
    "closest_integer_same_weight_3(10)"
   ]
  },
  {
   "cell_type": "markdown",
   "metadata": {},
   "source": [
    "# Add & Multipy"
   ]
  },
  {
   "cell_type": "code",
   "execution_count": 34,
   "metadata": {},
   "outputs": [],
   "source": [
    "int add(int x, int y)\n",
    "{\n",
    "    int xo = x;\n",
    "    int an = y;\n",
    "\n",
    "    do\n",
    "    {\n",
    "        int tmp = xo;\n",
    "        xo = xo ^ an;\n",
    "        an = (tmp & an) << 1;\n",
    "\n",
    "    } while (an);\n",
    "\n",
    "    return xo;\n",
    "}"
   ]
  },
  {
   "cell_type": "code",
   "execution_count": 35,
   "metadata": {},
   "outputs": [
    {
     "data": {
      "text/plain": [
       "9"
      ]
     },
     "execution_count": 35,
     "metadata": {},
     "output_type": "execute_result"
    }
   ],
   "source": [
    "add(6,3)"
   ]
  },
  {
   "cell_type": "raw",
   "metadata": {},
   "source": [
    "// easy way to add -> convert to binary\n",
    "int add(int x, int y)\n",
    "{   \n",
    "    int sum = 0, tmp_x = x, tmp_y = y, k = 1, carry = 0;\n",
    "    while(tmp_x || tmp_y)\n",
    "    {\n",
    "        int kx = x & k;\n",
    "        int ky = y & k;\n",
    "        sum |= kx ^ ky ^ carry;\n",
    "        \n",
    "        carry = ((kx & ky) | (kx & carry) | (ky & carry)) << 1; \n",
    "        k <<= 1;\n",
    "        tmp_x >>=1; tmp_y >>=1;\n",
    "    }\n",
    "    \n",
    "    return sum | carry;\n",
    "}\n"
   ]
  },
  {
   "cell_type": "code",
   "execution_count": 36,
   "metadata": {},
   "outputs": [],
   "source": [
    "int multiply_2(int x, int y)\n",
    "{\n",
    "    int sum = 0;\n",
    "    \n",
    "    while(y)\n",
    "    {\n",
    "        int tmp = (y&1) * x;\n",
    "        sum = add(tmp, sum);\n",
    "        x <<= 1;\n",
    "        y >>= 1;\n",
    "    }\n",
    "    \n",
    "    return sum;\n",
    "}"
   ]
  },
  {
   "cell_type": "code",
   "execution_count": 37,
   "metadata": {},
   "outputs": [],
   "source": [
    "// easy way to multiply -> convert to binary\n",
    "/*\n",
    "  10 = x\n",
    "x 11 = y\n",
    "*/\n",
    "\n",
    "int multiply(int x, int y)\n",
    "{\n",
    "    int sum = 0;\n",
    "    while(y)\n",
    "    {\n",
    "        if(y & 1)\n",
    "        {\n",
    "            sum = add(sum, x);\n",
    "        }\n",
    "        \n",
    "        x <<= 1;\n",
    "        y >>= 1;\n",
    "    }\n",
    "    \n",
    "    return sum;\n",
    "}"
   ]
  },
  {
   "cell_type": "code",
   "execution_count": 38,
   "metadata": {},
   "outputs": [
    {
     "name": "stdout",
     "output_type": "stream",
     "text": [
      "5\n"
     ]
    }
   ],
   "source": [
    "std::cout << add(3, 2) << std::endl;"
   ]
  },
  {
   "cell_type": "code",
   "execution_count": 39,
   "metadata": {},
   "outputs": [],
   "source": [
    "// even more elegant add\n",
    "// https://stackoverflow.com/a/4068918\n",
    "\n",
    "int add_2(int x, int y)\n",
    "{\n",
    "    int result = x ^ y;\n",
    "    int carry = x & y;\n",
    "    \n",
    "    while(carry)\n",
    "    {\n",
    "        int tmp = result;\n",
    "        result = (carry << 1) ^ result;\n",
    "        carry  = (carry << 1) & tmp;\n",
    "        \n",
    "        /*\n",
    "        carry <<= 1;\n",
    "        int new_carry = carry & result;\n",
    "        result = result ^ carry;\n",
    "        carry = new_carry;\n",
    "        */\n",
    "        /*\n",
    "        //same thing\n",
    "        int shifted_carry = carry << 1;\n",
    "        result = result ^ shifted_carry;\n",
    "        carry = result & shifted_carry;\n",
    "        */\n",
    "        \n",
    "    }\n",
    "    return result;\n",
    "}"
   ]
  },
  {
   "cell_type": "code",
   "execution_count": 40,
   "metadata": {},
   "outputs": [
    {
     "name": "stdout",
     "output_type": "stream",
     "text": [
      "6\n",
      "16\n"
     ]
    }
   ],
   "source": [
    "{\n",
    "    std::cout << add_2(8, -2) << std::endl;\n",
    "    std::cout << multiply(2, 8) << std::endl;\n",
    "}"
   ]
  },
  {
   "cell_type": "raw",
   "metadata": {},
   "source": [
    "How about for dividing?\n",
    "Always think binary and powers of 2\n",
    "\n",
    "\n",
    "Think through formula: 25/4\n",
    "25/4 = (24+1)/4 = 24/4 + 1/4\n",
    "-> \n",
    "x/y = closest_num<x/y + remainder/y\n",
    "\n",
    "\n",
    "What is divison? x/y\n",
    "Tries to find how many times y fits into x, and the remaining extra times"
   ]
  },
  {
   "cell_type": "markdown",
   "metadata": {},
   "source": [
    "Fundamental level: repeated subtractions   \n",
    "Try to do less number of subtractions"
   ]
  },
  {
   "cell_type": "code",
   "execution_count": 41,
   "metadata": {},
   "outputs": [],
   "source": [
    "// x / y\n",
    "int divide_1(int x, int y)\n",
    "{\n",
    "    int shift = 32;\n",
    "    int result = 0;\n",
    "    \n",
    "    while(x >= y)\n",
    "    {\n",
    "        while((y * (1 << shift)) > x)\n",
    "            shift--;\n",
    "        result += 1 << shift;\n",
    "        x -= (y * (1 << shift)); //(y * (1 << shift)) is the same as (y  << shift)\n",
    "    }\n",
    "    \n",
    "    std::cout << \"Remainder: \" << x << std::endl;\n",
    "    return result;\n",
    "}"
   ]
  },
  {
   "cell_type": "code",
   "execution_count": 42,
   "metadata": {},
   "outputs": [],
   "source": [
    "int divide(int x, int y_)\n",
    "{\n",
    "    int quotient = 0;\n",
    "    int shift = 32;\n",
    "    long long y = y_; //long long gaurentees at least 8 bytes\n",
    "\n",
    "    while (x >= y)\n",
    "    {\n",
    "        while ((y << shift) > x)\n",
    "            shift--;\n",
    "\n",
    "        quotient += 1 << shift;\n",
    "        x -= (y << shift);\n",
    "    }\n",
    "    \n",
    "    //shift will be remainder\n",
    "    return quotient;\n",
    "}"
   ]
  },
  {
   "cell_type": "code",
   "execution_count": 43,
   "metadata": {},
   "outputs": [
    {
     "data": {
      "text/plain": [
       "33"
      ]
     },
     "execution_count": 43,
     "metadata": {},
     "output_type": "execute_result"
    }
   ],
   "source": [
    "divide(100, 3)"
   ]
  },
  {
   "cell_type": "markdown",
   "metadata": {},
   "source": [
    "a___b -> replace with binary\n",
    "\n",
    "Btw MSB is a (most significant bit)  \n",
    "and LSB is b (least significant bit)  "
   ]
  },
  {
   "cell_type": "markdown",
   "metadata": {},
   "source": [
    "## Bit Trick: Adding same thing 2 times, 4 times, etc.\n",
    "\n",
    "Small number to big:  \n",
    "110 + 110 = 1100 -> why? Equivalent of 110 << 1 (or times 2)  \n",
    "11 + 11 + 11 + 11 = 1100 -> why? Equivalent of 110 << 1 (or times 2)  \n",
    "\n",
    "Big number to small:\n",
    "Think what number here what satisify big number  \n",
    "What number can I bitshift by __ units to get big number?  \n",
    "1100 = 11 << 4 = 11 + 11 + 11 + 11  \n",
    "101 = 10 << 1 + 1 cuz of the remainder\n",
    "\n",
    "so if val & 1 -> (val >> 1) << 1 + 1  "
   ]
  },
  {
   "cell_type": "markdown",
   "metadata": {},
   "source": [
    "How to compute $x^y$\n",
    "\n",
    "Think fundamentally, what is $x^y$, just $x$ times itself $(y-1)$ times  \n",
    "\n",
    "Since $101 + 101 = 1010$   \n",
    "$x^{1010} = x^{101} * x^{101}$  \n",
    "$x^{1100} = x^{11} * x^{11} * x^{11} * x^{11}$\n",
    "\n",
    "$x^{1011} = x^{101} * x^{101} * x$  or $(101 << 1) + x$ but keep in mind (x << 1) != (x * x), x * x is used here  \n",
    "$x^{1101} = x^{11} * x^{11} * x^{11} * x^{11} * x$ or $(11 << 2) + 1$  "
   ]
  },
  {
   "cell_type": "markdown",
   "metadata": {},
   "source": [
    "Fundamental level: repeated multiplications   \n",
    "Try to do less number of multiplications"
   ]
  },
  {
   "cell_type": "markdown",
   "metadata": {},
   "source": [
    "Exponentiation by Squaring:"
   ]
  },
  {
   "cell_type": "code",
   "execution_count": 44,
   "metadata": {},
   "outputs": [],
   "source": [
    "// x^y\n",
    "int power(int x, int y)\n",
    "{\n",
    "    //fundamentall think about 5^6 = 5^111\n",
    "    //5^111 = 5^100 * 5^10 * 5^1\n",
    "    // = 5^4 * 5*2 * 5^1 -> repeated squaring\n",
    "    \n",
    "    int result = 1;\n",
    "    while(y)\n",
    "    {\n",
    "        if(y & 1)\n",
    "            result *= x;\n",
    "        \n",
    "        x *= x;\n",
    "        y >>= 1;\n",
    "    }\n",
    "    return result;\n",
    "}"
   ]
  },
  {
   "cell_type": "code",
   "execution_count": 45,
   "metadata": {},
   "outputs": [
    {
     "data": {
      "text/plain": [
       "1024"
      ]
     },
     "execution_count": 45,
     "metadata": {},
     "output_type": "execute_result"
    }
   ],
   "source": [
    "power(2,10)"
   ]
  },
  {
   "cell_type": "code",
   "execution_count": 46,
   "metadata": {},
   "outputs": [],
   "source": [
    "int power_2(int x, int y)\n",
    "{\n",
    "    if(!y)\n",
    "        return 1;\n",
    "    \n",
    "    int temp = power_2(x, y/2);\n",
    "    \n",
    "    if(y & 1) \n",
    "        return x * temp * temp;\n",
    "    \n",
    "    return temp * temp;\n",
    "}"
   ]
  },
  {
   "cell_type": "code",
   "execution_count": 47,
   "metadata": {},
   "outputs": [
    {
     "data": {
      "text/plain": [
       "1024"
      ]
     },
     "execution_count": 47,
     "metadata": {},
     "output_type": "execute_result"
    }
   ],
   "source": [
    "power_2(2, 10)"
   ]
  },
  {
   "cell_type": "code",
   "execution_count": 48,
   "metadata": {},
   "outputs": [],
   "source": [
    "int reverse(int p)\n",
    "{\n",
    "    int a = p;\n",
    "    std::string b = std::to_string(a < 0 ? 0 - a : a);\n",
    "    std::string c = \"\";\n",
    "\n",
    "    for (char d : b)\n",
    "        c = d + c;\n",
    "\n",
    "    int r = std::stoi(p < 0 ? \"-\" + c : c);\n",
    "\n",
    "    return r;\n",
    "}"
   ]
  },
  {
   "cell_type": "code",
   "execution_count": 49,
   "metadata": {},
   "outputs": [],
   "source": [
    "int reverse_2(int p)\n",
    "{\n",
    "    int r = 0;\n",
    "\n",
    "    while (p)\n",
    "    {\n",
    "        r = r * 10 + p % 10;\n",
    "        p /= 10;\n",
    "    }\n",
    "\n",
    "    return r;\n",
    "}"
   ]
  },
  {
   "cell_type": "markdown",
   "metadata": {},
   "source": [
    "Palindrome:\n",
    "number of digits = n = floor(log_10(x)) + 1\n",
    "x%10 -> last digit\n",
    "x / 10 ^ n-1 -> first digit"
   ]
  },
  {
   "cell_type": "code",
   "execution_count": 50,
   "metadata": {},
   "outputs": [],
   "source": [
    "#include <cmath>\n",
    "\n",
    "bool palindrome(int x)\n",
    "{\n",
    "    int n = static_cast<int>(std::floor(std::log(x)/std::log(10) + 1));\n",
    "    int mask = static_cast<int>(std::pow(10, n - 1));\n",
    "    \n",
    "    for(int i = 0; i < n/2; i++)\n",
    "    {\n",
    "        if (x / mask != x % 10)\n",
    "            return false;\n",
    "        \n",
    "        x /= 10; // removes last digit\n",
    "        x %= mask; //removes first digit\n",
    "        mask /= 100;\n",
    "    }\n",
    "    return true;\n",
    "}"
   ]
  },
  {
   "cell_type": "code",
   "execution_count": 51,
   "metadata": {},
   "outputs": [
    {
     "data": {
      "text/plain": [
       "true"
      ]
     },
     "execution_count": 51,
     "metadata": {},
     "output_type": "execute_result"
    }
   ],
   "source": [
    "palindrome(101)"
   ]
  },
  {
   "cell_type": "raw",
   "metadata": {},
   "source": [
    "Modular division sinks in:  \n",
    " 423  \n",
    "%100  \n",
    "=23  \n",
    "\n",
    "to numbers less than the modulo\n",
    "\n",
    " 3\n",
    "%2\n",
    "=1"
   ]
  },
  {
   "cell_type": "code",
   "execution_count": 52,
   "metadata": {},
   "outputs": [],
   "source": [
    "int ZeroOneRandom(int max = 1, int min = 0)\n",
    "{\n",
    "    srand(time(0));\n",
    "    double r = (((double)rand()) / (((double)RAND_MAX) + 1)) * (max - min + 1) + min;\n",
    "    // [0, 1) * (max - min + 1) + min = [0, (max - min + 1)) + min) = [0, max + 1)\n",
    "    return r;\n",
    "}"
   ]
  },
  {
   "cell_type": "code",
   "execution_count": 53,
   "metadata": {},
   "outputs": [],
   "source": [
    "int uniform_random(int lower_bound, int upper_bound)\n",
    "{\n",
    "    int max = upper_bound - lower_bound;\n",
    "    int r = 0;\n",
    "\n",
    "    do\n",
    "    {\n",
    "        r = 0;\n",
    "        int n_bits = (int)std::floor(std::log(max) / std::log(2) + 1);\n",
    "        for (int i = 0; i < n_bits; i++)\n",
    "            r = (r << 1) | ZeroOneRandom();\n",
    "    } while (r > max);\n",
    "\n",
    "    return r + lower_bound;\n",
    "}"
   ]
  },
  {
   "cell_type": "code",
   "execution_count": 54,
   "metadata": {},
   "outputs": [
    {
     "data": {
      "text/plain": [
       "0"
      ]
     },
     "execution_count": 54,
     "metadata": {},
     "output_type": "execute_result"
    }
   ],
   "source": [
    "uniform_random(0, 4)"
   ]
  },
  {
   "cell_type": "code",
   "execution_count": 55,
   "metadata": {},
   "outputs": [
    {
     "data": {
      "text/plain": [
       "0"
      ]
     },
     "execution_count": 55,
     "metadata": {},
     "output_type": "execute_result"
    }
   ],
   "source": [
    "ZeroOneRandom()"
   ]
  },
  {
   "cell_type": "code",
   "execution_count": 56,
   "metadata": {},
   "outputs": [],
   "source": [
    "struct Rectangle\n",
    "{\n",
    "    int x, y, w, h;\n",
    "}"
   ]
  },
  {
   "cell_type": "code",
   "execution_count": 57,
   "metadata": {},
   "outputs": [],
   "source": [
    "//Think visually for visual problems\n",
    "//draw rectangles to explore edge cases\n",
    "//go a single dimension at a time\n",
    "\n",
    "bool intersect(const Rectangle& a, const Rectangle& b)\n",
    "{\n",
    "    return \n",
    "        a.x + a.w >= b.x && b.x + b.w >= a.w &&\n",
    "        a.y + a.h >= b.y && b.y + b.h >= a.y;\n",
    "        \n",
    "}"
   ]
  },
  {
   "cell_type": "code",
   "execution_count": 58,
   "metadata": {},
   "outputs": [],
   "source": [
    "Rectangle intersectRectangle(const Rectangle& a, const Rectangle& b)\n",
    "{\n",
    "    if(!intersect(a, b))\n",
    "        return {0, 0, -1, -1};\n",
    "    \n",
    "    return  {std::max(a.x, b.x), std::max(a.y, b.y), \n",
    "            std::min(a.x + a.w, b.x + b.w) - std::max(a.x, b.x),\n",
    "            std::min(a.y + a.h, b.y + b.h) - std::max(a.y, b.y)};\n",
    "}"
   ]
  },
  {
   "cell_type": "code",
   "execution_count": null,
   "metadata": {},
   "outputs": [],
   "source": []
  }
 ],
 "metadata": {
  "kernelspec": {
   "display_name": "C++11",
   "language": "C++11",
   "name": "xeus-cling-cpp11"
  },
  "language_info": {
   "codemirror_mode": "text/x-c++src",
   "file_extension": ".cpp",
   "mimetype": "text/x-c++src",
   "name": "c++",
   "version": "-std=c++11"
  }
 },
 "nbformat": 4,
 "nbformat_minor": 2
}
