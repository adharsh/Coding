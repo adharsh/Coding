{
 "cells": [
  {
   "cell_type": "markdown",
   "metadata": {},
   "source": [
    "* Always consider end case when for loop finishes, have you covered all cases  \n",
    "* Similar to arrays, solutions are often O(n) but can reduce space to O(1)  \n",
    "* Try writing values from the back  \n",
    "* To do reverse, can keep inserting at the same position  \n",
    "* Isolate problem into two steps like replace and remove  \n",
    "    * Make array smaller\n",
    "    * Then make array bigger\n",
    "* Iterating over array with complex logic, use while loop trick #6.6, 6.8, 6.9\n",
    "    * Note the: `int beg = i++;`"
   ]
  },
  {
   "cell_type": "markdown",
   "metadata": {},
   "source": [
    "# Palindrome"
   ]
  },
  {
   "cell_type": "code",
   "execution_count": 1,
   "metadata": {},
   "outputs": [],
   "source": [
    "#include <iostream>\n",
    "#include <string>\n",
    "\n",
    "bool isPalindrome(const std::string s)\n",
    "{\n",
    "    for(int i = 0, j = s.size() - 1; i < j; i++, j--)\n",
    "        if(s[i] != s[j])\n",
    "            return false;\n",
    "    return true;\n",
    "}"
   ]
  },
  {
   "cell_type": "code",
   "execution_count": 2,
   "metadata": {},
   "outputs": [
    {
     "data": {
      "text/plain": [
       "true"
      ]
     },
     "execution_count": 2,
     "metadata": {},
     "output_type": "execute_result"
    }
   ],
   "source": [
    "isPalindrome(\"racecar\")"
   ]
  },
  {
   "cell_type": "markdown",
   "metadata": {},
   "source": [
    "C++ Strings Notes"
   ]
  },
  {
   "cell_type": "code",
   "execution_count": 3,
   "metadata": {},
   "outputs": [
    {
     "data": {
      "text/plain": [
       "true"
      ]
     },
     "execution_count": 3,
     "metadata": {},
     "output_type": "execute_result"
    }
   ],
   "source": [
    "'\\0' == 0"
   ]
  },
  {
   "cell_type": "code",
   "execution_count": 5,
   "metadata": {},
   "outputs": [
    {
     "data": {
      "text/plain": [
       "\"      \""
      ]
     },
     "execution_count": 5,
     "metadata": {},
     "output_type": "execute_result"
    }
   ],
   "source": [
    "// Creating emptry string\n",
    "std::string(6, ' ')"
   ]
  },
  {
   "cell_type": "code",
   "execution_count": 4,
   "metadata": {},
   "outputs": [
    {
     "name": "stdout",
     "output_type": "stream",
     "text": [
      "abc\n",
      "abcdef\n",
      "abcGauss\n",
      "abcGaussP\n",
      "abcGauss\n",
      "abcG...auss\n",
      "abcG....auss\n",
      "abcGauss\n",
      "1\n",
      "345\n",
      "-234\n",
      "-234\n",
      "abcGauss"
     ]
    }
   ],
   "source": [
    "#include <iostream>\n",
    "#include <string>\n",
    "\n",
    "{\n",
    "    std::string s = \"abc\";\n",
    "    std::cout << s << std::endl;\n",
    "\n",
    "    std::cout << s + \"def\"<< std::endl;\n",
    "\n",
    "    std::cout << s.append(\"Gauss\") << std::endl; //in-place\n",
    "\n",
    "    s.push_back('P'); //in-place\n",
    "    std::cout << s << std::endl; \n",
    "\n",
    "    s.pop_back(); //in-place\n",
    "    std::cout << s << std::endl; \n",
    "\n",
    "    s.insert(4, \"...\"); //in-place\n",
    "    std::cout << s << std::endl; \n",
    "\n",
    "    s.insert(4, std::string(\"...\").substr(2)); //in-place\n",
    "    std::cout << s << std::endl; \n",
    "    \n",
    "    s.erase(s.begin() + 4, s.begin() + 8); //in-place\n",
    "    std::cout << s << std::endl; \n",
    "    \n",
    "    //x.compare(y) -> \n",
    "        //0 -> equal\n",
    "        //<0 -> x < y lexonically first characters\n",
    "        //>0 -> x > y\n",
    "    std::cout << std::string(\"abce\").compare(std::string(\"abcd\")) << std::endl; //1\n",
    "    std::cout << std::string(\"012345\").substr(3, 3) << std::endl; //pos, len\n",
    "    std::cout << std::stoi(\"-234\") << std::endl;\n",
    "    std::cout << std::to_string(-234) << std::endl;\n",
    "    \n",
    "//     c strings are null terminated\n",
    "//     s.size also exlcudes null character\n",
    "    const char* p = s.c_str();\n",
    "    std::cout << p;\n",
    "}"
   ]
  },
  {
   "cell_type": "markdown",
   "metadata": {},
   "source": [
    "# Reverse each word in a sentence"
   ]
  },
  {
   "cell_type": "markdown",
   "metadata": {},
   "source": [
    "In place"
   ]
  },
  {
   "cell_type": "code",
   "execution_count": 5,
   "metadata": {},
   "outputs": [],
   "source": [
    "void reverse_sentence(std::string& s)\n",
    "{    \n",
    "    int i = 0;\n",
    "    int p = 0;\n",
    "    while(i < s.size())\n",
    "    {\n",
    "//         skip whitespace and get to first word character\n",
    "        while(s[i] == ' ')\n",
    "        {\n",
    "            i++;\n",
    "            p++;\n",
    "        }\n",
    "//         skip word and get to last word character\n",
    "        while(i < s.size() && s[i] != ' ')\n",
    "            i++;\n",
    "        \n",
    "//         reverse word\n",
    "        for(int j = p; j < (p + i)/2; j++)\n",
    "            std::swap(s[j], s[i - 1 - (j - p)]);\n",
    "        \n",
    "        p = i;\n",
    "    }\n",
    "}"
   ]
  },
  {
   "cell_type": "code",
   "execution_count": 6,
   "metadata": {},
   "outputs": [
    {
     "name": "stdout",
     "output_type": "stream",
     "text": [
      "   dcba   gfe   ih   j   \n"
     ]
    }
   ],
   "source": [
    "#include <iostream>\n",
    "\n",
    "{\n",
    "    std::string a = \"   abcd   efg   hi   j   \";\n",
    "    reverse_sentence(a);\n",
    "    std::cout << a << std::endl;\n",
    "}"
   ]
  },
  {
   "cell_type": "markdown",
   "metadata": {},
   "source": [
    "Creating a new string"
   ]
  },
  {
   "cell_type": "code",
   "execution_count": 7,
   "metadata": {},
   "outputs": [],
   "source": [
    "std::string reverse_sentence(const std::string s)\n",
    "{\n",
    "    std::string a = \"\";\n",
    "    \n",
    "    unsigned int pos = 0;\n",
    "    for(unsigned int i = 0; i < s.size(); i++)\n",
    "    {\n",
    "        if(s[i] == ' ')\n",
    "        {\n",
    "            pos = i;\n",
    "            a.insert(pos++, 1, ' ');\n",
    "        } else {\n",
    "//             notice how pos doesn't increase\n",
    "            a.insert(pos, 1, s[i]);\n",
    "        }\n",
    "    }\n",
    "    return a;\n",
    "}"
   ]
  },
  {
   "cell_type": "code",
   "execution_count": 8,
   "metadata": {},
   "outputs": [
    {
     "data": {
      "text/plain": [
       "\"   dcba ihgfe nmlkj\""
      ]
     },
     "execution_count": 8,
     "metadata": {},
     "output_type": "execute_result"
    }
   ],
   "source": [
    "reverse_sentence(\"   abcd efghi jklmn\")"
   ]
  },
  {
   "cell_type": "code",
   "execution_count": 9,
   "metadata": {},
   "outputs": [
    {
     "name": "stdout",
     "output_type": "stream",
     "text": [
      "nmlkj ihgfe dcba"
     ]
    }
   ],
   "source": [
    "{\n",
    "    std::string a = \"abcd efghi jklmn\";\n",
    "    reverse(a.begin(), a.end());\n",
    "    std::cout << a;\n",
    "}"
   ]
  },
  {
   "cell_type": "markdown",
   "metadata": {},
   "source": [
    "# 6.1 Interconvert Strings and Integers"
   ]
  },
  {
   "cell_type": "markdown",
   "metadata": {},
   "source": [
    "# string_to_int method"
   ]
  },
  {
   "cell_type": "code",
   "execution_count": 10,
   "metadata": {},
   "outputs": [],
   "source": [
    "#include <string> \n",
    "\n",
    "int string_to_int(const std::string& s)\n",
    "{\n",
    "    int is_neg_idx = s[0] == '-' ? 1 : 0;\n",
    "    int num = 0;\n",
    "    \n",
    "    for(int i = is_neg_idx; i < s.size(); i++)\n",
    "        num = num * 10 + (s[i] - '0');\n",
    "    \n",
    "    return is_neg_idx? -1 * num : num;\n",
    "}"
   ]
  },
  {
   "cell_type": "code",
   "execution_count": 11,
   "metadata": {},
   "outputs": [
    {
     "data": {
      "text/plain": [
       "0"
      ]
     },
     "execution_count": 11,
     "metadata": {},
     "output_type": "execute_result"
    }
   ],
   "source": [
    "string_to_int(\"0\")"
   ]
  },
  {
   "cell_type": "code",
   "execution_count": 12,
   "metadata": {},
   "outputs": [
    {
     "data": {
      "text/plain": [
       "0"
      ]
     },
     "execution_count": 12,
     "metadata": {},
     "output_type": "execute_result"
    }
   ],
   "source": [
    "string_to_int(\"-0\")"
   ]
  },
  {
   "cell_type": "code",
   "execution_count": 13,
   "metadata": {},
   "outputs": [
    {
     "data": {
      "text/plain": [
       "-123"
      ]
     },
     "execution_count": 13,
     "metadata": {},
     "output_type": "execute_result"
    }
   ],
   "source": [
    "string_to_int(\"-000123\")"
   ]
  },
  {
   "cell_type": "code",
   "execution_count": 14,
   "metadata": {},
   "outputs": [
    {
     "data": {
      "text/plain": [
       "123"
      ]
     },
     "execution_count": 14,
     "metadata": {},
     "output_type": "execute_result"
    }
   ],
   "source": [
    "string_to_int(\"123\")"
   ]
  },
  {
   "cell_type": "markdown",
   "metadata": {},
   "source": [
    "# int_to_string method"
   ]
  },
  {
   "cell_type": "code",
   "execution_count": 15,
   "metadata": {},
   "outputs": [],
   "source": [
    "#include <string>\n",
    "\n",
    "std::string int_to_string_wrong(int num)\n",
    "{\n",
    "    int is_neg_idx = num < 0 ? 1 : 0;\n",
    "    std::string s;\n",
    "    num = std::abs(num);\n",
    "    int length = std::log(num)/std::log(10) + 1;\n",
    "    \n",
    "    for(int i = 0; i < length; i++)\n",
    "    {\n",
    "        s.insert(0, std::string(1, num % 10 + '0'));\n",
    "        num /= 10;\n",
    "    }\n",
    "    \n",
    "    if(is_neg_idx)\n",
    "        s.insert(0, std::string(1, '-'));\n",
    "    \n",
    "    return s;\n",
    "}"
   ]
  },
  {
   "cell_type": "code",
   "execution_count": 16,
   "metadata": {},
   "outputs": [
    {
     "data": {
      "text/plain": [
       "\"\""
      ]
     },
     "execution_count": 16,
     "metadata": {},
     "output_type": "execute_result"
    }
   ],
   "source": [
    "int_to_string_wrong(0)"
   ]
  },
  {
   "cell_type": "markdown",
   "metadata": {},
   "source": [
    "^can't assume log is constant time  \n",
    "also can't take the log of 0"
   ]
  },
  {
   "cell_type": "code",
   "execution_count": 17,
   "metadata": {},
   "outputs": [],
   "source": [
    "#include <string>\n",
    "\n",
    "std::string int_to_string(int num)\n",
    "{\n",
    "    if(num == 0) return \"0\";\n",
    "    \n",
    "    int is_neg_idx = num < 0 ? 1 : 0;\n",
    "    std::string s;\n",
    "    num = std::abs(num);\n",
    "    \n",
    "    int i = 0;\n",
    "    while(num > 0)\n",
    "    {\n",
    "        s.insert(0, std::string(1, num % 10 + '0'));\n",
    "        num /= 10;\n",
    "        i++;\n",
    "    }\n",
    "\n",
    "    if(is_neg_idx)\n",
    "        s.insert(0, std::string(1, '-'));\n",
    "\n",
    "    return s;\n",
    "}"
   ]
  },
  {
   "cell_type": "code",
   "execution_count": 18,
   "metadata": {},
   "outputs": [
    {
     "data": {
      "text/plain": [
       "\"0\""
      ]
     },
     "execution_count": 18,
     "metadata": {},
     "output_type": "execute_result"
    }
   ],
   "source": [
    "int_to_string(0)"
   ]
  },
  {
   "cell_type": "code",
   "execution_count": 19,
   "metadata": {},
   "outputs": [],
   "source": [
    "std::string int_to_string2(int x)\n",
    "{\n",
    "    if(x == 0) return \"0\";\n",
    "    \n",
    "    bool is_neg = x < 0;\n",
    "    x = std::abs(x);\n",
    "    int size = std::log(x) / std::log(10) + 1 + (int)(is_neg);\n",
    "    char* p = new char[size + 1];\n",
    "    \n",
    "    for (int i = size - 1; i >= 0; i--)\n",
    "    {\n",
    "        p[i] = '0' + x % 10;\n",
    "        x /= 10;\n",
    "    }\n",
    "    \n",
    "    if (is_neg)\n",
    "        p[0] = '-';\n",
    "    \n",
    "    p[size] = '\\0';\n",
    "    \n",
    "    std::string a(p);\n",
    "    delete[] p;\n",
    "    \n",
    "    return a;\n",
    "}"
   ]
  },
  {
   "cell_type": "code",
   "execution_count": 20,
   "metadata": {},
   "outputs": [
    {
     "data": {
      "text/plain": [
       "\"10\""
      ]
     },
     "execution_count": 20,
     "metadata": {},
     "output_type": "execute_result"
    }
   ],
   "source": [
    "int_to_string2(10)"
   ]
  },
  {
   "cell_type": "code",
   "execution_count": 21,
   "metadata": {},
   "outputs": [
    {
     "data": {
      "text/plain": [
       "\"-10\""
      ]
     },
     "execution_count": 21,
     "metadata": {},
     "output_type": "execute_result"
    }
   ],
   "source": [
    "int_to_string2(-10)"
   ]
  },
  {
   "cell_type": "code",
   "execution_count": 22,
   "metadata": {},
   "outputs": [
    {
     "name": "stdout",
     "output_type": "stream",
     "text": [
      "a\n"
     ]
    }
   ],
   "source": [
    "#include <iostream>\n",
    "{\n",
    "    char p[2] = {'a', '\\0'};\n",
    "    std::cout << std::string(p) << std::endl;\n",
    "}"
   ]
  },
  {
   "cell_type": "markdown",
   "metadata": {},
   "source": [
    "# 6.2 Base Conversion"
   ]
  },
  {
   "cell_type": "code",
   "execution_count": 23,
   "metadata": {},
   "outputs": [],
   "source": [
    "#include <string>\n",
    "\n",
    "std::string ConvertBase(const std::string& s, int b1, int b2)\n",
    "{\n",
    "    if(s == \"0\") return \"0\";\n",
    "    \n",
    "    int num_10 = 0;\n",
    "    int is_neg_idx = s[0] == '-'? 1 : 0;\n",
    "    for(int i = is_neg_idx; i < s.size(); i++)\n",
    "    {\n",
    "        int val = s[i] >= '0' && s[i] <= '9'? s[i] - '0' : s[i] - 'A' + 10;\n",
    "        num_10 = num_10 * b1 + val;\n",
    "    }\n",
    "        \n",
    "    \n",
    "    std::string ans;\n",
    "    while(num_10 > 0)\n",
    "    {\n",
    "        int val = num_10 % b2;\n",
    "        val = val > 9? val - 10 + 'A' : val + '0';\n",
    "        ans.insert(0, std::string(1, val));        \n",
    "        num_10 /= b2;\n",
    "    }\n",
    "    \n",
    "    if(is_neg_idx)\n",
    "        ans.insert(0, std::string(1, '-'));\n",
    "    \n",
    "    return ans;\n",
    "}"
   ]
  },
  {
   "cell_type": "code",
   "execution_count": 24,
   "metadata": {},
   "outputs": [
    {
     "data": {
      "text/plain": [
       "\"C5\""
      ]
     },
     "execution_count": 24,
     "metadata": {},
     "output_type": "execute_result"
    }
   ],
   "source": [
    "ConvertBase(\"A1\", 16, 13)"
   ]
  },
  {
   "cell_type": "markdown",
   "metadata": {},
   "source": [
    "How to use std::accumulate(begin, end, inital value, binary operation = +)   \n",
    "Like a friend function for += -> https://stackoverflow.com/a/16866221  \n",
    "Dollar &operator+=(Dollar &p1, const Dollar &p2)  \n",
    "(acc, val)  \n",
    "\n",
    "adds elements together  \n",
    "like fold in ocaml"
   ]
  },
  {
   "cell_type": "code",
   "execution_count": 25,
   "metadata": {},
   "outputs": [
    {
     "name": "stdout",
     "output_type": "stream",
     "text": [
      "5"
     ]
    }
   ],
   "source": [
    "#include <vector>\n",
    "#include <iostream>\n",
    "\n",
    "{\n",
    "    std::vector<int> a = {1, 2, 1, 1};\n",
    "    std::cout << std::accumulate(a.begin(), a.end(), 0);\n",
    "    //isdigit\n",
    "    //isalpha\n",
    "}"
   ]
  },
  {
   "cell_type": "code",
   "execution_count": 26,
   "metadata": {},
   "outputs": [
    {
     "data": {
      "text/plain": [
       "2"
      ]
     },
     "execution_count": 26,
     "metadata": {},
     "output_type": "execute_result"
    }
   ],
   "source": [
    "true + 1"
   ]
  },
  {
   "cell_type": "code",
   "execution_count": 27,
   "metadata": {},
   "outputs": [],
   "source": [
    "std::string constructFromBase(int num, int b2)\n",
    "{\n",
    "    return !num ? \"\" : constructFromBase(num/b2, b2) + \n",
    "                        (char)(num % b2 > 9 ? num % b2 - 10 + 'A' : num % b2 + '0');\n",
    "}"
   ]
  },
  {
   "cell_type": "code",
   "execution_count": 28,
   "metadata": {},
   "outputs": [],
   "source": [
    "#include <iterator>\n",
    "#include <iostream>\n",
    "#include <numeric>\n",
    "\n",
    "std::string convertbase(const std::string& num_s, int b1, int b2)\n",
    "{\n",
    "    bool is_negative = num_s[0] == '-'? true : false;\n",
    "    \n",
    "    //convert to base 10 first\n",
    "    int num10 = std::accumulate(std::begin(num_s) + is_negative, std::end(num_s), 0, \n",
    "                                     [b1](int acc, char c){ \n",
    "                                     return acc * b1 + (c >= '0'|| c <= '9' ? c - '0' : c - 'A' + 10);});\n",
    "    std::cout << num10 << std::endl;\n",
    "    return (is_negative? \"-\" : \"\") + \n",
    "        (!num10 ? \"0\" : constructFromBase(num10, b2));\n",
    "    \n",
    "}"
   ]
  },
  {
   "cell_type": "markdown",
   "metadata": {},
   "source": [
    "# 6.3 Compute the Spreadsheet Column Encoding & Decoding"
   ]
  },
  {
   "cell_type": "code",
   "execution_count": 29,
   "metadata": {},
   "outputs": [],
   "source": [
    "#include <string>\n",
    "\n",
    "int SSDecodeColID(const std::string& s)\n",
    "{\n",
    "    int num = 0;\n",
    "    for(int i = 0; i < s.size(); i++)\n",
    "        num = num * 26 + (s[i] - 'A' + 1);\n",
    "    \n",
    "    return num;\n",
    "}"
   ]
  },
  {
   "cell_type": "code",
   "execution_count": 30,
   "metadata": {},
   "outputs": [
    {
     "data": {
      "text/plain": [
       "4"
      ]
     },
     "execution_count": 30,
     "metadata": {},
     "output_type": "execute_result"
    }
   ],
   "source": [
    "SSDecodeColID(\"D\")"
   ]
  },
  {
   "cell_type": "code",
   "execution_count": 31,
   "metadata": {},
   "outputs": [
    {
     "data": {
      "text/plain": [
       "27"
      ]
     },
     "execution_count": 31,
     "metadata": {},
     "output_type": "execute_result"
    }
   ],
   "source": [
    "SSDecodeColID(\"AA\")"
   ]
  },
  {
   "cell_type": "code",
   "execution_count": 32,
   "metadata": {},
   "outputs": [
    {
     "data": {
      "text/plain": [
       "702"
      ]
     },
     "execution_count": 32,
     "metadata": {},
     "output_type": "execute_result"
    }
   ],
   "source": [
    "SSDecodeColID(\"ZZ\")"
   ]
  },
  {
   "cell_type": "code",
   "execution_count": 33,
   "metadata": {},
   "outputs": [],
   "source": [
    "#include <string>\n",
    "\n",
    "std::string SSEncodeColID(int num)\n",
    "{\n",
    "    std::string ans;\n",
    "    while(num > 0)\n",
    "    {\n",
    "        num -= 1;\n",
    "        ans.insert(0, std::string(1, num % 26 + 'A'));\n",
    "        num /= 26;\n",
    "    }\n",
    "        \n",
    "    \n",
    "    return ans;\n",
    "}"
   ]
  },
  {
   "cell_type": "code",
   "execution_count": 34,
   "metadata": {},
   "outputs": [
    {
     "data": {
      "text/plain": [
       "\"D\""
      ]
     },
     "execution_count": 34,
     "metadata": {},
     "output_type": "execute_result"
    }
   ],
   "source": [
    "SSEncodeColID(SSDecodeColID(\"D\"))"
   ]
  },
  {
   "cell_type": "code",
   "execution_count": 35,
   "metadata": {},
   "outputs": [
    {
     "data": {
      "text/plain": [
       "\"AA\""
      ]
     },
     "execution_count": 35,
     "metadata": {},
     "output_type": "execute_result"
    }
   ],
   "source": [
    "SSEncodeColID(SSDecodeColID(\"AA\"))"
   ]
  },
  {
   "cell_type": "code",
   "execution_count": 36,
   "metadata": {},
   "outputs": [
    {
     "data": {
      "text/plain": [
       "\"ZZ\""
      ]
     },
     "execution_count": 36,
     "metadata": {},
     "output_type": "execute_result"
    }
   ],
   "source": [
    "SSEncodeColID(SSDecodeColID(\"ZZ\"))"
   ]
  },
  {
   "cell_type": "markdown",
   "metadata": {},
   "source": [
    "# 6.4 Replace and Remove"
   ]
  },
  {
   "cell_type": "markdown",
   "metadata": {},
   "source": [
    "Is"
   ]
  },
  {
   "cell_type": "code",
   "execution_count": 37,
   "metadata": {},
   "outputs": [],
   "source": [
    "int ReplaceAndRemove(int size, char s[])\n",
    "{\n",
    "//     Remove b's\n",
    "//     Determine total size\n",
    "    int p = 0;\n",
    "    int num_a = 0;\n",
    "    for(int i = 0; i < size; i++)\n",
    "    {\n",
    "        if(s[i] != 'b')\n",
    "            s[p++] = s[i];\n",
    "        if(s[i] == 'a')\n",
    "            num_a++;\n",
    "    }\n",
    "    \n",
    "    int final_size = p + num_a;\n",
    "    int end_p = final_size - 1;\n",
    "    for(int i = p - 1; i >= 0; i--)\n",
    "    {\n",
    "        if(s[i] == 'a')\n",
    "        {\n",
    "            s[end_p--] = 'd';\n",
    "            s[end_p--] = 'd';\n",
    "        }\n",
    "        else\n",
    "        {\n",
    "            s[end_p--] = s[i];\n",
    "        }\n",
    "    }\n",
    "    \n",
    "   return final_size;\n",
    "}"
   ]
  },
  {
   "cell_type": "code",
   "execution_count": 38,
   "metadata": {},
   "outputs": [
    {
     "name": "stdout",
     "output_type": "stream",
     "text": [
      "d c d d d d d "
     ]
    }
   ],
   "source": [
    "#include <iostream>\n",
    "\n",
    "{\n",
    "    char a[100] = {'b', 'd', 'c', 'a', 'b', 'a','d'};\n",
    "//     char a[100] = {'b', 'd', 'c'};\n",
    "    int size = ReplaceAndRemove(7, a);\n",
    "    \n",
    "    for(int i = 0; i < size; i++)\n",
    "        std::cout << a[i] << \" \";\n",
    "}"
   ]
  },
  {
   "cell_type": "markdown",
   "metadata": {},
   "source": [
    "# 6.5 Test Palindromicity"
   ]
  },
  {
   "cell_type": "markdown",
   "metadata": {},
   "source": [
    "Is the same string forwards and backwards without whitespace or punctation"
   ]
  },
  {
   "cell_type": "code",
   "execution_count": 39,
   "metadata": {},
   "outputs": [],
   "source": [
    "bool isAN(char a)\n",
    "{\n",
    "    return (a >= '0' && a <= '9') || \n",
    "           (a >= 'a' && a <= 'z') ||\n",
    "           (a >= 'A' && a <= 'Z');\n",
    "}"
   ]
  },
  {
   "cell_type": "code",
   "execution_count": 40,
   "metadata": {},
   "outputs": [],
   "source": [
    "char tolower(char a)\n",
    "{\n",
    "    return (a >= 'A' && a <= 'Z')? a - 'A' + 'a' : a;\n",
    "}"
   ]
  },
  {
   "cell_type": "markdown",
   "metadata": {},
   "source": [
    "Passed in string is const"
   ]
  },
  {
   "cell_type": "code",
   "execution_count": 41,
   "metadata": {},
   "outputs": [],
   "source": [
    "//         [](){};\n",
    "\n",
    "#include <iostream>\n",
    "#include <string>\n",
    "\n",
    "bool IsPalindrome(const std::string& s)\n",
    "{\n",
    "    if (s.size() == 0) return true;\n",
    "\n",
    "    int left = 0;\n",
    "    int right = s.size() - 1;\n",
    "\n",
    "    while (left < right)\n",
    "    {\n",
    "        //         move left\n",
    "        while (!isAN(s[left]) && left < right)\n",
    "            ++left;\n",
    "\n",
    "        //         move right\n",
    "        while (!isAN(s[right]) && left < right)\n",
    "            --right;\n",
    "\n",
    "        if (tolower(s[left++]) != tolower(s[right--]))\n",
    "            return false;\n",
    "\n",
    "    };\n",
    "\n",
    "    return true;\n",
    "}"
   ]
  },
  {
   "cell_type": "code",
   "execution_count": 42,
   "metadata": {},
   "outputs": [
    {
     "data": {
      "text/plain": [
       "true"
      ]
     },
     "execution_count": 42,
     "metadata": {},
     "output_type": "execute_result"
    }
   ],
   "source": [
    "IsPalindrome(\"Racecar\")"
   ]
  },
  {
   "cell_type": "code",
   "execution_count": 43,
   "metadata": {},
   "outputs": [
    {
     "data": {
      "text/plain": [
       "true"
      ]
     },
     "execution_count": 43,
     "metadata": {},
     "output_type": "execute_result"
    }
   ],
   "source": [
    "IsPalindrome(\"A man, a plan, a canal, Panama\")"
   ]
  },
  {
   "cell_type": "markdown",
   "metadata": {},
   "source": [
    "Passed in string is not const"
   ]
  },
  {
   "cell_type": "code",
   "execution_count": 44,
   "metadata": {},
   "outputs": [],
   "source": [
    "bool IsPalindrome_1(std::string& s)\n",
    "{\n",
    "    int p = 0;\n",
    "    for(int i = 0; i < s.size(); i++)\n",
    "    {\n",
    "        if(isAN(s[i]))\n",
    "           s[p++] = s[i];\n",
    "    }\n",
    "    \n",
    "    p -= 1;\n",
    "    for(int i = 0; i < p; i++)\n",
    "    {\n",
    "        if(tolower(s[i]) != tolower(s[p - i]))\n",
    "            return false;\n",
    "    }\n",
    "    \n",
    "    return true;\n",
    "}"
   ]
  },
  {
   "cell_type": "code",
   "execution_count": 45,
   "metadata": {},
   "outputs": [
    {
     "name": "stdout",
     "output_type": "stream",
     "text": [
      "1\n"
     ]
    }
   ],
   "source": [
    "\n",
    "{\n",
    "    std::string a(\"A man, a plan, a canal, Panama\");\n",
    "    std::cout << IsPalindrome_1(a) << std::endl;\n",
    "}"
   ]
  },
  {
   "cell_type": "markdown",
   "metadata": {},
   "source": [
    "Using lambdas"
   ]
  },
  {
   "cell_type": "code",
   "execution_count": 46,
   "metadata": {},
   "outputs": [],
   "source": [
    "#include <iostream>\n",
    "#include <string>\n",
    "\n",
    "bool IsPalindrome_lambda(const std::string& s)\n",
    "{\n",
    "    if (s.size() == 0) return true;\n",
    "    \n",
    "    bool (*isAN)(char) = [](char c) -> bool {\n",
    "    return (c >= '0' && c <= '9') || \n",
    "           (c >= 'a' && c <= 'z') ||\n",
    "           (c >= 'A' && c <= 'Z');    \n",
    "    };\n",
    "    auto tolower = [](char c){\n",
    "        return (c >= 'A' && c <= 'Z')? c - 'A' + 'a' : c;\n",
    "    };\n",
    "    \n",
    "    \n",
    "    int left = 0;\n",
    "    int right = s.size() - 1;\n",
    "\n",
    "    while (left < right)\n",
    "    {\n",
    "        //         move left\n",
    "        while (!isAN(s[left]) && left < right)\n",
    "            left++;\n",
    "\n",
    "        //         move right\n",
    "        while (!isAN(s[right]) && left < right)\n",
    "            right--;\n",
    "\n",
    "        if (tolower(s[left++]) != tolower(s[right--]))\n",
    "            return false;\n",
    "\n",
    "    };\n",
    "\n",
    "    return true;\n",
    "}"
   ]
  },
  {
   "cell_type": "code",
   "execution_count": 47,
   "metadata": {},
   "outputs": [
    {
     "data": {
      "text/plain": [
       "true"
      ]
     },
     "execution_count": 47,
     "metadata": {},
     "output_type": "execute_result"
    }
   ],
   "source": [
    "IsPalindrome_lambda(\"A man, a plan, a canal, Panama\")"
   ]
  },
  {
   "cell_type": "markdown",
   "metadata": {},
   "source": [
    "# 6.6 Reverse the order of the words in a sentence"
   ]
  },
  {
   "cell_type": "code",
   "execution_count": 48,
   "metadata": {},
   "outputs": [],
   "source": [
    "#include <string>\n",
    "#include <iostream>\n",
    "\n",
    "void ReverseWords(std::string& s)\n",
    "{\n",
    "//     reverse sentence\n",
    "    for(int i = 0; i < s.size()/2; i++)\n",
    "        std::swap(s[i], s[s.size() - 1 - i]);\n",
    "    \n",
    "    int i = 0;\n",
    "    while(i < s.size())\n",
    "    {\n",
    "//         find first non whitespace character\n",
    "        while(s[i] == ' ')\n",
    "            i++;\n",
    "        \n",
    "//         find end of word, i is past the word\n",
    "        int beg = i;\n",
    "        while(i != s.size() && s[i] != ' ')\n",
    "            i++;\n",
    "\n",
    "//         reverse word\n",
    "        for(int j = beg; j < (beg + i)/2; j++)\n",
    "            std::swap(s[j], s[i - 1 - (j - beg)]);\n",
    "//         take note of (j - beg), why not just j\n",
    "//         bec number of letters from i - 1, not j itself, doesn't work after 1st word\n",
    "    }\n",
    "}"
   ]
  },
  {
   "cell_type": "code",
   "execution_count": 49,
   "metadata": {},
   "outputs": [
    {
     "name": "stdout",
     "output_type": "stream",
     "text": [
      "canal Panama the planned man A\n"
     ]
    }
   ],
   "source": [
    "#include <iostream>\n",
    "{\n",
    "    std::string a(\"A man planned the Panama canal\");\n",
    "    ReverseWords(a);\n",
    "    std::cout << a << std::endl;\n",
    "}"
   ]
  },
  {
   "cell_type": "code",
   "execution_count": 50,
   "metadata": {},
   "outputs": [
    {
     "name": "stdout",
     "output_type": "stream",
     "text": [
      " j fghi cde ab\n"
     ]
    }
   ],
   "source": [
    "{\n",
    "    std::string a = \"ab cde fghi j \";\n",
    "    ReverseWords(a);\n",
    "    std::cout << a << std::endl;\n",
    "}"
   ]
  },
  {
   "cell_type": "raw",
   "metadata": {},
   "source": [
    "void ReverseWords_2(std::string& s)\n",
    "{\n",
    "//     Reverse whole string\n",
    "    std::reverse(begin(s), end(s));\n",
    "    \n",
    "    int start = 0, finish;\n",
    "    \n",
    "    while((finish = s ->std::find(\" \", start) != std::string::npos)\n",
    "    {\n",
    "//     Reverse each word in the string\n",
    "        std::reverse(begin(s) + start, begin(s) + finish);\n",
    "        start = finish + 1;\n",
    "    }\n",
    "//     Reverse last word\n",
    "    std::reverse(begin(s) + start, end(s));\n",
    "}"
   ]
  },
  {
   "cell_type": "markdown",
   "metadata": {},
   "source": [
    "# 6.7 Compute all mnemonics for phone numbers"
   ]
  },
  {
   "cell_type": "markdown",
   "metadata": {},
   "source": [
    "Iterative"
   ]
  },
  {
   "cell_type": "code",
   "execution_count": 51,
   "metadata": {},
   "outputs": [],
   "source": [
    "#include <vector>\n",
    "#include <string>\n",
    "#include <iostream>\n",
    "\n",
    "std::vector<std::string> merge(std::vector<std::string> a, std::string& b)\n",
    "{\n",
    "    std::vector<std::string> ans;\n",
    "\n",
    "    for (int i = 0; i < a.size(); i++)\n",
    "        for (int j = 0; j < b.size(); j++)\n",
    "            ans.push_back(a[i] + b[j]);\n",
    "\n",
    "    return ans;\n",
    "}\n"
   ]
  },
  {
   "cell_type": "code",
   "execution_count": 52,
   "metadata": {
    "scrolled": true
   },
   "outputs": [],
   "source": [
    "std::vector<std::string> PhoneMnemonic(const std::string& phone_number) {\n",
    "    std::vector<std::string> map =\n",
    "    {\n",
    "        \"0\", \"1\", \"ABC\", \"DEF\", \"GHI\", \"JKL\", \"MNO\", \"PQRS\", \"TUV\", \"WXYZ\"\n",
    "    };\n",
    "        \n",
    "    std::vector<std::string> lol;\n",
    "    std::string initial = map[phone_number[0] - '0'];\n",
    "    for(char c : initial)\n",
    "        lol.push_back(std::string(1, c));\n",
    "\n",
    "    for (int i = 1; i < phone_number.size(); i++)\n",
    "        lol = merge(lol, map[phone_number[i] - '0']);\n",
    "\n",
    "    return lol;\n",
    "}"
   ]
  },
  {
   "cell_type": "code",
   "execution_count": 53,
   "metadata": {},
   "outputs": [
    {
     "name": "stdout",
     "output_type": "stream",
     "text": [
      "AA\n",
      "AB\n",
      "AC\n",
      "BA\n",
      "BB\n",
      "BC\n",
      "CA\n",
      "CB\n",
      "CC\n"
     ]
    }
   ],
   "source": [
    "{\n",
    "    std::vector<std::string> a = PhoneMnemonic(\"22\");\n",
    "    for(auto i : a)\n",
    "        std::cout << i << std::endl;\n",
    "}"
   ]
  },
  {
   "cell_type": "markdown",
   "metadata": {},
   "source": [
    "Recursive"
   ]
  },
  {
   "cell_type": "code",
   "execution_count": 1,
   "metadata": {},
   "outputs": [],
   "source": [
    "#include <vector>\n",
    "#include <string>\n",
    "#include <unordered_map>\n",
    "\n",
    "void PhoneMnemonicHelper(const std::string& phone_number, std::string& combination,\n",
    "                         int idx, std::vector<std::string>& map, std::vector<std::string>& ans)\n",
    "{\n",
    "    if(idx == phone_number.size())\n",
    "    {\n",
    "        ans.push_back(combination);\n",
    "        return;\n",
    "    }\n",
    "    \n",
    "    for(char c : map[phone_number[idx] - '0'])\n",
    "    {\n",
    "        combination[idx] = c;\n",
    "        PhoneMnemonicHelper(phone_number, combination, idx + 1, map, ans);\n",
    "    }\n",
    "}"
   ]
  },
  {
   "cell_type": "code",
   "execution_count": 2,
   "metadata": {},
   "outputs": [],
   "source": [
    "std::vector<std::string> PhoneMnemonic(const std::string& phone_number)\n",
    "{\n",
    "    std::vector<std::string> ans;\n",
    "    std::vector<std::string> map =\n",
    "    {\n",
    "        \"0\", \"1\", \"ABC\", \"DEF\", \"GHI\", \"JKL\", \"MNO\", \"PQRS\", \"TUV\", \"WXYZ\"\n",
    "    };\n",
    "    \n",
    "    \n",
    "    std::string combination(phone_number.size(), ' ');\n",
    "    PhoneMnemonicHelper(phone_number, combination, 0, map, ans);\n",
    "    \n",
    "    return ans;\n",
    "}"
   ]
  },
  {
   "cell_type": "code",
   "execution_count": 3,
   "metadata": {},
   "outputs": [
    {
     "name": "stdout",
     "output_type": "stream",
     "text": [
      "AA\n",
      "AB\n",
      "AC\n",
      "BA\n",
      "BB\n",
      "BC\n",
      "CA\n",
      "CB\n",
      "CC\n"
     ]
    }
   ],
   "source": [
    "#include <iostream>\n",
    "\n",
    "{\n",
    "    std::vector<std::string> a = PhoneMnemonic(\"22\");\n",
    "    for(auto i : a)\n",
    "        std::cout << i << std::endl;\n",
    "}"
   ]
  },
  {
   "cell_type": "markdown",
   "metadata": {},
   "source": [
    "# 6.8 The Look-And-Say"
   ]
  },
  {
   "cell_type": "code",
   "execution_count": 54,
   "metadata": {},
   "outputs": [],
   "source": [
    "#include <string>\n",
    "\n",
    "std::string LookAndSay(int n)\n",
    "{\n",
    "    std::string ans(\"1\");\n",
    "    for(int i = 0; i < n; i++)\n",
    "    {\n",
    "        std::string tmp;\n",
    "        int j = 0;\n",
    "        while(j < ans.size())\n",
    "        {\n",
    "            int beg = j++;\n",
    "            while(j < ans.size() && ans[j - 1] == ans[j])\n",
    "                j++;\n",
    "//             j is at end of common number\n",
    "            \n",
    "            int count = j - beg;\n",
    "            tmp.append(std::to_string(count) + std::string(1, ans[beg]));\n",
    "        }\n",
    "        ans = tmp;\n",
    "    }\n",
    "    \n",
    "    return ans;\n",
    "}"
   ]
  },
  {
   "cell_type": "code",
   "execution_count": 55,
   "metadata": {},
   "outputs": [
    {
     "name": "stdout",
     "output_type": "stream",
     "text": [
      "1\n",
      "11\n",
      "21\n",
      "1211\n",
      "111221\n"
     ]
    }
   ],
   "source": [
    "#include <iostream>\n",
    "\n",
    "{\n",
    "    for(int i = 0; i < 5; i++)\n",
    "        std::cout << LookAndSay(i) << std::endl;\n",
    "}"
   ]
  },
  {
   "cell_type": "markdown",
   "metadata": {},
   "source": [
    "# 6.9 Convert from Roman to Decimal"
   ]
  },
  {
   "cell_type": "markdown",
   "metadata": {},
   "source": [
    "Book solution is wrong, below code is right:"
   ]
  },
  {
   "cell_type": "code",
   "execution_count": 56,
   "metadata": {},
   "outputs": [],
   "source": [
    "#include <string>\n",
    "#include <unordered_map>\n",
    "\n",
    "int RomanToInteger(const std::string& s)\n",
    "{\n",
    "    std::unordered_map<char, int> map = \n",
    "    {\n",
    "        {'I', 1},\n",
    "        {'V', 5},\n",
    "        {'X', 10},\n",
    "        {'L', 50},\n",
    "        {'C', 100},\n",
    "        {'D', 500},\n",
    "        {'M', 1000},\n",
    "    };\n",
    "    \n",
    "    int num = 0;\n",
    "    int i = 0;\n",
    "    while(i < s.size())\n",
    "    {\n",
    "        int beg = i++;\n",
    "        while(s[beg] == s[i])\n",
    "            i++;\n",
    "        int sum = (i - beg) * map[s[beg]];\n",
    "        \n",
    "        if(i < s.size() && map[s[beg]] < map[s[i]])\n",
    "            num -= sum;\n",
    "        else\n",
    "            num += sum;\n",
    "    }\n",
    "    return num;\n",
    "}"
   ]
  },
  {
   "cell_type": "code",
   "execution_count": 57,
   "metadata": {},
   "outputs": [
    {
     "data": {
      "text/plain": [
       "40"
      ]
     },
     "execution_count": 57,
     "metadata": {},
     "output_type": "execute_result"
    }
   ],
   "source": [
    "RomanToInteger(\"XL\")"
   ]
  },
  {
   "cell_type": "code",
   "execution_count": 58,
   "metadata": {},
   "outputs": [
    {
     "data": {
      "text/plain": [
       "30"
      ]
     },
     "execution_count": 58,
     "metadata": {},
     "output_type": "execute_result"
    }
   ],
   "source": [
    "RomanToInteger(\"XXL\")"
   ]
  },
  {
   "cell_type": "markdown",
   "metadata": {},
   "source": [
    "# 6.10 Compute all valid IP addresses"
   ]
  },
  {
   "cell_type": "markdown",
   "metadata": {},
   "source": [
    "Similar to 6.7, but with restraints"
   ]
  },
  {
   "cell_type": "code",
   "execution_count": 1,
   "metadata": {},
   "outputs": [],
   "source": [
    "#include <vector>\n",
    "#include <string>\n",
    "\n",
    "bool IsValidPart(const std::string& s)\n",
    "{\n",
    "    if(s.size() > 3)\n",
    "        return false;\n",
    "    \n",
    "    if(s[0] == '0' && s.size() > 1)\n",
    "        return false;\n",
    "    \n",
    "    int val = std::stoi(s);\n",
    "    return val >= 0 && val <= 255;\n",
    "}"
   ]
  },
  {
   "cell_type": "code",
   "execution_count": 2,
   "metadata": {},
   "outputs": [],
   "source": [
    "std::vector<std::string> GetValidIpAddress(const std::string& s)\n",
    "{\n",
    "    std::vector<std::string> ans;\n",
    "    \n",
    "    for(int i = 1; i < 4 && i < s.size(); i++)\n",
    "    {\n",
    "        std::string first = s.substr(0, i);\n",
    "        if(IsValidPart(first))\n",
    "        {\n",
    "            for(int j = 1; j < 4 && i + j < s.size(); j++)\n",
    "            {\n",
    "                std::string second = s.substr(i, j);\n",
    "                if(IsValidPart(second))\n",
    "                {\n",
    "                    for(int k = 1; k < 4 && i + j + k < s.size(); k++)\n",
    "                    {\n",
    "                        std::string third = s.substr(i + j, k);\n",
    "                        std::string fourth = s.substr(i + j + k);\n",
    "                        \n",
    "                        if(IsValidPart(third) && IsValidPart(fourth))\n",
    "                            ans.push_back(first + \".\" + second + \".\" + third + \".\" + fourth);\n",
    "                    }\n",
    "                }\n",
    "            }\n",
    "        }\n",
    "    }\n",
    "    \n",
    "    return ans;\n",
    "}"
   ]
  },
  {
   "cell_type": "code",
   "execution_count": 3,
   "metadata": {},
   "outputs": [
    {
     "name": "stdout",
     "output_type": "stream",
     "text": [
      "19.216.81.201\n",
      "192.16.81.201\n",
      "192.168.1.201\n",
      "192.168.120.1\n"
     ]
    }
   ],
   "source": [
    "#include <iostream>\n",
    "\n",
    "{\n",
    "    std::vector<std::string> a = GetValidIpAddress(\"1921681201\");\n",
    "    for(auto i : a)\n",
    "        std::cout << i << std::endl;\n",
    "}"
   ]
  },
  {
   "cell_type": "markdown",
   "metadata": {},
   "source": [
    "# 6.11 Write a String Sinusoidally"
   ]
  },
  {
   "cell_type": "markdown",
   "metadata": {},
   "source": [
    "3 rows"
   ]
  },
  {
   "cell_type": "code",
   "execution_count": 1,
   "metadata": {},
   "outputs": [],
   "source": [
    "#include <string>\n",
    "#include <vector>\n",
    "\n",
    "std::string SnakeString(const std::string& s)\n",
    "{\n",
    "    std::string ans(3 * s.size() + 2, ' ');\n",
    "    ans[s.size()] = '\\n';\n",
    "    ans[2 * s.size() + 1] = '\\n';\n",
    "    \n",
    "    bool inc = true;\n",
    "    int cycle = 1;\n",
    "    for(int i = 0; i < s.size(); i++)\n",
    "    {\n",
    "        if(cycle == 2) //top\n",
    "        {\n",
    "            ans[i] = s[i];\n",
    "            \n",
    "            inc = false;\n",
    "            cycle = 1;\n",
    "        } \n",
    "        else if(cycle == 1) //middle\n",
    "        {\n",
    "            ans[s.size() + 1 + i] = s[i];\n",
    "            \n",
    "            cycle = inc? cycle + 1 : cycle - 1;\n",
    "        }\n",
    "        else //bottom\n",
    "        {\n",
    "            ans[2 * s.size() + 2 + i] = s[i];\n",
    "            inc = true;\n",
    "            cycle = 1;\n",
    "        }\n",
    "    }\n",
    "    \n",
    "    return ans;\n",
    "}"
   ]
  },
  {
   "cell_type": "code",
   "execution_count": 10,
   "metadata": {},
   "outputs": [
    {
     "name": "stdout",
     "output_type": "stream",
     "text": [
      " e   W   d\n",
      "H l o o l \n",
      "   l   r  "
     ]
    }
   ],
   "source": [
    "#include <iostream>\n",
    "std::cout << SnakeString(\"HelloWorld\");"
   ]
  },
  {
   "cell_type": "markdown",
   "metadata": {},
   "source": [
    "k rows"
   ]
  },
  {
   "cell_type": "code",
   "execution_count": 13,
   "metadata": {},
   "outputs": [],
   "source": [
    "#include <vector>\n",
    "#include <string>\n",
    "\n",
    "std::string SnakeString(const std::string& s, int k)\n",
    "{\n",
    "    std::string ans(k * (s.size() + 1) - 1, ' ');\n",
    "    for(int i = 0; i < k; i++)\n",
    "        ans[i * (s.size() + 1) + s.size()] = '\\n';\n",
    "    \n",
    "    int change = -1; //goes to top row\n",
    "    int row = k / 2;\n",
    "    for(int i = 0; i < s.size(); i++)\n",
    "    {\n",
    "        ans[row * (s.size() + 1) + i] = s[i];\n",
    "        \n",
    "        if(row == 0)\n",
    "            change = 1;\n",
    "        if(row == k - 1)\n",
    "            change = -1;\n",
    "        row += change;\n",
    "    }\n",
    "    \n",
    "    return ans;\n",
    "}"
   ]
  },
  {
   "cell_type": "code",
   "execution_count": 42,
   "metadata": {},
   "outputs": [
    {
     "name": "stdout",
     "output_type": "stream",
     "text": [
      "  c       k       s       \n",
      " b d     j l     r t     z\n",
      "a   e   i   m   q   u   y \n",
      "     f h     n p     v x  \n",
      "      g       o       w   "
     ]
    }
   ],
   "source": [
    "#include <iostream>\n",
    "\n",
    "std::cout << SnakeString(\"abcdefghijklmnopqrstuvwxyz\", 5);"
   ]
  },
  {
   "cell_type": "markdown",
   "metadata": {},
   "source": [
    "# 6.12 Implement Run-Length Encoding"
   ]
  },
  {
   "cell_type": "markdown",
   "metadata": {},
   "source": [
    "### Decoding"
   ]
  },
  {
   "cell_type": "code",
   "execution_count": 1,
   "metadata": {},
   "outputs": [],
   "source": [
    "#include <string>\n",
    "\n",
    "std::string Encoding(const std::string& s)\n",
    "{\n",
    "    std::string ans; \n",
    "    int i = 0;\n",
    "    while(i < s.size())\n",
    "    {\n",
    "        int beg = i++;\n",
    "        while(i < s.size() && s[i - 1] == s[i])\n",
    "            i++;\n",
    "        int count = i - beg;\n",
    "        ans += std::to_string(count) + std::string(1, s[beg]);\n",
    "    }\n",
    "    \n",
    "    return ans;\n",
    "}"
   ]
  },
  {
   "cell_type": "code",
   "execution_count": 2,
   "metadata": {},
   "outputs": [
    {
     "data": {
      "text/plain": [
       "\"3a2b1c\""
      ]
     },
     "execution_count": 2,
     "metadata": {},
     "output_type": "execute_result"
    }
   ],
   "source": [
    "Encoding(\"aaabbc\")"
   ]
  },
  {
   "cell_type": "code",
   "execution_count": 3,
   "metadata": {},
   "outputs": [],
   "source": [
    "#include <string>\n",
    "\n",
    "std::string Decoding(const std::string& s)\n",
    "{\n",
    "    std::string ans;\n",
    "    int i = 0;\n",
    "    while(i < s.size())\n",
    "    {\n",
    "        int beg = i++;\n",
    "        while(i < s.size() && s[i] >= '0' && s[i] <= '9')\n",
    "            i++;\n",
    "        int num = std::stoi(s.substr(beg, i - beg));\n",
    "        char c = s[i++];\n",
    "        \n",
    "        for(int j = 0; j < num; j++)\n",
    "            ans += c;\n",
    "    }\n",
    "    \n",
    "    return ans;\n",
    "}"
   ]
  },
  {
   "cell_type": "code",
   "execution_count": 4,
   "metadata": {},
   "outputs": [
    {
     "data": {
      "text/plain": [
       "\"aaabbc\""
      ]
     },
     "execution_count": 4,
     "metadata": {},
     "output_type": "execute_result"
    }
   ],
   "source": [
    "Decoding(Encoding(\"aaabbc\"))"
   ]
  },
  {
   "cell_type": "markdown",
   "metadata": {},
   "source": [
    "# 6.13 Find the First Occurence of a Substring"
   ]
  },
  {
   "cell_type": "markdown",
   "metadata": {},
   "source": [
    "Many types of string search algorithms  \n",
    "Good to work through one good algorithm in detail and discuss at a high level other algorithms  \n",
    "Three linear time string matching algorithms:\n",
    "\n",
    "* KMP\n",
    "    * Patterns that have subpatterns, don't have to repeat searches in the brute force\n",
    "    * Also does this with run length encoding\n",
    "    * https://www.youtube.com/watch?v=GTJr8OvyEVQ\n",
    "    * https://www.geeksforgeeks.org/kmp-algorithm-for-pattern-searching/\n",
    "* Boyer-Moore\n",
    "    * Advance search by m characters if text character isn't in pattern\n",
    "    * If there is a character, go back characters and search\n",
    "    * Most common used\n",
    "    * https://stackoverflow.com/a/6209778\n",
    "* Rabin-Karp"
   ]
  },
  {
   "cell_type": "code",
   "execution_count": 7,
   "metadata": {},
   "outputs": [
    {
     "data": {
      "text/plain": [
       "65"
      ]
     },
     "execution_count": 7,
     "metadata": {},
     "output_type": "execute_result"
    }
   ],
   "source": [
    "int('A')"
   ]
  },
  {
   "cell_type": "code",
   "execution_count": 8,
   "metadata": {},
   "outputs": [
    {
     "data": {
      "text/plain": [
       "97"
      ]
     },
     "execution_count": 8,
     "metadata": {},
     "output_type": "execute_result"
    }
   ],
   "source": [
    "int('a')"
   ]
  },
  {
   "cell_type": "code",
   "execution_count": 9,
   "metadata": {},
   "outputs": [
    {
     "data": {
      "text/plain": [
       "true"
      ]
     },
     "execution_count": 9,
     "metadata": {},
     "output_type": "execute_result"
    }
   ],
   "source": [
    "int('A') < int('a')"
   ]
  },
  {
   "cell_type": "markdown",
   "metadata": {},
   "source": [
    "Brute force:"
   ]
  },
  {
   "cell_type": "code",
   "execution_count": null,
   "metadata": {},
   "outputs": [],
   "source": [
    "#include <string>\n",
    "\n",
    "int bruteforce(const std::string& text, const std::string& pattern)\n",
    "{\n",
    "    int i;\n",
    "    for(i = 0; i < text.size() - pattern.size(); i++)\n",
    "    {\n",
    "        bool areEqual = true;\n",
    "        for(int j = 0; j < pattern.size(); j++)\n",
    "            if(text[i + j] != pattern[j])\n",
    "                areEqual = false;\n",
    "        if(areEqual)\n",
    "            return i;\n",
    "    }\n",
    "    return -1;\n",
    "}"
   ]
  },
  {
   "cell_type": "code",
   "execution_count": 3,
   "metadata": {},
   "outputs": [
    {
     "data": {
      "text/plain": [
       "4"
      ]
     },
     "execution_count": 3,
     "metadata": {},
     "output_type": "execute_result"
    }
   ],
   "source": [
    "bruteforce(\"0123456789\", \"456\")"
   ]
  },
  {
   "cell_type": "markdown",
   "metadata": {},
   "source": [
    "Time complexity Analysis:\n",
    "O((m) + (n - m + 1) + (m)) = O(n + m + 1) = O(n + m)"
   ]
  },
  {
   "cell_type": "code",
   "execution_count": 1,
   "metadata": {},
   "outputs": [],
   "source": [
    "#include <string>\n",
    "\n",
    "int RabinKarp(const std::string& text, const std::string& pattern)\n",
    "{\n",
    "    if(pattern.size() > text.size())\n",
    "        return -1;\n",
    "    \n",
    "    const int kBase = 26;\n",
    "    int text_hash = 0;\n",
    "    int pattern_hash = 0;\n",
    "    int power = 1; // power = kBase^(pattern.size() - 1)\n",
    "    for(int i = 0; i < pattern.size(); i++)\n",
    "    {\n",
    "        power = i ? power * kBase : 1;\n",
    "        text_hash = text_hash * kBase + text[i];\n",
    "        pattern_hash = pattern_hash * kBase + pattern[i];\n",
    "    }\n",
    "    \n",
    "//     O(n - m + 1)\n",
    "    for(int i = 0; i < text.size() - pattern.size() + 1; i++)\n",
    "    {\n",
    "        if(text_hash == pattern_hash)\n",
    "        {\n",
    "            bool areEqual = true;\n",
    "            for(int j = 0; j < pattern.size(); j++)\n",
    "                if(text[i + j] != pattern[j])\n",
    "                    areEqual = false;\n",
    "            \n",
    "            if(areEqual)\n",
    "                return i;\n",
    "        }\n",
    "        \n",
    "//         isolate and remove remove leftmost hash & add new hash\n",
    "//         performing this (n - m + 1) - 1 times, since not hashing character beyond text\n",
    "        if(i != text.size() - pattern.size())\n",
    "        {\n",
    "            text_hash -= power * text[i];\n",
    "            text_hash = text_hash * kBase + text[i + pattern.size()];\n",
    "        }\n",
    "    }\n",
    "\n",
    "    return -1;\n",
    "}"
   ]
  },
  {
   "cell_type": "code",
   "execution_count": 2,
   "metadata": {},
   "outputs": [
    {
     "data": {
      "text/plain": [
       "4"
      ]
     },
     "execution_count": 2,
     "metadata": {},
     "output_type": "execute_result"
    }
   ],
   "source": [
    "RabinKarp(\"0123456789\", \"456\")"
   ]
  }
 ],
 "metadata": {
  "kernelspec": {
   "display_name": "C++11",
   "language": "C++11",
   "name": "xeus-cling-cpp11"
  },
  "language_info": {
   "codemirror_mode": "text/x-c++src",
   "file_extension": ".cpp",
   "mimetype": "text/x-c++src",
   "name": "c++",
   "version": "-std=c++11"
  }
 },
 "nbformat": 4,
 "nbformat_minor": 2
}
