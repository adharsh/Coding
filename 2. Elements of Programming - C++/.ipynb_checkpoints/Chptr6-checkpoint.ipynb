{
 "cells": [
  {
   "cell_type": "markdown",
   "metadata": {},
   "source": [
    "Always consider end case when for loop finishes, have you covered all cases  \n",
    "Similar to arrays, solutions are often O(n) but can reduce space to O(1)  \n",
    "Try writing values from the back  "
   ]
  },
  {
   "cell_type": "code",
   "execution_count": 1,
   "metadata": {},
   "outputs": [],
   "source": [
    "#include <iostream>\n",
    "#include <string>\n",
    "\n",
    "bool isPalindrome(const std::string s)\n",
    "{\n",
    "    for(int i = 0, j = s.size() - 1; i < j; i++, j--)\n",
    "        if(s[i] != s[j])\n",
    "            return false;\n",
    "    return true;\n",
    "}"
   ]
  },
  {
   "cell_type": "code",
   "execution_count": 2,
   "metadata": {},
   "outputs": [
    {
     "data": {
      "text/plain": [
       "true"
      ]
     },
     "execution_count": 2,
     "metadata": {},
     "output_type": "execute_result"
    }
   ],
   "source": [
    "isPalindrome(\"racecar\")"
   ]
  },
  {
   "cell_type": "markdown",
   "metadata": {},
   "source": [
    "C++ Strings Notes"
   ]
  },
  {
   "cell_type": "code",
   "execution_count": 3,
   "metadata": {},
   "outputs": [
    {
     "name": "stdout",
     "output_type": "stream",
     "text": [
      "abc\n",
      "abcdef\n",
      "abcGauss\n",
      "abcGaussP\n",
      "abcGauss\n",
      "abcG...auss\n",
      "abcG....auss\n",
      "1\n",
      "345-234\n",
      "-234\n"
     ]
    }
   ],
   "source": [
    "std::string s = \"abc\";\n",
    "std::cout << s << std::endl;\n",
    "\n",
    "std::cout << s + \"def\"<< std::endl;\n",
    "\n",
    "std::cout << s.append(\"Gauss\") << std::endl; //in-place\n",
    "\n",
    "s.push_back('P'); //in-place\n",
    "std::cout << s << std::endl; \n",
    "\n",
    "s.pop_back(); //in-place\n",
    "std::cout << s << std::endl; \n",
    "\n",
    "s.insert(4, \"...\"); //in-place\n",
    "std::cout << s << std::endl; \n",
    "\n",
    "s.insert(4, std::string(\"...\").substr(2)); //in-place\n",
    "std::cout << s << std::endl; \n",
    "\n",
    "//x.compare(y) -> \n",
    "    //0 -> equal\n",
    "    //<0 -> x < y lexonically first characters\n",
    "    //>0 -> x > y\n",
    "std::cout << std::string(\"abce\").compare(std::string(\"abcd\")) << std::endl; //1\n",
    "std::cout << std::string(\"012345\").substr(3, 3); //pos, len\n",
    "std::cout << std::stoi(\"-234\") << std::endl;\n",
    "std::cout << std::to_string(-234) << std::endl;"
   ]
  },
  {
   "cell_type": "markdown",
   "metadata": {},
   "source": [
    "# Reverse words in a sentence"
   ]
  },
  {
   "cell_type": "code",
   "execution_count": 4,
   "metadata": {},
   "outputs": [],
   "source": [
    "std::string reverse_sentence(const std::string s)\n",
    "{\n",
    "    std::string a = \"\";\n",
    "    \n",
    "    unsigned int pos = 0;\n",
    "    for(unsigned int i = 0; i < s.size(); i++)\n",
    "    {\n",
    "        if(s[i] == ' ')\n",
    "        {\n",
    "            pos = i;\n",
    "            a.insert(pos++, 1, ' ');\n",
    "        } else {\n",
    "            a.insert(pos, 1, s[i]);\n",
    "        }\n",
    "    }\n",
    "    return a;\n",
    "}"
   ]
  },
  {
   "cell_type": "code",
   "execution_count": 5,
   "metadata": {},
   "outputs": [
    {
     "data": {
      "text/plain": [
       "\"dcba ihgfe nmlkj\""
      ]
     },
     "execution_count": 5,
     "metadata": {},
     "output_type": "execute_result"
    }
   ],
   "source": [
    "reverse_sentence(\"abcd efghi jklmn\")"
   ]
  },
  {
   "cell_type": "code",
   "execution_count": 6,
   "metadata": {},
   "outputs": [
    {
     "data": {
      "text/plain": [
       "\"nmlkj ihgfe dcba\""
      ]
     },
     "execution_count": 6,
     "metadata": {},
     "output_type": "execute_result"
    }
   ],
   "source": [
    "std::string a = \"abcd efghi jklmn\";\n",
    "reverse(a.begin(), a.end());\n",
    "a"
   ]
  },
  {
   "cell_type": "markdown",
   "metadata": {},
   "source": [
    "6.1 "
   ]
  },
  {
   "cell_type": "markdown",
   "metadata": {},
   "source": [
    "# string_to_int method"
   ]
  },
  {
   "cell_type": "code",
   "execution_count": 7,
   "metadata": {},
   "outputs": [],
   "source": [
    "int string_to_int(const std::string s)\n",
    "{\n",
    "    int n = 0;\n",
    "    \n",
    "    for(unsigned int i = (s[0] == '-')? 1 : 0; i < s.size(); i++)\n",
    "    {\n",
    "        n += n*10 + s[i] - '0';\n",
    "    }\n",
    "    \n",
    "    return (s[0] == '-')? -n : n;\n",
    "}"
   ]
  },
  {
   "cell_type": "markdown",
   "metadata": {},
   "source": [
    "# int_to_string method"
   ]
  },
  {
   "cell_type": "code",
   "execution_count": null,
   "metadata": {},
   "outputs": [],
   "source": [
    "// n += \"sdf\" => same as n = n + \"sdf\"\n",
    "\n",
    "std::string int_to_string(int x)\n",
    "{\n",
    "    std::string a = \"\";\n",
    "    bool neg = false;\n",
    "    if(x < 0)\n",
    "    {\n",
    "        x *= -1;\n",
    "        neg = true;\n",
    "    }\n",
    "\n",
    "    int n = std::log(x)/std::log(10) + 1;\n",
    "    for(int i = 0; i < n; i++)\n",
    "    {\n",
    "        a = (x % 10) + a;\n",
    "        x /= 10;\n",
    "    }\n",
    "\n",
    "    return neg? '-' + a : a;\n",
    "}"
   ]
  },
  {
   "cell_type": "code",
   "execution_count": null,
   "metadata": {},
   "outputs": [],
   "source": [
    "int_to_string(-23)"
   ]
  },
  {
   "cell_type": "code",
   "execution_count": null,
   "metadata": {},
   "outputs": [],
   "source": [
    "std::string int_to_string2(int x)\n",
    "{\n",
    "    bool n = std::abs(x) != x;\n",
    "    x = std::abs(x);\n",
    "\n",
    "    int size = std::log(x) / std::log(10) + 1;\n",
    "\n",
    "    char* p = new char[size + 1];\n",
    "\n",
    "    for (int i = size - 1; i >= 0; i--)\n",
    "    {\n",
    "        p[i] = '0' + x % 10;\n",
    "        x /= 10;\n",
    "    }\n",
    "    p[size] = '\\0';\n",
    "    std::string a(p);\n",
    "    delete[] p;\n",
    "\n",
    "    if (n)\n",
    "        a.insert(0, \"-\");\n",
    "\n",
    "    return a;\n",
    "}"
   ]
  },
  {
   "cell_type": "code",
   "execution_count": null,
   "metadata": {},
   "outputs": [],
   "source": [
    "int_to_string2(-10)"
   ]
  },
  {
   "cell_type": "code",
   "execution_count": null,
   "metadata": {},
   "outputs": [],
   "source": [
    "#include <iostream>\n",
    "{\n",
    "    char p[2] = {'a', '\\0'};\n",
    "    std::cout << std::string(p) << std::endl;\n",
    "}"
   ]
  },
  {
   "cell_type": "markdown",
   "metadata": {},
   "source": [
    "6.2"
   ]
  },
  {
   "cell_type": "markdown",
   "metadata": {},
   "source": [
    "How to use std::accumulate(begin, end, inital value, binary operation = +)   \n",
    "Like a friend function for += -> https://stackoverflow.com/a/16866221  \n",
    "Dollar &operator+=(Dollar &p1, const Dollar &p2)  \n",
    "(acc, val)  \n",
    "\n",
    "adds elements together  \n",
    "like fold in ocaml"
   ]
  },
  {
   "cell_type": "code",
   "execution_count": null,
   "metadata": {},
   "outputs": [],
   "source": [
    "#include <vector>\n",
    "#include <iostream>\n",
    "\n",
    "{\n",
    "    std::vector<int> a = {1, 2, 1, 1};\n",
    "    std::cout << std::accumulate(a.begin(), a.end(), 0);\n",
    "    //isdigit\n",
    "    //isalpha\n",
    "}"
   ]
  },
  {
   "cell_type": "code",
   "execution_count": null,
   "metadata": {},
   "outputs": [],
   "source": [
    "true + 1"
   ]
  },
  {
   "cell_type": "code",
   "execution_count": null,
   "metadata": {},
   "outputs": [],
   "source": [
    "std::string constructFromBase(int num, int b2)\n",
    "{\n",
    "    return !num ? \"\" : constructFromBase(num/b2, b2) + \n",
    "                        (char)(num % b2 > 9 ? num % b2 - 10 + 'A' : num % b2 + '0');\n",
    "}"
   ]
  },
  {
   "cell_type": "code",
   "execution_count": null,
   "metadata": {},
   "outputs": [],
   "source": [
    "#include <iterator>\n",
    "#include <iostream>\n",
    "#include <numeric>\n",
    "\n",
    "std::string convertbase(const std::string& num_s, int b1, int b2)\n",
    "{\n",
    "    bool is_negative = num_s[0] == '-'? true : false;\n",
    "    \n",
    "    //convert to base 10 first\n",
    "    int num10 = std::accumulate(std::begin(num_s) + is_negative, std::end(num_s), 0, \n",
    "                                     [b1](int acc, char c){ \n",
    "                                     return acc * b1 + (c >= '0'|| c <= '9' ? c - '0' : c - 'A' + 10);});\n",
    "    std::cout << num10 << std::endl;\n",
    "    return (is_negative? \"-\" : \"\") + \n",
    "        (!num10 ? \"0\" : constructFromBase(num10, b2));\n",
    "    \n",
    "}"
   ]
  },
  {
   "cell_type": "code",
   "execution_count": null,
   "metadata": {},
   "outputs": [],
   "source": [
    "convertbase(\"10\", 16, 10)"
   ]
  },
  {
   "cell_type": "code",
   "execution_count": 1,
   "metadata": {},
   "outputs": [],
   "source": [
    "#include <iostream>\n",
    "#include <string>\n",
    "\n",
    "std::string convertbase_2(const std::string& num_s, int b1, int b2)\n",
    "{\n",
    "    int start = 0;\n",
    "    if (num_s[0] == '-')\n",
    "        start = 1;\n",
    "\n",
    "    int num_10 = 0;\n",
    "\n",
    "    for (int i = start; i < num_s.size(); i++)\n",
    "    {\n",
    "        int v = num_s[i] >= '0' && num_s[i] <= '9' ? num_s[i] - '0' : num_s[i] - 'a' + 10;\n",
    "        num_10 = num_10 * b1 + v;\n",
    "\n",
    "    }\n",
    "\n",
    "    int n = std::log(num_10) / std::log(10) + 1;\n",
    "    std::string res = \"\";\n",
    "\n",
    "    for (int i = 0; i < n; i++)\n",
    "    {\n",
    "        int val = num_10 % b2;\n",
    "        char v = val > 9 ? val - 10 + 'a' : val + '0';\n",
    "        res = v + res;\n",
    "        num_10 /= b2;\n",
    "    }\n",
    "\n",
    "    return start == -1 ? '-' + res : res;\n",
    "}"
   ]
  },
  {
   "cell_type": "code",
   "execution_count": 20,
   "metadata": {},
   "outputs": [
    {
     "name": "stdout",
     "output_type": "stream",
     "text": [
      "100\n"
     ]
    }
   ],
   "source": [
    "std::cout << convertbase_2(\"256\", 10, 16) << std::endl;"
   ]
  },
  {
   "cell_type": "markdown",
   "metadata": {},
   "source": [
    "6.4"
   ]
  },
  {
   "cell_type": "code",
   "execution_count": 21,
   "metadata": {},
   "outputs": [],
   "source": [
    "//remove b's, replace 'a' with 'dd'\n",
    "//size is not the size of the array, intial size of string\n",
    "\n",
    "int replace_and_remove(int size, char s[])\n",
    "{\n",
    "    //first remove b's\n",
    "\n",
    "    int n_a = 0;\n",
    "    int p = 0;\n",
    "    for (int i = 0; i < size; i++)\n",
    "    {\n",
    "        if (s[i] != 'b')\n",
    "            s[p++] = s[i];\n",
    "\n",
    "        if (s[i] == 'a')\n",
    "            n_a++;\n",
    "    }\n",
    "\n",
    "    size = n_a + p;\n",
    "    int z = size - 1;\n",
    "    for (int i = p - 1; i >= 0; i--)\n",
    "    {\n",
    "        if (s[i] == 'a')\n",
    "        {\n",
    "            s[z--] = 'd';\n",
    "            s[z--] = 'd';\n",
    "        }\n",
    "        else\n",
    "        {\n",
    "            s[z--] = s[i];\n",
    "        }\n",
    "    }\n",
    "\n",
    "    return size;\n",
    "}"
   ]
  },
  {
   "cell_type": "markdown",
   "metadata": {},
   "source": [
    "0 and '\\0' have the same value   \n",
    "char [5] = \"a\" = {'a', 0, 0, 0, 0};"
   ]
  },
  {
   "cell_type": "code",
   "execution_count": null,
   "metadata": {},
   "outputs": [],
   "source": [
    "#include <iostream>\n",
    "{\n",
    "    char o[7] = \"abca\";\n",
    "    std::cout << replace_and_remove(4, o) << std::endl;\n",
    "    std::cout << o;\n",
    "}"
   ]
  },
  {
   "cell_type": "markdown",
   "metadata": {},
   "source": [
    "unsequenced modification and access to 'i'   \n",
    "undefined behavior for i  "
   ]
  },
  {
   "cell_type": "code",
   "execution_count": null,
   "metadata": {},
   "outputs": [],
   "source": [
    "#include <iostream>"
   ]
  },
  {
   "cell_type": "markdown",
   "metadata": {},
   "source": [
    "6.5 -> test if words formed are a palindrome"
   ]
  },
  {
   "cell_type": "code",
   "execution_count": null,
   "metadata": {},
   "outputs": [],
   "source": [
    "bool isPalindrome_1(std::string& s)\n",
    "{\n",
    "    int p = 0;\n",
    "    for(int i = 0; i < s.size(); i++)\n",
    "    {\n",
    "        if((s[i] >= '0' && s[i] <= '9') || \n",
    "           (s[i] >= 'a' && s[i] <= 'z') ||\n",
    "           (s[i] >= 'A' && s[i] <= 'Z'))\n",
    "           s[p++] = s[i++];\n",
    "    }\n",
    "    \n",
    "    p -= 1;\n",
    "    for(int i = 0; i < p; i++)\n",
    "    {\n",
    "        if(s[i] != s[p - i])\n",
    "            return false;\n",
    "    }\n",
    "    \n",
    "    return true;\n",
    "}"
   ]
  },
  {
   "cell_type": "code",
   "execution_count": null,
   "metadata": {},
   "outputs": [],
   "source": [
    "bool isAN(char a)\n",
    "{\n",
    "    return (a >= '0' && a <= '9') || \n",
    "           (a >= 'a' && a <= 'z') ||\n",
    "           (a >= 'A' && a <= 'Z');\n",
    "}"
   ]
  },
  {
   "cell_type": "code",
   "execution_count": null,
   "metadata": {},
   "outputs": [],
   "source": [
    "char tolower(char a)\n",
    "{\n",
    "    return (a >= 'A' && a <= 'Z')? a - 'A' + 'a' : a;\n",
    "}"
   ]
  },
  {
   "cell_type": "code",
   "execution_count": null,
   "metadata": {},
   "outputs": [],
   "source": [
    "bool isPalindrome_1(const std::string& s)\n",
    "{\n",
    "    int i = 0, j = s.size() - 1;\n",
    "    \n",
    "    while(i < j)\n",
    "    {\n",
    "        while(!isAN(s[i]) && i < j)\n",
    "            i++;\n",
    "        \n",
    "        while(!isAN(s[j]) && i < j)\n",
    "            j--;\n",
    "        \n",
    "        if(tolower(s[i++]) != tolower(s[j--]))\n",
    "            return false;\n",
    "    }\n",
    "    \n",
    "    return true;\n",
    "}"
   ]
  },
  {
   "cell_type": "code",
   "execution_count": null,
   "metadata": {},
   "outputs": [],
   "source": [
    "isPalindrome_1(std::string(\"A man, a plan, a canal, Panama\"))"
   ]
  },
  {
   "cell_type": "markdown",
   "metadata": {},
   "source": [
    "6.6 -> reverse the order of the words in a sentence"
   ]
  },
  {
   "cell_type": "code",
   "execution_count": null,
   "metadata": {},
   "outputs": [],
   "source": [
    "#include <string>\n",
    "#include <iostream>\n",
    "\n",
    "std::string reverseWords(std::string& s)\n",
    "{\n",
    "    for (int i = 0; i < s.size()/2; i++)\n",
    "    {\n",
    "        char tmp = s[i];\n",
    "        s[i] = s[s.size() - i - 1];\n",
    "        s[s.size() - i - 1] = tmp;\n",
    "    }\n",
    "\n",
    "    char* p = &s[0];\n",
    "    int beg = -1;\n",
    "    int i;\n",
    "    for (i = 0; i < s.size(); i++)\n",
    "    {\n",
    "        if (s[i] == ' ')\n",
    "        {\n",
    "            beg++;\n",
    "\n",
    "            for (int z = beg; z < (i + beg) / 2; z++)\n",
    "            {\n",
    "                char tmp = s[z];\n",
    "                s[z] = s[(i - 1) - (z - beg)];\n",
    "                s[(i - 1) - (z - beg)] = tmp;\n",
    "            }\n",
    "            beg = i;\n",
    "        }\n",
    "    }\n",
    "\n",
    "    beg++;\n",
    "\n",
    "    for (int z = beg; z < (i + beg) / 2; z++)\n",
    "    {\n",
    "        char tmp = s[z];\n",
    "        s[z] = s[(i - 1) - (z - beg)];\n",
    "        s[(i - 1) - (z - beg)] = tmp;\n",
    "    }\n",
    "    beg = i;\n",
    "\n",
    "    return s;\n",
    "}"
   ]
  },
  {
   "cell_type": "code",
   "execution_count": null,
   "metadata": {},
   "outputs": [],
   "source": [
    "std::string reverseWords(std::string& s)\n",
    "{\n",
    "    int orig_size = s.size();\n",
    "    for (int i = 0; i < s.size() / 2; i++)\n",
    "        std::swap(s[i], s[s.size() - i - 1]);\n",
    "\n",
    "    // TODO\n",
    "    s += \" \";\n",
    "\n",
    "    int first_char = 0;\n",
    "    for (int i = 0; i < s.size(); i++)\n",
    "    {\n",
    "        if (s[i] == ' ')\n",
    "        {\n",
    "            int b = 0;\n",
    "\n",
    "            for (int c = first_char; c < first_char + (i - first_char) / 2; c++)\n",
    "            {\n",
    "                std::swap(s[c], s[i - 1 - (c - first_char)]);\n",
    "            }\n",
    "            first_char = i + 1;\n",
    "        }\n",
    "    }\n",
    "\n",
    "    return s.substr(0, orig_size);\n",
    "}"
   ]
  },
  {
   "cell_type": "raw",
   "metadata": {},
   "source": [
    "void ReverseWords(std::string& s)\n",
    "{\n",
    "    std::reverse(begin(s), end(s));\n",
    "    \n",
    "    int start = 0, finish;\n",
    "    \n",
    "    while((finish = s ->std::find(\" \", start) != std::string::npos)\n",
    "    {\n",
    "        std::reverse(begin(s) + start, begin(s) + finish);\n",
    "        start = finish + 1;\n",
    "    }\n",
    "          \n",
    "    std::reverse(begin(s) + start, end(s));\n",
    "}"
   ]
  },
  {
   "cell_type": "code",
   "execution_count": null,
   "metadata": {},
   "outputs": [],
   "source": [
    "{\n",
    "    std::string a = \"ab cde fghi j \";\n",
    "    std::cout << reverseWords(a) << std::endl;\n",
    "}"
   ]
  },
  {
   "cell_type": "code",
   "execution_count": null,
   "metadata": {},
   "outputs": [],
   "source": [
    "// std::string(\"abc\").size()\n",
    "// strings exclude null character"
   ]
  },
  {
   "cell_type": "code",
   "execution_count": null,
   "metadata": {},
   "outputs": [],
   "source": [
    "#include <iostream>\n",
    "{\n",
    "    int i = 0;\n",
    "    i = i++;\n",
    "    std::cout << i;\n",
    "}"
   ]
  },
  {
   "cell_type": "markdown",
   "metadata": {},
   "source": [
    "6.7 -> Compute all mnemonics for phone numbers"
   ]
  },
  {
   "cell_type": "code",
   "execution_count": null,
   "metadata": {},
   "outputs": [],
   "source": [
    "std::vector<std::string> merge(int size, std::vector<std::string> a, std::vector<std::string> b)\n",
    "{\n",
    "    std::vector<std::string> ans;\n",
    "\n",
    "    for (int i = 0; i < a.size(); i++)\n",
    "    {\n",
    "        for (int j = 0; j < b.size(); j++)\n",
    "        {\n",
    "            ans.push_back(a[i] + b[j]);\n",
    "        }\n",
    "    }\n",
    "\n",
    "    return ans;\n",
    "}\n"
   ]
  },
  {
   "cell_type": "code",
   "execution_count": 23,
   "metadata": {
    "collapsed": true
   },
   "outputs": [
    {
     "name": "stderr",
     "output_type": "stream",
     "text": [
      "\u001b[1minput_line_30:2:30: \u001b[0m\u001b[0;1;31merror: \u001b[0m\u001b[1mno matching constructor for initialization of 'std::vector<std::string>' (aka 'vector<basic_string<char> >')\u001b[0m\n",
      "    std::vector<std::string> map =\n",
      "\u001b[0;1;32m                             ^\n",
      "\u001b[0m\u001b[1m/home/ababu/anaconda3/envs/cling/bin/../lib/gcc/../../gcc/include/c++/bits/stl_vector.h:411:2: \u001b[0m\u001b[0;1;30mnote: \u001b[0mcandidate constructor template not viable: requires at most 3 arguments, but 10 were provided\u001b[0m\n",
      "        vector(_InputIterator __first, _InputIterator __last,\n",
      "\u001b[0;1;32m        ^\n",
      "\u001b[0m\u001b[1m/home/ababu/anaconda3/envs/cling/bin/../lib/gcc/../../gcc/include/c++/bits/stl_vector.h:295:7: \u001b[0m\u001b[0;1;30mnote: \u001b[0mcandidate constructor not viable: requires at most 3 arguments, but 10 were provided\u001b[0m\n",
      "      vector(size_type __n, const value_type& __value,\n",
      "\u001b[0;1;32m      ^\n",
      "\u001b[0m\u001b[1m/home/ababu/anaconda3/envs/cling/bin/../lib/gcc/../../gcc/include/c++/bits/stl_vector.h:283:7: \u001b[0m\u001b[0;1;30mnote: \u001b[0mcandidate constructor not viable: requires at most 2 arguments, but 10 were provided\u001b[0m\n",
      "      vector(size_type __n, const allocator_type& __a = allocator_type())\n",
      "\u001b[0;1;32m      ^\n",
      "\u001b[0m\u001b[1m/home/ababu/anaconda3/envs/cling/bin/../lib/gcc/../../gcc/include/c++/bits/stl_vector.h:348:7: \u001b[0m\u001b[0;1;30mnote: \u001b[0mcandidate constructor not viable: requires 2 arguments, but 10 were provided\u001b[0m\n",
      "      vector(const vector& __x, const allocator_type& __a)\n",
      "\u001b[0;1;32m      ^\n",
      "\u001b[0m\u001b[1m/home/ababu/anaconda3/envs/cling/bin/../lib/gcc/../../gcc/include/c++/bits/stl_vector.h:358:7: \u001b[0m\u001b[0;1;30mnote: \u001b[0mcandidate constructor not viable: requires 2 arguments, but 10 were provided\u001b[0m\n",
      "      vector(vector&& __rv, const allocator_type& __m)\n",
      "\u001b[0;1;32m      ^\n",
      "\u001b[0m\u001b[1m/home/ababu/anaconda3/envs/cling/bin/../lib/gcc/../../gcc/include/c++/bits/stl_vector.h:383:7: \u001b[0m\u001b[0;1;30mnote: \u001b[0mcandidate constructor not viable: requires at most 2 arguments, but 10 were provided\u001b[0m\n",
      "      vector(initializer_list<value_type> __l,\n",
      "\u001b[0;1;32m      ^\n",
      "\u001b[0m\u001b[1m/home/ababu/anaconda3/envs/cling/bin/../lib/gcc/../../gcc/include/c++/bits/stl_vector.h:270:7: \u001b[0m\u001b[0;1;30mnote: \u001b[0mcandidate constructor not viable: requires single argument '__a', but 10 arguments were provided\u001b[0m\n",
      "      vector(const allocator_type& __a) _GLIBCXX_NOEXCEPT\n",
      "\u001b[0;1;32m      ^\n",
      "\u001b[0m\u001b[1m/home/ababu/anaconda3/envs/cling/bin/../lib/gcc/../../gcc/include/c++/bits/stl_vector.h:326:7: \u001b[0m\u001b[0;1;30mnote: \u001b[0mcandidate constructor not viable: requires single argument '__x', but 10 arguments were provided\u001b[0m\n",
      "      vector(const vector& __x)\n",
      "\u001b[0;1;32m      ^\n",
      "\u001b[0m\u001b[1m/home/ababu/anaconda3/envs/cling/bin/../lib/gcc/../../gcc/include/c++/bits/stl_vector.h:344:7: \u001b[0m\u001b[0;1;30mnote: \u001b[0mcandidate constructor not viable: requires single argument '__x', but 10 arguments were provided\u001b[0m\n",
      "      vector(vector&& __x) noexcept\n",
      "\u001b[0;1;32m      ^\n",
      "\u001b[0m\u001b[1m/home/ababu/anaconda3/envs/cling/bin/../lib/gcc/../../gcc/include/c++/bits/stl_vector.h:259:7: \u001b[0m\u001b[0;1;30mnote: \u001b[0mcandidate constructor not viable: requires 0 arguments, but 10 were provided\u001b[0m\n",
      "      vector()\n",
      "\u001b[0;1;32m      ^\n",
      "\u001b[0m"
     ]
    },
    {
     "ename": "Interpreter Error",
     "evalue": "",
     "output_type": "error",
     "traceback": [
      "Interpreter Error: "
     ]
    }
   ],
   "source": [
    "#include <vector>\n",
    "#include <string>\n",
    "#include <iostream>\n",
    "\n",
    "std::vector<std::string> PhoneMnemonic(const std::string& phone_number) {\n",
    "    std::vector<std::string> map[10] =\n",
    "    {\n",
    "        {\"0\"}, {\"1\"}, {\"A\", \"B\", \"C\"}, {\"D\", \"E\", \"F\"}, {\"G\", \"H\", \"I\"}, {\"J\", \"K\", \"L\"}, {\"M\", \"N\", \"O\"},\n",
    "        {\"P\", \"Q\", \"R\", \"S\"}, {\"T\", \"U\", \"V\"}, {\"W\", \"X\", \"Y\", \"Z\"}\n",
    "    };\n",
    "\n",
    "    std::vector<std::string> lol = map[phone_number[0] - '0'];\n",
    "\n",
    "    for (int i = 1; i < phone_number.size(); i++)\n",
    "    {\n",
    "        lol = merge(i, lol, map[phone_number[i] - '0']);\n",
    "    }\n",
    "\n",
    "    return lol;\n",
    "}"
   ]
  },
  {
   "cell_type": "code",
   "execution_count": null,
   "metadata": {},
   "outputs": [],
   "source": [
    "#include <string>\n",
    "#include <iostream>\n",
    "\n",
    "std::string look_and_say(int n)\n",
    "{    \n",
    "    std::string s(\"1\");\n",
    "    \n",
    "    std::string ans;\n",
    "    for(int i = 1; i < n; i++)\n",
    "    {\n",
    "        ans = \"\";\n",
    "        int count = 1;\n",
    "        for(int j = 0; j < s.size() - 1; j++)\n",
    "        {\n",
    "            if(s[j] == s[j+1])\n",
    "            {\n",
    "                count++;\n",
    "            }\n",
    "            else\n",
    "            {\n",
    "                ans += std::to_string(count) + s[j];\n",
    "                count = 1;\n",
    "            }\n",
    "        }\n",
    "        ans += std::to_string(count) + s[s.size()-1];\n",
    "        \n",
    "        s = ans;\n",
    "    }\n",
    "    \n",
    "    return s;\n",
    "}"
   ]
  },
  {
   "cell_type": "code",
   "execution_count": null,
   "metadata": {},
   "outputs": [],
   "source": [
    "look_and_say(5)"
   ]
  },
  {
   "cell_type": "code",
   "execution_count": null,
   "metadata": {},
   "outputs": [],
   "source": []
  }
 ],
 "metadata": {
  "kernelspec": {
   "display_name": "C++11",
   "language": "C++11",
   "name": "xeus-cling-cpp11"
  },
  "language_info": {
   "codemirror_mode": "text/x-c++src",
   "file_extension": ".cpp",
   "mimetype": "text/x-c++src",
   "name": "c++",
   "version": "-std=c++11"
  }
 },
 "nbformat": 4,
 "nbformat_minor": 2
}
