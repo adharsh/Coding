{
 "cells": [
  {
   "cell_type": "markdown",
   "metadata": {},
   "source": [
    "## Binary Trees"
   ]
  },
  {
   "cell_type": "markdown",
   "metadata": {},
   "source": [
    "Tips:  \n",
    "Think recursively as well -> remember that space is also implicity allocated on the function call stack  \n",
    "Brute force space is often O(n), use existing nodes to reduce to O(1)  \n",
    "For time complexity, when O(h) where h is height -> O(logn) for complete tree, O(n) for skewed trees  \n",
    "Nodes with a single child may not be a leaf (skewed trees)  "
   ]
  },
  {
   "cell_type": "code",
   "execution_count": 2,
   "metadata": {},
   "outputs": [],
   "source": [
    "template <typename T>\n",
    "struct BinaryTreeNode\n",
    "{\n",
    "    T data;\n",
    "    std::unqiue_ptr<BinaryTreeNode> left, right;\n",
    "};"
   ]
  },
  {
   "cell_type": "code",
   "execution_count": null,
   "metadata": {},
   "outputs": [],
   "source": [
    "void InOrder(cpnst std::unqiue_ptr<BinaryTreeNode>& root)\n",
    "{\n",
    "    if(!root)\n",
    "        return;\n",
    "    InOrder(root->left);\n",
    "    std::cout << root->data << std::endl;\n",
    "    InOrder(root->right);\n",
    "}"
   ]
  },
  {
   "cell_type": "markdown",
   "metadata": {},
   "source": [
    "9.1 Binary Tree is Height-Balanced  "
   ]
  },
  {
   "cell_type": "markdown",
   "metadata": {},
   "source": [
    "If using unqiue_ptrs, if parameter -> const&  \n",
    "Why const&?"
   ]
  },
  {
   "cell_type": "code",
   "execution_count": null,
   "metadata": {},
   "outputs": [],
   "source": [
    "struct Data\n",
    "{\n",
    "    bool isBalanced;\n",
    "    int height;\n",
    "};\n",
    "\n",
    "Data aux(const std::unique_ptr<BinaryTreeNode<int>>& root)\n",
    "{\n",
    "    if (!root)\n",
    "        return { true, 0 };\n",
    "\n",
    "    Data left = aux(root->left);\n",
    "    Data right = aux(root->right);\n",
    "\n",
    "    int height = std::max(left.height, right.height) + 1;\n",
    "    bool isBalanced = left.isBalanced && right.isBalanced && (std::abs(right.height - left.height) <= 1);\n",
    "\n",
    "    return { isBalanced, height };\n",
    "}\n",
    "\n",
    "bool IsBalanced(const std::unique_ptr<BinaryTreeNode<int>>& root)\n",
    "{\n",
    "    return aux(root).isBalanced;\n",
    "}"
   ]
  },
  {
   "cell_type": "markdown",
   "metadata": {},
   "source": [
    "9.2 Is Binary Tree Symmetric"
   ]
  },
  {
   "cell_type": "code",
   "execution_count": null,
   "metadata": {},
   "outputs": [],
   "source": [
    "bool aux(const std::unique_ptr<BinaryTreeNode<int>>& subtree_0, const std::unique_ptr<BinaryTreeNode<int>>& subtree_1)\n",
    "{\n",
    "    if (!subtree_0 && !subtree_1)\n",
    "        return true;\n",
    "\n",
    "    if (subtree_0 && subtree_1)\n",
    "    {\n",
    "        return subtree_0->data == subtree_1->data &&\n",
    "            aux(subtree_0->right, subtree_1->left) &&\n",
    "            aux(subtree_0->left, subtree_1->right);\n",
    "    }\n",
    "\n",
    "    return false;\n",
    "}\n",
    "\n",
    "bool IsSymmetric(const std::unique_ptr<BinaryTreeNode<int>>& root)\n",
    "{\n",
    "    return root? aux(root->left, root->right) : true;\n",
    "}"
   ]
  },
  {
   "cell_type": "markdown",
   "metadata": {},
   "source": [
    "9.3 (Problem Request) LCA (pseudocode)"
   ]
  },
  {
   "cell_type": "code",
   "execution_count": null,
   "metadata": {},
   "outputs": [],
   "source": [
    "bool LCA(const std::unique_ptr<BinaryTreeNode<int>>& root, const std::unique_ptr<BinaryTreeNode<int>>& p, const std::unique_ptr<BinaryTreeNode<int>>& q)\n",
    "{\n",
    "    if(p->data < root->data && q->data < root->data)\n",
    "        return LCA(root->left, p, q);\n",
    "    if(p->data > root->data && q->data > root->data)\n",
    "        return LCA(root->left, p, q);\n",
    "    \n",
    "    return root;\n",
    "}"
   ]
  },
  {
   "cell_type": "markdown",
   "metadata": {},
   "source": [
    "9.4 Given only two nodes (and that they have pointers to their parents) find LCA"
   ]
  },
  {
   "cell_type": "code",
   "execution_count": null,
   "metadata": {},
   "outputs": [],
   "source": []
  }
 ],
 "metadata": {
  "kernelspec": {
   "display_name": "C++11",
   "language": "C++11",
   "name": "xeus-cling-cpp11"
  },
  "language_info": {
   "codemirror_mode": "text/x-c++src",
   "file_extension": ".cpp",
   "mimetype": "text/x-c++src",
   "name": "c++",
   "version": "-std=c++11"
  }
 },
 "nbformat": 4,
 "nbformat_minor": 2
}
