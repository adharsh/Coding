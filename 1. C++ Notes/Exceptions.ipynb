{
 "cells": [
  {
   "cell_type": "markdown",
   "metadata": {},
   "source": [
    "http://www.cplusplus.com/doc/tutorial/exceptions/"
   ]
  },
  {
   "cell_type": "code",
   "execution_count": 1,
   "metadata": {},
   "outputs": [
    {
     "name": "stdout",
     "output_type": "stream",
     "text": [
      "An exception occurred. Exception Nr. 20\n"
     ]
    },
    {
     "data": {
      "text/plain": [
       "0"
      ]
     },
     "execution_count": 1,
     "metadata": {},
     "output_type": "execute_result"
    }
   ],
   "source": [
    "// exceptions\n",
    "#include <iostream>\n",
    "using namespace std;\n",
    "\n",
    "{\n",
    "  try\n",
    "  {\n",
    "    throw 20;\n",
    "  }\n",
    "  catch (int e)\n",
    "  {\n",
    "    cout << \"An exception occurred. Exception Nr. \" << e << '\\n';\n",
    "  }\n",
    "  return 0;\n",
    "}"
   ]
  },
  {
   "cell_type": "code",
   "execution_count": 2,
   "metadata": {},
   "outputs": [
    {
     "name": "stdout",
     "output_type": "stream",
     "text": [
      "My exception happened\n"
     ]
    },
    {
     "data": {
      "text/plain": [
       "0"
      ]
     },
     "execution_count": 2,
     "metadata": {},
     "output_type": "execute_result"
    }
   ],
   "source": [
    "// using standard exceptions\n",
    "#include <iostream>\n",
    "#include <exception>\n",
    "using namespace std;\n",
    "\n",
    "class myexception: public exception\n",
    "{\n",
    "  virtual const char* what() const throw()\n",
    "  {\n",
    "    return \"My exception happened\";\n",
    "  }\n",
    "} myex;\n",
    "\n",
    "\n",
    "{\n",
    "  try\n",
    "  {\n",
    "    throw myex;\n",
    "  }\n",
    "  catch (exception& e)\n",
    "  {\n",
    "    cout << e.what() << '\\n';\n",
    "  }\n",
    "  return 0;\n",
    "}"
   ]
  },
  {
   "cell_type": "markdown",
   "metadata": {},
   "source": [
    "<table class=\"boxed\">\n",
    "<tr><th>exception</th><th>description</th></tr>\n",
    "<tr><td><code><a href=\"/bad_alloc\">bad_alloc</a></code></td><td>thrown by <code>new</code> on allocation failure</td></tr>\n",
    "<tr><td><code><a href=\"/bad_cast\">bad_cast</a></code></td><td>thrown by <code>dynamic_cast</code> when it fails in a dynamic cast</td></tr>\n",
    "<tr><td><code><a href=\"/bad_exception\">bad_exception</a></code></td><td>thrown by certain dynamic exception specifiers</td></tr>\n",
    "<tr><td><code><a href=\"/bad_typeid\">bad_typeid</a></code></td><td>thrown by <code>typeid</code></td></tr>\n",
    "<tr><td><code><a href=\"/bad_function_call\">bad_function_call</a></code></td><td>thrown by empty <code><a href=\"/function\">function</a></code> objects</td></tr>\n",
    "<tr><td><code><a href=\"/bad_weak_ptr\">bad_weak_ptr</a></code></td><td>thrown by <code><a href=\"/shared_ptr\">shared_ptr</a></code> when passed a bad <code><a href=\"/weak_ptr\">weak_ptr</a></code></td></tr>\n",
    "</table>"
   ]
  },
  {
   "cell_type": "markdown",
   "metadata": {},
   "source": [
    "<table class=\"boxed\">\n",
    "<tr><th>exception</th><th>description</th></tr>\n",
    "<tr><td><code><a href=\"/logic_error\">logic_error</a></code></td><td>error related to the internal logic of the program</td></tr>\n",
    "<tr><td><code><a href=\"/runtime_error\">runtime_error</a></code></td><td>error detected during runtime</td></tr>\n",
    "</table>"
   ]
  },
  {
   "cell_type": "code",
   "execution_count": null,
   "metadata": {},
   "outputs": [],
   "source": []
  }
 ],
 "metadata": {
  "kernelspec": {
   "display_name": "C++11",
   "language": "C++11",
   "name": "xeus-cling-cpp11"
  },
  "language_info": {
   "codemirror_mode": "text/x-c++src",
   "file_extension": ".cpp",
   "mimetype": "text/x-c++src",
   "name": "c++",
   "version": "-std=c++11"
  }
 },
 "nbformat": 4,
 "nbformat_minor": 2
}
