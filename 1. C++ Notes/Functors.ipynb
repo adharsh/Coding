{
 "cells": [
  {
   "cell_type": "markdown",
   "metadata": {},
   "source": [
    "https://stackoverflow.com/a/356992   \n",
    "It's just a class that overloads the parenthesis (not the constructor, since it has a return value)    \n",
    "    The constructor accepts arguments that set the functor's state  \n",
    "    The overloaded () allow the functor to act like a function based on its constructed state  \n",
    "    It's just a way to create a function based on runtime determined states\n",
    "\n",
    "\n",
    "Look at these and replicate  \n",
    "Purpose of functors  \n",
    "https://stackoverflow.com/a/356993  \n",
    "\n",
    "transform cool implementation  \n",
    "https://en.cppreference.com/w/cpp/algorithm/transform  \n",
    "\n",
    "also can be used as function pointers  "
   ]
  },
  {
   "cell_type": "raw",
   "metadata": {},
   "source": [
    "{\n",
    "    template<class InputIt, class OutputIt, class UnaryOperation>\n",
    "    OutputIt transform(InputIt first1, InputIt last1, OutputIt d_first, UnaryOperation unary_op)\n",
    "    {\n",
    "         while (first1 != last1)\n",
    "            *d_first++ = unary_op(*first1++);\n",
    "        return d_first;\n",
    "    }\n",
    "}"
   ]
  },
  {
   "cell_type": "code",
   "execution_count": 1,
   "metadata": {},
   "outputs": [],
   "source": [
    "//functors have an initial state\n",
    "//can initialize a function with a state, and use the function normally\n",
    "//but its execution depends on its construction\n",
    "\n",
    "#include <iostream>\n",
    "#include <vector>\n",
    "#include <assert.h>\n",
    "\n",
    "// this is a functor\n",
    "struct add_x {\n",
    "  add_x(int x) : x(x) {}\n",
    "  int operator()(int y) const { return x + y; }\n",
    "\n",
    "private:\n",
    "  int x;\n",
    "};\n",
    "\n",
    "// Now you can use it like this:\n",
    "add_x add_42(42); // create an instance of the functor class\n",
    "int i = add_42(8); // and \"call\" it\n",
    "assert(i == 50); // and it added 42 to its argument\n",
    "\n",
    "\n",
    "\n",
    "std::vector<int> in; // assume this contains a bunch of values)\n",
    "std::vector<int> out(in.size());\n",
    "// Pass a functor to std::transform, which calls the functor on every element \n",
    "// in the input sequence, and stores the result to the output sequence\n",
    "std::transform(in.begin(), in.end(), out.begin(), add_x(1)); \n",
    "assert(out[i] == in[i] + 1); // for all i"
   ]
  },
  {
   "cell_type": "code",
   "execution_count": 2,
   "metadata": {},
   "outputs": [],
   "source": [
    "#include <iostream>\n",
    "\n",
    "class lol\n",
    "{\n",
    "    public:\n",
    "        int sum = 4;\n",
    "        lol(int sum = 6) : sum(sum) {}\n",
    "        int operator()(int i)\n",
    "        {\n",
    "            sum += i;\n",
    "            return sum;\n",
    "        }\n",
    "};"
   ]
  },
  {
   "cell_type": "code",
   "execution_count": 3,
   "metadata": {},
   "outputs": [
    {
     "name": "stdout",
     "output_type": "stream",
     "text": [
      "11\n",
      "17\n"
     ]
    }
   ],
   "source": [
    "lol a;\n",
    "std::cout << a(5) << std::endl;\n",
    "std::cout << a(6) << std::endl;"
   ]
  },
  {
   "cell_type": "raw",
   "metadata": {},
   "source": [
    "template <typename InputIterator, typename Functor>\n",
    "void for_each(InputIterator first, InputIterator last, Functor f)\n",
    "{\n",
    "    while (first != last) f(*first++);\n",
    "}"
   ]
  },
  {
   "cell_type": "code",
   "execution_count": null,
   "metadata": {},
   "outputs": [],
   "source": [
    "#include <algorithm>\n",
    "\n",
    "void print(int i) { std::cout << i << std::endl; }\n",
    "\n",
    "std::vector<int> vec = {5, 7, 8};\n",
    "\n",
    "//Passing an object instance\n",
    "std::for_each(vec.begin(), vec.end(), lol(0)); //this is why functors are powerful, can generate them on the fly\n",
    "std::for_each(vec.begin(), vec.end(), print);"
   ]
  },
  {
   "cell_type": "markdown",
   "metadata": {},
   "source": [
    "### Bottom line: if you want a lambda that changes often, use a functor"
   ]
  },
  {
   "cell_type": "raw",
   "metadata": {},
   "source": [
    "//Functor\n",
    "struct add_x\n",
    "{\n",
    "    int x;\n",
    "    add_x(int y):x(y){}\n",
    "    int operator()(int y)\n",
    "    {\n",
    "       return x+y;\n",
    "    }\n",
    "};\n",
    "//Function\n",
    "int func(int x)\n",
    "{\n",
    "    return ++x;\n",
    "}"
   ]
  },
  {
   "cell_type": "raw",
   "metadata": {},
   "source": [
    "std::vector<int> vec = {1, 2, 3, 4, 5}\n",
    "int (*f)(int) = func;\n",
    "std::transform(vec.begin(),vec.end(),f);\n",
    "std::transform(vec.begin(),vec.end(),add_x(1)); "
   ]
  },
  {
   "cell_type": "markdown",
   "metadata": {},
   "source": [
    "Inheritance with functors:"
   ]
  },
  {
   "cell_type": "raw",
   "metadata": {},
   "source": [
    "#include <iostream>\n",
    "\n",
    "// Abstract base class                                                                                                                                                                                                  \n",
    "class BinaryFunction {\n",
    "public:\n",
    "    BinaryFunction() {};\n",
    "    virtual double operator() (double left, double right) = 0;\n",
    "};\n",
    "\n",
    "// Add two doubles                                                                                                                                                                                                      \n",
    "class Add : public BinaryFunction {\n",
    "public:\n",
    "    Add() {};\n",
    "    double operator() (double left, double right) override { return left + right; }\n",
    "};\n",
    "\n",
    "// Multiply two doubles                                                                                                                                                                                                 \n",
    "class Multiply : public BinaryFunction {\n",
    "public:\n",
    "    Multiply() {};\n",
    "    double operator() (double left, double right) override { return left * right; }\n",
    "};\n",
    "\n",
    "double binary_op(double left, double right, BinaryFunction* bin_func) {\n",
    "    return (*bin_func)(left, right);\n",
    "}"
   ]
  },
  {
   "cell_type": "markdown",
   "metadata": {},
   "source": [
    "double a = 5.0;\n",
    "double b = 10.0;\n",
    "\n",
    "BinaryFunction* pAdd = new Add();\n",
    "BinaryFunction* pMultiply = new Multiply;\n",
    "\n",
    "std::cout << \"Add: \" << binary_op(a, b, pAdd) << std::endl;\n",
    "std::cout << \"Multiply: \" << binary_op(a, b, pMultiply) << std::endl;\n",
    "\n",
    "delete pAdd;\n",
    "delete pMultiply;"
   ]
  }
 ],
 "metadata": {
  "kernelspec": {
   "display_name": "C++11",
   "language": "C++11",
   "name": "xeus-cling-cpp11"
  },
  "language_info": {
   "codemirror_mode": "text/x-c++src",
   "file_extension": ".cpp",
   "mimetype": "text/x-c++src",
   "name": "c++",
   "version": "-std=c++11"
  }
 },
 "nbformat": 4,
 "nbformat_minor": 2
}
