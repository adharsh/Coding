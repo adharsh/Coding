{
 "cells": [
  {
   "cell_type": "code",
   "execution_count": 1,
   "metadata": {},
   "outputs": [],
   "source": [
    "//btw memset implementation:\n",
    "void* memset(void* p, int val, int len)\n",
    "{\n",
    "    unsigned char* i = (unsigned char *)p;\n",
    "    while (len > 0)\n",
    "    {\n",
    "        *i++ = (unsigned char) val;\n",
    "//         or\n",
    "//         *i = (unsigned char) val;\n",
    "//         i++;\n",
    "        \n",
    "        len--;\n",
    "    }\n",
    "    return p;\n",
    "}"
   ]
  },
  {
   "cell_type": "code",
   "execution_count": null,
   "metadata": {},
   "outputs": [],
   "source": []
  }
 ],
 "metadata": {
  "kernelspec": {
   "display_name": "C++11",
   "language": "C++11",
   "name": "xeus-cling-cpp11"
  },
  "language_info": {
   "codemirror_mode": "text/x-c++src",
   "file_extension": ".cpp",
   "mimetype": "text/x-c++src",
   "name": "c++",
   "version": "-std=c++11"
  }
 },
 "nbformat": 4,
 "nbformat_minor": 2
}
