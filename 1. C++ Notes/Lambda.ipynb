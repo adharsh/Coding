{
 "cells": [
  {
   "cell_type": "raw",
   "metadata": {},
   "source": [
    "[](){}  \n",
    "\n",
    "Capture Clause: capturing outside variables  \n",
    "[=] everything outside by value  \n",
    "[&] everything outside by reference  \n",
    "\n",
    "Ex:\n",
    "[=, &var] -> everything passed by value except var, passed by reference\n",
    "[&, var] -> everything passed by reference except var, passed by value"
   ]
  },
  {
   "cell_type": "code",
   "execution_count": 1,
   "metadata": {},
   "outputs": [
    {
     "name": "stdout",
     "output_type": "stream",
     "text": [
      "-5 -4 -3 39 0 \n",
      "0 "
     ]
    }
   ],
   "source": [
    "#include <algorithm>\n",
    "#include <functional>\n",
    "#include <iostream>\n",
    "\n",
    "void print(std::vector<int>& A, std::function<void (int)> func)\n",
    "{\n",
    "    for_each(A.begin(), A.end(), func);\n",
    "}\n",
    "\n",
    "std::vector<int> A = {1,2,3,45,6};\n",
    "int dev = 8;\n",
    "auto l = [&dev](int x) {dev = 6; std::cout << x - dev << \" \";};\n",
    "print(A, l);\n",
    "std::cout << std::endl;\n",
    "l(dev);"
   ]
  },
  {
   "cell_type": "code",
   "execution_count": 2,
   "metadata": {},
   "outputs": [
    {
     "name": "stderr",
     "output_type": "stream",
     "text": [
      "\u001b[1minput_line_9:12:14: \u001b[0m\u001b[0;1;30mnote: \u001b[0min instantiation of member function 'Lol<int>::Lol' requested here\u001b[0m\n",
      "Lol<int> a = Lol<int>();\n",
      "\u001b[0;1;32m             ^\n",
      "\u001b[0m"
     ]
    }
   ],
   "source": [
    "template <class T>\n",
    "class Lol\n",
    "{\n",
    "private:\n",
    "    int a;\n",
    "public:\n",
    "    Lol()\n",
    "    {\n",
    "        [this](){std::cout << a << std::endl;};\n",
    "    }\n",
    "};\n",
    "\n",
    "Lol<int> a = Lol<int>();"
   ]
  },
  {
   "cell_type": "code",
   "execution_count": 3,
   "metadata": {},
   "outputs": [
    {
     "data": {
      "text/plain": [
       "10"
      ]
     },
     "execution_count": 3,
     "metadata": {},
     "output_type": "execute_result"
    }
   ],
   "source": [
    "//LOOK INTO\n",
    "//https://stackoverflow.com/a/28747100\n",
    "//https://stackoverflow.com/a/24388680\n",
    "\n",
    "//lambda can decay to function pointer only if they don't capture anything\n",
    "int (*f)(int) = [](int x) -> int {return x + 5;};\n",
    "f(5)"
   ]
  },
  {
   "cell_type": "code",
   "execution_count": null,
   "metadata": {},
   "outputs": [],
   "source": []
  }
 ],
 "metadata": {
  "kernelspec": {
   "display_name": "C++11",
   "language": "C++11",
   "name": "xeus-cling-cpp11"
  },
  "language_info": {
   "codemirror_mode": "text/x-c++src",
   "file_extension": ".cpp",
   "mimetype": "text/x-c++src",
   "name": "c++",
   "version": "-std=c++11"
  }
 },
 "nbformat": 4,
 "nbformat_minor": 2
}
