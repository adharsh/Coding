{
 "cells": [
  {
   "cell_type": "markdown",
   "metadata": {},
   "source": [
    "https://stackoverflow.com/questions/4622330/operator-overloading-member-function-vs-non-member-function\n",
    "https://stackoverflow.com/questions/4421706/what-are-the-basic-rules-and-idioms-for-operator-overloading\n",
    "\n",
    "Friend functions access private and protected elements for at least one class  \n",
    "Loophole in OOP -> useful for operator overloading  \n",
    "https://stackoverflow.com/questions/18404299/can-2-classes-share-a-friend-function"
   ]
  },
  {
   "cell_type": "raw",
   "metadata": {},
   "source": [
    "class B;                   //defined later\n",
    "\n",
    "void add(A,B);\n",
    "\n",
    "class A{\n",
    "    private:\n",
    "    int a;\n",
    "    public:\n",
    "    A(){ \n",
    "        a = 100;\n",
    "    }\n",
    "    friend void add(A,B);\n",
    "};   \n",
    "\n",
    "class B{\n",
    "    private:\n",
    "    int b;\n",
    "    public:\n",
    "    B(){ \n",
    "        b = 100;\n",
    "    }\n",
    "    friend void add(A,B);\n",
    "};\n",
    "\n",
    "void add (A Aobj, B Bobj){\n",
    "    cout << (Aobj.a + Bobj.b);\n",
    "}\n",
    "\n",
    "int main(){\n",
    "    A A1;\n",
    "    B B1;\n",
    "    add(A1,B1);\n",
    "    return 0;\n",
    "}"
   ]
  }
 ],
 "metadata": {
  "kernelspec": {
   "display_name": "C++11",
   "language": "C++11",
   "name": "xeus-cling-cpp11"
  },
  "language_info": {
   "codemirror_mode": "text/x-c++src",
   "file_extension": ".cpp",
   "mimetype": "text/x-c++src",
   "name": "c++",
   "version": "-std=c++11"
  }
 },
 "nbformat": 4,
 "nbformat_minor": 2
}
