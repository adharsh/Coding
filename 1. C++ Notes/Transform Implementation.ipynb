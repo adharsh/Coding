{
 "cells": [
  {
   "cell_type": "code",
   "execution_count": 1,
   "metadata": {},
   "outputs": [],
   "source": [
    "template<class InputIt, class OutputIt, class UnaryOperation>\n",
    "OutputIt transform(InputIt first1, InputIt last1, OutputIt d_first, UnaryOperation unary_op)\n",
    "{\n",
    "    while (first1 != last1)\n",
    "        *d_first++ = unary_op(*first1++);\n",
    "    return d_first;\n",
    "}"
   ]
  },
  {
   "cell_type": "code",
   "execution_count": 17,
   "metadata": {},
   "outputs": [
    {
     "name": "stdout",
     "output_type": "stream",
     "text": [
      "1 2 3 4 "
     ]
    }
   ],
   "source": [
    "#include <iostream>\n",
    "#include <vector>\n",
    "{\n",
    "    std::vector<int> foo = {0, 1, 2, 3};\n",
    "    std::vector<int> bar;\n",
    "\n",
    "    bar.resize(foo.size());\n",
    "                                                         //replace int with auto in C++17\n",
    "    std::transform(foo.begin(), foo.end(), bar.begin(), [](int x){return ++x;});\n",
    "    \n",
    "    for(std::vector<int>::iterator i = bar.begin(); i != bar.end(); ++i)\n",
    "        std::cout << *i << \" \";\n",
    "}"
   ]
  },
  {
   "cell_type": "code",
   "execution_count": null,
   "metadata": {},
   "outputs": [],
   "source": []
  }
 ],
 "metadata": {
  "kernelspec": {
   "display_name": "C++11",
   "language": "C++11",
   "name": "xeus-cling-cpp11"
  },
  "language_info": {
   "codemirror_mode": "text/x-c++src",
   "file_extension": ".cpp",
   "mimetype": "text/x-c++src",
   "name": "c++",
   "version": "-std=c++11"
  }
 },
 "nbformat": 4,
 "nbformat_minor": 2
}
