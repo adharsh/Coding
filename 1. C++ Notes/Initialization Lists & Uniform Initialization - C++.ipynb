{
 "cells": [
  {
   "cell_type": "markdown",
   "metadata": {},
   "source": [
    "***\n",
    "* https://stackoverflow.com/a/4178176  \n",
    "* https://stackoverflow.com/a/7189821  \n",
    "* https://www.learncpp.com/cpp-tutorial/b-4-initializer-lists-and-uniform-initialization/\n",
    "* https://stackoverflow.com/a/18224556\n",
    "***"
   ]
  },
  {
   "cell_type": "markdown",
   "metadata": {},
   "source": [
    "# Initialization List"
   ]
  },
  {
   "cell_type": "code",
   "execution_count": null,
   "metadata": {},
   "outputs": [],
   "source": [
    "MyStruct(int x, float y): m_nX(x), m_nY(y) {}; // m_nX and m_nY are part of the initialization list"
   ]
  },
  {
   "cell_type": "markdown",
   "metadata": {},
   "source": [
    "# Initializer List"
   ]
  },
  {
   "cell_type": "code",
   "execution_count": null,
   "metadata": {},
   "outputs": [],
   "source": [
    "type variable = { data, elements };"
   ]
  },
  {
   "cell_type": "markdown",
   "metadata": {},
   "source": [
    "# Uniform Initialization"
   ]
  },
  {
   "cell_type": "code",
   "execution_count": null,
   "metadata": {},
   "outputs": [],
   "source": [
    "type variable { data, elements }; // note: no assignment operator"
   ]
  },
  {
   "cell_type": "markdown",
   "metadata": {},
   "source": [
    "### Aggregates can be created by Initializer Lists and Uniform Initializations.  <br> Non-aggregates that have initialization lists (in a user-defined construtor hence non-aggregate) or user-defined initializer_list constructors can be created by Initializer Lists and Uniform Initializations (if not either, parameters will go to the corresponding constructor).  "
   ]
  },
  {
   "cell_type": "markdown",
   "metadata": {},
   "source": [
    "#### If the compiler can use an initializer list constructor with a brace-initialized list, then it will."
   ]
  },
  {
   "cell_type": "markdown",
   "metadata": {},
   "source": [
    "For values use initializer lists, otherwise use parenthesis for some other functionality\n",
    "\n",
    "https://stackoverflow.com/a/37228443"
   ]
  },
  {
   "cell_type": "markdown",
   "metadata": {},
   "source": [
    "For classes, structs, and unions used like data, implement it as an aggregate:\n",
    "* no user defined constructors\n",
    "* only static methods allowed\n",
    "\n",
    "POD's is a subset of aggregates"
   ]
  },
  {
   "cell_type": "markdown",
   "metadata": {},
   "source": [
    "Aggregate classes can be list-initialized."
   ]
  },
  {
   "cell_type": "code",
   "execution_count": null,
   "metadata": {},
   "outputs": [],
   "source": [
    "class NotAggregate1\n",
    "{\n",
    "  virtual void f() {} //remember? no virtual functions\n",
    "};\n",
    "\n",
    "class NotAggregate2\n",
    "{\n",
    "  int x; //x is private by default and non-static \n",
    "};\n",
    "\n",
    "class NotAggregate3\n",
    "{\n",
    "public:\n",
    "  NotAggregate3(int) {} //oops, user-defined constructor\n",
    "};\n",
    "\n",
    "class Aggregate1\n",
    "{\n",
    "public:\n",
    "  NotAggregate1 member1;   //ok, public member\n",
    "  Aggregate1& operator=(Aggregate1 const & rhs) {/* */} //ok, copy-assignment  \n",
    "private:\n",
    "  void f() {} // ok, just a private function\n",
    "};\n",
    "\n",
    "\n",
    "// C++ 11\n",
    "\n",
    "struct Aggregate {\n",
    "    Aggregate() = default; // asks the compiler to generate the default implementation\n",
    "};\n",
    "\n",
    "// Basically providing its own default constructor, so not an aggregate\n",
    "struct NotAggregate {\n",
    "    int x = 5; // valid in C++11\n",
    "    std::vector<int> s{1,2,3}; // also valid\n",
    "};"
   ]
  },
  {
   "cell_type": "markdown",
   "metadata": {},
   "source": [
    "POD's\n",
    "* No user-defined destructors\n",
    "* Contains array of non-POD"
   ]
  },
  {
   "cell_type": "code",
   "execution_count": null,
   "metadata": {},
   "outputs": [],
   "source": [
    "struct POD\n",
    "{\n",
    "  int x;\n",
    "  char y;\n",
    "  void f() {} //no harm if there's a function\n",
    "  static std::vector<char> v; //static members do not matter\n",
    "};\n",
    "\n",
    "struct AggregateButNotPOD1\n",
    "{\n",
    "  int x;\n",
    "  ~AggregateButNotPOD1() {} //user-defined destructor\n",
    "};\n",
    "\n",
    "struct AggregateButNotPOD2\n",
    "{\n",
    "  AggregateButNotPOD1 arrOfNonPod[3]; //array of non-POD class\n",
    "};"
   ]
  },
  {
   "cell_type": "markdown",
   "metadata": {},
   "source": [
    "Below doesn't produce errors:"
   ]
  },
  {
   "cell_type": "code",
   "execution_count": 1,
   "metadata": {},
   "outputs": [],
   "source": [
    "struct A\n",
    "{\n",
    "    int a, b;\n",
    "//     A(){} //if this is uncommented, not an aggregate, and produces an error\n",
    "}"
   ]
  },
  {
   "cell_type": "code",
   "execution_count": 2,
   "metadata": {},
   "outputs": [],
   "source": [
    "A a = {5, 6};"
   ]
  },
  {
   "cell_type": "markdown",
   "metadata": {},
   "source": [
    "For non-aggregates, class/struct/union must have an initializer list constructor:  \n",
    "https://stackoverflow.com/a/18224556"
   ]
  },
  {
   "cell_type": "markdown",
   "metadata": {},
   "source": [
    "There are MANY reasons to use brace initialization, but you should be aware that the initializer_list<> constructor is preferred to the other constructors, the exception being the default-constructor. This leads to problems with constructors and templates where the type T constructor can be either an initializer list or a plain old ctor."
   ]
  },
  {
   "cell_type": "code",
   "execution_count": null,
   "metadata": {},
   "outputs": [],
   "source": [
    "#include <initializer_list>\n",
    "\n",
    "struct Foo {\n",
    "    Foo() {}\n",
    "\n",
    "    Foo(std::initializer_list<Foo>) {\n",
    "        std::cout << \"initializer list\" << std::endl;\n",
    "    }\n",
    "\n",
    "    Foo(const Foo&) {\n",
    "        std::cout << \"copy ctor\" << std::endl;\n",
    "    }\n",
    "};\n",
    "\n",
    "int main() {\n",
    "    Foo a;\n",
    "    Foo b(a); // copy ctor\n",
    "    Foo c{a}; // copy ctor (init. list element) + initializer list!!!\n",
    "}"
   ]
  },
  {
   "cell_type": "markdown",
   "metadata": {},
   "source": [
    "Another example, vector is not an aggregate so it has its own initalizer list constructor:  \n",
    "https://stackoverflow.com/a/23190912"
   ]
  },
  {
   "cell_type": "code",
   "execution_count": 1,
   "metadata": {},
   "outputs": [],
   "source": [
    "// non-aggregate\n",
    "\n",
    "struct Bar\n",
    "{\n",
    "    int a, b, c;\n",
    "\n",
    "//     Both constructors below apply to the idea in the next cell\n",
    "    Bar(int c, int b, int a) : a(a), b(b), c(c) {} // non-aggregate \n",
    "//      Bar(int c, int b, int a)\n",
    "//      {\n",
    "//          this->a = a;\n",
    "//          this->b = b;\n",
    "//          this->c = c;\n",
    "//      } // non-aggregate \n",
    "};"
   ]
  },
  {
   "cell_type": "code",
   "execution_count": 2,
   "metadata": {},
   "outputs": [
    {
     "name": "stdout",
     "output_type": "stream",
     "text": [
      "33 22 11"
     ]
    }
   ],
   "source": [
    "#include <iostream>\n",
    "{\n",
    "    Bar b0 = {1, 2, 3}; // OK\n",
    "//     Bar b1 = {1,2};     // Error: number of elements must be 3\n",
    "    b0 = {11, 22, 33};  // Assignemnt OK\n",
    "    std::cout << b0.a << \" \" << b0.b << \" \" << b0.c;\n",
    "}"
   ]
  },
  {
   "cell_type": "markdown",
   "metadata": {},
   "source": [
    "Creates an list initalization of the parameters and fits that into the constructor. That's why values are out of order."
   ]
  },
  {
   "cell_type": "markdown",
   "metadata": {},
   "source": [
    "Can also be used to return initalizer-list as an object (object method)  \n",
    "https://softwareengineering.stackexchange.com/a/133690"
   ]
  },
  {
   "cell_type": "code",
   "execution_count": 1,
   "metadata": {},
   "outputs": [],
   "source": [
    "#include <vector>\n",
    "\n",
    "std::vector<int> GetValue()\n",
    "{\n",
    "  return {5, 3, 2};\n",
    "}\n",
    "\n",
    "// it passes this initializer_list into the constructor for a vec3\n",
    "// If vec3 has a initializer_list constructor, this is passed in there\n",
    "// ELse, passed into another user-defined constructor"
   ]
  },
  {
   "cell_type": "code",
   "execution_count": null,
   "metadata": {},
   "outputs": [],
   "source": []
  }
 ],
 "metadata": {
  "kernelspec": {
   "display_name": "C++11",
   "language": "C++11",
   "name": "xeus-cling-cpp11"
  },
  "language_info": {
   "codemirror_mode": "text/x-c++src",
   "file_extension": ".cpp",
   "mimetype": "text/x-c++src",
   "name": "c++",
   "version": "-std=c++11"
  }
 },
 "nbformat": 4,
 "nbformat_minor": 2
}
