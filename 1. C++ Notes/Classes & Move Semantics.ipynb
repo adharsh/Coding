{
 "cells": [
  {
   "cell_type": "markdown",
   "metadata": {},
   "source": [
    "https://stackoverflow.com/questions/40590216/is-it-legal-to-index-into-a-struct"
   ]
  },
  {
   "cell_type": "code",
   "execution_count": 4,
   "metadata": {},
   "outputs": [],
   "source": [
    "#include <iostream>\n",
    "class A\n",
    "{\n",
    "    private:\n",
    "    int a;\n",
    "\n",
    "    public:\n",
    "    A() : A(5){}\n",
    "    A(int a)\n",
    "    {\n",
    "        this->a = a;\n",
    "        std::cout << \"yolo\" << std::endl;\n",
    "    }\n",
    "    int getA(){ return a; }\n",
    "};"
   ]
  },
  {
   "cell_type": "code",
   "execution_count": 5,
   "metadata": {},
   "outputs": [
    {
     "name": "stdout",
     "output_type": "stream",
     "text": [
      "yolo\n",
      "5\n"
     ]
    }
   ],
   "source": [
    "{\n",
    "    A a; //default constructor will be called\n",
    "    std::cout << a.getA() << std::endl;\n",
    "}"
   ]
  },
  {
   "cell_type": "markdown",
   "metadata": {},
   "source": [
    "The default constructor is special because it is called when an object is declared but not initilaized with any arguments.   \n",
    "Default constructor must always exist: When any constructor is explicitly declared in a class, no implicit default constructors is automatically provided. \n",
    "\n",
    "A a(); -> function prototybe, not actually creating an object  \n",
    "A a;   -> default constructor called  (preferred)  \n",
    "A a(5);  -> (preferred)  \n",
    "A a = 5;  \n",
    "A a {5};  \n",
    "A a = {5};  \n",
    "\n",
    "{} braces are called uniform initializer syntax  "
   ]
  },
  {
   "cell_type": "markdown",
   "metadata": {},
   "source": [
    "https://stackoverflow.com/a/37228443  \n",
    "Diff between using {} and ()  \n",
    "() is more functional  \n",
    "{} is for simply filling in parameter values: "
   ]
  },
  {
   "cell_type": "raw",
   "metadata": {},
   "source": [
    "vector<int> a{10,20};   //Curly braces -> fills the vector with the arguments  \n",
    "\n",
    "vector<int> b(10,20);   //Parenthesis -> uses arguments to parametrize some functionality, ex doesn't work  \n",
    "\n",
    "vector<int> c(it1,it2); //like filling the vector with 10 integers or copying a range.  \n",
    "\n",
    "vector<int> d{};      //empty braces -> default constructs vector, which is equivalent  \n",
    "                      //to a vector that is filled with zero elements  "
   ]
  },
  {
   "cell_type": "markdown",
   "metadata": {},
   "source": [
    "When an object is created, compiler makes sure that constructors for all of its subobjects (its member and inherited objects) are called.\n",
    "https://www.geeksforgeeks.org/when-are-constructors-called/"
   ]
  },
  {
   "cell_type": "code",
   "execution_count": 1,
   "metadata": {},
   "outputs": [],
   "source": [
    "class Rectangle {\n",
    "  int width, height;\n",
    "public:\n",
    "  Rectangle(int x, int y) : width(x), height(y) {}\n",
    "  int area(void) { return width * height; }\n",
    "};\n",
    "\n",
    "Rectangle* baz = new Rectangle[2] { {2,5}, {3,6} }; //universal initalizer"
   ]
  },
  {
   "cell_type": "code",
   "execution_count": 17,
   "metadata": {},
   "outputs": [],
   "source": [
    "{\n",
    "    class Rectangle {\n",
    "        int width, height;\n",
    "    public:\n",
    "        Rectangle() : Rectangle(0, 0) {} //must specify a default constructor\n",
    "        Rectangle(int x, int y) : width(x), height(y) {}\n",
    "        int area(void) { return width * height; }\n",
    "    };\n",
    "    \n",
    "    Rectangle* baz = new Rectangle[2]; //objects have already called default constructor\n",
    "    //must use a member function to set values, or specify a copy constructor\n",
    "//     baz[0] = Rectangle(2, 5); won't work\n",
    "//     baz[1] = Rectangle(3, 6);\n",
    "//     { {2,5}, {3,6} }; //universal initalizer\n",
    "}"
   ]
  },
  {
   "cell_type": "markdown",
   "metadata": {},
   "source": [
    "# Static Members"
   ]
  },
  {
   "cell_type": "markdown",
   "metadata": {},
   "source": [
    "Must be initalized outside of class"
   ]
  },
  {
   "cell_type": "code",
   "execution_count": null,
   "metadata": {},
   "outputs": [],
   "source": [
    "// static members in classes\n",
    "#include <iostream>\n",
    "using namespace std;\n",
    "\n",
    "class Dummy {\n",
    "  public:\n",
    "    static int n;\n",
    "    Dummy () { n++; };\n",
    "};\n",
    "\n",
    "int Dummy::n=0;\n",
    "\n",
    "int main () {\n",
    "  Dummy a;\n",
    "  Dummy b[5];\n",
    "  cout << a.n << '\\n';\n",
    "  Dummy * c = new Dummy;\n",
    "  cout << Dummy::n << '\\n';\n",
    "  delete c;\n",
    "  return 0;\n",
    "}"
   ]
  },
  {
   "cell_type": "markdown",
   "metadata": {},
   "source": [
    "# Const"
   ]
  },
  {
   "cell_type": "markdown",
   "metadata": {},
   "source": [
    "Const objects can't be modified, obviously"
   ]
  },
  {
   "cell_type": "code",
   "execution_count": null,
   "metadata": {},
   "outputs": [],
   "source": [
    "// constructor on const object\n",
    "#include <iostream>\n",
    "using namespace std;\n",
    "\n",
    "class MyClass {\n",
    "  public:\n",
    "    int x;\n",
    "    MyClass(int val) : x(val) {}\n",
    "    int get() {return x;}\n",
    "};\n",
    "\n",
    "int main() {\n",
    "  const MyClass foo(10);\n",
    "// foo.x = 20;            // not valid: x cannot be modified\n",
    "  cout << foo.x << '\\n';  // ok: data member x can be read\n",
    "  return 0;\n",
    "}"
   ]
  },
  {
   "cell_type": "markdown",
   "metadata": {},
   "source": [
    "Very good read:  \n",
    "http://www.cplusplus.com/doc/tutorial/classes2/"
   ]
  },
  {
   "cell_type": "markdown",
   "metadata": {},
   "source": [
    "Destructor, copy constructor, move constructor, etc. will all have an implicit one if not explicity defined"
   ]
  },
  {
   "cell_type": "markdown",
   "metadata": {},
   "source": [
    "# Destructor"
   ]
  },
  {
   "cell_type": "raw",
   "metadata": {},
   "source": [
    " ~Example4 () {}"
   ]
  },
  {
   "cell_type": "markdown",
   "metadata": {},
   "source": [
    "# Copy constructor"
   ]
  },
  {
   "cell_type": "code",
   "execution_count": null,
   "metadata": {},
   "outputs": [],
   "source": [
    "MyClass::MyClass (const MyClass&);"
   ]
  },
  {
   "cell_type": "markdown",
   "metadata": {},
   "source": [
    "Implicit copy constructor only does shallow copy of its member variables, if deep copy is needed, must specify:"
   ]
  },
  {
   "cell_type": "code",
   "execution_count": null,
   "metadata": {},
   "outputs": [],
   "source": [
    "// Shallow copy ex: \n",
    "// What implicit basically does\n",
    "\n",
    "class MyClass {\n",
    "  public:\n",
    "    int a, b; string c;\n",
    "};\n",
    "\n",
    "MyClass::MyClass(const MyClass& x) : a(x.a), b(x.b), c(x.c) {}"
   ]
  },
  {
   "cell_type": "code",
   "execution_count": null,
   "metadata": {},
   "outputs": [],
   "source": [
    "// Deep copy ex:\n",
    "\n",
    "#include <iostream>\n",
    "#include <string>\n",
    "using namespace std;\n",
    "\n",
    "class Example5 {\n",
    "    string* ptr;\n",
    "  public:\n",
    "    Example5 (const string& str) : ptr(new string(str)) {}\n",
    "    ~Example5 () {delete ptr;}\n",
    "    // copy constructor:\n",
    "    Example5 (const Example5& x) : ptr(new string(x.content())) {}\n",
    "    // access content:\n",
    "    const string& content() const {return *ptr;}\n",
    "};\n",
    "\n",
    "int main () {\n",
    "  Example5 foo (\"Example\");\n",
    "  Example5 bar = foo;\n",
    "\n",
    "  cout << \"bar's content: \" << bar.content() << '\\n';\n",
    "  return 0;\n",
    "}"
   ]
  },
  {
   "cell_type": "markdown",
   "metadata": {},
   "source": [
    "# Copy Assignment"
   ]
  },
  {
   "cell_type": "raw",
   "metadata": {},
   "source": [
    "Know the difference between following use cases:\n",
    "\n",
    "MyClass foo;\n",
    "MyClass bar (foo);       // object initialization: copy constructor called\n",
    "MyClass baz = foo;       // object initialization: copy constructor called //not assignment!!!\n",
    "foo = bar;               // object already initialized: copy assignment called"
   ]
  },
  {
   "cell_type": "code",
   "execution_count": null,
   "metadata": {},
   "outputs": [],
   "source": [
    "MyClass& operator= (const MyClass&);"
   ]
  },
  {
   "cell_type": "markdown",
   "metadata": {},
   "source": [
    "Implicit copy assignment does a shallow copy"
   ]
  },
  {
   "cell_type": "code",
   "execution_count": null,
   "metadata": {},
   "outputs": [],
   "source": [
    "Example5& operator= (const Example5& x) {\n",
    "  delete ptr;                      // delete currently pointed string\n",
    "  ptr = new string (x.content());  // allocate space for new string, and copy\n",
    "  return *this;\n",
    "}"
   ]
  },
  {
   "cell_type": "markdown",
   "metadata": {},
   "source": [
    "What does the below do?"
   ]
  },
  {
   "cell_type": "code",
   "execution_count": null,
   "metadata": {},
   "outputs": [],
   "source": [
    "Example5& operator= (const Example5& x) {\n",
    "  *ptr = x.content();\n",
    "  return *this;\n",
    "}"
   ]
  },
  {
   "cell_type": "markdown",
   "metadata": {},
   "source": [
    "# Move Constructor & Assignment"
   ]
  },
  {
   "cell_type": "code",
   "execution_count": null,
   "metadata": {},
   "outputs": [],
   "source": [
    "MyClass fn();            // function returning a MyClass object\n",
    "MyClass foo;             // default constructor\n",
    "MyClass bar = foo;       // copy constructor\n",
    "MyClass baz = fn();      // move constructor\n",
    "foo = bar;               // copy assignment\n",
    "baz = MyClass();         // move assignment "
   ]
  },
  {
   "cell_type": "markdown",
   "metadata": {},
   "source": [
    "The move assignment is called when an object is assigned the value of an unnamed object (an unnamed temporary).  \n",
    "Default behavior is shallow copy."
   ]
  },
  {
   "cell_type": "markdown",
   "metadata": {},
   "source": [
    "Must read in this order:  \n",
    "https://www.internalpointers.com/post/understanding-meaning-lvalues-and-rvalues-c  \n",
    "https://www.internalpointers.com/post/c-rvalue-references-and-move-semantics-beginners  \n",
    "\n",
    "https://en.cppreference.com/w/cpp/utility/move  \n",
    "https://www.fluentcpp.com/2018/02/06/understanding-lvalues-rvalues-and-their-references/  "
   ]
  },
  {
   "cell_type": "markdown",
   "metadata": {},
   "source": [
    "Now an lvalue reference is a reference that binds to an lvalue. lvalue references are marked with one ampersand (&).\n",
    "And an rvalue reference is a reference that binds to an rvalue. rvalue references are marked with two ampersands (&&)."
   ]
  },
  {
   "cell_type": "markdown",
   "metadata": {},
   "source": [
    "**lvalue reference vs pointer:**\n",
    "\n",
    "A pointer is the address of the memory location. You can change the value of that address to point at different memory addresses.\n",
    "\n",
    "A reference is an *alias* of the variable. You can only assign this alias during declaration. You cannot change which variable the reference is an alias of after it's declared.\n",
    "\n",
    "\n",
    "Default to references unless dynamically allocating memory or setting pointer to another address.\n",
    "Convention is also discussed below:\n",
    "https://stackoverflow.com/a/21884880"
   ]
  },
  {
   "cell_type": "markdown",
   "metadata": {},
   "source": [
    "`std::move` converts lvalue to rvalue reference, so you can pass it into move constructors (or asssignments) explicitly  \n",
    "Otherwise, it will go default into 1) memory creation of the temporary, 2) the actual object copy-constructor operation  \n",
    "^ which will be expensive  \n",
    "\n",
    "Compiler will do RVO (return value optimization) for returning values, but not for input (like in use cases of std::move)  \n",
    "\n",
    "When you std::move an lvalue, you need to be sure you won’t use it any more, because it will be considered like a disposable object by the rest of the code."
   ]
  },
  {
   "cell_type": "markdown",
   "metadata": {},
   "source": [
    "- Copying from A to B means that new memory is allocated to B and then the entire content of A is copied to this new memory allocated for B.\n",
    "- Moving from A to B means that the memory already allocated to A is transferred to B without allocating any new storage. It involves simply copying the pointer (shallow copy)."
   ]
  },
  {
   "cell_type": "code",
   "execution_count": 7,
   "metadata": {},
   "outputs": [],
   "source": [
    "{\n",
    "    int a = 5;\n",
    "\n",
    "    // lvalue reference: reference to lvalue (original lvalue can be modified)\n",
    "    int& b = a;\n",
    "\n",
    "    // rvalue reference: reference to rvalue (original rvalue can be modified)\n",
    "    int&& c = 2;\n",
    "}"
   ]
  },
  {
   "cell_type": "code",
   "execution_count": null,
   "metadata": {},
   "outputs": [],
   "source": [
    "// move constructor/assignment\n",
    "#include <iostream>\n",
    "#include <string>\n",
    "using namespace std;\n",
    "\n",
    "class Example6 {\n",
    "    string* ptr;\n",
    "  public:\n",
    "    Example6 (const string& str) : ptr(new string(str)) {}\n",
    "    ~Example6 () {delete ptr;}\n",
    "    // move constructor\n",
    "    Example6 (Example6&& x) : ptr(x.ptr) {x.ptr=nullptr;}\n",
    "    // move assignment\n",
    "    Example6& operator= (Example6&& x) {\n",
    "      delete ptr; //deletion is necessary since it's not a constructor, must delete any previous values\n",
    "      ptr = x.ptr;\n",
    "      x.ptr=nullptr;\n",
    "      return *this;\n",
    "    }\n",
    "    // access content:\n",
    "    const string& content() const {return *ptr;}\n",
    "    // addition:\n",
    "    Example6 operator+(const Example6& rhs) {\n",
    "      return Example6(content()+rhs.content());\n",
    "    }\n",
    "};\n",
    "\n",
    "\n",
    "int main () {\n",
    "  Example6 foo (\"Exam\");\n",
    "  Example6 bar = Example6(\"ple\");   // move-construction\n",
    "  \n",
    "  foo = foo + bar;                  // move-assignment\n",
    "\n",
    "  cout << \"foo's content: \" << foo.content() << '\\n';\n",
    "  return 0;\n",
    "}"
   ]
  },
  {
   "cell_type": "markdown",
   "metadata": {},
   "source": [
    "Compilers already optimize many cases that formally require a move-construction call in what is known as Return Value Optimization. Most notably, when the value returned by a function is used to initialize an object. In these cases, the move constructor may actually never get called.\n",
    "\n",
    "Note that even though rvalue references can be used for the type of any function parameter, it is seldom useful for uses other than the move constructor. Rvalue references are tricky, and *unnecessary uses may be the source of errors quite difficult to track*."
   ]
  },
  {
   "cell_type": "markdown",
   "metadata": {},
   "source": [
    "# Implicit Members"
   ]
  },
  {
   "cell_type": "raw",
   "metadata": {},
   "source": [
    "function_declaration = default; //set equal to implicit method (constructor or assignment)\n",
    "function_declaration = delete;  //that constructor/assignment for ex is not allowed to be called"
   ]
  },
  {
   "cell_type": "markdown",
   "metadata": {},
   "source": [
    "# Friend Functions"
   ]
  },
  {
   "cell_type": "markdown",
   "metadata": {},
   "source": [
    "https://stackoverflow.com/a/2315264\n",
    "\n",
    "- 1. access to internals of class  \n",
    "- 2. are in the scope of the class  \n",
    "- 3. must be invoked on an instance  \n",
    "\n",
    "friends get only 1.  \n",
    "static functions get 1 and 2.  "
   ]
  },
  {
   "cell_type": "markdown",
   "metadata": {},
   "source": [
    "Keyword used at declaration"
   ]
  },
  {
   "cell_type": "code",
   "execution_count": null,
   "metadata": {},
   "outputs": [],
   "source": [
    "// friend functions\n",
    "#include <iostream>\n",
    "using namespace std;\n",
    "\n",
    "class Rectangle {\n",
    "    int width, height;\n",
    "  public:\n",
    "    Rectangle() {}\n",
    "    Rectangle (int x, int y) : width(x), height(y) {}\n",
    "    int area() {return width * height;}\n",
    "    friend Rectangle duplicate (const Rectangle&); //can pass in any object, not necessarily const reference\n",
    "};\n",
    "\n",
    "Rectangle duplicate (const Rectangle& param)\n",
    "{\n",
    "  Rectangle res;\n",
    "  res.width = param.width*2;\n",
    "  res.height = param.height*2;\n",
    "  return res;\n",
    "}\n",
    "\n",
    "int main () {\n",
    "  Rectangle foo;\n",
    "  Rectangle bar (2,3);\n",
    "  foo = duplicate (bar);\n",
    "  cout << foo.area() << '\\n';\n",
    "  return 0;\n",
    "}"
   ]
  },
  {
   "cell_type": "markdown",
   "metadata": {},
   "source": [
    "# Friend Classes"
   ]
  },
  {
   "cell_type": "code",
   "execution_count": null,
   "metadata": {},
   "outputs": [],
   "source": [
    "// friend class\n",
    "#include <iostream>\n",
    "using namespace std;\n",
    "\n",
    "class Square;\n",
    "\n",
    "class Rectangle {\n",
    "    int width, height;\n",
    "  public:\n",
    "    int area ()\n",
    "      {return (width * height);}\n",
    "    void convert (Square a);\n",
    "};\n",
    "\n",
    "class Square {\n",
    "  friend class Rectangle;\n",
    "  private:\n",
    "    int side;\n",
    "  public:\n",
    "    Square (int a) : side(a) {}\n",
    "};\n",
    "\n",
    "void Rectangle::convert (Square a) {\n",
    "  width = a.side;\n",
    "  height = a.side;\n",
    "}\n",
    "  \n",
    "int main () {\n",
    "  Rectangle rect;\n",
    "  Square sqr (4);\n",
    "  rect.convert(sqr);\n",
    "  cout << rect.area();\n",
    "  return 0;\n",
    "}"
   ]
  },
  {
   "cell_type": "markdown",
   "metadata": {},
   "source": [
    "Rectangle is a friend. Rectangle has access to all of Square's stuff. Rectangle can do stuff with Square's stuff (not the other way around)."
   ]
  },
  {
   "cell_type": "markdown",
   "metadata": {},
   "source": [
    "### http://www.cplusplus.com/doc/tutorial/inheritance/"
   ]
  },
  {
   "cell_type": "markdown",
   "metadata": {},
   "source": [
    "This public keyword after the colon (:) denotes the most accessible level the members inherited from the class that follows it (in this case Polygon) will have from the derived class (in this case Rectangle). Since public is the most accessible level, by specifying this keyword the derived class will inherit all the members with the same levels they had in the base class.\n",
    "\n",
    "\n",
    "Just use public"
   ]
  },
  {
   "cell_type": "markdown",
   "metadata": {},
   "source": [
    "class Daughter: protected Mother;  \n",
    "\n",
    "This would set protected as the less restrictive access level for the members of Daughter that it inherited from mother. That is, all members that were public in Mother would become protected in Daughter. Of course, this would not restrict Daughter from declaring its own public members. That less restrictive access level is only set for the members inherited from Mother."
   ]
  },
  {
   "cell_type": "markdown",
   "metadata": {},
   "source": [
    "If no access level is specified for the inheritance, the compiler assumes private for classes declared with keyword class and public for those declared with struct."
   ]
  },
  {
   "cell_type": "markdown",
   "metadata": {},
   "source": [
    "In principle, a publicly derived class inherits access to every member of a base class except:\n",
    "\n",
    "- its constructors and its destructor\n",
    "- its assignment operator members (operator=)\n",
    "- its friends\n",
    "- its private members"
   ]
  },
  {
   "cell_type": "markdown",
   "metadata": {},
   "source": [
    "*Unless otherwise specified, the constructors of a derived class calls the default constructor of its base classes (i.e., the constructor taking no arguments).*"
   ]
  },
  {
   "cell_type": "code",
   "execution_count": 8,
   "metadata": {},
   "outputs": [],
   "source": [
    "// constructors and derived classes\n",
    "#include <iostream>\n",
    "using namespace std;\n",
    "\n",
    "class Mother {\n",
    "  public:\n",
    "    Mother ()\n",
    "      { cout << \"Mother: no parameters\\n\"; }\n",
    "    Mother (int a)\n",
    "      { cout << \"Mother: int parameter\\n\"; }\n",
    "};\n",
    "\n",
    "class Daughter : public Mother {\n",
    "  public:\n",
    "    Daughter (int a)\n",
    "      { cout << \"Daughter: int parameter\\n\\n\"; }\n",
    "};\n",
    "\n",
    "class Son : public Mother {\n",
    "  public:\n",
    "    Son (int a) : Mother (a)\n",
    "      { cout << \"Son: int parameter\\n\\n\"; }\n",
    "};"
   ]
  },
  {
   "cell_type": "code",
   "execution_count": 9,
   "metadata": {},
   "outputs": [
    {
     "name": "stdout",
     "output_type": "stream",
     "text": [
      "Mother: no parameters\n",
      "Daughter: int parameter\n",
      "\n",
      "Mother: int parameter\n",
      "Son: int parameter\n",
      "\n"
     ]
    }
   ],
   "source": [
    "{\n",
    "  Daughter kelly(0);\n",
    "  Son bud(0);\n",
    "}"
   ]
  },
  {
   "cell_type": "markdown",
   "metadata": {},
   "source": [
    "Default constructor is called for Daughter   "
   ]
  },
  {
   "cell_type": "markdown",
   "metadata": {},
   "source": [
    "# Multiple Inheritance"
   ]
  },
  {
   "cell_type": "markdown",
   "metadata": {},
   "source": [
    "<table class=\"boxed\">\n",
    "<tr><th>Access</th><th><code>public</code></th><th><code>protected</code></th><th><code>private</code></th></tr>\n",
    "<tr><td>members of the same class</td><td class=\"yes\">yes</td><td class=\"yes\">yes</td><td class=\"yes\">yes</td></tr>\n",
    "<tr><td>members of derived class</td><td class=\"yes\">yes</td><td class=\"yes\">yes</td><td class=\"no\">no</td></tr>\n",
    "<tr><td>not members</td><td class=\"yes\">yes</td><td class=\"no\">no</td><td class=\"no\">no</td></tr>\n",
    "</table>"
   ]
  },
  {
   "cell_type": "markdown",
   "metadata": {},
   "source": [
    "https://stackoverflow.com/a/1372858"
   ]
  },
  {
   "cell_type": "code",
   "execution_count": null,
   "metadata": {},
   "outputs": [],
   "source": [
    "class A \n",
    "{\n",
    "public:\n",
    "    int x;\n",
    "protected:\n",
    "    int y;\n",
    "private:\n",
    "    int z;\n",
    "};\n",
    "\n",
    "class B : public A\n",
    "{\n",
    "    // x is public\n",
    "    // y is protected\n",
    "    // z is not accessible from B\n",
    "};\n",
    "\n",
    "class C : protected A\n",
    "{\n",
    "    // x is protected\n",
    "    // y is protected\n",
    "    // z is not accessible from C\n",
    "};\n",
    "\n",
    "class D : private A    // 'private' is default for classes\n",
    "{\n",
    "    // x is private\n",
    "    // y is private\n",
    "    // z is not accessible from D\n",
    "};"
   ]
  },
  {
   "cell_type": "markdown",
   "metadata": {},
   "source": [
    "Basically, public -> protected -> private, if inheriting as x, then anything higher than it will decay into x"
   ]
  },
  {
   "cell_type": "code",
   "execution_count": null,
   "metadata": {},
   "outputs": [],
   "source": [
    "// multiple inheritance\n",
    "#include <iostream>\n",
    "using namespace std;\n",
    "\n",
    "class Polygon {\n",
    "  protected:\n",
    "    int width, height;\n",
    "  public:\n",
    "    Polygon (int a, int b) : width(a), height(b) {}\n",
    "};\n",
    "\n",
    "class Output {\n",
    "  public:\n",
    "    static void print (int i);\n",
    "};\n",
    "\n",
    "void Output::print (int i) {\n",
    "  cout << i << '\\n';\n",
    "}\n",
    "\n",
    "class Rectangle: public Polygon, public Output {\n",
    "  public:\n",
    "    Rectangle (int a, int b) : Polygon(a,b) {}\n",
    "    int area ()\n",
    "      { return width*height; }\n",
    "};\n",
    "\n",
    "class Triangle: public Polygon, public Output {\n",
    "  public:\n",
    "    Triangle (int a, int b) : Polygon(a,b) {}\n",
    "    int area ()\n",
    "      { return width*height/2; }\n",
    "};\n",
    "  \n",
    "int main () {\n",
    "  Rectangle rect (4,5);\n",
    "  Triangle trgl (4,5);\n",
    "  rect.print (rect.area());\n",
    "  Triangle::print (trgl.area());\n",
    "  return 0;\n",
    "}"
   ]
  },
  {
   "cell_type": "markdown",
   "metadata": {},
   "source": [
    "print is static"
   ]
  },
  {
   "cell_type": "markdown",
   "metadata": {},
   "source": [
    "# Pointers to base class"
   ]
  },
  {
   "cell_type": "code",
   "execution_count": null,
   "metadata": {},
   "outputs": [],
   "source": [
    "// pointers to base class\n",
    "#include <iostream>\n",
    "using namespace std;\n",
    "\n",
    "class Polygon {\n",
    "  protected:\n",
    "    int width, height;\n",
    "  public:\n",
    "    void set_values (int a, int b)\n",
    "      { width=a; height=b; }\n",
    "};\n",
    "\n",
    "class Rectangle: public Polygon {\n",
    "  public:\n",
    "    int area()\n",
    "      { return width*height; }\n",
    "};\n",
    "\n",
    "class Triangle: public Polygon {\n",
    "  public:\n",
    "    int area()\n",
    "      { return width*height/2; }\n",
    "};\n",
    "\n",
    "int main () {\n",
    "  Rectangle rect;\n",
    "  Triangle trgl;\n",
    "  Polygon * ppoly1 = &rect;\n",
    "  Polygon * ppoly2 = &trgl;\n",
    "  ppoly1->set_values (4,5);\n",
    "  ppoly2->set_values (4,5);\n",
    "  cout << rect.area() << '\\n';\n",
    "  cout << trgl.area() << '\\n';\n",
    "  return 0;\n",
    "}"
   ]
  },
  {
   "cell_type": "markdown",
   "metadata": {},
   "source": [
    "# Virtual Methods"
   ]
  },
  {
   "cell_type": "code",
   "execution_count": null,
   "metadata": {},
   "outputs": [],
   "source": [
    "// virtual members\n",
    "#include <iostream>\n",
    "using namespace std;\n",
    "\n",
    "class Polygon {\n",
    "  protected:\n",
    "    int width, height;\n",
    "  public:\n",
    "    void set_values (int a, int b)\n",
    "      { width=a; height=b; }\n",
    "    virtual int area ()\n",
    "      { return 0; }\n",
    "};\n",
    "\n",
    "class Rectangle: public Polygon {\n",
    "  public:\n",
    "    int area ()\n",
    "      { return width * height; }\n",
    "};\n",
    "\n",
    "class Triangle: public Polygon {\n",
    "  public:\n",
    "    int area ()\n",
    "      { return (width * height / 2); }\n",
    "};\n",
    "\n",
    "int main () {\n",
    "  Rectangle rect;\n",
    "  Triangle trgl;\n",
    "  Polygon poly;\n",
    "  Polygon * ppoly1 = &rect;\n",
    "  Polygon * ppoly2 = &trgl;\n",
    "  Polygon * ppoly3 = &poly;\n",
    "  ppoly1->set_values (4,5);\n",
    "  ppoly2->set_values (4,5);\n",
    "  ppoly3->set_values (4,5);\n",
    "  cout << ppoly1->area() << '\\n';\n",
    "  cout << ppoly2->area() << '\\n';\n",
    "  cout << ppoly3->area() << '\\n';\n",
    "  return 0;\n",
    "}"
   ]
  },
  {
   "cell_type": "markdown",
   "metadata": {},
   "source": [
    "The member function area has been declared as virtual in the base class because it is later redefined in each of the derived classes. Non-virtual members can also be redefined in derived classes, but **non-virtual members of derived classes cannot be accessed through a reference of the base class**: i.e., if virtual is removed from the declaration of area in the example above, all three calls to area would return zero, because in all cases, the version of the base class would have been called instead."
   ]
  },
  {
   "cell_type": "markdown",
   "metadata": {},
   "source": [
    "A class that declares or inherits a virtual function is called a polymorphic class."
   ]
  },
  {
   "cell_type": "markdown",
   "metadata": {},
   "source": [
    "https://stackoverflow.com/a/39932616\n",
    "\n",
    "- Use **virtual** for the base class function declaration. \n",
    "- This is technically necessary.\n",
    "\n",
    "\n",
    "- Use **override** (only) for a derived class' override.\n",
    "- This helps maintenance."
   ]
  },
  {
   "cell_type": "code",
   "execution_count": null,
   "metadata": {},
   "outputs": [],
   "source": [
    "struct Base { virtual void foo() {} };\n",
    "struct Derived: Base { void foo() override {} };"
   ]
  },
  {
   "cell_type": "markdown",
   "metadata": {},
   "source": [
    "# Abstract Class"
   ]
  },
  {
   "cell_type": "code",
   "execution_count": null,
   "metadata": {},
   "outputs": [],
   "source": [
    "// abstract class CPolygon\n",
    "class Polygon {\n",
    "  protected:\n",
    "    int width, height;\n",
    "  public:\n",
    "    void set_values (int a, int b)\n",
    "      { width=a; height=b; }\n",
    "    virtual int area () = 0;\n",
    "};"
   ]
  },
  {
   "cell_type": "markdown",
   "metadata": {},
   "source": [
    "Abstract class with only pure virtual methods is an interface"
   ]
  },
  {
   "cell_type": "code",
   "execution_count": null,
   "metadata": {},
   "outputs": [],
   "source": [
    "// pure virtual members can be called\n",
    "// from the abstract base class\n",
    "#include <iostream>\n",
    "using namespace std;\n",
    "\n",
    "class Polygon {\n",
    "  protected:\n",
    "    int width, height;\n",
    "  public:\n",
    "    void set_values (int a, int b)\n",
    "      { width=a; height=b; }\n",
    "    virtual int area() =0;\n",
    "    void printarea()\n",
    "      { cout << this->area() << '\\n'; }\n",
    "};\n",
    "\n",
    "class Rectangle: public Polygon {\n",
    "  public:\n",
    "    int area (void)\n",
    "      { return (width * height); }\n",
    "};\n",
    "\n",
    "class Triangle: public Polygon {\n",
    "  public:\n",
    "    int area (void)\n",
    "      { return (width * height / 2); }\n",
    "};\n",
    "\n",
    "int main () {\n",
    "  Rectangle rect;\n",
    "  Triangle trgl;\n",
    "  Polygon* ppoly1 = &rect;\n",
    "  Polygon* ppoly2 = &trgl;\n",
    "  ppoly1->set_values (4,5);\n",
    "  ppoly2->set_values (4,5);\n",
    "  ppoly1->printarea();\n",
    "  ppoly2->printarea();\n",
    "  return 0;\n",
    "}"
   ]
  },
  {
   "cell_type": "code",
   "execution_count": null,
   "metadata": {},
   "outputs": [],
   "source": [
    "// dynamic allocation and polymorphism\n",
    "#include <iostream>\n",
    "using namespace std;\n",
    "\n",
    "class Polygon {\n",
    "  protected:\n",
    "    int width, height;\n",
    "  public:\n",
    "    Polygon (int a, int b) : width(a), height(b) {}\n",
    "    virtual int area (void) =0;\n",
    "    void printarea()\n",
    "      { cout << this->area() << '\\n'; }\n",
    "};\n",
    "\n",
    "class Rectangle: public Polygon {\n",
    "  public:\n",
    "    Rectangle(int a,int b) : Polygon(a,b) {}\n",
    "    int area()\n",
    "      { return width*height; }\n",
    "};\n",
    "\n",
    "class Triangle: public Polygon {\n",
    "  public:\n",
    "    Triangle(int a,int b) : Polygon(a,b) {}\n",
    "    int area()\n",
    "      { return width*height/2; }\n",
    "};\n",
    "\n",
    "int main () {\n",
    "  Polygon * ppoly1 = new Rectangle (4,5);\n",
    "  Polygon * ppoly2 = new Triangle (4,5);\n",
    "  ppoly1->printarea();\n",
    "  ppoly2->printarea();\n",
    "  delete ppoly1;\n",
    "  delete ppoly2;\n",
    "  return 0;\n",
    "}"
   ]
  }
 ],
 "metadata": {
  "kernelspec": {
   "display_name": "C++11",
   "language": "C++11",
   "name": "xeus-cling-cpp11"
  },
  "language_info": {
   "codemirror_mode": "text/x-c++src",
   "file_extension": ".cpp",
   "mimetype": "text/x-c++src",
   "name": "c++",
   "version": "-std=c++11"
  }
 },
 "nbformat": 4,
 "nbformat_minor": 2
}
