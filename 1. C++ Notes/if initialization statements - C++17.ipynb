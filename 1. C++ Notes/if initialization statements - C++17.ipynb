{
 "cells": [
  {
   "cell_type": "markdown",
   "metadata": {},
   "source": [
    "https://www.tutorialspoint.com/cplusplus17-if-statement-with-initializer"
   ]
  },
  {
   "cell_type": "markdown",
   "metadata": {},
   "source": [
    "Purpose is to avoid variable leaking, if variable isn't used anywhere but in the conditional block"
   ]
  },
  {
   "cell_type": "code",
   "execution_count": null,
   "metadata": {},
   "outputs": [],
   "source": []
  },
  {
   "cell_type": "code",
   "execution_count": null,
   "metadata": {},
   "outputs": [],
   "source": [
    "if (init; condition) \n",
    "{\n",
    "   // Do stuff when Boolean condition is true\n",
    "} else {\n",
    "   // Do stuff when Boolean condition is false\n",
    "}"
   ]
  },
  {
   "cell_type": "code",
   "execution_count": null,
   "metadata": {},
   "outputs": [],
   "source": [
    "#include <iostream>\n",
    "#include <cstdlib>\n",
    "using namespace std;\n",
    "int main() {\n",
    "   srand(time(NULL));\n",
    "   int random_num = rand();\n",
    "   if (random_num % 2 == 0) {\n",
    "      cout << random_num << \" is an even number\\n\";\n",
    "   } else {\n",
    "      cout << random_num << \" is an odd number\\n\";\n",
    "   }\n",
    "   return 0;\n",
    "}"
   ]
  },
  {
   "cell_type": "code",
   "execution_count": null,
   "metadata": {},
   "outputs": [],
   "source": [
    "#include <iostream>\n",
    "#include <cstdlib>\n",
    "using namespace std;\n",
    "int main() {\n",
    "   srand(time(NULL));\n",
    "   // C++17 if statement with initializer\n",
    "   if (int random_num = rand(); random_num % 2 == 0) {\n",
    "      cout << random_num << \" is an even number\\n\";\n",
    "   } else {\n",
    "      cout << random_num << \" is an odd number\\n\";\n",
    "   }\n",
    "   return 0;\n",
    "}"
   ]
  }
 ],
 "metadata": {
  "kernelspec": {
   "display_name": "C++11",
   "language": "C++11",
   "name": "xeus-cling-cpp11"
  },
  "language_info": {
   "codemirror_mode": "text/x-c++src",
   "file_extension": ".cpp",
   "mimetype": "text/x-c++src",
   "name": "c++",
   "version": "-std=c++11"
  }
 },
 "nbformat": 4,
 "nbformat_minor": 2
}
