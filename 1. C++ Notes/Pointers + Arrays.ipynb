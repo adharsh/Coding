{
 "cells": [
  {
   "cell_type": "code",
   "execution_count": 1,
   "metadata": {},
   "outputs": [
    {
     "name": "stdout",
     "output_type": "stream",
     "text": [
      "s 0\n",
      "d 1\n",
      "f 2\n"
     ]
    }
   ],
   "source": [
    "#include <iostream>\n",
    "#include <vector>\n",
    "\n",
    "{\n",
    "    char c[10] = \"sdf\";\n",
    "    char* p = c;\n",
    "    while (*p)\n",
    "    {\n",
    "        static int t = 0;\n",
    "        std::cout << *p << \" \" << t++ << std::endl;\n",
    "        p++;\n",
    "    }\n",
    "}"
   ]
  },
  {
   "cell_type": "code",
   "execution_count": 2,
   "metadata": {},
   "outputs": [],
   "source": [
    "{\n",
    "    int map[4];\n",
    "    sizeof(map);\n",
    "}"
   ]
  },
  {
   "cell_type": "code",
   "execution_count": 3,
   "metadata": {},
   "outputs": [],
   "source": [
    "{\n",
    "    int map[128];\n",
    "    std::fill(map, map + 128, 0);  \n",
    "} "
   ]
  },
  {
   "cell_type": "code",
   "execution_count": 4,
   "metadata": {},
   "outputs": [
    {
     "name": "stdout",
     "output_type": "stream",
     "text": [
      "x=5\t\t&x=0x7fffc449a4a4\n",
      "*p=5\t\tp=0x7fffc449a4a4\t&p=0x7fffc449a498\n",
      "**pp=5\t\t*pp=0x7fffc449a4a4\tpp=0x7fffc449a498\t&pp=0x7fffc449a490\n",
      "***ppp=5\t**ppp=0x7fffc449a4a4\t*ppp=0x7fffc449a498\tppp=0x7fffc449a490\t&ppp=0x7fffc449a488\n"
     ]
    }
   ],
   "source": [
    "{\n",
    "    int x = 5;\n",
    "    int* p = &x;\n",
    "    int** pp = &p;\n",
    "    int*** ppp = &pp;\n",
    "\n",
    "    std::cout << \"x=\" << x << \"\\t\\t&x=\" << &x << std::endl;\n",
    "    std::cout << \"*p=\" << *p << \"\\t\\tp=\" << p << \"\\t&p=\" << &p  << std::endl;\n",
    "    std::cout << \"**pp=\" << **pp << \"\\t\\t*pp=\" << *pp << \"\\tpp=\" << pp << \"\\t&pp=\" << &pp << std::endl;\n",
    "    std::cout << \"***ppp=\" << ***ppp << \"\\t**ppp=\" << **ppp << \"\\t*ppp=\" << *ppp << \"\\tppp=\" << ppp << \"\\t&ppp=\" << &ppp << std::endl;\n",
    "}"
   ]
  },
  {
   "cell_type": "markdown",
   "metadata": {},
   "source": [
    "https://www.geeksforgeeks.org/difference-between-p-p-and-p/\n",
    "*p++, *++p, ++*p  \n",
    "read right to left, ++ takes precedence  \n",
    "*p++ and *++p are the same, increments pointer and dereferences  \n",
    "++*p -> dereferences and increments  "
   ]
  },
  {
   "cell_type": "markdown",
   "metadata": {},
   "source": [
    "Good Excercise:\n",
    "Pointers:  \n",
    "https://www.eskimo.com/~scs/cclass/int/sx8.html  \n",
    "\\*p changes something else, and you can only change one level down and nothing more  \n",
    "\n",
    "https://www.quantstart.com/articles/Function-Objects-Functors-in-C-Part-1  \n",
    "Function pointer practice  \n",
    "Function objects "
   ]
  },
  {
   "cell_type": "markdown",
   "metadata": {},
   "source": [
    "2D Arrays in C:  \n",
    "https://www.geeksforgeeks.org/dynamically-allocate-2d-array-c/ "
   ]
  },
  {
   "cell_type": "code",
   "execution_count": 5,
   "metadata": {},
   "outputs": [],
   "source": [
    "int** A = (int**) malloc(5 * sizeof(int*));\n",
    "\n",
    "for (int i = 0; i < sizeof(A) / sizeof(int); i++)\n",
    "{\n",
    "    *(A + i) = (int*)malloc(3 * sizeof(int));\n",
    "    A[i] = (int*)malloc(3 * sizeof(int));\n",
    "}"
   ]
  },
  {
   "cell_type": "code",
   "execution_count": 6,
   "metadata": {},
   "outputs": [],
   "source": [
    "int rowCount = 5, colCount = 6;\n",
    "int** a = new int*[rowCount]; \n",
    "for(int i = 0; i < rowCount; ++i) \n",
    "     a[i] = new int[colCount];"
   ]
  },
  {
   "cell_type": "code",
   "execution_count": null,
   "metadata": {},
   "outputs": [],
   "source": []
  }
 ],
 "metadata": {
  "kernelspec": {
   "display_name": "C++11",
   "language": "C++11",
   "name": "xeus-cling-cpp11"
  },
  "language_info": {
   "codemirror_mode": "text/x-c++src",
   "file_extension": ".cpp",
   "mimetype": "text/x-c++src",
   "name": "c++",
   "version": "-std=c++11"
  }
 },
 "nbformat": 4,
 "nbformat_minor": 2
}
