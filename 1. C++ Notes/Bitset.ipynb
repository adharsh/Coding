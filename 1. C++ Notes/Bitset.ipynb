{
 "cells": [
  {
   "cell_type": "markdown",
   "metadata": {},
   "source": [
    "byte -  1 byte  \n",
    "char - 1 byte  \n",
    "short - 2 bytes  -> 2 shorts make an int\n",
    "int - 4 bytes  \n",
    "pointers - 4/8 bytes  \n",
    "long - 8 bytes\n",
    "\n",
    "0xF0A8   \n",
    "0b1111000010101000  \n",
    "Each letter is 4 bits -> 2 letters is 1 byte  "
   ]
  },
  {
   "cell_type": "markdown",
   "metadata": {},
   "source": [
    "Little Endian - least significant byte of the data has the lowest address  \n",
    "    -> when you do manual addition, you start from the end of the number to the beginning, same thing  \n",
    "Big Endian - most significant byte of the data has the lowest address"
   ]
  },
  {
   "cell_type": "code",
   "execution_count": 1,
   "metadata": {},
   "outputs": [
    {
     "name": "stdout",
     "output_type": "stream",
     "text": [
      "11111111111111111111111111111111\n",
      "5050505 -> 84215045\n",
      "efefefef -> 4025479151\n"
     ]
    }
   ],
   "source": [
    "#include <bitset>\n",
    "#include <iostream>\n",
    "\n",
    "{\n",
    "    std::bitset<32> bs(~0);\n",
    "    std::cout << bs << std::endl;\n",
    "\n",
    "    int a = ~0;\n",
    "    memset(&a, 5, sizeof(a)); //0x05050505 = 84215045\n",
    "    std::cout << std::hex << a << std::dec << \" -> \" << (unsigned int) a << std::endl;\n",
    "    // also exists for oct -> std::oct\n",
    "    int b = ~0;\n",
    "    memset(&b, 0x89ABCDEF, sizeof(b)); //0xEFEFEFEF = 4025479151\n",
    "    std::cout << std::hex << b << std::dec << \" -> \" << (unsigned int) b << std::endl;\n",
    "}"
   ]
  },
  {
   "cell_type": "code",
   "execution_count": 7,
   "metadata": {},
   "outputs": [
    {
     "name": "stdout",
     "output_type": "stream",
     "text": [
      "00000000000000000000000000000010\n",
      "foo: 0000000000000000\n",
      "bar: 0000111110100010\n",
      "baz: 0000000101111001\n",
      "bae: 0000000101111001\n"
     ]
    }
   ],
   "source": [
    "//to print out a bitset\n",
    "\n",
    "#include <bitset>\n",
    "\n",
    "{\n",
    "    int val = 'c' - 'a';\n",
    "    std::bitset<32> v(val);\n",
    "    std::cout << v << std::endl;\n",
    "\n",
    "    std::bitset<16> foo;\n",
    "    std::bitset<16> bar (0xfa2);\n",
    "    std::bitset<16> baz (std::string(\"0101111001\"));\n",
    "    std::bitset<16> bae (0b0101111001);\n",
    "\n",
    "    std::cout << \"foo: \" << foo << '\\n';\n",
    "    std::cout << \"bar: \" << bar << '\\n';\n",
    "    std::cout << \"baz: \" << baz << '\\n';\n",
    "    std::cout << \"bae: \" << bae << '\\n';\n",
    "    sizeof(foo[1]); //casted internally to integer\n",
    "}"
   ]
  },
  {
   "cell_type": "code",
   "execution_count": 10,
   "metadata": {},
   "outputs": [
    {
     "name": "stdout",
     "output_type": "stream",
     "text": [
      "01\n",
      "10\n"
     ]
    }
   ],
   "source": [
    "{\n",
    "    std::bitset<2> a;\n",
    "    a[0] = 1;\n",
    "    std::cout << a << std::endl;\n",
    "    a <<= 1;\n",
    "    std::cout << a << std::endl;\n",
    "    \n",
    "}"
   ]
  }
 ],
 "metadata": {
  "kernelspec": {
   "display_name": "C++11",
   "language": "C++11",
   "name": "xeus-cling-cpp11"
  },
  "language_info": {
   "codemirror_mode": "text/x-c++src",
   "file_extension": ".cpp",
   "mimetype": "text/x-c++src",
   "name": "c++",
   "version": "-std=c++11"
  }
 },
 "nbformat": 4,
 "nbformat_minor": 2
}
