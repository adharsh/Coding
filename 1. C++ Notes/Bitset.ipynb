{
 "cells": [
  {
   "cell_type": "markdown",
   "metadata": {},
   "source": [
    "https://stackoverflow.com/a/13398763  \n",
    "sizeof(char) == 1  \n",
    "sizeof(char) <= sizeof(short)  \n",
    "sizeof(short) <= sizeof(int)  \n",
    "sizeof(int) <= sizeof(long)  \n",
    "sizeof(long) <= sizeof(long long)  \n",
    "sizeof(char) * CHAR_BIT >= 8 -> char at minimum: 2 bytes  \n",
    "sizeof(short) * CHAR_BIT >= 16 -> short at minimum: 2 bytes  \n",
    "sizeof(int) * CHAR_BIT >= 16  -> int at minimum: 2 bytes   \n",
    "sizeof(long) * CHAR_BIT >= 32  -> long at minimum: 4 bytes  \n",
    "sizeof(long long) * CHAR_BIT >= 64  -> long long at minimum: 8 bytes  \n",
    "\n",
    "divide by 2 from normal to get minimum"
   ]
  },
  {
   "cell_type": "markdown",
   "metadata": {},
   "source": [
    "In jupyter notebook:  \n",
    "byte -  1 byte  \n",
    "char - 1 byte  \n",
    "short - 2 bytes  -> 2 shorts make an int\n",
    "int - 4 bytes  \n",
    "pointers - 4/8 bytes  \n",
    "long - 8 bytes\n",
    "\n",
    "0xF0A8   \n",
    "0b1111000010101000  \n",
    "Each letter is 4 bits -> 2 letters is 1 byte  "
   ]
  },
  {
   "cell_type": "markdown",
   "metadata": {},
   "source": [
    "Little Endian - least significant byte of the data has the lowest address  \n",
    "    -> when you do manual addition, you start from the end of the number to the beginning, same thing  \n",
    "Big Endian - most significant byte of the data has the lowest address"
   ]
  },
  {
   "cell_type": "code",
   "execution_count": 1,
   "metadata": {},
   "outputs": [
    {
     "name": "stdout",
     "output_type": "stream",
     "text": [
      "11111111111111111111111111111111\n",
      "5050505 -> 84215045\n",
      "efefefef -> 4025479151\n"
     ]
    }
   ],
   "source": [
    "#include <bitset>\n",
    "#include <iostream>\n",
    "\n",
    "{\n",
    "    std::bitset<32> bs(~0);\n",
    "    std::cout << bs << std::endl;\n",
    "\n",
    "    int a = ~0;\n",
    "    memset(&a, 5, sizeof(a)); //0x05050505 = 84215045\n",
    "    std::cout << std::hex << a << std::dec << \" -> \" << (unsigned int) a << std::endl;\n",
    "    // also exists for oct -> std::oct\n",
    "    int b = ~0;\n",
    "    memset(&b, 0x89ABCDEF, sizeof(b)); //0xEFEFEFEF = 4025479151\n",
    "    std::cout << std::hex << b << std::dec << \" -> \" << (unsigned int) b << std::endl;\n",
    "}"
   ]
  },
  {
   "cell_type": "code",
   "execution_count": 3,
   "metadata": {},
   "outputs": [
    {
     "name": "stdout",
     "output_type": "stream",
     "text": [
      "00000000000000000000000000000010\n",
      "foo: 0000000000000000\n",
      "bar: 0000111110100010\n",
      "baz: 0000000101111001\n",
      "bae: 0000000101111001\n",
      "16\n",
      "1\n"
     ]
    }
   ],
   "source": [
    "//to print out a bitset\n",
    "\n",
    "#include <bitset>\n",
    "{\n",
    "    int val = 'c' - 'a';\n",
    "    std::bitset<32> v(val);\n",
    "    std::cout << v << std::endl;\n",
    "\n",
    "    std::bitset<16> foo;\n",
    "    std::bitset<16> bar (0xfa2);\n",
    "    std::bitset<16> baz (std::string(\"0101111001\"));\n",
    "    std::bitset<16> bae (0b0101111001);\n",
    "\n",
    "    std::cout << \"foo: \" << foo << '\\n';\n",
    "    std::cout << \"bar: \" << bar << '\\n';\n",
    "    std::cout << \"baz: \" << baz << '\\n';\n",
    "    std::cout << \"bae: \" << bae << '\\n';\n",
    "    std::cout << sizeof(foo[1]) << std::endl;\n",
    "//     http://www.cplusplus.com/reference/bitset/bitset/operator[]/\n",
    "    std::cout << sizeof(true) << std::endl;\n",
    "    \n",
    "}"
   ]
  },
  {
   "cell_type": "markdown",
   "metadata": {},
   "source": [
    "val << how_many digits\n",
    "val >> how_many digits"
   ]
  },
  {
   "cell_type": "code",
   "execution_count": 14,
   "metadata": {},
   "outputs": [
    {
     "name": "stdout",
     "output_type": "stream",
     "text": [
      "01\n",
      "10\n",
      "11\n",
      "1024\n"
     ]
    }
   ],
   "source": [
    "{\n",
    "    std::bitset<2> a;\n",
    "    a[0] = 1;\n",
    "    std::cout << a << std::endl;\n",
    "    a <<= 1;\n",
    "    std::cout << a << std::endl;\n",
    "    a = 3;\n",
    "    std::cout << a << std::endl;\n",
    "    \n",
    "    std::cout << (1 << 10) << std::endl;\n",
    "}"
   ]
  },
  {
   "cell_type": "markdown",
   "metadata": {},
   "source": [
    "Bit manipulation tricks  \n",
    "https://gist.github.com/stephenLee/4024869  "
   ]
  },
  {
   "cell_type": "code",
   "execution_count": null,
   "metadata": {},
   "outputs": [],
   "source": [
    "{\n",
    "    #include <bitset>\n",
    "    std::cout << std::bitset<100>(-5) << std::endl; // takes in a unsigned long long -> 8 bytes in this implementation\n",
    "    std::cout << std::bitset<64>(-0b1101) << std::endl;\n",
    "}"
   ]
  },
  {
   "cell_type": "markdown",
   "metadata": {},
   "source": [
    "bitset to ulong"
   ]
  },
  {
   "cell_type": "code",
   "execution_count": 1,
   "metadata": {},
   "outputs": [
    {
     "data": {
      "text/plain": [
       "2147483647"
      ]
     },
     "execution_count": 1,
     "metadata": {},
     "output_type": "execute_result"
    }
   ],
   "source": [
    "#include <bitset>\n",
    "std::numeric_limits<int>::max()"
   ]
  },
  {
   "cell_type": "code",
   "execution_count": 2,
   "metadata": {},
   "outputs": [
    {
     "name": "stdout",
     "output_type": "stream",
     "text": [
      "01111111111111111111111111111111\n",
      "2147483647\n"
     ]
    }
   ],
   "source": [
    "#include <iostream>\n",
    "#include <limits>\n",
    "\n",
    "std::cout << std::bitset<32>(~0 ^ (1 << 31)) << std::endl;\n",
    "int lol = static_cast<int>(std::bitset<32>(~0 ^ (1 << 31)).to_ulong());\n",
    "std::cout << lol << std::endl;"
   ]
  }
 ],
 "metadata": {
  "kernelspec": {
   "display_name": "C++11",
   "language": "C++11",
   "name": "xeus-cling-cpp11"
  },
  "language_info": {
   "codemirror_mode": "text/x-c++src",
   "file_extension": ".cpp",
   "mimetype": "text/x-c++src",
   "name": "c++",
   "version": "-std=c++11"
  }
 },
 "nbformat": 4,
 "nbformat_minor": 2
}
