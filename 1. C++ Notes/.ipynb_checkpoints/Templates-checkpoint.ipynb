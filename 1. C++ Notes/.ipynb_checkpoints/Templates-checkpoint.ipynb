{
 "cells": [
  {
   "cell_type": "code",
   "execution_count": 1,
   "metadata": {},
   "outputs": [],
   "source": [
    "template<class T>\n",
    "T fun(T a)\n",
    "{\n",
    "    return a + a;\n",
    "}\n",
    "\n",
    "template<>\n",
    "int fun(int a)\n",
    "{\n",
    "    return a + a + a;\n",
    "}"
   ]
  },
  {
   "cell_type": "code",
   "execution_count": 2,
   "metadata": {},
   "outputs": [
    {
     "data": {
      "text/plain": [
       "15"
      ]
     },
     "execution_count": 2,
     "metadata": {},
     "output_type": "execute_result"
    }
   ],
   "source": [
    "fun(5)"
   ]
  },
  {
   "cell_type": "code",
   "execution_count": 3,
   "metadata": {},
   "outputs": [
    {
     "data": {
      "text/plain": [
       "10.4"
      ]
     },
     "execution_count": 3,
     "metadata": {},
     "output_type": "execute_result"
    }
   ],
   "source": [
    "fun(5.2)"
   ]
  },
  {
   "cell_type": "code",
   "execution_count": 4,
   "metadata": {},
   "outputs": [],
   "source": [
    "template<class T, int N>\n",
    "class lol\n",
    "{\n",
    "    public:\n",
    "    T ripme(T a);\n",
    "    \n",
    "};\n",
    "\n",
    "template<class T, int N>\n",
    "T lol<T,N>::ripme(T a)\n",
    "{\n",
    "    return a*N;\n",
    "}\n",
    "\n",
    "\n",
    "template<>\n",
    "char lol<char, 1>::ripme(char a)\n",
    "{\n",
    "    return a + 1;\n",
    "}"
   ]
  },
  {
   "cell_type": "code",
   "execution_count": 5,
   "metadata": {},
   "outputs": [
    {
     "data": {
      "text/plain": [
       "'B'"
      ]
     },
     "execution_count": 5,
     "metadata": {},
     "output_type": "execute_result"
    }
   ],
   "source": [
    "lol<char,2>  a;\n",
    "a.ripme(33)"
   ]
  },
  {
   "cell_type": "code",
   "execution_count": 6,
   "metadata": {},
   "outputs": [
    {
     "data": {
      "text/plain": [
       "'A'"
      ]
     },
     "execution_count": 6,
     "metadata": {},
     "output_type": "execute_result"
    }
   ],
   "source": [
    "lol<char,1>  b;\n",
    "b.ripme(64)"
   ]
  },
  {
   "cell_type": "code",
   "execution_count": 7,
   "metadata": {},
   "outputs": [],
   "source": [
    "#include <vector>\n",
    "#include <iostream>\n",
    "\n",
    "template<class T>\n",
    "void mySwap(T& a, T& b)\n",
    "{\n",
    "    T c = a;\n",
    "    a = b;\n",
    "    b = c;\n",
    "}\n",
    "//https://stackoverflow.com/questions/25286544/how-does-the-standard-library-implement-stdswap"
   ]
  },
  {
   "cell_type": "code",
   "execution_count": 8,
   "metadata": {},
   "outputs": [
    {
     "name": "stdout",
     "output_type": "stream",
     "text": [
      "2 1 "
     ]
    }
   ],
   "source": [
    "std::vector<int> A = {1, 2};\n",
    "mySwap(A[0], A[1]);\n",
    "for(int a : A)\n",
    "    std::cout << a << \" \";"
   ]
  },
  {
   "cell_type": "code",
   "execution_count": 1,
   "metadata": {},
   "outputs": [],
   "source": [
    "#include <iostream> \n",
    "   \n",
    "template <class T> \n",
    "void fun(T a) \n",
    "{ \n",
    "  std::cout << \"The main template fun(): \" \n",
    "        << a << std::endl; \n",
    "} \n",
    "  \n",
    "template<> \n",
    "void fun(int a) \n",
    "{ \n",
    "    std::cout << \"Specialized Template for int type: \"\n",
    "         << a << std::endl; \n",
    "} "
   ]
  },
  {
   "cell_type": "code",
   "execution_count": 2,
   "metadata": {},
   "outputs": [
    {
     "name": "stdout",
     "output_type": "stream",
     "text": [
      "The main template fun(): a\n",
      "Specialized Template for int type: 10\n",
      "The main template fun(): 10.14\n"
     ]
    }
   ],
   "source": [
    "{\n",
    "    fun<char>('a'); //or just fun('a')\n",
    "    fun<int>(10); //or just fun(10)\n",
    "    fun<float>(10.14); //or just fun(10.14)\n",
    "}"
   ]
  }
 ],
 "metadata": {
  "kernelspec": {
   "display_name": "C++11",
   "language": "C++11",
   "name": "xeus-cling-cpp11"
  },
  "language_info": {
   "codemirror_mode": "text/x-c++src",
   "file_extension": ".cpp",
   "mimetype": "text/x-c++src",
   "name": "c++",
   "version": "-std=c++11"
  }
 },
 "nbformat": 4,
 "nbformat_minor": 2
}
