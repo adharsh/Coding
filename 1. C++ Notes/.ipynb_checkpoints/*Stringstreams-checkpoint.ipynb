{
 "cells": [
  {
   "cell_type": "code",
   "execution_count": null,
   "metadata": {},
   "outputs": [],
   "source": [
    "std::stringstream ss(expr);\n",
    "std::string token;\n",
    "const char delim = ',';\n",
    "\n",
    "while(std::getline(ss, token, delim))\n",
    "{\n",
    "    //token is the string between each delimiter and at the end, Ex: a,b,c -> a b and c\n",
    "}"
   ]
  }
 ],
 "metadata": {
  "kernelspec": {
   "display_name": "C++11",
   "language": "C++11",
   "name": "xeus-cling-cpp11"
  },
  "language_info": {
   "codemirror_mode": "text/x-c++src",
   "file_extension": ".cpp",
   "mimetype": "text/x-c++src",
   "name": "c++",
   "version": "-std=c++11"
  }
 },
 "nbformat": 4,
 "nbformat_minor": 2
}
