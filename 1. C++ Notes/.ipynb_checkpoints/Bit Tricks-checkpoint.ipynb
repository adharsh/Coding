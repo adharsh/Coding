{
 "cells": [
  {
   "cell_type": "markdown",
   "metadata": {},
   "source": [
    "Taken from https://gist.github.com/stephenLee/4024869  \n",
    "First review all above  \n",
    "Then review here, same thing, second time reviewing should fly by  "
   ]
  },
  {
   "cell_type": "raw",
   "metadata": {},
   "source": [
    "- and ~ are two different things\n",
    "- is two's complement\n",
    "~ is inverse\n",
    "\n",
    "Take out rightmost 1\n",
    "x & (x-1)\n",
    "\n",
    "Isolate rightmost 1 //taking two's complement involves adding both x + ~x = 0 so rightmost set bit must both be equal to 1\n",
    "x & (-x)\n",
    "\n",
    "Propagate 1 from rightmost 1\n",
    "x | (x-1)\n",
    "\n",
    "\n",
    "Isolate rightmost 0\n",
    "~x & (-(~x)) //one way, apply same formula from above but inverse it"
   ]
  },
  {
   "cell_type": "code",
   "execution_count": 23,
   "metadata": {},
   "outputs": [
    {
     "name": "stdout",
     "output_type": "stream",
     "text": [
      "00010\n"
     ]
    }
   ],
   "source": [
    "#include <bitset>\n",
    "#include <iostream>\n",
    "{\n",
    "    int b = 0b11001;\n",
    "    std::cout << std::bitset<5>(~b & (-(~b))) << std::endl;\n",
    "}"
   ]
  },
  {
   "cell_type": "code",
   "execution_count": null,
   "metadata": {},
   "outputs": [],
   "source": []
  }
 ],
 "metadata": {
  "kernelspec": {
   "display_name": "C++11",
   "language": "C++11",
   "name": "xeus-cling-cpp11"
  },
  "language_info": {
   "codemirror_mode": "text/x-c++src",
   "file_extension": ".cpp",
   "mimetype": "text/x-c++src",
   "name": "c++",
   "version": "-std=c++11"
  }
 },
 "nbformat": 4,
 "nbformat_minor": 2
}
