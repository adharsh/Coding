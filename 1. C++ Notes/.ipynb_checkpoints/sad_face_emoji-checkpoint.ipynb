{
 "cells": [
  {
   "cell_type": "markdown",
   "metadata": {},
   "source": [
    "\"Bad things about C++ I've faced\" Interview Question (tentative list):\n",
    "* map\n",
    "    * hashmap is called unordered_map due to namespace conflicts (counterargument: unordered_map and map are differnet things with \"different\" purposes)\n",
    "    * map's api: (why not just contains like in java)\n",
    "        * count is basically \"does it exist\", somehow can be more than 1 (\"for more general containers such as multimaps and multisets\")\n",
    "        * find returns an iterator to the first element equal to the key\n",
    "        * should use find and check if it's equal to end if it doesn't exist, take note of first and second\n",
    "            ```\n",
    "            map<int,Bar>::iterator it = m.find('2');\n",
    "            \n",
    "            if(it != m.end())\n",
    "            {\n",
    "               //element found;\n",
    "               int i = it->first;\n",
    "               Bar b = it->second;\n",
    "            }\n",
    "            ```\n",
    "            * find will exit early, count will iterate through all the keys\n",
    "            * https://stackoverflow.com/a/3136537\n",
    "            * https://stackoverflow.com/a/25490408\n",
    "* strict template subclasses is unnecessarily complicated: https://stackoverflow.com/questions/3175219/restrict-c-template-parameter-to-subclass\n",
    "* `vector<bool>` is not recommended but `deque<bool>` is\n",
    "    * https://stackoverflow.com/q/670308\n",
    "    * https://stackoverflow.com/a/17794965"
   ]
  }
 ],
 "metadata": {
  "kernelspec": {
   "display_name": "C++11",
   "language": "C++11",
   "name": "xeus-cling-cpp11"
  },
  "language_info": {
   "codemirror_mode": "text/x-c++src",
   "file_extension": ".cpp",
   "mimetype": "text/x-c++src",
   "name": "c++",
   "version": "-std=c++11"
  }
 },
 "nbformat": 4,
 "nbformat_minor": 2
}
