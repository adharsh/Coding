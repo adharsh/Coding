{
 "cells": [
  {
   "cell_type": "markdown",
   "metadata": {},
   "source": [
    "https://stackoverflow.com/questions/40590216/is-it-legal-to-index-into-a-struct"
   ]
  },
  {
   "cell_type": "code",
   "execution_count": 4,
   "metadata": {},
   "outputs": [],
   "source": [
    "#include <iostream>\n",
    "class A\n",
    "{\n",
    "    private:\n",
    "    int a;\n",
    "\n",
    "    public:\n",
    "    A() : A(5){}\n",
    "    A(int a)\n",
    "    {\n",
    "        this->a = a;\n",
    "        std::cout << \"yolo\" << std::endl;\n",
    "    }\n",
    "    int getA(){ return a; }\n",
    "};"
   ]
  },
  {
   "cell_type": "code",
   "execution_count": 5,
   "metadata": {},
   "outputs": [
    {
     "name": "stdout",
     "output_type": "stream",
     "text": [
      "yolo\n",
      "5\n"
     ]
    }
   ],
   "source": [
    "{\n",
    "    A a; //default constructor will be called\n",
    "    std::cout << a.getA() << std::endl;\n",
    "}"
   ]
  },
  {
   "cell_type": "markdown",
   "metadata": {},
   "source": [
    "The default constructor is special because it is called when an object is declared but not initilaized with any arguments.   \n",
    "Default constructor must always exist: When any constructor is explicitly declared in a class, no implicit default constructors is automatically provided. \n",
    "\n",
    "A a(); -> function prototybe, not actually creating an object  \n",
    "A a;   -> default constructor called  (preferred)  \n",
    "A a(5);  -> (preferred)  \n",
    "A a = 5;  \n",
    "A a {5};  \n",
    "A a = {5};  \n",
    "\n",
    "{} braces are called uniform initializer syntax  "
   ]
  },
  {
   "cell_type": "markdown",
   "metadata": {},
   "source": [
    "https://stackoverflow.com/a/37228443  \n",
    "Diff between using {} and ()  \n",
    "() is more functional  \n",
    "{} is for simply filling in parameter values: "
   ]
  },
  {
   "cell_type": "raw",
   "metadata": {},
   "source": [
    "vector<int> a{10,20};   //Curly braces -> fills the vector with the arguments  \n",
    "\n",
    "vector<int> b(10,20);   //Parenthesis -> uses arguments to parametrize some functionality, ex doesn't work  \n",
    "\n",
    "vector<int> c(it1,it2); //like filling the vector with 10 integers or copying a range.  \n",
    "\n",
    "vector<int> d{};      //empty braces -> default constructs vector, which is equivalent  \n",
    "                      //to a vector that is filled with zero elements  "
   ]
  },
  {
   "cell_type": "markdown",
   "metadata": {},
   "source": [
    "When an object is created, compiler makes sure that constructors for all of its subobjects (its member and inherited objects) are called.\n",
    "https://www.geeksforgeeks.org/when-are-constructors-called/"
   ]
  },
  {
   "cell_type": "code",
   "execution_count": 1,
   "metadata": {},
   "outputs": [],
   "source": [
    "class Rectangle {\n",
    "  int width, height;\n",
    "public:\n",
    "  Rectangle(int x, int y) : width(x), height(y) {}\n",
    "  int area(void) { return width * height; }\n",
    "};\n",
    "\n",
    "Rectangle* baz = new Rectangle[2] { {2,5}, {3,6} }; //universal initalizer"
   ]
  },
  {
   "cell_type": "code",
   "execution_count": 17,
   "metadata": {},
   "outputs": [],
   "source": [
    "{\n",
    "    class Rectangle {\n",
    "        int width, height;\n",
    "    public:\n",
    "        Rectangle() : Rectangle(0, 0) {} //must specify a default constructor\n",
    "        Rectangle(int x, int y) : width(x), height(y) {}\n",
    "        int area(void) { return width * height; }\n",
    "    };\n",
    "    \n",
    "    Rectangle* baz = new Rectangle[2]; //objects have already called default constructor\n",
    "    //must use a member function to set values, or specify a copy constructor\n",
    "//     baz[0] = Rectangle(2, 5); won't work\n",
    "//     baz[1] = Rectangle(3, 6);\n",
    "//     { {2,5}, {3,6} }; //universal initalizer\n",
    "}"
   ]
  },
  {
   "cell_type": "markdown",
   "metadata": {},
   "source": [
    "# Static Members"
   ]
  },
  {
   "cell_type": "markdown",
   "metadata": {},
   "source": [
    "Must be initalized outside of class"
   ]
  },
  {
   "cell_type": "code",
   "execution_count": null,
   "metadata": {},
   "outputs": [],
   "source": [
    "// static members in classes\n",
    "#include <iostream>\n",
    "using namespace std;\n",
    "\n",
    "class Dummy {\n",
    "  public:\n",
    "    static int n;\n",
    "    Dummy () { n++; };\n",
    "};\n",
    "\n",
    "int Dummy::n=0;\n",
    "\n",
    "int main () {\n",
    "  Dummy a;\n",
    "  Dummy b[5];\n",
    "  cout << a.n << '\\n';\n",
    "  Dummy * c = new Dummy;\n",
    "  cout << Dummy::n << '\\n';\n",
    "  delete c;\n",
    "  return 0;\n",
    "}"
   ]
  },
  {
   "cell_type": "markdown",
   "metadata": {},
   "source": [
    "# Const"
   ]
  },
  {
   "cell_type": "markdown",
   "metadata": {},
   "source": [
    "Const objects can't be modified, obviously"
   ]
  },
  {
   "cell_type": "code",
   "execution_count": null,
   "metadata": {},
   "outputs": [],
   "source": [
    "// constructor on const object\n",
    "#include <iostream>\n",
    "using namespace std;\n",
    "\n",
    "class MyClass {\n",
    "  public:\n",
    "    int x;\n",
    "    MyClass(int val) : x(val) {}\n",
    "    int get() {return x;}\n",
    "};\n",
    "\n",
    "int main() {\n",
    "  const MyClass foo(10);\n",
    "// foo.x = 20;            // not valid: x cannot be modified\n",
    "  cout << foo.x << '\\n';  // ok: data member x can be read\n",
    "  return 0;\n",
    "}"
   ]
  },
  {
   "cell_type": "markdown",
   "metadata": {},
   "source": [
    "Very good read:  \n",
    "http://www.cplusplus.com/doc/tutorial/classes2/"
   ]
  },
  {
   "cell_type": "markdown",
   "metadata": {},
   "source": [
    "Destructor, copy constructor, move constructor, etc. will all have an implicit one if not explicity defined"
   ]
  },
  {
   "cell_type": "markdown",
   "metadata": {},
   "source": [
    "# Destructor"
   ]
  },
  {
   "cell_type": "raw",
   "metadata": {},
   "source": [
    " ~Example4 () {}"
   ]
  },
  {
   "cell_type": "markdown",
   "metadata": {},
   "source": [
    "## Copy constructor"
   ]
  },
  {
   "cell_type": "code",
   "execution_count": null,
   "metadata": {},
   "outputs": [],
   "source": [
    "MyClass::MyClass (const MyClass&);"
   ]
  },
  {
   "cell_type": "markdown",
   "metadata": {},
   "source": [
    "Implicit copy constructor only does shallow copy of its member variables, if deep copy is needed, must specify:"
   ]
  },
  {
   "cell_type": "code",
   "execution_count": null,
   "metadata": {},
   "outputs": [],
   "source": [
    "// Shallow copy ex: \n",
    "// What implicit basically does\n",
    "\n",
    "class MyClass {\n",
    "  public:\n",
    "    int a, b; string c;\n",
    "};\n",
    "\n",
    "MyClass::MyClass(const MyClass& x) : a(x.a), b(x.b), c(x.c) {}"
   ]
  },
  {
   "cell_type": "code",
   "execution_count": null,
   "metadata": {},
   "outputs": [],
   "source": [
    "// Deep copy ex:\n",
    "\n",
    "#include <iostream>\n",
    "#include <string>\n",
    "using namespace std;\n",
    "\n",
    "class Example5 {\n",
    "    string* ptr;\n",
    "  public:\n",
    "    Example5 (const string& str) : ptr(new string(str)) {}\n",
    "    ~Example5 () {delete ptr;}\n",
    "    // copy constructor:\n",
    "    Example5 (const Example5& x) : ptr(new string(x.content())) {}\n",
    "    // access content:\n",
    "    const string& content() const {return *ptr;}\n",
    "};\n",
    "\n",
    "int main () {\n",
    "  Example5 foo (\"Example\");\n",
    "  Example5 bar = foo;\n",
    "\n",
    "  cout << \"bar's content: \" << bar.content() << '\\n';\n",
    "  return 0;\n",
    "}"
   ]
  },
  {
   "cell_type": "markdown",
   "metadata": {},
   "source": [
    "# Copy Assignment"
   ]
  },
  {
   "cell_type": "raw",
   "metadata": {},
   "source": [
    "Know the difference between following use cases:\n",
    "\n",
    "MyClass foo;\n",
    "MyClass bar (foo);       // object initialization: copy constructor called\n",
    "MyClass baz = foo;       // object initialization: copy constructor called //not assignment!!!\n",
    "foo = bar;               // object already initialized: copy assignment called"
   ]
  },
  {
   "cell_type": "code",
   "execution_count": null,
   "metadata": {},
   "outputs": [],
   "source": [
    "MyClass& operator= (const MyClass&);"
   ]
  },
  {
   "cell_type": "markdown",
   "metadata": {},
   "source": [
    "Implicit copy assignment does a shallow copy"
   ]
  },
  {
   "cell_type": "code",
   "execution_count": null,
   "metadata": {},
   "outputs": [],
   "source": [
    "Example5& operator= (const Example5& x) {\n",
    "  delete ptr;                      // delete currently pointed string\n",
    "  ptr = new string (x.content());  // allocate space for new string, and copy\n",
    "  return *this;\n",
    "}"
   ]
  },
  {
   "cell_type": "markdown",
   "metadata": {},
   "source": [
    "What does the below do?"
   ]
  },
  {
   "cell_type": "code",
   "execution_count": null,
   "metadata": {},
   "outputs": [],
   "source": [
    "Example5& operator= (const Example5& x) {\n",
    "  *ptr = x.content();\n",
    "  return *this;\n",
    "}"
   ]
  },
  {
   "cell_type": "markdown",
   "metadata": {},
   "source": [
    "# Move Constructor & Assignment"
   ]
  },
  {
   "cell_type": "code",
   "execution_count": null,
   "metadata": {},
   "outputs": [],
   "source": [
    "MyClass fn();            // function returning a MyClass object\n",
    "MyClass foo;             // default constructor\n",
    "MyClass bar = foo;       // copy constructor\n",
    "MyClass baz = fn();      // move constructor\n",
    "foo = bar;               // copy assignment\n",
    "baz = MyClass();         // move assignment "
   ]
  },
  {
   "cell_type": "markdown",
   "metadata": {},
   "source": [
    "The move assignment is called when an object is assigned the value of an unnamed object (an unnamed temporary)."
   ]
  },
  {
   "cell_type": "markdown",
   "metadata": {},
   "source": [
    "Must read:  \n",
    "https://www.internalpointers.com/post/understanding-meaning-lvalues-and-rvalues-c  \n",
    "https://www.internalpointers.com/post/c-rvalue-references-and-move-semantics-beginners  "
   ]
  },
  {
   "cell_type": "markdown",
   "metadata": {},
   "source": [
    "Now an lvalue reference is a reference that binds to an lvalue. lvalue references are marked with one ampersand (&).\n",
    "And an rvalue reference is a reference that binds to an rvalue. rvalue references are marked with two ampersands (&&)."
   ]
  },
  {
   "cell_type": "code",
   "execution_count": null,
   "metadata": {},
   "outputs": [],
   "source": [
    "int a = 5;\n",
    "\n",
    "// lvalue reference: \n",
    "int& b = a;\n",
    "\n",
    "// rvalue reference: \n"
   ]
  },
  {
   "cell_type": "markdown",
   "metadata": {},
   "source": [
    "Link to [lvalues & rvaluse + move semantics.ipynb](*lvalues%20&%20rvaluse%20+%20move%20semantics.ipynb)"
   ]
  },
  {
   "cell_type": "code",
   "execution_count": null,
   "metadata": {},
   "outputs": [],
   "source": []
  }
 ],
 "metadata": {
  "kernelspec": {
   "display_name": "C++11",
   "language": "C++11",
   "name": "xeus-cling-cpp11"
  },
  "language_info": {
   "codemirror_mode": "text/x-c++src",
   "file_extension": ".cpp",
   "mimetype": "text/x-c++src",
   "name": "c++",
   "version": "-std=c++11"
  }
 },
 "nbformat": 4,
 "nbformat_minor": 2
}
