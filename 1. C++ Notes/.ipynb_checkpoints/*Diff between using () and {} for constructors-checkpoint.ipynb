{
 "cells": [
  {
   "cell_type": "markdown",
   "metadata": {},
   "source": [
    "Read the stackoverflow posts first, very good"
   ]
  },
  {
   "cell_type": "markdown",
   "metadata": {},
   "source": [
    "https://stackoverflow.com/a/37228443\n",
    "https://stackoverflow.com/questions/18222926/why-is-list-initialization-using-curly-braces-better-than-the-alternatives  "
   ]
  },
  {
   "cell_type": "raw",
   "metadata": {},
   "source": [
    "vector<int> a{10,20};   //Curly braces -> fills the vector with the arguments  \n",
    "\n",
    "vector<int> b(10,20);   //Parenthesis -> uses arguments to parametrize some functionality,                          \n",
    "vector<int> c(it1,it2); //like filling the vector with 10 integers or copying a range.  \n",
    "\n",
    "vector<int> d{};      //empty braces -> default constructs vector, which is equivalent  \n",
    "                      //to a vector that is filled with zero elements  "
   ]
  },
  {
   "cell_type": "code",
   "execution_count": null,
   "metadata": {},
   "outputs": [],
   "source": []
  }
 ],
 "metadata": {
  "kernelspec": {
   "display_name": "C++11",
   "language": "C++11",
   "name": "xeus-cling-cpp11"
  },
  "language_info": {
   "codemirror_mode": "text/x-c++src",
   "file_extension": ".cpp",
   "mimetype": "text/x-c++src",
   "name": "c++",
   "version": "-std=c++11"
  }
 },
 "nbformat": 4,
 "nbformat_minor": 2
}
