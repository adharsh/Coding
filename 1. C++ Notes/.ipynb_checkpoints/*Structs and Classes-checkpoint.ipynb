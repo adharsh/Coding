{
 "cells": [
  {
   "cell_type": "markdown",
   "metadata": {},
   "source": [
    "https://stackoverflow.com/questions/40590216/is-it-legal-to-index-into-a-struct"
   ]
  },
  {
   "cell_type": "code",
   "execution_count": 1,
   "metadata": {},
   "outputs": [],
   "source": [
    "struct ans\n",
    "{\n",
    "    int q;\n",
    "    int r;\n",
    "};"
   ]
  },
  {
   "cell_type": "code",
   "execution_count": 2,
   "metadata": {},
   "outputs": [],
   "source": [
    "ans divide(int x, int y_)\n",
    "{\n",
    "    int quotient = 0;\n",
    "    int shift = 31;\n",
    "    long long y = y_;\n",
    "\n",
    "    while (x >= y)\n",
    "    {\n",
    "        while ((y << shift) > x)\n",
    "            shift--;\n",
    "\n",
    "        quotient += 1 << shift;\n",
    "        x -= (y << shift);\n",
    "    }\n",
    "\n",
    "    ans a;\n",
    "    a.q = quotient;\n",
    "    a.r = shift;\n",
    "    return a;\n",
    "}"
   ]
  },
  {
   "cell_type": "code",
   "execution_count": 3,
   "metadata": {},
   "outputs": [
    {
     "data": {
      "text/plain": [
       "31"
      ]
     },
     "execution_count": 3,
     "metadata": {},
     "output_type": "execute_result"
    }
   ],
   "source": [
    "divide(5,6).q + divide(5,6).r"
   ]
  },
  {
   "cell_type": "code",
   "execution_count": 4,
   "metadata": {},
   "outputs": [],
   "source": [
    "#include <iostream>\n",
    "class A\n",
    "{\n",
    "    private:\n",
    "    int a;\n",
    "\n",
    "    public:\n",
    "    A() : A(5){}\n",
    "    A(int a)\n",
    "    {\n",
    "        this->a = a;\n",
    "        std::cout << \"yolo\" << std::endl;\n",
    "    }\n",
    "    int getA(){ return a; }\n",
    "};"
   ]
  },
  {
   "cell_type": "code",
   "execution_count": 5,
   "metadata": {},
   "outputs": [
    {
     "name": "stdout",
     "output_type": "stream",
     "text": [
      "yolo\n",
      "5\n"
     ]
    }
   ],
   "source": [
    "{\n",
    "    A a; //default constructor will be called\n",
    "    std::cout << a.getA() << std::endl;\n",
    "}"
   ]
  },
  {
   "cell_type": "markdown",
   "metadata": {},
   "source": [
    "The default constructor is special because it is called when an object is declared but not initilaized with any arguments.   \n",
    "http://www.cplusplus.com/doc/tutorial/classes/  \n",
    "\n",
    "Default constructor is always called\n",
    "\n",
    "A a(); -> function prototybe, not actually creating an object\n",
    "\n",
    "A a(5);  \n",
    "A a = 5;  \n",
    "A a {5};  \n",
    "A a = {5};  \n",
    "\n",
    "{} braces are called uniform initializer syntax  "
   ]
  },
  {
   "cell_type": "code",
   "execution_count": 8,
   "metadata": {},
   "outputs": [
    {
     "name": "stderr",
     "output_type": "stream",
     "text": [
      "\u001b[1minput_line_18:1:7: \u001b[0m\u001b[0;1;31merror: \u001b[0m\u001b[1mredefinition of 'Rectangle'\u001b[0m\n",
      "class Rectangle {\n",
      "\u001b[0;1;32m      ^\n",
      "\u001b[0m\u001b[1minput_line_17:1:7: \u001b[0m\u001b[0;1;30mnote: \u001b[0mprevious definition is here\u001b[0m\n",
      "class Rectangle {\n",
      "\u001b[0;1;32m      ^\n",
      "\u001b[0m\u001b[1minput_line_18:8:13: \u001b[0m\u001b[0;1;31merror: \u001b[0m\u001b[1mredefinition of 'baz'\u001b[0m\n",
      " Rectangle* baz = new Rectangle[2] { {2,5}, {3,6} }; //universal initalizer\n",
      "\u001b[0;1;32m            ^\n",
      "\u001b[0m\u001b[1minput_line_17:8:13: \u001b[0m\u001b[0;1;30mnote: \u001b[0mprevious definition is here\u001b[0m\n",
      " Rectangle* baz = new Rectangle[2] { {2,5}, {3,6} };\n",
      "\u001b[0;1;32m            ^\n",
      "\u001b[0m"
     ]
    },
    {
     "ename": "Interpreter Error",
     "evalue": "",
     "output_type": "error",
     "traceback": [
      "Interpreter Error: "
     ]
    }
   ],
   "source": [
    "class Rectangle {\n",
    "  int width, height;\n",
    "public:\n",
    "  Rectangle(int x, int y) : width(x), height(y) {}\n",
    "  int area(void) { return width * height; }\n",
    "};\n",
    "\n",
    "Rectangle* baz = new Rectangle[2] { {2,5}, {3,6} }; //universal initalizer"
   ]
  }
 ],
 "metadata": {
  "kernelspec": {
   "display_name": "C++11",
   "language": "C++11",
   "name": "xeus-cling-cpp11"
  },
  "language_info": {
   "codemirror_mode": "text/x-c++src",
   "file_extension": ".cpp",
   "mimetype": "text/x-c++src",
   "name": "c++",
   "version": "-std=c++11"
  }
 },
 "nbformat": 4,
 "nbformat_minor": 2
}
