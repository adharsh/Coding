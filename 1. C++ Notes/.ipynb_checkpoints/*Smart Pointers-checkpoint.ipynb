{
 "cells": [
  {
   "cell_type": "markdown",
   "metadata": {},
   "source": [
    "Smart pointers -> dont have to call delete on them  \n",
    "https://www.geeksforgeeks.org/smart-pointers-cpp/    \n",
    "https://stackoverflow.com/questions/106508/what-is-a-smart-pointer-and-when-should-i-use-one  "
   ]
  },
  {
   "cell_type": "markdown",
   "metadata": {},
   "source": [
    "smart pointers have to dynamically allocate memory"
   ]
  },
  {
   "cell_type": "markdown",
   "metadata": {},
   "source": [
    "https://www.geeksforgeeks.org/how-to-implement-user-defined-shared-pointers-in-c/\n",
    "\n",
    "https://www.acodersjourney.com/top-10-dumb-mistakes-avoid-c-11-smart-pointers/"
   ]
  },
  {
   "cell_type": "code",
   "execution_count": null,
   "metadata": {},
   "outputs": [],
   "source": []
  }
 ],
 "metadata": {
  "kernelspec": {
   "display_name": "C++11",
   "language": "C++11",
   "name": "xeus-cling-cpp11"
  },
  "language_info": {
   "codemirror_mode": "text/x-c++src",
   "file_extension": ".cpp",
   "mimetype": "text/x-c++src",
   "name": "c++",
   "version": "-std=c++11"
  }
 },
 "nbformat": 4,
 "nbformat_minor": 2
}
