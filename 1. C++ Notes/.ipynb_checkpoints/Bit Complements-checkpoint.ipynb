{
 "cells": [
  {
   "cell_type": "markdown",
   "metadata": {},
   "source": [
    "https://www.cs.cornell.edu/~tomf/notes/cps104/twoscomp.html\n",
    "## Two's Complement:\n",
    "It's most common way to represent negative numbers.  \n",
    "Take number 12  \n",
    "12 + -12 = 0  \n",
    " 01100  \n",
    "+10100  \n",
    "= 0  \n",
    "https://www.cs.cornell.edu/~tomf/notes/cps104/twoscomp.html   \n",
    "Review next time why inverting and adding one works\n",
    "\n",
    "// 0x00000001 is 1  \n",
    "// 0xFFFFFFFF is -1  \n",
    "\n",
    "Leading 1 indicates negativity, leading 0 indicates positivity"
   ]
  },
  {
   "cell_type": "code",
   "execution_count": 18,
   "metadata": {},
   "outputs": [
    {
     "name": "stdout",
     "output_type": "stream",
     "text": [
      "1111111111111111111111111111111111111111111111111111111111110011\n",
      "0000000000000000000000000000000000000000000000000000000000000001\n"
     ]
    },
    {
     "data": {
      "text/plain": [
       "@0x7f116c45dee0"
      ]
     },
     "execution_count": 18,
     "metadata": {},
     "output_type": "execute_result"
    }
   ],
   "source": [
    "#include <bitset>\n",
    "#include <iostream>\n",
    "\n",
    "std::cout << std::bitset<64>(-0b1101) << std::endl; // this is two's complement\n",
    "std::cout << std::bitset<64>(1) << std::endl; // this is two's complement"
   ]
  },
  {
   "cell_type": "code",
   "execution_count": 37,
   "metadata": {},
   "outputs": [
    {
     "name": "stdout",
     "output_type": "stream",
     "text": [
      "0:\n",
      "00000000000000000000000000000000\n",
      "-1:\n",
      "11111111111111111111111111111111\n"
     ]
    }
   ],
   "source": [
    "std::cout << \"0:\" << std::endl;\n",
    "std::cout << std::bitset<32>(0) << std::endl;\n",
    "\n",
    "std::cout << \"-1:\" << std::endl;\n",
    "std::cout << std::bitset<32>(-1) << std::endl;"
   ]
  },
  {
   "cell_type": "code",
   "execution_count": 38,
   "metadata": {},
   "outputs": [
    {
     "name": "stdout",
     "output_type": "stream",
     "text": [
      "4\n",
      "~0\n",
      "-1\n",
      "\n",
      "Min: (=-Max-1) \n",
      "-2147483648\n",
      "10000000000000000000000000000000\n",
      "\n",
      "Twos' Complement of Min: (is a postivie number that doesn't exist)\n",
      "-2147483648\n",
      "10000000000000000000000000000000\n",
      "\n",
      "Max\n",
      "2147483647\n",
      "01111111111111111111111111111111\n",
      "\n",
      "Twos' Complement of Max:\n",
      "-2147483647\n",
      "10000000000000000000000000000001\n",
      "\n",
      "Max + Min\n",
      "-1\n",
      "11111111111111111111111111111111\n",
      "\n",
      "Min - Max\n",
      "1\n",
      "00000000000000000000000000000001\n",
      "\n",
      "Max - Min\n",
      "11111111111111111111111111111111\n",
      "-1\n",
      "\n"
     ]
    }
   ],
   "source": [
    "#include <iostream>\n",
    "#include <bitset>\n",
    "\n",
    "//for each block, understand why each of the values work\n",
    "\n",
    "{\n",
    "    std::cout << sizeof(int) << std::endl;\n",
    "    std::cout << \"~0\\n\";\n",
    "    std::cout << (int) ~0 << std::endl << std::endl; // or -1 cuz of 2's comlement\n",
    "    // 0x00000001 is 1\n",
    "    // 0xFFFFFFFF is -1\n",
    "    \n",
    "    std::cout << \"Min: (=-Max-1) \\n\";\n",
    "    std::cout << std::numeric_limits<int>::min() << std::endl;\n",
    "    std::cout << std::bitset<32>(std::numeric_limits<int>::min()) << std::endl << std::endl;\n",
    "    \n",
    "    std::cout << \"Twos' Complement of Min: (is a postivie number that doesn't exist)\\n\";\n",
    "    std::cout << -std::numeric_limits<int>::min() << std::endl;\n",
    "    std::cout << std::bitset<32>(-std::numeric_limits<int>::min()) << std::endl << std::endl;\n",
    "    \n",
    "    std::cout << \"Max\\n\";\n",
    "    std::cout << std::numeric_limits<int>::max() << std::endl;\n",
    "    std::cout << std::bitset<32>(std::numeric_limits<int>::max()) << std::endl << std::endl;\n",
    "    \n",
    "    std::cout << \"Twos' Complement of Max:\\n\";\n",
    "    std::cout << -std::numeric_limits<int>::max() << std::endl;\n",
    "    std::cout << std::bitset<32>(-std::numeric_limits<int>::max()) << std::endl << std::endl;\n",
    "    \n",
    "    std::cout << \"Max + Min\\n\";\n",
    "    std::cout << (std::numeric_limits<int>::max() + std::numeric_limits<int>::min()) << std::endl;\n",
    "    std::cout << std::bitset<32>((std::numeric_limits<int>::max() + std::numeric_limits<int>::min())) << std::endl << std::endl;\n",
    "//  -1 since 1111 is signed, leading 1 indicates negativity, taking two's complement indicates that it's a 1\n",
    "    \n",
    "    std::cout << \"Min - Max\\n\";\n",
    "    std::cout << (std::numeric_limits<int>::min() - std::numeric_limits<int>::max()) << std::endl;\n",
    "    std::cout << std::bitset<32>((std::numeric_limits<int>::min() - std::numeric_limits<int>::max())) << std::endl << std::endl;\n",
    "    \n",
    "    std::cout << \"Max - Min\\n\";\n",
    "    std::cout << std::bitset<32>((std::numeric_limits<int>::max() - std::numeric_limits<int>::min())) << std::endl;\n",
    "    std::cout << (std::numeric_limits<int>::max() - std::numeric_limits<int>::min()) << std::endl  << std::endl;\n",
    "    \n",
    "}"
   ]
  },
  {
   "cell_type": "code",
   "execution_count": 50,
   "metadata": {},
   "outputs": [
    {
     "name": "stdout",
     "output_type": "stream",
     "text": [
      "-2147483648\n",
      "-2147483648\n",
      "-2147483648\n",
      "2147483648\n"
     ]
    }
   ],
   "source": [
    "{\n",
    "    std::cout << (1 << 31) << std::endl;\n",
    "    std::cout << -(1 << 31) << std::endl;\n",
    "    std::cout << std::numeric_limits<int>::min() << std::endl;\n",
    "    std::cout << (unsigned int) -(1 << 31) << std::endl;\n",
    "}"
   ]
  },
  {
   "cell_type": "code",
   "execution_count": null,
   "metadata": {},
   "outputs": [],
   "source": []
  }
 ],
 "metadata": {
  "kernelspec": {
   "display_name": "C++11",
   "language": "C++11",
   "name": "xeus-cling-cpp11"
  },
  "language_info": {
   "codemirror_mode": "text/x-c++src",
   "file_extension": ".cpp",
   "mimetype": "text/x-c++src",
   "name": "c++",
   "version": "-std=c++11"
  }
 },
 "nbformat": 4,
 "nbformat_minor": 2
}
