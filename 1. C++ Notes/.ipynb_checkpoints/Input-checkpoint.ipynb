{
 "cells": [
  {
   "cell_type": "code",
   "execution_count": 1,
   "metadata": {},
   "outputs": [],
   "source": [
    "#include <string>\n",
    "#include <iostream>"
   ]
  },
  {
   "cell_type": "markdown",
   "metadata": {},
   "source": [
    "## cin"
   ]
  },
  {
   "cell_type": "code",
   "execution_count": 2,
   "metadata": {},
   "outputs": [
    {
     "name": "stdout",
     "output_type": "stream",
     "text": [
      "Please enter an integer value: 5\n",
      "The value you entered is 5 and its double is 10.\n"
     ]
    },
    {
     "data": {
      "text/plain": [
       "0"
      ]
     },
     "execution_count": 2,
     "metadata": {},
     "output_type": "execute_result"
    }
   ],
   "source": [
    "{\n",
    "    int i;\n",
    "    std::cout << \"Please enter an integer value: \";\n",
    "    std::cin >> i;\n",
    "    std::cout << \"The value you entered is \" << i;\n",
    "    std::cout << \" and its double is \" << i*2 << \".\\n\";\n",
    "    return 0;\n",
    "}"
   ]
  },
  {
   "cell_type": "markdown",
   "metadata": {},
   "source": [
    "## getline"
   ]
  },
  {
   "cell_type": "code",
   "execution_count": 3,
   "metadata": {},
   "outputs": [
    {
     "name": "stdout",
     "output_type": "stream",
     "text": [
      "What's your name? Adharsh Babu\n",
      "Hello Adharsh Babu.\n",
      "What is your favorite team? Yes\n",
      "I like Yes too!\n"
     ]
    }
   ],
   "source": [
    "{\n",
    "    std::string mystr;\n",
    "    std::cout << \"What's your name? \";\n",
    "    std::getline (std::cin, mystr);\n",
    "    std::cout << \"Hello \" << mystr << \".\\n\";\n",
    "    std::cout << \"What is your favorite team? \";\n",
    "    std::getline (std::cin, mystr);\n",
    "    std::cout << \"I like \" << mystr << \" too!\\n\";\n",
    "}"
   ]
  },
  {
   "cell_type": "code",
   "execution_count": 4,
   "metadata": {},
   "outputs": [],
   "source": [
    "#include <sstream>"
   ]
  },
  {
   "cell_type": "markdown",
   "metadata": {},
   "source": [
    "## stringstream"
   ]
  },
  {
   "cell_type": "code",
   "execution_count": 5,
   "metadata": {},
   "outputs": [
    {
     "name": "stdout",
     "output_type": "stream",
     "text": [
      "Enter price: 234.23423\n",
      "Enter quantity: 1\n",
      "Total price: 234.234\n"
     ]
    }
   ],
   "source": [
    "{\n",
    "    std::string mystr;\n",
    "    float price=0;\n",
    "    int quantity=0;\n",
    "\n",
    "    std::cout << \"Enter price: \";\n",
    "    std::getline (std::cin,mystr);\n",
    "    std::stringstream(mystr) >> price;\n",
    "    std::cout << \"Enter quantity: \";\n",
    "    std::getline (std::cin,mystr);\n",
    "    std::stringstream(mystr) >> quantity;\n",
    "    std::cout << \"Total price: \" << price*quantity << std::endl;\n",
    "}"
   ]
  },
  {
   "cell_type": "code",
   "execution_count": 8,
   "metadata": {},
   "outputs": [
    {
     "name": "stdout",
     "output_type": "stream",
     "text": [
      "a\n",
      "b\n",
      "cd\n",
      "e\n",
      "f g\n",
      "\n",
      "a\n"
     ]
    }
   ],
   "source": [
    "{\n",
    "    std::string expr = \"a,b,cd,e,f g,,a\";\n",
    "    std::stringstream ss(expr);\n",
    "    std::string token;\n",
    "    const char delim = ',';\n",
    "\n",
    "    while(std::getline(ss, token, delim))\n",
    "    {\n",
    "        std::cout << token << std::endl;\n",
    "        //token is the string between each delimiter and at the end, Ex: a,b,c -> a b and c\n",
    "    }\n",
    "}"
   ]
  }
 ],
 "metadata": {
  "kernelspec": {
   "display_name": "C++11",
   "language": "C++11",
   "name": "xeus-cling-cpp11"
  },
  "language_info": {
   "codemirror_mode": "text/x-c++src",
   "file_extension": ".cpp",
   "mimetype": "text/x-c++src",
   "name": "c++",
   "version": "-std=c++11"
  }
 },
 "nbformat": 4,
 "nbformat_minor": 2
}
