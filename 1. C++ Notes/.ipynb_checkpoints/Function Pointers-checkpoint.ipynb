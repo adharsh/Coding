{
 "cells": [
  {
   "cell_type": "code",
   "execution_count": 1,
   "metadata": {},
   "outputs": [
    {
     "data": {
      "text/plain": [
       "20"
      ]
     },
     "execution_count": 1,
     "metadata": {},
     "output_type": "execute_result"
    }
   ],
   "source": [
    "double a(double b, double c)\n",
    "{\n",
    "    return b*c*2;\n",
    "}\n",
    "\n",
    "double (*f)(double, double) = &a;\n",
    "\n",
    "f(5,2)"
   ]
  },
  {
   "cell_type": "raw",
   "metadata": {},
   "source": [
    "#include <iostream>\n",
    "#include <algorithm>\n",
    "#include <vector>\n",
    "\n",
    "void bubble_sort(std::vector<int>& A, bool(*f)(int, int))\n",
    "{\n",
    "    for (int i = A.size() - 1; i >= 0; i--)\n",
    "    {\n",
    "        for (int j = 0; j < i; j++)\n",
    "            if (f(A[j], A[j + 1]))\n",
    "                std::swap(A[j], A[j + 1]);\n",
    "    }\n",
    "}\n",
    "\n",
    "bool compar(int a, int b)\n",
    "{\n",
    "    return a > b;\n",
    "}\n",
    "\n",
    "bool compar2(int a, int b)\n",
    "{\n",
    "    return a < b;\n",
    "}\n",
    "\n",
    "int main()\n",
    "{\n",
    "    std::vector<int> A = { 5,4,3,2,1 };\n",
    "    bubble_sort(A, &compar);\n",
    "    for (std::vector<int>::iterator a = A.begin(); a != A.end(); a++)\n",
    "        std::cout << *a << \" \";\n",
    "    std::cout << std::endl;\n",
    "\n",
    "    bool(*f) (int, int) = &compar2;\n",
    "    bubble_sort(A, f);\n",
    "    for (std::vector<int>::iterator a = A.begin(); a != A.end(); a++)\n",
    "        std::cout << *a << \" \";\n",
    "    std::cout << std::endl;\n",
    "        \n",
    "    bubble_sort(A, [](int x, int y){return x > y;});\n",
    "    for(int a : A)\n",
    "        std::cout << a << \" \";\n",
    "}"
   ]
  },
  {
   "cell_type": "code",
   "execution_count": null,
   "metadata": {},
   "outputs": [],
   "source": []
  }
 ],
 "metadata": {
  "kernelspec": {
   "display_name": "C++11",
   "language": "C++11",
   "name": "xeus-cling-cpp11"
  },
  "language_info": {
   "codemirror_mode": "text/x-c++src",
   "file_extension": ".cpp",
   "mimetype": "text/x-c++src",
   "name": "c++",
   "version": "-std=c++11"
  }
 },
 "nbformat": 4,
 "nbformat_minor": 2
}
