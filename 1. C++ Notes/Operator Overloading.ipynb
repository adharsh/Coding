{
 "cells": [
  {
   "cell_type": "markdown",
   "metadata": {},
   "source": [
    "https://stackoverflow.com/questions/4622330/operator-overloading-member-function-vs-non-member-function"
   ]
  },
  {
   "cell_type": "markdown",
   "metadata": {},
   "source": [
    "## As member functions, where only rhs is parameter"
   ]
  },
  {
   "cell_type": "code",
   "execution_count": 1,
   "metadata": {},
   "outputs": [],
   "source": [
    "#include <iostream>\n",
    "\n",
    "class Complex\n",
    "{\n",
    "    private:\n",
    "        double real, imag;\n",
    "    public:\n",
    "        Complex(double real, double imag) : real(real), imag(imag) \n",
    "        {\n",
    "            static int t = 0;\n",
    "            std::cout << t << \": parent -> (\"<< real << \",\" << imag << \")\" << std::endl;\n",
    "        }\n",
    "        Complex() : Complex(0, 0) //  Complex(0, 0) is delegated constructor\n",
    "        {\n",
    "            static int t = 0;\n",
    "            std::cout << t << \": child -> (\"<< real << \",\" << imag << \")\" << std::endl;\n",
    "        }\n",
    "        \n",
    "        Complex operator+(const Complex& a)\n",
    "        {\n",
    "            Complex c;\n",
    "            c.real = real + a.real;\n",
    "            c.imag = imag + a.imag;\n",
    "            return c;\n",
    "        }\n",
    "        Complex& operator+=(const Complex& a)\n",
    "        {\n",
    "            this->real += a.real;\n",
    "            this->imag += a.imag;\n",
    "            return *this;\n",
    "        }\n",
    "        void print() {std::cout << real << \" \" << imag << \"\\n\";}\n",
    "};"
   ]
  },
  {
   "cell_type": "raw",
   "metadata": {},
   "source": [
    "//both are equivalent\n",
    "\n",
    "c = a + b;\n",
    "c = a.operator+ (b);"
   ]
  },
  {
   "cell_type": "code",
   "execution_count": 2,
   "metadata": {},
   "outputs": [
    {
     "name": "stdout",
     "output_type": "stream",
     "text": [
      "0: parent -> (5,6)\n",
      "0: parent -> (0,0)\n",
      "0: child -> (0,0)\n",
      "0: parent -> (1,2)\n",
      "0: parent -> (0,0)\n",
      "0: child -> (0,0)\n",
      "0: parent -> (0,0)\n",
      "0: child -> (0,0)\n",
      "6 8\n",
      "7 10\n"
     ]
    }
   ],
   "source": [
    "Complex a(5, 6);\n",
    "Complex b;\n",
    "Complex c(1, 2);\n",
    "\n",
    "Complex d = (a + b) + c;\n",
    "c += d;\n",
    "\n",
    "d.print();\n",
    "c.print();"
   ]
  },
  {
   "cell_type": "markdown",
   "metadata": {},
   "source": [
    "Why doesnt t change? Because that constructor is never called again! Bwah hah hah hah"
   ]
  },
  {
   "cell_type": "markdown",
   "metadata": {},
   "source": [
    "## As non-member functions, where both lhs and rhs are parameters"
   ]
  },
  {
   "cell_type": "code",
   "execution_count": null,
   "metadata": {},
   "outputs": [],
   "source": [
    "#include <iostream>\n",
    "\n",
    "class CVector {\n",
    "  public:\n",
    "    int x,y;\n",
    "    CVector () {}\n",
    "    CVector (int a, int b) : x(a), y(b) {}\n",
    "};\n",
    "\n",
    "\n",
    "CVector operator+ (const CVector& lhs, const CVector& rhs) {\n",
    "  CVector temp;\n",
    "  temp.x = lhs.x + rhs.x;\n",
    "  temp.y = lhs.y + rhs.y;\n",
    "  return temp;\n",
    "}\n",
    "\n",
    "int main () {\n",
    "  CVector foo (3,1);\n",
    "  CVector bar (1,2);\n",
    "  CVector result;\n",
    "  result = foo + bar;\n",
    "  std::cout << result.x << ',' << result.y << '\\n';\n",
    "  return 0;\n",
    "}"
   ]
  }
 ],
 "metadata": {
  "kernelspec": {
   "display_name": "C++11",
   "language": "C++11",
   "name": "xeus-cling-cpp11"
  },
  "language_info": {
   "codemirror_mode": "text/x-c++src",
   "file_extension": ".cpp",
   "mimetype": "text/x-c++src",
   "name": "c++",
   "version": "-std=c++11"
  }
 },
 "nbformat": 4,
 "nbformat_minor": 2
}
