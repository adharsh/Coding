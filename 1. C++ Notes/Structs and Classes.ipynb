{
 "cells": [
  {
   "cell_type": "code",
   "execution_count": 1,
   "metadata": {},
   "outputs": [
    {
     "name": "stderr",
     "output_type": "stream",
     "text": [
      "\u001b[1minput_line_7:8:1: \u001b[0m\u001b[0;1;31merror: \u001b[0m\u001b[1mfunction definition is not allowed here\u001b[0m\n",
      "{\n",
      "\u001b[0;1;32m^\n",
      "\u001b[0m"
     ]
    },
    {
     "ename": "Interpreter Error",
     "evalue": "",
     "output_type": "error",
     "traceback": [
      "Interpreter Error: "
     ]
    }
   ],
   "source": [
    "struct ans\n",
    "{\n",
    "    int q;\n",
    "    int r;\n",
    "};\n",
    "\n",
    "ans divide(int x, int y_)\n",
    "{\n",
    "    int quotient = 0;\n",
    "    int shift = 31;\n",
    "    long long y = y_;\n",
    "\n",
    "    while (x >= y)\n",
    "    {\n",
    "        while ((y << shift) > x)\n",
    "            shift--;\n",
    "\n",
    "        quotient += 1 << shift;\n",
    "        x -= (y << shift);\n",
    "    }\n",
    "\n",
    "    ans a;\n",
    "    a.q = quotient;\n",
    "    a.r = shift;\n",
    "    return a;\n",
    "}"
   ]
  }
 ],
 "metadata": {
  "kernelspec": {
   "display_name": "C++11",
   "language": "C++11",
   "name": "xeus-cling-cpp11"
  },
  "language_info": {
   "codemirror_mode": "text/x-c++src",
   "file_extension": ".cpp",
   "mimetype": "text/x-c++src",
   "name": "c++",
   "version": "-std=c++11"
  }
 },
 "nbformat": 4,
 "nbformat_minor": 2
}
