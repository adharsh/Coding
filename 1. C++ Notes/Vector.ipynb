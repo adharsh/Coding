{
 "cells": [
  {
   "cell_type": "code",
   "execution_count": 1,
   "metadata": {},
   "outputs": [],
   "source": [
    "#include <vector>\n",
    "#include <iostream>\n",
    "\n",
    "template<class T>\n",
    "void print_vector(const std::vector<T>& v)\n",
    "{\n",
    "    //or std::vector<T>::iterator\n",
    "    //the pointer is also const, cant change like ++*i\n",
    "    for(auto i = v.begin(); i != v.end(); i++)\n",
    "           std::cout << *i << \" \";\n",
    "    std::cout << \"\\n\\n\";\n",
    "}"
   ]
  },
  {
   "cell_type": "code",
   "execution_count": 3,
   "metadata": {},
   "outputs": [
    {
     "name": "stdout",
     "output_type": "stream",
     "text": [
      "3 3 3 3 3 3 3 3 3 3 \n",
      "\n",
      "0\n",
      "0\n",
      "0 0 0 0 0 0 0 0 0 0 \n",
      "\n",
      "0\n"
     ]
    }
   ],
   "source": [
    "{\n",
    "    std::vector<int> a(10, 3); //i want 10 3's\n",
    "    print_vector(a);\n",
    "    \n",
    "    \n",
    "    std::vector<int> b(10); //i want 10 ints\n",
    "    //but when creating int's, implementation call's int default constructor below:\n",
    "    //vector( size_type, T t = T() )\n",
    "    int c = int();\n",
    "    std::cout << c << std::endl;\n",
    "    std::cout << int() << std::endl;\n",
    "    print_vector(b);\n",
    "    \n",
    "    if(!bool())\n",
    "        std::cout << bool() << std::endl;\n",
    "    \n",
    "}"
   ]
  },
  {
   "cell_type": "code",
   "execution_count": 4,
   "metadata": {},
   "outputs": [
    {
     "name": "stdout",
     "output_type": "stream",
     "text": [
      "Index 0: 5\n",
      "Index 1: 5\n",
      "Index 2: 5\n"
     ]
    }
   ],
   "source": [
    "#include <vector>\n",
    "#include <iostream>\n",
    "\n",
    "std::vector<int> B(3, 5); //we want 3 5's\n",
    "//std::vector<int> B(3, 5); //we want 3 0's\n",
    "\n",
    "for(int a : B)\n",
    "{\n",
    "    static int t = 0;\n",
    "    std::cout << \"Index \" << t++ << \": \" << a << std::endl;\n",
    "}"
   ]
  },
  {
   "cell_type": "markdown",
   "metadata": {},
   "source": [
    "Arrays   \n",
    "https://en.cppreference.com/w/cpp/container/array"
   ]
  }
 ],
 "metadata": {
  "kernelspec": {
   "display_name": "C++11",
   "language": "C++11",
   "name": "xeus-cling-cpp11"
  },
  "language_info": {
   "codemirror_mode": "text/x-c++src",
   "file_extension": ".cpp",
   "mimetype": "text/x-c++src",
   "name": "c++",
   "version": "-std=c++11"
  }
 },
 "nbformat": 4,
 "nbformat_minor": 2
}
