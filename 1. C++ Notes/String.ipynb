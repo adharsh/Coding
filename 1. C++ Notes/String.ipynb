{
 "cells": [
  {
   "cell_type": "raw",
   "metadata": {},
   "source": [
    "float              stof(const string& str, size_t *idx = 0);  \n",
    "double             stod(const string& str, size_t *idx = 0);  \n",
    "long double        stold(const string& str, size_t *idx = 0);  \n",
    "int                stoi(const string& str, size_t *idx = 0, int base = 10);  \n",
    "long               stol(const string& str, size_t *idx = 0, int base = 10);  \n",
    "unsigned long      stoul(const string& str, size_t *idx = 0, int base = 10);  \n",
    "long long          stoll(const string& str, size_t *idx = 0, int base = 10);  \n",
    "unsigned long long stoull(const string& str, size_t *idx = 0, int base = 10);  \n",
    "\n",
    "std::string(1, char value)\n",
    "to_string(int val);  \n",
    "to_string(unsigned val);  \n",
    "to_string(long val);  \n",
    "to_string(unsigned long val);  \n",
    "to_string(long long val);  \n",
    "to_string(unsigned long long val);  \n",
    "to_string(float val);  \n",
    "to_string(double val);  \n",
    "to_string(long double val); \n",
    "\n",
    "bitset to string -> bitset<10> b; b.to_string()\n",
    "std::bitset<6>().to_string()"
   ]
  },
  {
   "cell_type": "code",
   "execution_count": 1,
   "metadata": {},
   "outputs": [
    {
     "name": "stdout",
     "output_type": "stream",
     "text": [
      "000110\n"
     ]
    }
   ],
   "source": [
    "#include <bitset>\n",
    "#include <iostream>\n",
    "\n",
    "//bitset to string -> bitset<10> b; b.to_string()\n",
    "std::cout << std::bitset<6>(6).to_string() <<std::endl;"
   ]
  },
  {
   "cell_type": "code",
   "execution_count": 2,
   "metadata": {},
   "outputs": [
    {
     "data": {
      "text/plain": [
       "\"cat\""
      ]
     },
     "execution_count": 2,
     "metadata": {},
     "output_type": "execute_result"
    }
   ],
   "source": [
    "#include <string>\n",
    "#include <iostream>\n",
    "\n",
    "std::string(1, 'c') + \"at\""
   ]
  },
  {
   "cell_type": "code",
   "execution_count": 6,
   "metadata": {},
   "outputs": [
    {
     "name": "stdout",
     "output_type": "stream",
     "text": [
      "found\n",
      "18446744073709551615\n"
     ]
    }
   ],
   "source": [
    "//find method\n",
    "//returns position of the first character of the first match\n",
    "{\n",
    "    std::string a = \"abc\";\n",
    "    \n",
    "    if(a.find(\"bc\") != std::string::npos)\n",
    "    {\n",
    "        std::cout << \"found\\n\";\n",
    "    }\n",
    "    std::cout << std::string::npos << std::endl;\n",
    "}"
   ]
  },
  {
   "cell_type": "code",
   "execution_count": 4,
   "metadata": {},
   "outputs": [
    {
     "name": "stdout",
     "output_type": "stream",
     "text": [
      "567\n"
     ]
    }
   ],
   "source": [
    "//substr method (starting_index, number_of_characters)\n",
    "{\n",
    "    std::string a = \"0123456789\";\n",
    "    std::cout << a.substr(5, 3) << std::endl;\n",
    "}"
   ]
  }
 ],
 "metadata": {
  "kernelspec": {
   "display_name": "C++11",
   "language": "C++11",
   "name": "xeus-cling-cpp11"
  },
  "language_info": {
   "codemirror_mode": "text/x-c++src",
   "file_extension": ".cpp",
   "mimetype": "text/x-c++src",
   "name": "c++",
   "version": "-std=c++11"
  }
 },
 "nbformat": 4,
 "nbformat_minor": 2
}
