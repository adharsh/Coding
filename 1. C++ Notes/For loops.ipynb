{
 "cells": [
  {
   "cell_type": "code",
   "execution_count": 10,
   "metadata": {},
   "outputs": [
    {
     "name": "stdout",
     "output_type": "stream",
     "text": [
      "a\n",
      "b\n",
      "c\n",
      "\n",
      "b\n",
      "c\n",
      "d\n",
      "bcd\n"
     ]
    }
   ],
   "source": [
    "#include <string>\n",
    "#include <iostream>\n",
    "\n",
    "{\n",
    "    std::string s1(\"abc\");\n",
    "    \n",
    "    for(const char& c : s1)\n",
    "        std::cout << c << std::endl;\n",
    "    \n",
    "    std::cout << std::endl;\n",
    "    for(char& c : s1)\n",
    "        std::cout << ++c << std::endl;\n",
    "    \n",
    "    std::cout << s1 << std::endl;\n",
    "}"
   ]
  },
  {
   "cell_type": "code",
   "execution_count": 11,
   "metadata": {},
   "outputs": [
    {
     "name": "stdout",
     "output_type": "stream",
     "text": [
      "5\n",
      "4\n",
      "3\n",
      "2\n",
      "1\n"
     ]
    }
   ],
   "source": [
    "{\n",
    "\n",
    "    int lol = 5;\n",
    "\n",
    "    while(lol)\n",
    "    {\n",
    "        std::cout << lol-- << std::endl;\n",
    "    }\n",
    "}"
   ]
  }
 ],
 "metadata": {
  "kernelspec": {
   "display_name": "C++11",
   "language": "C++11",
   "name": "xeus-cling-cpp11"
  },
  "language_info": {
   "codemirror_mode": "text/x-c++src",
   "file_extension": ".cpp",
   "mimetype": "text/x-c++src",
   "name": "c++",
   "version": "-std=c++11"
  }
 },
 "nbformat": 4,
 "nbformat_minor": 2
}
