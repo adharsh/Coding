{
 "cells": [
  {
   "cell_type": "markdown",
   "metadata": {},
   "source": [
    "https://stackoverflow.com/questions/103512/why-use-static-castintx-instead-of-intx  \n",
    "https://stackoverflow.com/questions/28002/regular-cast-vs-static-cast-vs-dynamic-cast"
   ]
  },
  {
   "cell_type": "markdown",
   "metadata": {},
   "source": [
    "http://www.cplusplus.com/doc/tutorial/typecasting/\n",
    "\n",
    "Standard Conversion: when smaller datatype is promoted to bigger datatype  \n",
    "Gaurenteed to get same exact value  "
   ]
  },
  {
   "cell_type": "markdown",
   "metadata": {},
   "source": [
    "# Implicit Casting"
   ]
  },
  {
   "cell_type": "code",
   "execution_count": null,
   "metadata": {},
   "outputs": [],
   "source": [
    "// implicit conversion of classes:\n",
    "#include <iostream>\n",
    "using namespace std;\n",
    "\n",
    "class A {};\n",
    "\n",
    "class B {\n",
    "public:\n",
    "  // conversion from A (constructor):\n",
    "  B (const A& x) {}\n",
    "  // conversion from A (assignment):\n",
    "  B& operator= (const A& x) {return *this;}\n",
    "  // conversion to A (type-cast operator)\n",
    "  // destination type followed by paranthesis\n",
    "  operator A() {return A();}\n",
    "};\n",
    "\n",
    "int main ()\n",
    "{\n",
    "  A foo;\n",
    "  B bar = foo;    // calls constructor\n",
    "  bar = foo;      // calls assignment\n",
    "  foo = bar;      // calls type-cast operator\n",
    "  return 0;\n",
    "}"
   ]
  },
  {
   "cell_type": "markdown",
   "metadata": {},
   "source": [
    "# Explicit Casting"
   ]
  },
  {
   "cell_type": "markdown",
   "metadata": {},
   "source": [
    "Used to make *single paramter constructors* explicit so object is not implicitly casted from another type"
   ]
  },
  {
   "cell_type": "markdown",
   "metadata": {},
   "source": [
    "https://weblogs.asp.net/kennykerr/Explicit-Constructors"
   ]
  },
  {
   "cell_type": "code",
   "execution_count": null,
   "metadata": {},
   "outputs": [],
   "source": [
    "class Array\n",
    "{\n",
    "public:\n",
    "    Array(size_t count);\n",
    "    // etc.\n",
    "};\n",
    "\n",
    "\n",
    "Array array = 123; // but this is wrong because it allows for: \n",
    "void UseArray(const Array& array);\n",
    "UseArray(123);\n",
    "// --------------------Where this avoids the issue-------------------------\n",
    "class Array\n",
    "{\n",
    "public:\n",
    "    explicit Array(size_t size);\n",
    "    // etc.\n",
    "};"
   ]
  },
  {
   "cell_type": "markdown",
   "metadata": {},
   "source": [
    "https://stackoverflow.com/questions/121162/what-does-the-explicit-keyword-mean"
   ]
  },
  {
   "cell_type": "code",
   "execution_count": null,
   "metadata": {},
   "outputs": [],
   "source": [
    "// explicit:\n",
    "#include <iostream>\n",
    "using namespace std;\n",
    "\n",
    "class A {};\n",
    "\n",
    "class B {\n",
    "public:\n",
    "  explicit B (const A& x) {}\n",
    "  B& operator= (const A& x) {return *this;}\n",
    "  operator A() {return A();}\n",
    "};\n",
    "\n",
    "void fn (B x) {}\n",
    "\n",
    "int main ()\n",
    "{\n",
    "  A foo;\n",
    "  B bar (foo);\n",
    "  bar = foo;\n",
    "  foo = bar;\n",
    "  \n",
    "//  fn (foo);  // not allowed for explicit ctor.\n",
    "  fn (bar);  \n",
    "\n",
    "  return 0;\n",
    "}"
   ]
  },
  {
   "cell_type": "markdown",
   "metadata": {},
   "source": [
    "# Type-Casting"
   ]
  },
  {
   "cell_type": "markdown",
   "metadata": {},
   "source": [
    "### In order to prevent casting like this:"
   ]
  },
  {
   "cell_type": "code",
   "execution_count": null,
   "metadata": {},
   "outputs": [],
   "source": [
    "// class type-casting\n",
    "#include <iostream>\n",
    "using namespace std;\n",
    "\n",
    "class Dummy {\n",
    "    double i,j;\n",
    "};\n",
    "\n",
    "class Addition {\n",
    "    int x,y;\n",
    "  public:\n",
    "    Addition (int a, int b) { x=a; y=b; }\n",
    "    int result() { return x+y;}\n",
    "};\n",
    "\n",
    "int main () {\n",
    "  Dummy d;\n",
    "  Addition * padd;\n",
    "  padd = (Addition*) &d;\n",
    "  cout << padd->result();\n",
    "  return 0;\n",
    "}"
   ]
  },
  {
   "cell_type": "markdown",
   "metadata": {},
   "source": [
    "- dynamic_cast <new_type> (expression)\n",
    "- reinterpret_cast <new_type> (expression)\n",
    "- static_cast <new_type> (expression)\n",
    "- const_cast <new_type> (expression)\n",
    "\n",
    "replacing:\n",
    "- (new_type) expresssion\n",
    "- new_type(expresssion)"
   ]
  },
  {
   "cell_type": "markdown",
   "metadata": {},
   "source": [
    "# dynamic_cast"
   ]
  },
  {
   "cell_type": "markdown",
   "metadata": {},
   "source": [
    "Only used for pointers and references to classes: polymorphic down and upcast  \n",
    "Has runtime overhead"
   ]
  },
  {
   "cell_type": "code",
   "execution_count": 1,
   "metadata": {},
   "outputs": [],
   "source": [
    "// dynamic_cast\n",
    "#include <iostream>\n",
    "#include <exception>\n",
    "using namespace std;\n",
    "\n",
    "class Base { virtual void dummy() {} };\n",
    "class Derived: public Base { int a; };"
   ]
  },
  {
   "cell_type": "code",
   "execution_count": 2,
   "metadata": {},
   "outputs": [
    {
     "name": "stdout",
     "output_type": "stream",
     "text": [
      "Null pointer on second type-cast.\n"
     ]
    }
   ],
   "source": [
    "{\n",
    "    try{\n",
    "        Base* derived_obj = new Derived;\n",
    "        Base* base_obj = new Base;\n",
    "        Derived * obj;\n",
    "\n",
    "        obj = dynamic_cast<Derived*>(derived_obj);\n",
    "        if (obj==nullptr) // nullptr or 0\n",
    "            cout << \"Null pointer on first type-cast.\\n\";\n",
    "\n",
    "        obj = dynamic_cast<Derived*>(base_obj);\n",
    "        if (obj==nullptr) \n",
    "            cout << \"Null pointer on second type-cast.\\n\";\n",
    "\n",
    "    } catch (exception& e) {\n",
    "        cout << \"Exception: \" << e.what();\n",
    "    }\n",
    "}"
   ]
  },
  {
   "cell_type": "markdown",
   "metadata": {},
   "source": [
    "# Static Casts"
   ]
  },
  {
   "cell_type": "markdown",
   "metadata": {},
   "source": [
    "Used for ordinary casts, only compile time (no runtime checks)"
   ]
  },
  {
   "cell_type": "code",
   "execution_count": 3,
   "metadata": {},
   "outputs": [],
   "source": [
    "{\n",
    "    Base * a = new Base;\n",
    "    Derived * b = static_cast<Derived*>(a);\n",
    "}"
   ]
  },
  {
   "cell_type": "markdown",
   "metadata": {},
   "source": [
    "- Convert from void* to any pointer type. In this case, it guarantees that if the void* value was obtained by converting from that same pointer type, the resulting pointer value is the same.\n",
    "- Convert integers, floating-point values and enum types to enum types.\n",
    "\n",
    "\n",
    "- Explicitly call a single-argument constructor or a conversion operator.\n",
    "- Convert to rvalue references.\n",
    "- Convert enum class values into integers or floating-point values.\n",
    "- Convert any type to void, evaluating and discarding the value."
   ]
  },
  {
   "cell_type": "markdown",
   "metadata": {},
   "source": [
    "### The rule is:\n",
    "\n",
    "- Use static_cast when you know that the target type is valid.\n",
    "- Use dynamic_cast when you're not sure, and you need the program to look up the object's runtime type for you."
   ]
  },
  {
   "cell_type": "markdown",
   "metadata": {},
   "source": [
    "# Object Slicing"
   ]
  },
  {
   "cell_type": "markdown",
   "metadata": {},
   "source": [
    "When using casts, remember to use pointers, otherwise object slicing will occur. \n",
    "\n",
    "https://stackoverflow.com/a/36370071  \n",
    "https://stackoverflow.com/a/274636"
   ]
  },
  {
   "cell_type": "code",
   "execution_count": 4,
   "metadata": {},
   "outputs": [],
   "source": [
    "#include <string>\n",
    "#include <vector>\n",
    "#include <iostream>\n",
    "using namespace std;\n",
    "class A {\n",
    "public:\n",
    "  virtual const string f() const { return \"A\"; }\n",
    "};\n",
    "class B : public A {\n",
    "public:\n",
    "  const string f() const { return \"B\"; }\n",
    "};"
   ]
  },
  {
   "cell_type": "code",
   "execution_count": 5,
   "metadata": {},
   "outputs": [
    {
     "name": "stdout",
     "output_type": "stream",
     "text": [
      "A\n"
     ]
    }
   ],
   "source": [
    "{\n",
    "    vector<A> v;\n",
    "    v.push_back(B());\n",
    "    cout << v.at(0).f() << endl;\n",
    "}"
   ]
  },
  {
   "cell_type": "markdown",
   "metadata": {},
   "source": [
    "Method expects an A object (not a pointer), so it slices off anything that is not an A. To prevent this, use pointers:"
   ]
  },
  {
   "cell_type": "code",
   "execution_count": 6,
   "metadata": {},
   "outputs": [
    {
     "name": "stdout",
     "output_type": "stream",
     "text": [
      "B\n"
     ]
    }
   ],
   "source": [
    "{\n",
    "    vector<A*> v;\n",
    "    v.push_back(new B());\n",
    "    cout << v.at(0)->f() << endl;\n",
    "}"
   ]
  },
  {
   "cell_type": "markdown",
   "metadata": {},
   "source": [
    "**`static_cast<Type>(object)`** -> copy constructor is called, new object is created (pretend as if C-style cast was used, it would create a new object)  \n",
    "**`static_cast<Type*>(&object)`** -> one good boi"
   ]
  },
  {
   "cell_type": "markdown",
   "metadata": {},
   "source": [
    "# reinterpret_cast"
   ]
  },
  {
   "cell_type": "markdown",
   "metadata": {},
   "source": [
    "Binary **copy** of one type to another  \n",
    "\n",
    "The only guarantee is that a pointer cast to an integer type (for ex.) large enough to fully contain it (such as intptr_t), is guaranteed to be able to be cast back to a valid pointer."
   ]
  },
  {
   "cell_type": "markdown",
   "metadata": {},
   "source": [
    "# const_cast"
   ]
  },
  {
   "cell_type": "code",
   "execution_count": null,
   "metadata": {},
   "outputs": [],
   "source": [
    "// const_cast\n",
    "#include <iostream>\n",
    "using namespace std;\n",
    "\n",
    "void print (char * str)\n",
    "{\n",
    "  cout << str << '\\n';\n",
    "}\n",
    "\n",
    "int main () {\n",
    "  const char * c = \"sample text\";\n",
    "  print ( const_cast<char *> (c) );\n",
    "  return 0;\n",
    "}"
   ]
  },
  {
   "cell_type": "markdown",
   "metadata": {},
   "source": [
    "Can remove or set const  \n",
    "Can remove const from non-const value and be modified, if it was originally const, then modifying will result in undefined behavior"
   ]
  },
  {
   "cell_type": "markdown",
   "metadata": {},
   "source": [
    "# typeid"
   ]
  },
  {
   "cell_type": "markdown",
   "metadata": {},
   "source": [
    "`#include <typeinfo>`\n",
    "\n",
    "- i: integer\n",
    "- Pi: pointer to integer variable\n",
    "- Ppi: pointer to a pointer to integer variable"
   ]
  },
  {
   "cell_type": "code",
   "execution_count": 2,
   "metadata": {},
   "outputs": [
    {
     "name": "stdout",
     "output_type": "stream",
     "text": [
      "a and b are of different types:\n",
      "a is: Pi\n",
      "b is: i\n"
     ]
    }
   ],
   "source": [
    "#include <iostream>\n",
    "#include <typeinfo>\n",
    "\n",
    "{\n",
    "    // typeid\n",
    "    using namespace std;\n",
    "\n",
    "    int* a,b;\n",
    "    a=0; b=0;\n",
    "    if (typeid(a) != typeid(b))\n",
    "    {\n",
    "        cout << \"a and b are of different types:\\n\";\n",
    "        cout << \"a is: \" << typeid(a).name() << '\\n';\n",
    "        cout << \"b is: \" << typeid(b).name() << '\\n';\n",
    "    }\n",
    "}"
   ]
  },
  {
   "cell_type": "code",
   "execution_count": 3,
   "metadata": {},
   "outputs": [],
   "source": [
    "// typeid, polymorphic class\n",
    "class Base { virtual void f(){} };\n",
    "class Derived : public Base {};"
   ]
  },
  {
   "cell_type": "code",
   "execution_count": 4,
   "metadata": {},
   "outputs": [
    {
     "name": "stdout",
     "output_type": "stream",
     "text": [
      "a is: P4Base\n",
      "b is: P4Base\n",
      "*a is: 4Base\n",
      "*b is: 7Derived\n"
     ]
    },
    {
     "data": {
      "text/plain": [
       "0"
      ]
     },
     "execution_count": 4,
     "metadata": {},
     "output_type": "execute_result"
    }
   ],
   "source": [
    "#include <iostream>\n",
    "#include <typeinfo>\n",
    "#include <exception>\n",
    "\n",
    "{\n",
    "using namespace std;\n",
    "\n",
    "  try {\n",
    "    Base* a = new Base;\n",
    "    Base* b = new Derived;\n",
    "    cout << \"a is: \" << typeid(a).name() << '\\n';\n",
    "    cout << \"b is: \" << typeid(b).name() << '\\n';\n",
    "    cout << \"*a is: \" << typeid(*a).name() << '\\n';\n",
    "    cout << \"*b is: \" << typeid(*b).name() << '\\n';\n",
    "  } catch (exception& e) { cout << \"Exception: \" << e.what() << '\\n'; }\n",
    "  return 0;\n",
    "}"
   ]
  },
  {
   "cell_type": "code",
   "execution_count": null,
   "metadata": {},
   "outputs": [],
   "source": []
  }
 ],
 "metadata": {
  "kernelspec": {
   "display_name": "C++11",
   "language": "C++11",
   "name": "xeus-cling-cpp11"
  },
  "language_info": {
   "codemirror_mode": "text/x-c++src",
   "file_extension": ".cpp",
   "mimetype": "text/x-c++src",
   "name": "c++",
   "version": "-std=c++11"
  }
 },
 "nbformat": 4,
 "nbformat_minor": 2
}
