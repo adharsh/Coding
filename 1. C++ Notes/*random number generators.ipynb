{
 "cells": [
  {
   "cell_type": "markdown",
   "metadata": {},
   "source": [
    "https://stackoverflow.com/questions/38290723/random-device-vs-default-random-engine"
   ]
  },
  {
   "cell_type": "raw",
   "metadata": {},
   "source": [
    "void RandomSampling(int k, std::vector<int>& A)\n",
    "{\n",
    "    std::default_random_engine gen(std::random_device{}());\n",
    "    \n",
    "    //Fisher yates shuffle algorithm\n",
    "    //notice how we're swappig A[i] with A[ [i, A.size() - 1](inclusive) ]\n",
    "    //the same element has the chance to stay where it is\n",
    "    //but can't be swapped with elements before i\n",
    "    \n",
    "    for(int i = 0; i < k; i++)\n",
    "        std::swap(A[i], std::uniform_int_distribution<int>{i, static_cast<int>(A.size())-1}(gen));\n",
    "    //preferred: std::static_cast<int>(A.size())\n",
    "}"
   ]
  },
  {
   "cell_type": "code",
   "execution_count": 1,
   "metadata": {},
   "outputs": [
    {
     "name": "stdout",
     "output_type": "stream",
     "text": [
      "2\n",
      "2.87767\n",
      "0.499747\n",
      "16\n"
     ]
    }
   ],
   "source": [
    "#include <random>\n",
    "#include <ctime>\n",
    "#include <iostream>\n",
    "\n",
    "{\n",
    "    // When you create a number, you always want to pass in a generator\n",
    "//     std::random_device() conceptually produces truly random numbers\n",
    "    \n",
    "    \n",
    "    //**why is (std::random_device())() the same as std::random_device{}()\n",
    "    //look at implementation code\n",
    "    std::default_random_engine gen(std::random_device{}());\n",
    "    std::mt19937 gen_2(42);\n",
    "    \n",
    "    std::uniform_int_distribution<int> dis1(1, 5); //ranges are inclusive\n",
    "    std::cout << dis1(gen) << \"\\n\";\n",
    "\n",
    "    std::uniform_real_distribution<double> dis2(2.71, 3.14);\n",
    "    std::cout << dis2(gen) << \"\\n\";\n",
    "\n",
    "    //10 bits of randomness\n",
    "    std::cout << std::generate_canonical<double, 10>(gen) << \"\\n\"; //[0, 1)\n",
    "\n",
    "    srand(42);\n",
    "    std::cout << rand() % 50 << \"\\n\";\n",
    "    \n",
    "    //below is possible\n",
    "    //std::cout << std::generate_canonical<double, 10>(std::mt19937(42)) << \"\\n\";\n",
    "    //std::cout << dist1(std::mt19937(42)) << std::endl;\n",
    "    //dist1 has () operator overloaded, so can't chain together further than above\n",
    "    //because first time parenthesis is used, constructor is called\n",
    "    //second time parenthesis is used, operator overload is called\n",
    "    //and constructor has no implementation for mt19937 engine\n",
    "    \n",
    "}"
   ]
  },
  {
   "cell_type": "code",
   "execution_count": 7,
   "metadata": {},
   "outputs": [
    {
     "data": {
      "text/plain": [
       "1595214790"
      ]
     },
     "execution_count": 7,
     "metadata": {},
     "output_type": "execute_result"
    }
   ],
   "source": [
    "#import <math.h>\n",
    "\n",
    "rand()"
   ]
  }
 ],
 "metadata": {
  "kernelspec": {
   "display_name": "C++11",
   "language": "C++11",
   "name": "xeus-cling-cpp11"
  },
  "language_info": {
   "codemirror_mode": "text/x-c++src",
   "file_extension": ".cpp",
   "mimetype": "text/x-c++src",
   "name": "c++",
   "version": "-std=c++11"
  }
 },
 "nbformat": 4,
 "nbformat_minor": 2
}
