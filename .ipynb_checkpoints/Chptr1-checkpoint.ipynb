{
 "cells": [
  {
   "cell_type": "markdown",
   "metadata": {},
   "source": [
    "# Chapter 1"
   ]
  },
  {
   "cell_type": "markdown",
   "metadata": {},
   "source": [
    "Counting the number of bits in a number"
   ]
  },
  {
   "cell_type": "code",
   "execution_count": 1,
   "metadata": {},
   "outputs": [],
   "source": [
    "#include <iostream>\n",
    "\n",
    "short countBits(unsigned long x)\n",
    "{\n",
    "    int num = 0;\n",
    "    \n",
    "    while(x)\n",
    "    {\n",
    "        num += x & 1;\n",
    "        x >>= 1;\n",
    "    }\n",
    "    return num;\n",
    "}"
   ]
  },
  {
   "cell_type": "code",
   "execution_count": 2,
   "metadata": {},
   "outputs": [
    {
     "data": {
      "text/plain": [
       "4"
      ]
     },
     "execution_count": 2,
     "metadata": {},
     "output_type": "execute_result"
    }
   ],
   "source": [
    "countBits(0b11010001)"
   ]
  },
  {
   "cell_type": "markdown",
   "metadata": {},
   "source": [
    "## C++ Notes:"
   ]
  },
  {
   "cell_type": "code",
   "execution_count": 3,
   "metadata": {},
   "outputs": [
    {
     "name": "stdout",
     "output_type": "stream",
     "text": [
      "9\n",
      "239\n",
      "2345\n",
      "2\n",
      "3.11881\n",
      "0.183435\n",
      "16\n",
      "2, 1\n"
     ]
    }
   ],
   "source": [
    "#include <iostream>\n",
    "\n",
    "std::numeric_limits<int>::min();\n",
    "std::numeric_limits<float>::max();\n",
    "\n",
    "std::abs(-34);\n",
    "std::fabs(-3.14); \n",
    "std::ceil(2.17);\n",
    "std::floor(3.14); \n",
    "std::min(-10, -4);\n",
    "std::max(3.14, 3.15);\n",
    "std::pow(2.71, 3.14);\n",
    "std::log(7.12);\n",
    "std::sqrt(225);\n",
    "\n",
    "std::cout << '9' - '0' << \"\\n\";;\n",
    "std::cout << std::stoi(\"234\") + 5 << \"\\n\";\n",
    "std::cout << std::to_string(234) + \"5\" << \"\\n\";\n",
    "\n",
    "\n",
    "#include <random>\n",
    "\n",
    "// When you create a number, you always want to pass in a generator\n",
    "std::mt19937 gen(42);\n",
    "std::uniform_int_distribution<int> dis1(1, 5);\n",
    "std::cout << dis1(gen) << \"\\n\";\n",
    "\n",
    "std::uniform_real_distribution<double> dis2(2.71, 3.14);\n",
    "std::cout << dis2(gen) << \"\\n\";\n",
    "\n",
    "std::cout << std::generate_canonical<double, 10>(gen) << \"\\n\";\n",
    "\n",
    "srand(42);\n",
    "std::cout << rand() % 50 << \"\\n\";\n",
    "\n",
    "std::vector<int> A = {1,2};\n",
    "std::swap(A[0], A[1]);\n",
    "std::cout << A[0] << \", \" << A[1] << \"\\n\";"
   ]
  },
  {
   "cell_type": "markdown",
   "metadata": {},
   "source": [
    "# Parity"
   ]
  },
  {
   "cell_type": "code",
   "execution_count": 4,
   "metadata": {},
   "outputs": [],
   "source": [
    "// Brute force approach, isOdd number of 1's?\n",
    "// O(n)\n",
    "bool parity1(unsigned long x)\n",
    "{\n",
    "    bool result = 0;\n",
    "    \n",
    "    while(x)\n",
    "    {\n",
    "        result ^= x & 1;\n",
    "        x >>= 1;\n",
    "    }\n",
    "    \n",
    "    return result;\n",
    "}"
   ]
  },
  {
   "cell_type": "code",
   "execution_count": 5,
   "metadata": {},
   "outputs": [
    {
     "data": {
      "text/plain": [
       "true"
      ]
     },
     "execution_count": 5,
     "metadata": {},
     "output_type": "execute_result"
    }
   ],
   "source": [
    "parity1(0b1101)"
   ]
  },
  {
   "cell_type": "code",
   "execution_count": 6,
   "metadata": {},
   "outputs": [],
   "source": [
    "// A little faster -> O(k) where k is number of 1's\n",
    "// Better for best and average case, same for worst case\n",
    "\n",
    "bool parity2(unsigned long x)\n",
    "{\n",
    "    bool result = 0;\n",
    "    \n",
    "    while(x)\n",
    "    {\n",
    "        result ^= 1;\n",
    "        x = x & (x - 1);\n",
    "    }\n",
    "    \n",
    "    return result;\n",
    "}"
   ]
  },
  {
   "cell_type": "code",
   "execution_count": 7,
   "metadata": {},
   "outputs": [
    {
     "data": {
      "text/plain": [
       "true"
      ]
     },
     "execution_count": 7,
     "metadata": {},
     "output_type": "execute_result"
    }
   ],
   "source": [
    "parity2(0b110010)"
   ]
  },
  {
   "cell_type": "markdown",
   "metadata": {},
   "source": [
    "Since long is 8 bytes and we're splitting this into four pieces:  \n",
    "8 * 8 = 64 -> 64 / 4 = 16 bits for each piece  \n",
    "shift value by 3 * 16 bits to only get the first big chuck of the value  \n",
    "This chunk is 2 bytes -> 0xFF is one byte -> 0xFFFF is two bytes\n",
    "\n",
    "2 * 16 bits shift -> resulting comparison is with 4 bytes of data\n",
    "Must mask wtih 0xFFFF to zero out the leading 2 bytes  \n",
    "Repeat process for everything else\n"
   ]
  },
  {
   "cell_type": "raw",
   "metadata": {},
   "source": [
    "short parity3(unsigned long x) \n",
    "{\n",
    "    const int kMaskSize = 16;\n",
    "    const int kBitMask = 0xFFFF;\n",
    "    precomputed_parity [x & kBitMask ] ^\n",
    "    precomputed_parity [(x >> kMaskSize ) & kBitMask] ^\n",
    "    precomputed_parity [(x >> (2 * kMaskSize )) & kBitMask] ^\n",
    "    return precomputed_parity [x >> (3 * kMaskSize )];\n",
    "}"
   ]
  },
  {
   "cell_type": "code",
   "execution_count": 1,
   "metadata": {},
   "outputs": [],
   "source": [
    "// Just xor multiple values at the same time ->O(log_2(n))\n",
    "// long is 8 bytes, int is 4 byte, short is 2 bytes, char is 1 byte, void * -> 64 bit system is 64 bits or 8 bytes and 32 bit system is 32 bits or 4 bytes\n",
    "\n",
    "short parity3(unsigned long x)\n",
    "{\n",
    "    x ^= x >> 32; \n",
    "    x ^= x >> 16; \n",
    "    x ^= x >> 8; \n",
    "    x ^= x >> 4; \n",
    "    x ^= x >> 2; \n",
    "    x ^= x >> 1; \n",
    "    return x & 1;\n",
    "}"
   ]
  },
  {
   "cell_type": "code",
   "execution_count": 9,
   "metadata": {
    "scrolled": true
   },
   "outputs": [
    {
     "data": {
      "text/plain": [
       "1"
      ]
     },
     "execution_count": 9,
     "metadata": {},
     "output_type": "execute_result"
    }
   ],
   "source": [
    "parity3(0b110010)"
   ]
  }
 ],
 "metadata": {
  "kernelspec": {
   "display_name": "C++11",
   "language": "C++11",
   "name": "xeus-cling-cpp11"
  },
  "language_info": {
   "codemirror_mode": "text/x-c++src",
   "file_extension": ".cpp",
   "mimetype": "text/x-c++src",
   "name": "c++",
   "version": "-std=c++11"
  }
 },
 "nbformat": 4,
 "nbformat_minor": 2
}
