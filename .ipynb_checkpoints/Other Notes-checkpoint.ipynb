{
 "cells": [
  {
   "cell_type": "markdown",
   "metadata": {},
   "source": [
    "# Other Notes"
   ]
  },
  {
   "cell_type": "markdown",
   "metadata": {},
   "source": [
    "byte -  1 byte  \n",
    "char - 1 byte  \n",
    "short - 2 bytes  \n",
    "int - 4 bytes  \n",
    "pointers - 4/8 bytes  \n",
    "long - 8 bytes  "
   ]
  },
  {
   "cell_type": "raw",
   "metadata": {},
   "source": [
    "Little Endian - least significant byte of the data has the lowest address  \n",
    "    -> when you do manual addition, you start from the end of the number to the beginning, same thing  \n",
    "Big Endian - most significant byte of the data has the lowest address"
   ]
  },
  {
   "cell_type": "code",
   "execution_count": 1,
   "metadata": {},
   "outputs": [],
   "source": [
    "int rowCount = 5, colCount = 6;\n",
    "int** a = new int*[rowCount]; \n",
    "for(int i = 0; i < rowCount; ++i) \n",
    "     a[i] = new int[colCount];"
   ]
  },
  {
   "cell_type": "markdown",
   "metadata": {},
   "source": [
    "Examples of Container Classes:  \n",
    "http://www.cplusplus.com/reference/stl/  \n",
    "vector, array, deque, stack, queue, set, map  \n"
   ]
  },
  {
   "cell_type": "markdown",
   "metadata": {},
   "source": [
    "Can template c++: http://www.cplusplus.com/doc/oldtutorial/templates/  \n",
    "Template specialization is for specific explicit cases for a specific type  "
   ]
  },
  {
   "cell_type": "code",
   "execution_count": 2,
   "metadata": {},
   "outputs": [],
   "source": [
    "#include <iostream> \n",
    "   \n",
    "template <class T> \n",
    "void fun(T a) \n",
    "{ \n",
    "  std::cout << \"The main template fun(): \" \n",
    "        << a << std::endl; \n",
    "} \n",
    "  \n",
    "template<> \n",
    "void fun(int a) \n",
    "{ \n",
    "    std::cout << \"Specialized Template for int type: \"\n",
    "         << a << std::endl; \n",
    "} "
   ]
  },
  {
   "cell_type": "code",
   "execution_count": 3,
   "metadata": {},
   "outputs": [
    {
     "name": "stdout",
     "output_type": "stream",
     "text": [
      "The main template fun(): a\n",
      "Specialized Template for int type: 10\n",
      "The main template fun(): 10.14\n"
     ]
    }
   ],
   "source": [
    "fun<char>('a'); \n",
    "fun<int>(10); \n",
    "fun<float>(10.14); "
   ]
  },
  {
   "cell_type": "markdown",
   "metadata": {},
   "source": [
    "https://www.quantstart.com/articles/Function-Objects-Functors-in-C-Part-1  \n",
    "Function pointer practice  \n",
    "Function objects "
   ]
  },
  {
   "cell_type": "markdown",
   "metadata": {},
   "source": [
    "Pointers:"
   ]
  },
  {
   "cell_type": "code",
   "execution_count": 4,
   "metadata": {},
   "outputs": [
    {
     "name": "stdout",
     "output_type": "stream",
     "text": [
      "x=1234\t\t&x=0x7f2112a70038\n",
      "*p=1234\t\tp=0x7f2112a70038\t&p=0x7f2112a70040\n",
      "**pp=1234\t\t*pp=0x7f2112a70038\tpp=0x7f2112a70040\t&pp=0x7f2112a70048\n",
      "***ppp=1234\t**ppp=0x7f2112a70038\t*ppp=0x7f2112a70040\tppp=0x7f2112a70048\t&ppp=0x7f2112a70050\n"
     ]
    }
   ],
   "source": [
    "int x = 5;\n",
    "int* p = &x;\n",
    "int** pp = &p;\n",
    "int*** ppp = &pp;\n",
    "\n",
    "std::cout << \"x=\" << x << \"\\t\\t&x=\" << &x << std::endl;\n",
    "std::cout << \"*p=\" << *p << \"\\t\\tp=\" << p << \"\\t&p=\" << &p  << std::endl;\n",
    "std::cout << \"**pp=\" << **pp << \"\\t\\t*pp=\" << *pp << \"\\tpp=\" << pp << \"\\t&pp=\" << &pp << std::endl;\n",
    "std::cout << \"***ppp=\" << ***ppp << \"\\t**ppp=\" << **ppp << \"\\t*ppp=\" << *ppp << \"\\tppp=\" << ppp << \"\\t&ppp=\" << &ppp << std::endl;"
   ]
  },
  {
   "cell_type": "code",
   "execution_count": null,
   "metadata": {},
   "outputs": [],
   "source": []
  }
 ],
 "metadata": {
  "kernelspec": {
   "display_name": "C++11",
   "language": "C++11",
   "name": "xeus-cling-cpp11"
  },
  "language_info": {
   "codemirror_mode": "text/x-c++src",
   "file_extension": ".cpp",
   "mimetype": "text/x-c++src",
   "name": "c++",
   "version": "-std=c++11"
  }
 },
 "nbformat": 4,
 "nbformat_minor": 2
}
