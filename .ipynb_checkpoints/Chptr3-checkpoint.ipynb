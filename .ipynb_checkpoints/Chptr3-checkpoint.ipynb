{
 "cells": [
  {
   "cell_type": "code",
   "execution_count": 1,
   "metadata": {},
   "outputs": [],
   "source": [
    "#include <iostream>\n",
    "#include <string>\n",
    "\n",
    "bool isPalindrome(const std::string s)\n",
    "{\n",
    "    for(int i = 0, j = s.size() - 1; i < j; i++, j--)\n",
    "        if(s[i] != s[j])\n",
    "            return false;\n",
    "    return true;\n",
    "}"
   ]
  },
  {
   "cell_type": "code",
   "execution_count": 2,
   "metadata": {},
   "outputs": [
    {
     "data": {
      "text/plain": [
       "true"
      ]
     },
     "execution_count": 2,
     "metadata": {},
     "output_type": "execute_result"
    }
   ],
   "source": [
    "isPalindrome(\"racecar\")"
   ]
  },
  {
   "cell_type": "markdown",
   "metadata": {},
   "source": [
    "C++ Strings Notes"
   ]
  },
  {
   "cell_type": "code",
   "execution_count": 3,
   "metadata": {},
   "outputs": [
    {
     "name": "stdout",
     "output_type": "stream",
     "text": [
      "abc\n",
      "abcdef\n",
      "abcGauss\n",
      "abcGaussP\n",
      "abcGauss\n",
      "abcG...auss\n",
      "abcG....auss\n",
      "256\n",
      "-234\n",
      "-234\n"
     ]
    }
   ],
   "source": [
    "std::string s = \"abc\";\n",
    "std::cout << s << std::endl;\n",
    "\n",
    "std::cout << s + \"def\"<< std::endl;\n",
    "\n",
    "std::cout << s.append(\"Gauss\") << std::endl; //in-place\n",
    "\n",
    "s.push_back('P'); //in-place\n",
    "std::cout << s << std::endl; \n",
    "\n",
    "s.pop_back(); //in-place\n",
    "std::cout << s << std::endl; \n",
    "\n",
    "s.insert(4, \"...\"); //in-place\n",
    "std::cout << s << std::endl; \n",
    "\n",
    "s.insert(4, std::string(\"...\").substr(2)); //in-place\n",
    "std::cout << s << std::endl; \n",
    "\n",
    "//x.compare(y) -> \n",
    "    //0 -> equal\n",
    "    //<0 -> x < y lexonically first characters\n",
    "    //>0 -> x > y\n",
    "std::cout << std::string(\"abce\").compare(std::string(\"abcd\")) << std::endl; //1\n",
    "\n",
    "std::cout << std::stoi(\"-234\") << std::endl;\n",
    "std::cout << std::to_string(-234) << std::endl;"
   ]
  },
  {
   "cell_type": "markdown",
   "metadata": {},
   "source": [
    "# Reverse words in a sentence"
   ]
  },
  {
   "cell_type": "code",
   "execution_count": 4,
   "metadata": {},
   "outputs": [],
   "source": [
    "std::string reverse_sentence(const std::string s)\n",
    "{\n",
    "    std::string a = \"\";\n",
    "    \n",
    "    unsigned int pos = 0;\n",
    "    for(unsigned int i = 0; i < s.size(); i++)\n",
    "    {\n",
    "        if(s[i] == ' ')\n",
    "        {\n",
    "            pos = i;\n",
    "            a.insert(pos++, 1, ' ');\n",
    "        } else {\n",
    "            a.insert(pos, 1, s[i]);\n",
    "        }\n",
    "    }\n",
    "    return a;\n",
    "}"
   ]
  },
  {
   "cell_type": "code",
   "execution_count": 5,
   "metadata": {},
   "outputs": [
    {
     "data": {
      "text/plain": [
       "\"dcba ihgfe nmlkj\""
      ]
     },
     "execution_count": 5,
     "metadata": {},
     "output_type": "execute_result"
    }
   ],
   "source": [
    "reverse_sentence(\"abcd efghi jklmn\")"
   ]
  },
  {
   "cell_type": "code",
   "execution_count": 6,
   "metadata": {},
   "outputs": [
    {
     "data": {
      "text/plain": [
       "\"nmlkj ihgfe dcba\""
      ]
     },
     "execution_count": 6,
     "metadata": {},
     "output_type": "execute_result"
    }
   ],
   "source": [
    "std::string a = \"abcd efghi jklmn\";\n",
    "reverse(a.begin(), a.end());\n",
    "a"
   ]
  },
  {
   "cell_type": "markdown",
   "metadata": {},
   "source": [
    "# string_to_int method"
   ]
  },
  {
   "cell_type": "code",
   "execution_count": 7,
   "metadata": {},
   "outputs": [],
   "source": [
    "int string_to_int(const std::string s)\n",
    "{\n",
    "    int n = 0;\n",
    "    \n",
    "    for(unsigned int i = (s[0] == '-')? 1 : 0; i < s.size(); i++)\n",
    "    {\n",
    "        n += n*10 + s[i] - '0';\n",
    "    }\n",
    "    \n",
    "    return (s[0] == '-')? -n : n;\n",
    "}"
   ]
  },
  {
   "cell_type": "markdown",
   "metadata": {},
   "source": [
    "# int_to_string method"
   ]
  },
  {
   "cell_type": "code",
   "execution_count": 8,
   "metadata": {},
   "outputs": [],
   "source": [
    "#include <algorithm>\n",
    "\n",
    "std::string int_to_string(int x)\n",
    "{\n",
    "    if(!x) return std::string(\"0\");\n",
    "    \n",
    "    std::string n = \"\";    \n",
    "    bool isNeg = x < 0;\n",
    "    \n",
    "    while(x)\n",
    "    {\n",
    "        //adds at the end of the string\n",
    "        //n +='0' + std::abs(x % 10);\n",
    "//         n = n + (char)('0' + std::abs(x % 10));\n",
    "        n = (char)('0' + std::abs(x % 10)) + n;\n",
    "        x /= 10;\n",
    "    }\n",
    "    \n",
    "    if(isNeg) n = '-' + n;\n",
    "    \n",
    "//     reverse(n.begin(), n.end());\n",
    "    return n;\n",
    "}"
   ]
  },
  {
   "cell_type": "code",
   "execution_count": 9,
   "metadata": {},
   "outputs": [
    {
     "data": {
      "text/plain": [
       "\"-23\""
      ]
     },
     "execution_count": 9,
     "metadata": {},
     "output_type": "execute_result"
    }
   ],
   "source": [
    "int_to_string(-23)"
   ]
  },
  {
   "cell_type": "code",
   "execution_count": null,
   "metadata": {},
   "outputs": [],
   "source": []
  }
 ],
 "metadata": {
  "kernelspec": {
   "display_name": "C++11",
   "language": "C++11",
   "name": "xeus-cling-cpp11"
  },
  "language_info": {
   "codemirror_mode": "text/x-c++src",
   "file_extension": ".cpp",
   "mimetype": "text/x-c++src",
   "name": "c++",
   "version": "-std=c++11"
  }
 },
 "nbformat": 4,
 "nbformat_minor": 2
}
