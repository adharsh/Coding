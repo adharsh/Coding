{
 "cells": [
  {
   "cell_type": "markdown",
   "metadata": {},
   "source": [
    "# Even Odd Partition Array"
   ]
  },
  {
   "cell_type": "code",
   "execution_count": 1,
   "metadata": {},
   "outputs": [],
   "source": [
    "#include <iostream>\n",
    "#include <algorithm>\n",
    "\n",
    "void even_odd(std::vector<int>& A)\n",
    "{\n",
    "    unsigned int i = 0, l = 0, r = A.size()-1;\n",
    "    \n",
    "    while(i <= r)\n",
    "    {\n",
    "        if(A[i] % 2 == 0)\n",
    "        {\n",
    "            l++; \n",
    "            i++;\n",
    "        } else {\n",
    "            std::swap(A[i], A[r--]);\n",
    "        }\n",
    "    }\n",
    "}"
   ]
  },
  {
   "cell_type": "code",
   "execution_count": 2,
   "metadata": {},
   "outputs": [
    {
     "data": {
      "text/plain": [
       "{ 8, 2, 6, 4, 5, 7, 3, 1 }"
      ]
     },
     "execution_count": 2,
     "metadata": {},
     "output_type": "execute_result"
    }
   ],
   "source": [
    "std::vector<int> A = {1,2,3,4,5,6,7,8};\n",
    "even_odd(A);\n",
    "A    "
   ]
  },
  {
   "cell_type": "code",
   "execution_count": 3,
   "metadata": {},
   "outputs": [
    {
     "name": "stdout",
     "output_type": "stream",
     "text": [
      "8 2 6 4 5 7 3 1 "
     ]
    }
   ],
   "source": [
    "//Other ways to iterate through an array:\n",
    "\n",
    "for(std::vector<int>::iterator ptr = A.begin(); ptr != A.end(); ptr++)\n",
    "    std::cout << *ptr << \" \";"
   ]
  },
  {
   "cell_type": "markdown",
   "metadata": {},
   "source": [
    "# C++ Tips"
   ]
  },
  {
   "cell_type": "code",
   "execution_count": 4,
   "metadata": {},
   "outputs": [
    {
     "name": "stdout",
     "output_type": "stream",
     "text": [
      "3 4 \n",
      "{1,2} {3,4} {5,6} \n",
      "1 2 3 4 \n",
      "432 435 33425 "
     ]
    }
   ],
   "source": [
    "std::vector<int> vec1 = {1, 2, 3, 4}; //Initialization\n",
    "std::vector<std::vector<int>> vec2 = {{1, 2}, {3, 4}}; //Initialization\n",
    "\n",
    "//Also std::array:\n",
    "std::array<int, 3> a = {1, 2, 3};\n",
    "\n",
    "int i = 2, j = 4;\n",
    "std::vector<int> sub_vec(vec1.begin() + i, vec1.begin() + j);\n",
    "for(auto ptr = sub_vec.begin(); ptr != sub_vec.end(); ptr++)\n",
    "    std::cout << *ptr << \" \";\n",
    "std::cout << \"\\n\";\n",
    "\n",
    "vec2.push_back({5,6});\n",
    "for(auto ptr = vec2.begin(); ptr != vec2.end(); ptr++)\n",
    "    std::cout << \"{\" << (*ptr)[0] << \",\" << (*ptr)[1] << \"} \";\n",
    "std::cout << \"\\n\";\n",
    "\n",
    "//Deep copy \n",
    "std::vector<int> vec3(vec1);\n",
    "for(auto ptr = vec3.begin(); ptr != vec3.end(); ptr++)\n",
    "    std::cout << *ptr << \" \";\n",
    "std::cout << \"\\n\";\n",
    "\n",
    "//Get familiar with these methods\n",
    "/*\n",
    "binary_search(A.begin(), A.end(), 42)\n",
    "lower_bound(A.begin(), A.end(), 42);\n",
    "upper_bound(A.begin(), A.end(), 42); \n",
    "fill(A.begin(), A.end(), 42);\n",
    "min_element(A.begin(), A.end());\n",
    "max_element(A.begin(), A.end());\n",
    "reverse(A.begin(), A.end());\n",
    "shift = 5; rotate(A.begin(), A.begin() + shift, A.end());\n",
    "\n",
    "\n",
    "sort(A.begin(), A.end()); \n",
    "    can pass in a function with signature -> bool func(T a, T b)\n",
    "    can pass in lambda as third parameter, Ex: [](int a, int b) {return a > b; }\n",
    "    \n",
    "\n",
    "*/\n",
    "\n",
    "std::vector<int> C = {432, 435, 33425};\n",
    "\n",
    "for(int a : C)\n",
    "{\n",
    "    std::cout << a << \" \";\n",
    "}"
   ]
  },
  {
   "cell_type": "code",
   "execution_count": null,
   "metadata": {},
   "outputs": [],
   "source": []
  }
 ],
 "metadata": {
  "kernelspec": {
   "display_name": "C++11",
   "language": "C++11",
   "name": "xeus-cling-cpp11"
  },
  "language_info": {
   "codemirror_mode": "text/x-c++src",
   "file_extension": ".cpp",
   "mimetype": "text/x-c++src",
   "name": "c++",
   "version": "-std=c++11"
  }
 },
 "nbformat": 4,
 "nbformat_minor": 2
}
