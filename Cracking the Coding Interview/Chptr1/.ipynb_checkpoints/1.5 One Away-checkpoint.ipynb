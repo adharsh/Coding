{
 "cells": [
  {
   "cell_type": "code",
   "execution_count": 1,
   "metadata": {},
   "outputs": [],
   "source": [
    "#include <string>\n",
    "#include <iostream>\n",
    "#include <cmath>\n",
    "\n",
    "bool oneAway(const std::string& s1, const std::string& s2)\n",
    "{\n",
    "    int map[128] = { 0 };\n",
    "\n",
    "    for (char c : s1)\n",
    "        map[c]++;\n",
    "\n",
    "    for (char c : s2)\n",
    "        map[c]--;\n",
    "\n",
    "    int sum_abs = 0;\n",
    "    int sum_ai = 0;\n",
    "    \n",
    "    for(int i : map)\n",
    "    {\n",
    "        sum_abs += std::abs(i);\n",
    "        sum_ai += i;\n",
    "    }\n",
    "    \n",
    "    if(sum_abs == 1)\n",
    "    {\n",
    "        if(sum_ai == -1 || sum_ai == 1)\n",
    "            return true;\n",
    "    } \n",
    "    else if(sum_abs == 2)\n",
    "    {\n",
    "        if(sum_ai == 0)\n",
    "            return true;\n",
    "    }\n",
    "    \n",
    "    return false;\n",
    "}"
   ]
  },
  {
   "cell_type": "code",
   "execution_count": 4,
   "metadata": {},
   "outputs": [
    {
     "name": "stdout",
     "output_type": "stream",
     "text": [
      "1\n",
      "1\n",
      "1\n",
      "0\n",
      "1\n"
     ]
    }
   ],
   "source": [
    "std::cout << oneAway(\"pale\", \"ple\") << std::endl;\n",
    "std::cout << oneAway(\"pales\", \"pale\") << std::endl;\n",
    "std::cout << oneAway(\"pale\", \"bale\") << std::endl;\n",
    "std::cout << oneAway(\"pale\", \"bake\") << std::endl;\n",
    "std::cout << oneAway(\"a\", \"b\") << std::endl;"
   ]
  },
  {
   "cell_type": "code",
   "execution_count": null,
   "metadata": {},
   "outputs": [],
   "source": []
  }
 ],
 "metadata": {
  "kernelspec": {
   "display_name": "C++17",
   "language": "C++17",
   "name": "xeus-cling-cpp17"
  },
  "language_info": {
   "codemirror_mode": "text/x-c++src",
   "file_extension": ".cpp",
   "mimetype": "text/x-c++src",
   "name": "c++",
   "version": "-std=c++17"
  }
 },
 "nbformat": 4,
 "nbformat_minor": 2
}
