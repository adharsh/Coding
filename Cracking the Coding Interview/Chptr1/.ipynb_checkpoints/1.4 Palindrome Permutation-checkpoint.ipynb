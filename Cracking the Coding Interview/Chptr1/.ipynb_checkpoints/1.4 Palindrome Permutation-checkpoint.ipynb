{
 "cells": [
  {
   "cell_type": "code",
   "execution_count": 1,
   "metadata": {},
   "outputs": [],
   "source": [
    "//is string a palindrome?\n",
    "#include <string>\n",
    "\n",
    "bool palindrome(const std::string& str)\n",
    "{\n",
    "    int map[128];\n",
    "    std::fill(map, map + 128, 0);\n",
    "    \n",
    "    for(const char& c : str)\n",
    "        if (c >= 'A' && c <= 'Z')\n",
    "            map[c - 'A' + 'a']++;\n",
    "        else if(  (c >= '0' && c <= '9') || (c >= 'a' && c <= 'z') )\n",
    "            map[c]++;\n",
    "    \n",
    "    for(int a : map)\n",
    "    {\n",
    "        static bool isMiddleFound = false;\n",
    "        if(a%2==1)\n",
    "        {\n",
    "            if(!isMiddleFound)\n",
    "                isMiddleFound = true;\n",
    "            else\n",
    "                return false;\n",
    "        }\n",
    "    }\n",
    "    \n",
    "    return true;\n",
    "}"
   ]
  },
  {
   "cell_type": "code",
   "execution_count": 2,
   "metadata": {},
   "outputs": [
    {
     "data": {
      "text/plain": [
       "true"
      ]
     },
     "execution_count": 2,
     "metadata": {},
     "output_type": "execute_result"
    }
   ],
   "source": [
    "palindrome(\"Tact Coa    \")"
   ]
  },
  {
   "cell_type": "code",
   "execution_count": 3,
   "metadata": {},
   "outputs": [
    {
     "name": "stdout",
     "output_type": "stream",
     "text": [
      "5\n",
      "5\n",
      "5\n",
      "-7\n",
      "-7\n",
      "-7\n"
     ]
    }
   ],
   "source": [
    "//btw for each loop references work\n",
    "#include <iostream>\n",
    "\n",
    "std::vector<int> a(3, 5);\n",
    "\n",
    "for (int i : a)\n",
    "{\n",
    "    static int t = 0;\n",
    "    i = -7;\n",
    "    std::cout << a[t] << std::endl;\n",
    "}\n",
    "\n",
    "for (int& i : a)\n",
    "{\n",
    "    static int t = 0;\n",
    "    i = -7;\n",
    "    std::cout << a[t] << std::endl;\n",
    "}"
   ]
  },
  {
   "cell_type": "code",
   "execution_count": null,
   "metadata": {},
   "outputs": [],
   "source": []
  }
 ],
 "metadata": {
  "kernelspec": {
   "display_name": "C++17",
   "language": "C++17",
   "name": "xeus-cling-cpp17"
  },
  "language_info": {
   "codemirror_mode": "text/x-c++src",
   "file_extension": ".cpp",
   "mimetype": "text/x-c++src",
   "name": "c++",
   "version": "-std=c++17"
  }
 },
 "nbformat": 4,
 "nbformat_minor": 2
}
