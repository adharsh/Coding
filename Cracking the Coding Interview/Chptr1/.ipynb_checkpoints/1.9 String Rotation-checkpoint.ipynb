{
 "cells": [
  {
   "cell_type": "markdown",
   "metadata": {},
   "source": [
    "String methods must know\n",
    "\n",
    "substr(beginning_index, number_of_characters)\n",
    "find(\"string\") -> returns index, -1 if not found\n",
    "I don't understand -> explain this: http://www.cplusplus.com/reference/string/string/npos/"
   ]
  },
  {
   "cell_type": "code",
   "execution_count": 1,
   "metadata": {},
   "outputs": [],
   "source": [
    "#include <iostream>\n",
    "#include <string>\n",
    "\n",
    "bool isRotation(const std::string& s1, const std::string& s2)\n",
    "{\n",
    "    if(s1.size() != s2.size()) return false;\n",
    "    \n",
    "    std::string tmp = s2 + s2;\n",
    "    return tmp.find(s1) != std::string::npos;\n",
    "}"
   ]
  },
  {
   "cell_type": "code",
   "execution_count": 2,
   "metadata": {},
   "outputs": [
    {
     "data": {
      "text/plain": [
       "true"
      ]
     },
     "execution_count": 2,
     "metadata": {},
     "output_type": "execute_result"
    }
   ],
   "source": [
    "isRotation(\"waterbottle\", \"waterbottle\")"
   ]
  },
  {
   "cell_type": "code",
   "execution_count": 3,
   "metadata": {},
   "outputs": [
    {
     "name": "stdout",
     "output_type": "stream",
     "text": [
      "0\n",
      "18446744073709551615\n"
     ]
    }
   ],
   "source": [
    "{\n",
    "    std::string a(\"sdfs\");\n",
    "\n",
    "    std::cout << a.find(\"sdfs\") << std::endl;\n",
    "    std::cout << std::string::npos << std::endl;\n",
    "}\n"
   ]
  },
  {
   "cell_type": "code",
   "execution_count": null,
   "metadata": {},
   "outputs": [],
   "source": []
  }
 ],
 "metadata": {
  "kernelspec": {
   "display_name": "C++11",
   "language": "C++11",
   "name": "xeus-cling-cpp11"
  },
  "language_info": {
   "codemirror_mode": "text/x-c++src",
   "file_extension": ".cpp",
   "mimetype": "text/x-c++src",
   "name": "c++",
   "version": "-std=c++11"
  }
 },
 "nbformat": 4,
 "nbformat_minor": 2
}
