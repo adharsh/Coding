{
 "cells": [
  {
   "cell_type": "code",
   "execution_count": 1,
   "metadata": {},
   "outputs": [],
   "source": [
    "//Stringbuilder equivalent is std::string -> std::string are immutable while java strings are immutable\n",
    "//if java -> StringBuilder a = new StringBuilder();\n",
    "// a.append(dsfsf);\n",
    "\n",
    "#include <string>\n",
    "\n",
    "std::string compress(const std::string& s)\n",
    "{\n",
    "    if(s.size() == 1) return s;\n",
    "    \n",
    "    std::string c = \"\";\n",
    "    \n",
    "    char now = s[0];\n",
    "    int sum = 0;\n",
    "    for(int i = 0; i < s.size(); i++)\n",
    "    {\n",
    "        if(s[i] == now)\n",
    "            sum++;\n",
    "        else\n",
    "        {\n",
    "            c += std::string(1,now) + std::to_string(sum);\n",
    "            now = s[i];\n",
    "            sum = 1;\n",
    "        }\n",
    "    }\n",
    "    \n",
    "    return c.size() < s.size()? c : s;\n",
    "}"
   ]
  },
  {
   "cell_type": "code",
   "execution_count": 2,
   "metadata": {},
   "outputs": [
    {
     "data": {
      "text/plain": [
       "\"a2b1c5\""
      ]
     },
     "execution_count": 2,
     "metadata": {},
     "output_type": "execute_result"
    }
   ],
   "source": [
    "compress(\"aabcccccaaa\")"
   ]
  },
  {
   "cell_type": "markdown",
   "metadata": {},
   "source": [
    "float              stof(const string& str, size_t *idx = 0);  \n",
    "double             stod(const string& str, size_t *idx = 0);  \n",
    "long double        stold(const string& str, size_t *idx = 0);  \n",
    "int                stoi(const string& str, size_t *idx = 0, int base = 10);  \n",
    "long               stol(const string& str, size_t *idx = 0, int base = 10);  \n",
    "unsigned long      stoul(const string& str, size_t *idx = 0, int base = 10);  \n",
    "long long          stoll(const string& str, size_t *idx = 0, int base = 10);  \n",
    "unsigned long long stoull(const string& str, size_t *idx = 0, int base = 10);  \n",
    "\n",
    "std::string(1, char value)\n",
    "to_string(int val);  \n",
    "to_string(unsigned val);  \n",
    "to_string(long val);  \n",
    "to_string(unsigned long val);  \n",
    "to_string(long long val);  \n",
    "to_string(unsigned long long val);  \n",
    "to_string(float val);  \n",
    "to_string(double val);  \n",
    "to_string(long double val);  "
   ]
  },
  {
   "cell_type": "code",
   "execution_count": null,
   "metadata": {},
   "outputs": [],
   "source": []
  }
 ],
 "metadata": {
  "kernelspec": {
   "display_name": "C++17",
   "language": "C++17",
   "name": "xeus-cling-cpp17"
  },
  "language_info": {
   "codemirror_mode": "text/x-c++src",
   "file_extension": ".cpp",
   "mimetype": "text/x-c++src",
   "name": "c++",
   "version": "-std=c++17"
  }
 },
 "nbformat": 4,
 "nbformat_minor": 2
}
