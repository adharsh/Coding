{
 "cells": [
  {
   "cell_type": "code",
   "execution_count": 1,
   "metadata": {},
   "outputs": [],
   "source": [
    "//Btw fill implementation below:\n",
    "\n",
    "template <class ForwardIterator, class T>\n",
    "void fill(ForwardIterator first, ForwardIterator last, const T& val)\n",
    "{\n",
    "    while(first != last)\n",
    "    {\n",
    "        *first = val;\n",
    "        ++first;\n",
    "    }\n",
    "}"
   ]
  },
  {
   "cell_type": "markdown",
   "metadata": {},
   "source": [
    "Very useful for setting default values to a vector  \n",
    "https://stackoverflow.com/a/5222463  "
   ]
  },
  {
   "cell_type": "code",
   "execution_count": 2,
   "metadata": {},
   "outputs": [
    {
     "name": "stdout",
     "output_type": "stream",
     "text": [
      "0\n"
     ]
    }
   ],
   "source": [
    "#include <iostream>\n",
    "\n",
    "{\n",
    "    int a = int();\n",
    "    std::cout << a << std::endl;\n",
    "}"
   ]
  },
  {
   "cell_type": "markdown",
   "metadata": {},
   "source": [
    "# Zero Matrix Way 1\n",
    "Record all the rows and cols that need to be zeroed, then zero"
   ]
  },
  {
   "cell_type": "code",
   "execution_count": 3,
   "metadata": {},
   "outputs": [
    {
     "name": "stderr",
     "output_type": "stream",
     "text": [
      "\u001b[1minput_line_11:31:1: \u001b[0m\u001b[0;1;31merror: \u001b[0m\u001b[1mfunction definition is not allowed here\u001b[0m\n",
      "{\n",
      "\u001b[0;1;32m^\n",
      "\u001b[0m"
     ]
    },
    {
     "ename": "Interpreter Error",
     "evalue": "",
     "output_type": "error",
     "traceback": [
      "Interpreter Error: "
     ]
    }
   ],
   "source": [
    "#include <vector>\n",
    "#include <iostream>\n",
    "#include <bitset>\n",
    "\n",
    "void zero_matrix_1(std::vector<std::vector<int>>& m)\n",
    "{\n",
    "\tstd::vector<int> rows(m.size());\n",
    "\tstd::vector<int> cols(m[0].size());\n",
    "\n",
    "\tfor (int i = 0; i < m.size(); i++)\n",
    "\t{\n",
    "\t\tfor (int j = 0; j < m[0].size(); j++)\n",
    "\t\t{\n",
    "\t\t\tif (!m[i][j])\n",
    "\t\t\t{\n",
    "\t\t\t\trows[i] = 1;\n",
    "\t\t\t\tcols[j] = 1;\n",
    "\t\t\t}\n",
    "\t\t}\n",
    "\t}\n",
    "\n",
    "\n",
    "\tfor (int i = 0; i < m.size(); i++)\n",
    "\t{\n",
    "\t\tif (rows[i])\n",
    "\t\t\tfor (int j = 0; j < m[0].size(); j++)\n",
    "\t\t\t\tm[i][j] = 0;\n",
    "\t}\n",
    "\n",
    "\tfor (int j = 0; j < m[0].size(); j++)\n",
    "\t{\n",
    "\t\tif (cols[j])\n",
    "\t\t\tfor (int i = 0; i < m.size(); i++)\n",
    "\t\t\t\tm[i][j] = 0;\n",
    "\t}\n",
    "\n",
    "}\n",
    "\n",
    "void print(std::vector<std::vector<int>>& m)\n",
    "{\n",
    "\tfor (int i = 0; i < m.size(); i++)\n",
    "\t{\n",
    "\t\tfor (int j = 0; j < m[0].size(); j++)\n",
    "\t\t\tstd::cout << m[i][j] << \" \";\n",
    "\t\tstd::cout << std::endl;\n",
    "\t}\n",
    "\tstd::cout << std::endl;\n",
    "}\n"
   ]
  },
  {
   "cell_type": "code",
   "execution_count": null,
   "metadata": {},
   "outputs": [],
   "source": [
    "{\n",
    "\tstd::vector<std::vector<int>> m{ {0, 2, 3, 4},\n",
    "\t\t\t\t\t\t\t\t\t {5, 6, 7, 8},\n",
    "\t\t\t\t\t\t\t\t\t {9, 6, 0, 3},\n",
    "\t\t\t\t\t\t\t\t\t {1, 1, 7, 8}\n",
    "\t};\n",
    "\n",
    "\n",
    "\tprint(m);\n",
    "\tzero_matrix_1(m);\n",
    "\tprint(m);\n",
    "}"
   ]
  },
  {
   "cell_type": "markdown",
   "metadata": {},
   "source": [
    "# Zero Matrix Way 2\n",
    "Record these zero'd rows and cols into row 0 and col 1 \n",
    "\n",
    "To reduce extra memory usage, try to use the input data itself instead of allocating extra memory  \n",
    "But remember to somehow record information about the data where you're storing inforimation at  \n",
    "\n"
   ]
  },
  {
   "cell_type": "code",
   "execution_count": 4,
   "metadata": {},
   "outputs": [],
   "source": [
    "void zero_matrix_2(std::vector<std::vector<int>>& m)\n",
    "{\n",
    "\tbool rowHasZero = false;\n",
    "\tfor (int i = 0; i < m.size(); i++)\n",
    "\t\tif (!m[0][i])\n",
    "\t\t\trowHasZero = true;\n",
    "\n",
    "\tbool colHasZero = false;\n",
    "\tfor (int j = 0; j < m.size(); j++)\n",
    "\t\tif (!m[j][0])\n",
    "\t\t\tcolHasZero = true;\n",
    "\n",
    "\n",
    "\tfor (int i = 0; i < m.size(); i++)\n",
    "\t{\n",
    "\t\tfor (int j = 0; j < m[0].size(); j++)\n",
    "\t\t{\n",
    "\t\t\tif (!m[i][j])\n",
    "\t\t\t{\n",
    "\t\t\t\tm[i][0] = 0;\n",
    "\t\t\t\tm[0][j] = 0;\n",
    "\t\t\t}\n",
    "\t\t}\n",
    "\t}\n",
    "\n",
    "\tfor (int j = 1; j < m[0].size(); j++)\n",
    "\t\tif (!m[0][j])\n",
    "\t\t\tfor (int i = 1; i < m.size(); i++)\n",
    "\t\t\t\tm[i][j] = 0;\n",
    "\n",
    "\tfor (int i = 1; i < m.size(); i++)\n",
    "\t\tif (!m[i][0])\n",
    "\t\t\tfor (int j = 1; j < m[0].size(); j++)\n",
    "\t\t\t\tm[i][j] = 0;\n",
    "\n",
    "\tif (rowHasZero)\n",
    "\t\tfor (int i = 0; i < m[0].size(); i++)\n",
    "\t\t\tm[0][i] = 0;\n",
    "\n",
    "\tif (colHasZero)\n",
    "\t\tfor (int i = 0; i < m[0].size(); i++)\n",
    "\t\t\tm[i][0] = 0;\n",
    "\n",
    "}"
   ]
  },
  {
   "cell_type": "code",
   "execution_count": 8,
   "metadata": {},
   "outputs": [
    {
     "name": "stderr",
     "output_type": "stream",
     "text": [
      "\u001b[1minput_line_16:3:32: \u001b[0m\u001b[0;1;31merror: \u001b[0m\u001b[1mno matching constructor for initialization of 'std::vector<std::vector<int> >'\u001b[0m\n",
      "        std::vector<std::vector<int>> m{ {0, 2, 3, 0},\n",
      "\u001b[0;1;32m                                      ^~~~~~~~~~~~~~~~\n",
      "\u001b[0m\u001b[1m/home/ababu/anaconda3/envs/cling/bin/../lib/gcc/../../gcc/include/c++/bits/stl_vector.h:411:2: \u001b[0m\u001b[0;1;30mnote: \u001b[0mcandidate constructor template not viable: requires at most 3 arguments, but 4 were provided\u001b[0m\n",
      "        vector(_InputIterator __first, _InputIterator __last,\n",
      "\u001b[0;1;32m        ^\n",
      "\u001b[0m\u001b[1m/home/ababu/anaconda3/envs/cling/bin/../lib/gcc/../../gcc/include/c++/bits/stl_vector.h:295:7: \u001b[0m\u001b[0;1;30mnote: \u001b[0mcandidate constructor not viable: requires at most 3 arguments, but 4 were provided\u001b[0m\n",
      "      vector(size_type __n, const value_type& __value,\n",
      "\u001b[0;1;32m      ^\n",
      "\u001b[0m\u001b[1m/home/ababu/anaconda3/envs/cling/bin/../lib/gcc/../../gcc/include/c++/bits/stl_vector.h:283:7: \u001b[0m\u001b[0;1;30mnote: \u001b[0mcandidate constructor not viable: requires at most 2 arguments, but 4 were provided\u001b[0m\n",
      "      vector(size_type __n, const allocator_type& __a = allocator_type())\n",
      "\u001b[0;1;32m      ^\n",
      "\u001b[0m\u001b[1m/home/ababu/anaconda3/envs/cling/bin/../lib/gcc/../../gcc/include/c++/bits/stl_vector.h:348:7: \u001b[0m\u001b[0;1;30mnote: \u001b[0mcandidate constructor not viable: requires 2 arguments, but 4 were provided\u001b[0m\n",
      "      vector(const vector& __x, const allocator_type& __a)\n",
      "\u001b[0;1;32m      ^\n",
      "\u001b[0m\u001b[1m/home/ababu/anaconda3/envs/cling/bin/../lib/gcc/../../gcc/include/c++/bits/stl_vector.h:358:7: \u001b[0m\u001b[0;1;30mnote: \u001b[0mcandidate constructor not viable: requires 2 arguments, but 4 were provided\u001b[0m\n",
      "      vector(vector&& __rv, const allocator_type& __m)\n",
      "\u001b[0;1;32m      ^\n",
      "\u001b[0m\u001b[1m/home/ababu/anaconda3/envs/cling/bin/../lib/gcc/../../gcc/include/c++/bits/stl_vector.h:270:7: \u001b[0m\u001b[0;1;30mnote: \u001b[0mcandidate constructor not viable: requires single argument '__a', but 4 arguments were provided\u001b[0m\n",
      "      vector(const allocator_type& __a) _GLIBCXX_NOEXCEPT\n",
      "\u001b[0;1;32m      ^\n",
      "\u001b[0m\u001b[1m/home/ababu/anaconda3/envs/cling/bin/../lib/gcc/../../gcc/include/c++/bits/stl_vector.h:326:7: \u001b[0m\u001b[0;1;30mnote: \u001b[0mcandidate constructor not viable: requires single argument '__x', but 4 arguments were provided\u001b[0m\n",
      "      vector(const vector& __x)\n",
      "\u001b[0;1;32m      ^\n",
      "\u001b[0m\u001b[1m/home/ababu/anaconda3/envs/cling/bin/../lib/gcc/../../gcc/include/c++/bits/stl_vector.h:344:7: \u001b[0m\u001b[0;1;30mnote: \u001b[0mcandidate constructor not viable: requires single argument '__x', but 4 arguments were provided\u001b[0m\n",
      "      vector(vector&& __x) noexcept\n",
      "\u001b[0;1;32m      ^\n",
      "\u001b[0m\u001b[1m/home/ababu/anaconda3/envs/cling/bin/../lib/gcc/../../gcc/include/c++/bits/stl_vector.h:259:7: \u001b[0m\u001b[0;1;30mnote: \u001b[0mcandidate constructor not viable: requires 0 arguments, but 4 were provided\u001b[0m\n",
      "      vector()\n",
      "\u001b[0;1;32m      ^\n",
      "\u001b[0m"
     ]
    },
    {
     "ename": "Interpreter Error",
     "evalue": "",
     "output_type": "error",
     "traceback": [
      "Interpreter Error: "
     ]
    }
   ],
   "source": [
    "{\n",
    "\tstd::vector<std::vector<int>> m{ {0, 2, 3, 0},\n",
    "\t\t\t\t\t\t\t\t\t {8, 6, 7, 8},\n",
    "\t\t\t\t\t\t\t\t\t {9, 6, 4, 3},\n",
    "\t\t\t\t\t\t\t\t\t {0, 1, 7, 0}\n",
    "\t};\n",
    "\n",
    "\n",
    "\tprint(m);\n",
    "\tzero_matrix_2(m);\n",
    "\tprint(m);\n",
    "}"
   ]
  },
  {
   "cell_type": "code",
   "execution_count": null,
   "metadata": {},
   "outputs": [],
   "source": []
  }
 ],
 "metadata": {
  "kernelspec": {
   "display_name": "C++17",
   "language": "C++17",
   "name": "xeus-cling-cpp17"
  },
  "language_info": {
   "codemirror_mode": "text/x-c++src",
   "file_extension": ".cpp",
   "mimetype": "text/x-c++src",
   "name": "c++",
   "version": "-std=c++17"
  }
 },
 "nbformat": 4,
 "nbformat_minor": 2
}
