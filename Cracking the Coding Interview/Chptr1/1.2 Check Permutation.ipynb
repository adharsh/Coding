{
 "cells": [
  {
   "cell_type": "code",
   "execution_count": 1,
   "metadata": {},
   "outputs": [],
   "source": [
    "#include <iostream>\n",
    "#include <vector>\n",
    "#include <string>\n",
    "#include <algorithm>\n",
    "\n",
    "bool isPermuatation_map(const std::string& s1, const std::string& s2)\n",
    "{\n",
    "    if(s1.size() != s2.size()) return false;\n",
    "    \n",
    "    int map[128];\n",
    "    std::fill(map, map + 128, 0);\n",
    "    \n",
    "    for(const char& c : s1)\n",
    "        map[c]++;\n",
    "    \n",
    "    for(const char& c : s2)\n",
    "        if(--map[c] < 0)\n",
    "            return false;\n",
    "    \n",
    "    return true;\n",
    "}"
   ]
  },
  {
   "cell_type": "code",
   "execution_count": 2,
   "metadata": {},
   "outputs": [
    {
     "name": "stdout",
     "output_type": "stream",
     "text": [
      "1\n",
      "0\n"
     ]
    }
   ],
   "source": [
    "std::cout << isPermuatation_map(\"abcdeg\", \"egdcba\") << std::endl;\n",
    "std::cout << isPermuatation_map(\"abcdei\", \"egdcba\") << std::endl;"
   ]
  },
  {
   "cell_type": "code",
   "execution_count": null,
   "metadata": {},
   "outputs": [],
   "source": []
  }
 ],
 "metadata": {
  "kernelspec": {
   "display_name": "C++17",
   "language": "C++17",
   "name": "xeus-cling-cpp17"
  },
  "language_info": {
   "codemirror_mode": "text/x-c++src",
   "file_extension": ".cpp",
   "mimetype": "text/x-c++src",
   "name": "c++",
   "version": "-std=c++17"
  }
 },
 "nbformat": 4,
 "nbformat_minor": 2
}
