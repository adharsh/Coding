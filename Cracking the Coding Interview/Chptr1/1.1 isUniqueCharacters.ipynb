{
 "cells": [
  {
   "cell_type": "markdown",
   "metadata": {},
   "source": [
    "# Easy Solution"
   ]
  },
  {
   "cell_type": "code",
   "execution_count": 1,
   "metadata": {},
   "outputs": [],
   "source": [
    "#include <iostream>\n",
    "#include <vector>\n",
    "\n",
    "bool isUniqueCharacters(const std::string& s)\n",
    "{\n",
    "    std::vector<bool> map(128, false);\n",
    "\n",
    "    for (char c : s)\n",
    "    {\n",
    "        if (map[c]) \n",
    "            return false;\n",
    "        map[c] = true;\n",
    "    }\n",
    "\n",
    "    return true;\n",
    "}\n"
   ]
  },
  {
   "cell_type": "code",
   "execution_count": 2,
   "metadata": {},
   "outputs": [
    {
     "name": "stdout",
     "output_type": "stream",
     "text": [
      "0\n",
      "1\n"
     ]
    }
   ],
   "source": [
    "std::cout << isUniqueCharacters(\"asdfa\") << std::endl;\n",
    "std::cout << isUniqueCharacters(\"asdf\") << std::endl;"
   ]
  },
  {
   "cell_type": "markdown",
   "metadata": {},
   "source": [
    "# Single int bitset Solution"
   ]
  },
  {
   "cell_type": "code",
   "execution_count": 3,
   "metadata": {},
   "outputs": [],
   "source": [
    "// Only works for <= 32 characters since using type int\n",
    "bool isUniqueCharacters_bitset_int(const std::string& s)\n",
    "{\n",
    "    int map = 0;\n",
    "    \n",
    "    for(char c : s)\n",
    "    {\n",
    "        int val = c - 'a'; //Only works for a - z\n",
    "        \n",
    "        if(map & (1 << val))\n",
    "          return false;\n",
    "        map |= (1 << val); //| or ^ same thing here\n",
    "    }\n",
    "    return true;\n",
    "}"
   ]
  },
  {
   "cell_type": "code",
   "execution_count": 4,
   "metadata": {},
   "outputs": [
    {
     "name": "stdout",
     "output_type": "stream",
     "text": [
      "0\n",
      "1\n",
      "0\n"
     ]
    }
   ],
   "source": [
    "std::cout << isUniqueCharacters_bitset_int(\"asdfa\") << std::endl;\n",
    "std::cout << isUniqueCharacters_bitset_int(\"asdf\") << std::endl;\n",
    "std::cout << isUniqueCharacters_bitset_int(\"ZasdfZ\") << std::endl;"
   ]
  },
  {
   "cell_type": "markdown",
   "metadata": {},
   "source": [
    "# Cool 4 int bitset Solution"
   ]
  },
  {
   "cell_type": "code",
   "execution_count": 5,
   "metadata": {},
   "outputs": [],
   "source": [
    "#include <algorithm>\n",
    "#include <cmath>\n",
    "#include <iostream>\n",
    "\n",
    "bool isUniqueCharacters_bitset_4int(const std::string& s)\n",
    "{\n",
    "    //encompases 4 * 32 -> 128 ascii values\n",
    "    int map[4] = { 0 }; //if anything but 0, only changes first value\n",
    "    //std::fill(map, map + 4, 0);\n",
    "    //memset(map, 0, sizeof(map)); \n",
    "    //fill iteratest through every element, but memset iterates through each byte\n",
    "    //therefore std::fill(map, map + 4, 1) is valid\n",
    "    //but memset(map, 1, sizeof(map)); -> 0x01010101 which is indeed 16843009\n",
    "\n",
    "    for (const char& c : s) //make sure this matches type\n",
    "    {\n",
    "        if (map[c / 32] & (1 << (c % 32)))\n",
    "            return false;\n",
    "        map[c / 32] |= (1 << (c % 32));\n",
    "    }\n",
    "    return true;\n",
    "    }"
   ]
  },
  {
   "cell_type": "code",
   "execution_count": 6,
   "metadata": {},
   "outputs": [
    {
     "name": "stdout",
     "output_type": "stream",
     "text": [
      "0\n",
      "1\n",
      "0\n"
     ]
    }
   ],
   "source": [
    "std::cout << isUniqueCharacters_bitset_4int(\"AsdfA\") << std::endl;\n",
    "std::cout << isUniqueCharacters_bitset_4int(\"Asdf\") << std::endl;\n",
    "std::cout << isUniqueCharacters_bitset_4int(\"AasdfA\") << std::endl;"
   ]
  },
  {
   "cell_type": "code",
   "execution_count": 7,
   "metadata": {},
   "outputs": [
    {
     "name": "stdout",
     "output_type": "stream",
     "text": [
      "00000000000000000000000000000010\n",
      "foo: 0000000000000000\n",
      "bar: 0000111110100010\n",
      "baz: 0000000101111001\n"
     ]
    },
    {
     "data": {
      "text/plain": [
       "16"
      ]
     },
     "execution_count": 7,
     "metadata": {},
     "output_type": "execute_result"
    }
   ],
   "source": [
    "//to print out a bitset\n",
    "\n",
    "#include <bitset>\n",
    "\n",
    "int val = 'c' - 'a';\n",
    "std::bitset<32> v(val);\n",
    "std::cout << v << std::endl;\n",
    "\n",
    "std::bitset<16> foo;\n",
    "std::bitset<16> bar (0xfa2);\n",
    "std::bitset<16> baz (std::string(\"0101111001\"));\n",
    "\n",
    "std::cout << \"foo: \" << foo << '\\n';\n",
    "std::cout << \"bar: \" << bar << '\\n';\n",
    "std::cout << \"baz: \" << baz << '\\n';\n",
    "sizeof(foo[1]) //casted internally to integer"
   ]
  },
  {
   "cell_type": "code",
   "execution_count": 8,
   "metadata": {},
   "outputs": [
    {
     "data": {
      "text/plain": [
       "16"
      ]
     },
     "execution_count": 8,
     "metadata": {},
     "output_type": "execute_result"
    }
   ],
   "source": [
    "int map[4];\n",
    "sizeof(map)"
   ]
  },
  {
   "cell_type": "markdown",
   "metadata": {},
   "source": [
    "# Bitset Solution"
   ]
  },
  {
   "cell_type": "code",
   "execution_count": 9,
   "metadata": {},
   "outputs": [],
   "source": [
    "//Briefly go over: http://www.cplusplus.com/reference/bitset/bitset/\n",
    "#include <bitset>\n",
    "\n",
    "bool isUniqueCharacters_bitset(const std::string& s)\n",
    "{\n",
    "    std::bitset<128> map;\n",
    "    \n",
    "    for(const char& c : s)\n",
    "    {\n",
    "        //if(map[c] & (1<<c)) will always be false (except when c = 1), think why\n",
    "        if(map[c])\n",
    "            return false;\n",
    "        map[c] = 1;\n",
    "    }\n",
    "    return true;\n",
    "}"
   ]
  },
  {
   "cell_type": "code",
   "execution_count": 10,
   "metadata": {},
   "outputs": [
    {
     "name": "stdout",
     "output_type": "stream",
     "text": [
      "0\n",
      "1\n",
      "0\n"
     ]
    }
   ],
   "source": [
    "std::cout << isUniqueCharacters_bitset(\"AsdfA\") << std::endl;\n",
    "std::cout << isUniqueCharacters_bitset(\"Asdf\") << std::endl;\n",
    "std::cout << isUniqueCharacters_bitset(\"AasdfA\") << std::endl;"
   ]
  }
 ],
 "metadata": {
  "kernelspec": {
   "display_name": "C++17",
   "language": "C++17",
   "name": "xeus-cling-cpp17"
  },
  "language_info": {
   "codemirror_mode": "text/x-c++src",
   "file_extension": ".cpp",
   "mimetype": "text/x-c++src",
   "name": "c++",
   "version": "-std=c++17"
  }
 },
 "nbformat": 4,
 "nbformat_minor": 2
}
