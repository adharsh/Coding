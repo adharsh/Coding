{
 "cells": [
  {
   "cell_type": "raw",
   "metadata": {},
   "source": [
    "#include <iostream>\n",
    "#include <vector>\n",
    "\n",
    "void print(std::vector<std::vector<int>>& m)\n",
    "{\n",
    "\tfor (int i = 0; i < m.size(); i++)\n",
    "\t{\n",
    "\t\tfor (int j = 0; j < m[0].size(); j++)\n",
    "\t\t\tstd::cout << m[i][j] << \" \";\n",
    "\t\tstd::cout << std::endl;\n",
    "\t}\n",
    "\tstd::cout << std::endl;\n",
    "}\n",
    "\n",
    "void rotateMatrix(std::vector<std::vector<int>>& m)\n",
    "{\n",
    "    if (m.size() == 0 || m.size() != m[0].size()) return;\n",
    "\n",
    "    for (int i = 0; i < m.size() / 2; i++)\n",
    "    {\n",
    "        for (int j = i; j < m.size() - i - 1; j++)\n",
    "        {\n",
    "            //tmp = top\n",
    "            int tmp = m[i][j]; \n",
    "\n",
    "            //top = left\n",
    "            m[i][j] = m[m.size() - j - 1][i];\n",
    "\n",
    "            //left = bottom\n",
    "            m[m.size() - j - 1][i] = m[m.size() - i - 1][m.size() - j - 1]; \n",
    "\n",
    "            //bottom = right\n",
    "            m[m.size() - i - 1][m.size() - j - 1] = m[j][m.size() - i - 1];\n",
    "\n",
    "            //right = tmp\n",
    "            m[j][m.size() - i - 1] = tmp;\n",
    "        }\n",
    "        print(m);\n",
    "    }\n",
    "}\n",
    "\n",
    "int main()\n",
    "{\n",
    "    //std::vector<std::vector<int>> m{ {1, 2, 3, 4},\n",
    "    //\t\t\t\t\t\t\t\t {5, 6, 7, 8},\n",
    "    //\t\t\t\t\t\t\t\t {9, 10, 11, 12},\n",
    "    //\t\t\t\t\t\t\t\t {13, 14, 15, 16}\n",
    "    //};\n",
    "\n",
    "    std::vector<std::vector<int>> m{ {1, 2},\n",
    "                                     {3, 4}\n",
    "    };\n",
    "\n",
    "    print(m);\n",
    "    rotateMatrix(m);\n",
    "}"
   ]
  },
  {
   "cell_type": "markdown",
   "metadata": {},
   "source": [
    "https://stackoverflow.com/questions/13554244/how-to-use-pointer-expressions-to-access-elements-of-a-two-dimensional-array-in"
   ]
  },
  {
   "cell_type": "markdown",
   "metadata": {},
   "source": [
    "I FINALLY DID IT!!! YAY!!!"
   ]
  },
  {
   "cell_type": "code",
   "execution_count": null,
   "metadata": {},
   "outputs": [],
   "source": []
  }
 ],
 "metadata": {
  "kernelspec": {
   "display_name": "C++17",
   "language": "C++17",
   "name": "xeus-cling-cpp17"
  },
  "language_info": {
   "codemirror_mode": "text/x-c++src",
   "file_extension": ".cpp",
   "mimetype": "text/x-c++src",
   "name": "c++",
   "version": "-std=c++17"
  }
 },
 "nbformat": 4,
 "nbformat_minor": 2
}
