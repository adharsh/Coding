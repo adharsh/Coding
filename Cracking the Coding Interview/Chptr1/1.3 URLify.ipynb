{
 "cells": [
  {
   "cell_type": "code",
   "execution_count": 1,
   "metadata": {},
   "outputs": [],
   "source": [
    "#include <iostream>\n",
    "\n",
    "//start backwards, string from last character because you have that extra buffer\n",
    "//a_b_c____ ->true length is 5, number of spaces is 2, \n",
    "//there will b\n",
    "void URLify(char str[], int trueLength)\n",
    "{\n",
    "    int spaces = 0;\n",
    "    \n",
    "    for(int i = 0; i < trueLength; i++)\n",
    "        if(str[i] == ' ')\n",
    "            spaces++;\n",
    "    \n",
    "    int index = trueLength + spaces*2;\n",
    "    \n",
    "    for(int i = trueLength - 1; i >=0; i--)\n",
    "    {\n",
    "        if(str[i] == ' ')\n",
    "        {\n",
    "            str[--index] = '0';\n",
    "            str[--index] = '2';\n",
    "            str[--index] = '%';\n",
    "        }\n",
    "        else\n",
    "        {\n",
    "            str[--index] = str[i];\n",
    "        }\n",
    "    }\n",
    "}"
   ]
  },
  {
   "cell_type": "code",
   "execution_count": 2,
   "metadata": {},
   "outputs": [
    {
     "name": "stdout",
     "output_type": "stream",
     "text": [
      "s 0\n",
      "d 1\n",
      "f 2\n"
     ]
    }
   ],
   "source": [
    "//btw \n",
    "char c[10] = \"sdf\";\n",
    "char* p = c;\n",
    "while (*p)\n",
    "{\n",
    "    static int t = 0;\n",
    "    std::cout << *p << \" \" << t++ << std::endl;\n",
    "    p++;\n",
    "}"
   ]
  },
  {
   "cell_type": "code",
   "execution_count": 3,
   "metadata": {},
   "outputs": [],
   "source": [
    "//btw memset implementation:\n",
    "void* memset(void* p, int val, int len)\n",
    "{\n",
    "    unsigned char* i = (unsigned char *)p;\n",
    "    while (len > 0)\n",
    "    {\n",
    "        *i = (unsigned char) val;\n",
    "        len--;\n",
    "        i++;\n",
    "    }\n",
    "    return p;\n",
    "}"
   ]
  },
  {
   "cell_type": "code",
   "execution_count": 4,
   "metadata": {},
   "outputs": [
    {
     "name": "stdout",
     "output_type": "stream",
     "text": [
      "11111111111111111111111111111111\n",
      "5050505 -> 84215045\n",
      "efefefef -> 4025479151\n"
     ]
    }
   ],
   "source": [
    "#include <bitset>\n",
    "\n",
    "std::bitset<32> bs(~0);\n",
    "std::cout << bs << std::endl;\n",
    "\n",
    "int a = ~0;\n",
    "memset(&a, 5, sizeof(a)); //0x05050505 = 84215045\n",
    "std::cout << std::hex << a << std::dec << \" -> \" << (unsigned int) a << std::endl;\n",
    "// also exists for oct -> std::oct\n",
    "int b = ~0;\n",
    "memset(&b, 0x89ABCDEF, sizeof(b)); //0xEFEFEFEF = 4025479151\n",
    "std::cout << std::hex << b << std::dec << \" -> \" << (unsigned int) b << std::endl;"
   ]
  },
  {
   "cell_type": "code",
   "execution_count": 6,
   "metadata": {},
   "outputs": [
    {
     "name": "stdout",
     "output_type": "stream",
     "text": [
      "5\n",
      "4\n",
      "3\n",
      "2\n",
      "1\n"
     ]
    }
   ],
   "source": [
    "int lol = 5;\n",
    "\n",
    "while(lol)\n",
    "{\n",
    "    std::cout << lol-- << std::endl;\n",
    "}"
   ]
  },
  {
   "cell_type": "code",
   "execution_count": null,
   "metadata": {},
   "outputs": [],
   "source": []
  }
 ],
 "metadata": {
  "kernelspec": {
   "display_name": "C++17",
   "language": "C++17",
   "name": "xeus-cling-cpp17"
  },
  "language_info": {
   "codemirror_mode": "text/x-c++src",
   "file_extension": ".cpp",
   "mimetype": "text/x-c++src",
   "name": "c++",
   "version": "-std=c++17"
  }
 },
 "nbformat": 4,
 "nbformat_minor": 2
}
